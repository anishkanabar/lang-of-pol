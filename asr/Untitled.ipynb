{
 "cells": [
  {
   "cell_type": "code",
   "execution_count": null,
   "id": "60910253-13cd-44c1-8a14-f394d75c8f60",
   "metadata": {},
   "outputs": [],
   "source": [
    "import torchaudio.backend.soundfile_backend as sb\n",
    "from pathlib import Path\n",
    "filepath = \"example.wav\"  # substitute with some valid audio file\n",
    "sb.info(filepath)  # successfully creates torchaudio.backend.common.AudioMetaData\n",
    "sb.info(Path(filepath))  # raises TypeError"
   ]
  }
 ],
 "metadata": {
  "kernelspec": {
   "display_name": "Python 3 (ipykernel)",
   "language": "python",
   "name": "python3"
  },
  "language_info": {
   "codemirror_mode": {
    "name": "ipython",
    "version": 3
   },
   "file_extension": ".py",
   "mimetype": "text/x-python",
   "name": "python",
   "nbconvert_exporter": "python",
   "pygments_lexer": "ipython3",
   "version": "3.8.8"
  }
 },
 "nbformat": 4,
 "nbformat_minor": 5
}
