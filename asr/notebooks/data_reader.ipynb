{
 "cells": [
  {
   "cell_type": "code",
   "execution_count": 12,
   "id": "e77c9088-3369-4d34-90c2-25ba90400e92",
   "metadata": {},
   "outputs": [],
   "source": [
    "import os, glob\n",
    "import pandas as pd\n",
    "import numpy as np"
   ]
  },
  {
   "cell_type": "code",
   "execution_count": 30,
   "id": "c4c34af9-7d3f-4030-8ebe-2d556942c012",
   "metadata": {},
   "outputs": [],
   "source": [
    "corpus_name = 'atc0'\n",
    "root_path = '/project/graziul/ra/shiyanglai/corpus/'\n",
    "\n",
    "def make_corpus_strcuture(root_path, corpus_name):\n",
    "    if not os.path.exists(root_path + corpus_name):\n",
    "        os.makedirs(root_path + corpus_name)\n",
    "        # create three subfolders: lists, rttms, uems\n",
    "        if not os.path.exists(root_path + corpus_name + '/lists'):\n",
    "            os.makedirs(root_path + corpus_name + '/lists')\n",
    "        else:\n",
    "            print(f\"Directory '{root_path + corpus_name + '/lists'}' already exist. Please delete it and try again.\")\n",
    "\n",
    "        if not os.path.exists(root_path + corpus_name + '/rttms'):\n",
    "            os.makedirs(root_path + corpus_name + '/rttms')\n",
    "            os.makedirs(root_path + corpus_name + '/rttms/train')\n",
    "            os.makedirs(root_path + corpus_name + '/rttms/dev')\n",
    "            os.makedirs(root_path + corpus_name + '/rttms/test')\n",
    "        else:\n",
    "            print(f\"Directory '{root_path + corpus_name + '/rttms'}' already exist. Please delete it and try again.\")\n",
    "\n",
    "        if not os.path.exists(root_path + corpus_name + '/uems'):\n",
    "            os.makedirs(root_path + corpus_name + '/uems')\n",
    "            os.makedirs(root_path + corpus_name + '/uems/train')\n",
    "            os.makedirs(root_path + corpus_name + '/uems/dev')\n",
    "            os.makedirs(root_path + corpus_name + '/uems/test')\n",
    "        else:\n",
    "            print(f\"Directory '{root_path + corpus_name + '/uems'}' already exist. Please delete it and try again.\")\n",
    "\n",
    "        print('The structure of corpus has been set successfully.')\n",
    "    else:\n",
    "        print(f\"Directory '{root_path + corpus_name}' already exist. Please delete it and try again.\")"
   ]
  },
  {
   "cell_type": "code",
   "execution_count": 21,
   "id": "e3cddf33-b14f-4933-83b2-4e208a13d7ce",
   "metadata": {},
   "outputs": [],
   "source": [
    "# split train, development, test files\n",
    "def split_atc0(train_rate=0.6, dev_rate=0.2):\n",
    "    all_files = glob.glob('/project/graziul/data/corpora/atc0_comp/*/data/audio/*')\n",
    "    all_files = [f for f in all_files if f.endswith('.sph') or f.endswith('.wav')]\n",
    "    # random sampling\n",
    "    train = all_files[:int(len(all_files)*train_rate)]\n",
    "    devlopment = all_files[len(train):len(train)+int(len(all_files)*0.2)]\n",
    "    test = all_files[len(train)+len(devlopment):]\n",
    "    # inform the spliting results\n",
    "    print('Corpus splitting successfully.')\n",
    "    print(f'Training sample: {len(train)}.\\nDevelopment sample: {len(devlopment)}.\\nTesting sample: {len(test)}.')\n",
    "    return train, devlopment, test"
   ]
  },
  {
   "cell_type": "code",
   "execution_count": 28,
   "id": "73874b04-9f50-42ab-8226-f0d854604c8f",
   "metadata": {
    "tags": []
   },
   "outputs": [],
   "source": [
    "# generate lists\n",
    "def generate_list(root_path, train, development, test):\n",
    "    for name, data in zip(['train.txt', 'dev.txt', 'test.txt'], [train, development, test]):\n",
    "        with open(root_path + '/lists/' + name, 'w') as f:\n",
    "            uris = [audio.split('/')[-1].split('.')[0] for audio in data]\n",
    "    print('.lst files are created successfully.')"
   ]
  },
  {
   "cell_type": "code",
   "execution_count": null,
   "id": "0e7fbc26-ba82-47f2-b8b5-039f27c783ba",
   "metadata": {},
   "outputs": [],
   "source": [
    "# generate rttms\n",
    "def generate_rttms(root_path, train, development, test, reference):\n",
    "    utt = pd,read_csv(reference)\n",
    "    "
   ]
  },
  {
   "cell_type": "code",
   "execution_count": 29,
   "id": "f080ccb5-d893-4f94-9357-59ca83e4876c",
   "metadata": {},
   "outputs": [
    {
     "name": "stdout",
     "output_type": "stream",
     "text": [
      "Corpus splitting successfully.\n",
      "Training sample: 31.\n",
      "Development sample: 10.\n",
      "Testing sample: 11.\n",
      ".lst files are created successfully.\n"
     ]
    }
   ],
   "source": [
    "train, dev, test = split_atc0()\n",
    "generate_list(root_path='/project/graziul/ra/shiyanglai/corpus/atc0', train=train, development=dev, test=test)"
   ]
  },
  {
   "cell_type": "code",
   "execution_count": 32,
   "id": "be14568f-55bc-403f-ba6e-72c5154ff1a4",
   "metadata": {
    "tags": []
   },
   "outputs": [],
   "source": [
    "data = pd.read_csv('/project/graziul/data/corpora/atc0_comp/atc0.csv')"
   ]
  },
  {
   "cell_type": "code",
   "execution_count": null,
   "id": "b7bd696a-13be-471b-8931-a42eab399e30",
   "metadata": {},
   "outputs": [],
   "source": [
    "data[data]"
   ]
  },
  {
   "cell_type": "code",
   "execution_count": 36,
   "id": "d93359fb-2d74-4594-afeb-9c7c956eb8d6",
   "metadata": {},
   "outputs": [
    {
     "data": {
      "text/plain": [
       "0        atc0_bos/data/audio/log_f1_1.sph\n",
       "1        atc0_bos/data/audio/log_f1_1.sph\n",
       "2        atc0_bos/data/audio/log_f1_1.sph\n",
       "3        atc0_bos/data/audio/log_f1_1.sph\n",
       "4        atc0_bos/data/audio/log_f1_1.sph\n",
       "                       ...               \n",
       "30432    atc0_dfw/data/audio/dfw_lw_3.sph\n",
       "30433    atc0_dfw/data/audio/dfw_lw_3.sph\n",
       "30434    atc0_dfw/data/audio/dfw_lw_3.sph\n",
       "30435    atc0_dfw/data/audio/dfw_lw_3.sph\n",
       "30436    atc0_dfw/data/audio/dfw_lw_3.sph\n",
       "Name: filePath, Length: 30437, dtype: object"
      ]
     },
     "execution_count": 36,
     "metadata": {},
     "output_type": "execute_result"
    }
   ],
   "source": [
    "data.filePath"
   ]
  },
  {
   "cell_type": "code",
   "execution_count": null,
   "id": "90fbcb24-61ab-4aa2-bede-544bbc49d7e0",
   "metadata": {},
   "outputs": [],
   "source": []
  }
 ],
 "metadata": {
  "kernelspec": {
   "display_name": "pyannote",
   "language": "python",
   "name": "pyannote"
  },
  "language_info": {
   "codemirror_mode": {
    "name": "ipython",
    "version": 3
   },
   "file_extension": ".py",
   "mimetype": "text/x-python",
   "name": "python",
   "nbconvert_exporter": "python",
   "pygments_lexer": "ipython3",
   "version": "3.8.5"
  }
 },
 "nbformat": 4,
 "nbformat_minor": 5
}
