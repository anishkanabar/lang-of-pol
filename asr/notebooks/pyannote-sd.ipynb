{
 "cells": [
  {
   "cell_type": "code",
   "execution_count": 22,
   "id": "61624c08-ede8-4a65-8eb9-359eeb07055f",
   "metadata": {
    "tags": []
   },
   "outputs": [],
   "source": [
    "import torch\n",
    "from pyannote.audio import Pipeline\n",
    "from huggingface_hub import HfApi\n",
    "from pyannote.database.util import load_rttm\n",
    "from pyannote.metrics.diarization import DiarizationErrorRate\n",
    "from pyannote.core import Segment, notebook, SlidingWindowFeature\n",
    "from pyannote.database import get_protocol, FileFinder\n",
    "import warnings\n",
    "warnings.filterwarnings('ignore')"
   ]
  },
  {
   "cell_type": "markdown",
   "id": "b1115d2e-6066-4de3-ae1b-dac60dd70161",
   "metadata": {},
   "source": [
    "## __Speaker Diarization__"
   ]
  },
  {
   "cell_type": "code",
   "execution_count": 3,
   "id": "e1974386-39af-4e96-ad62-49432af1e301",
   "metadata": {
    "collapsed": true,
    "jupyter": {
     "outputs_hidden": true
    },
    "tags": []
   },
   "outputs": [
    {
     "data": {
      "application/vnd.jupyter.widget-view+json": {
       "model_id": "c71a544c807142d38f28ca837c4bd61a",
       "version_major": 2,
       "version_minor": 0
      },
      "text/plain": [
       "Downloading:   0%|          | 0.00/489 [00:00<?, ?B/s]"
      ]
     },
     "metadata": {},
     "output_type": "display_data"
    },
    {
     "data": {
      "application/vnd.jupyter.widget-view+json": {
       "model_id": "f99b7ec0e9534248abc4641710670032",
       "version_major": 2,
       "version_minor": 0
      },
      "text/plain": [
       "Downloading:   0%|          | 0.00/17.7M [00:00<?, ?B/s]"
      ]
     },
     "metadata": {},
     "output_type": "display_data"
    },
    {
     "data": {
      "application/vnd.jupyter.widget-view+json": {
       "model_id": "85c4dc3b16174162905f9c57cdc12c1d",
       "version_major": 2,
       "version_minor": 0
      },
      "text/plain": [
       "Downloading:   0%|          | 0.00/1.98k [00:00<?, ?B/s]"
      ]
     },
     "metadata": {},
     "output_type": "display_data"
    },
    {
     "data": {
      "application/vnd.jupyter.widget-view+json": {
       "model_id": "4e46d30a7a14414bb1c67f6465476824",
       "version_major": 2,
       "version_minor": 0
      },
      "text/plain": [
       "Downloading:   0%|          | 0.00/1.92k [00:00<?, ?B/s]"
      ]
     },
     "metadata": {},
     "output_type": "display_data"
    },
    {
     "data": {
      "application/vnd.jupyter.widget-view+json": {
       "model_id": "e013417e70a64e77adae7af7f469bc19",
       "version_major": 2,
       "version_minor": 0
      },
      "text/plain": [
       "Downloading:   0%|          | 0.00/83.3M [00:00<?, ?B/s]"
      ]
     },
     "metadata": {},
     "output_type": "display_data"
    },
    {
     "data": {
      "application/vnd.jupyter.widget-view+json": {
       "model_id": "fa9b7b2e1a254212966706d4a9fe853e",
       "version_major": 2,
       "version_minor": 0
      },
      "text/plain": [
       "Downloading:   0%|          | 0.00/1.92k [00:00<?, ?B/s]"
      ]
     },
     "metadata": {},
     "output_type": "display_data"
    },
    {
     "data": {
      "application/vnd.jupyter.widget-view+json": {
       "model_id": "6cff21ded06b4597aa2600b6d07af7e5",
       "version_major": 2,
       "version_minor": 0
      },
      "text/plain": [
       "Downloading:   0%|          | 0.00/5.53M [00:00<?, ?B/s]"
      ]
     },
     "metadata": {},
     "output_type": "display_data"
    },
    {
     "data": {
      "application/vnd.jupyter.widget-view+json": {
       "model_id": "ddb3b5692e2c4f28aaae2316a1d197cf",
       "version_major": 2,
       "version_minor": 0
      },
      "text/plain": [
       "Downloading:   0%|          | 0.00/129k [00:00<?, ?B/s]"
      ]
     },
     "metadata": {},
     "output_type": "display_data"
    }
   ],
   "source": [
    "pipeline = Pipeline.from_pretrained(\"pyannote/speaker-diarization\")"
   ]
  },
  {
   "cell_type": "code",
   "execution_count": 5,
   "id": "0ceeb3de-d497-4ceb-90eb-a1d1e22e1829",
   "metadata": {},
   "outputs": [
    {
     "data": {
      "text/plain": [
       "['pyannote/voice-activity-detection',\n",
       " 'pyannote/speaker-diarization',\n",
       " 'pyannote/speaker-segmentation',\n",
       " 'pyannote/overlapped-speech-detection']"
      ]
     },
     "execution_count": 5,
     "metadata": {},
     "output_type": "execute_result"
    }
   ],
   "source": [
    "available_pipelines = [p.modelId for p in HfApi().list_models(filter=\"pyannote-audio-pipeline\")]\n",
    "available_pipelines"
   ]
  },
  {
   "cell_type": "code",
   "execution_count": 7,
   "id": "6cceded3-9bf4-4536-8bb1-cb5bfc5553f4",
   "metadata": {},
   "outputs": [],
   "source": [
    "preprocessors = {\"audio\": FileFinder()}\n",
    "protocol = get_protocol(\"AMI.SpeakerDiarization.MixHeadset\", preprocessors=preprocessors)\n",
    "test_files = protocol.test()"
   ]
  },
  {
   "cell_type": "code",
   "execution_count": null,
   "id": "b00bc127-47c6-4db6-bd35-67c1e66b413f",
   "metadata": {
    "tags": []
   },
   "outputs": [],
   "source": [
    "# test the performance of the pipeline\n",
    "test_prediction = []\n",
    "for test_file in test_files:\n",
    "    dia = pipeline(test_file['audio'])\n",
    "    test_prediction.append(dia)"
   ]
  },
  {
   "cell_type": "code",
   "execution_count": 20,
   "id": "47f5966f-4871-46ff-94ec-f71548ba36fd",
   "metadata": {},
   "outputs": [
    {
     "data": {
      "image/png": "[encoded data removed]",
      "text/plain": [
       "<pyannote.core.annotation.Annotation at 0x7faa604b2c10>"
      ]
     },
     "execution_count": 20,
     "metadata": {},
     "output_type": "execute_result"
    }
   ],
   "source": [
    "# calculate the diarization error rate\n",
    "metric = DiarizationErrorRate(collar=0.0, skip_overlap=False)\n",
    "dia_error = None\n",
    "for hypothesis, reference in zip(test_prediction, test_files):\n",
    "    dia_error += metric(reference, hypothesis)\n",
    "dia_error = dia_error / len(test_prediction)"
   ]
  },
  {
   "cell_type": "markdown",
   "id": "3dd68745-343c-4347-8757-9d38f0cf4ad9",
   "metadata": {
    "tags": []
   },
   "source": [
    "## __Speech Detection__"
   ]
  },
  {
   "cell_type": "code",
   "execution_count": 30,
   "id": "9df3b878-857a-4dc5-a446-4a1e19ac17a0",
   "metadata": {},
   "outputs": [],
   "source": [
    "pipeline = "
   ]
  },
  {
   "cell_type": "code",
   "execution_count": 31,
   "id": "be366ef3-69dc-4d28-b42e-8a5546c2884f",
   "metadata": {},
   "outputs": [
    {
     "data": {
      "text/plain": [
       "2.3093850944513536"
      ]
     },
     "execution_count": 31,
     "metadata": {},
     "output_type": "execute_result"
    }
   ],
   "source": [
    "_"
   ]
  },
  {
   "cell_type": "code",
   "execution_count": null,
   "id": "5bdd6979-a2a5-4325-8b80-4bea9f1b341b",
   "metadata": {},
   "outputs": [],
   "source": []
  }
 ],
 "metadata": {
  "kernelspec": {
   "display_name": "Python 3 (ipykernel)",
   "language": "python",
   "name": "python3"
  },
  "language_info": {
   "codemirror_mode": {
    "name": "ipython",
    "version": 3
   },
   "file_extension": ".py",
   "mimetype": "text/x-python",
   "name": "python",
   "nbconvert_exporter": "python",
   "pygments_lexer": "ipython3",
   "version": "3.8.8"
  }
 },
 "nbformat": 4,
 "nbformat_minor": 5
}
