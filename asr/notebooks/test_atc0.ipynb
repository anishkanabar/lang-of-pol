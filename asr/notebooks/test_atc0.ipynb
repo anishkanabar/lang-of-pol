{
 "cells": [
  {
   "cell_type": "code",
   "execution_count": 3,
   "id": "61e565e0-fb2e-404c-be1b-7ac9798b3f67",
   "metadata": {
    "tags": []
   },
   "outputs": [],
   "source": [
    "import warnings\n",
    "warnings.filterwarnings('ignore')\n",
    "import torch\n",
    "from pyannote.audio import Pipeline\n",
    "from pyannote.database.util import load_rttm\n",
    "from pyannote.database import get_protocol, FileFinder\n",
    "from pyannote.audio.tasks import VoiceActivityDetection\n",
    "from pyannote.audio.models.segmentation import PyanNet\n",
    "import pytorch_lightning as pl"
   ]
  },
  {
   "cell_type": "code",
   "execution_count": 4,
   "id": "607d2711-5918-4e8d-bdcc-1535ddc0ffd8",
   "metadata": {},
   "outputs": [],
   "source": [
    "preprocessor = {\"audio\": FileFinder()}\n",
    "protocol = get_protocol(\"ATC0.SpeakerDiarization.All\", preprocessors=preprocessor)"
   ]
  },
  {
   "cell_type": "code",
   "execution_count": 5,
   "id": "bf0935d2-bf27-4ffd-ae2e-058400f45a08",
   "metadata": {},
   "outputs": [],
   "source": [
    "vad = VoiceActivityDetection(protocol, duration=2., batch_size=128)\n",
    "model = PyanNet(sincnet={'stride': 10}, task=vad)"
   ]
  },
  {
   "cell_type": "code",
   "execution_count": 6,
   "id": "dc58f4a4-493e-4a15-babb-a6ee242aae8b",
   "metadata": {
    "collapsed": true,
    "jupyter": {
     "outputs_hidden": true
    },
    "tags": []
   },
   "outputs": [
    {
     "name": "stderr",
     "output_type": "stream",
     "text": [
      "GPU available: False, used: False\n",
      "TPU available: False, using: 0 TPU cores\n",
      "IPU available: False, using: 0 IPUs\n",
      "\n",
      "  | Name              | Type       | Params | In sizes        | Out sizes                                        \n",
      "-----------------------------------------------------------------------------------------------------------------------\n",
      "0 | sincnet           | SincNet    | 42.6 K | [128, 1, 32000] | [128, 60, 115]                                   \n",
      "1 | lstm              | LSTM       | 589 K  | [128, 115, 60]  | [[128, 115, 256], [[4, 128, 128], [4, 128, 128]]]\n",
      "2 | linear            | ModuleList | 49.4 K | ?               | ?                                                \n",
      "3 | classifier        | Linear     | 129    | [128, 115, 128] | [128, 115, 1]                                    \n",
      "4 | activation        | Sigmoid    | 0      | [128, 115, 1]   | [128, 115, 1]                                    \n",
      "5 | validation_metric | AUROC      | 0      | ?               | ?                                                \n",
      "-----------------------------------------------------------------------------------------------------------------------\n",
      "681 K     Trainable params\n",
      "0         Non-trainable params\n",
      "681 K     Total params\n",
      "2.728     Total estimated model params size (MB)\n"
     ]
    },
    {
     "data": {
      "application/vnd.jupyter.widget-view+json": {
       "model_id": "",
       "version_major": 2,
       "version_minor": 0
      },
      "text/plain": [
       "Validation sanity check: 0it [00:00, ?it/s]"
      ]
     },
     "metadata": {},
     "output_type": "display_data"
    },
    {
     "data": {
      "application/vnd.jupyter.widget-view+json": {
       "model_id": "db4765c254af4dca9f942f9cf69a320f",
       "version_major": 2,
       "version_minor": 0
      },
      "text/plain": [
       "Training: 0it [00:00, ?it/s]"
      ]
     },
     "metadata": {},
     "output_type": "display_data"
    },
    {
     "data": {
      "application/vnd.jupyter.widget-view+json": {
       "model_id": "",
       "version_major": 2,
       "version_minor": 0
      },
      "text/plain": [
       "Validating: 0it [00:00, ?it/s]"
      ]
     },
     "metadata": {},
     "output_type": "display_data"
    },
    {
     "data": {
      "application/vnd.jupyter.widget-view+json": {
       "model_id": "",
       "version_major": 2,
       "version_minor": 0
      },
      "text/plain": [
       "Validating: 0it [00:00, ?it/s]"
      ]
     },
     "metadata": {},
     "output_type": "display_data"
    }
   ],
   "source": [
    "trainer = pl.Trainer(max_epochs=2)\n",
    "trainer.fit(model)"
   ]
  },
  {
   "cell_type": "code",
   "execution_count": 18,
   "id": "7f94349f-1eba-482e-b809-60bb390da0ef",
   "metadata": {},
   "outputs": [
    {
     "data": {
      "text/plain": [
       "<pyannote.database.protocol.protocol.ProtocolFile at 0x7f95bd7d4130>"
      ]
     },
     "execution_count": 18,
     "metadata": {},
     "output_type": "execute_result"
    }
   ],
   "source": []
  },
  {
   "cell_type": "code",
   "execution_count": null,
   "id": "4fba3842-0e51-43a5-a7b7-7e8891e38199",
   "metadata": {},
   "outputs": [],
   "source": []
  }
 ],
 "metadata": {
  "kernelspec": {
   "display_name": "pyannote",
   "language": "python",
   "name": "pyannote"
  },
  "language_info": {
   "codemirror_mode": {
    "name": "ipython",
    "version": 3
   },
   "file_extension": ".py",
   "mimetype": "text/x-python",
   "name": "python",
   "nbconvert_exporter": "python",
   "pygments_lexer": "ipython3",
   "version": "3.8.5"
  }
 },
 "nbformat": 4,
 "nbformat_minor": 5
}
