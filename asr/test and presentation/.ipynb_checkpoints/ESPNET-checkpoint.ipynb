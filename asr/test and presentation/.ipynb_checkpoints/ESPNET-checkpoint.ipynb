{
 "cells": [
  {
   "cell_type": "markdown",
   "id": "danish-acting",
   "metadata": {},
   "source": [
    "<p style=\"font-family: Arial; font-size:2em; color:#B61A1A; font-weight: bold;\">ESPnet --- ASR Toolkit With High Operability<p>\n",
    "<a href=\"https://github.com/espnet/espnet\" style=\"font-family: Arial; font-size:1.5em; color:#3148C4; font-weight: bold;\">Check Github!</a>"
   ]
  },
  {
   "cell_type": "markdown",
   "id": "criminal-bernard",
   "metadata": {},
   "source": [
    "<p style=\"font-family: Arial; font-size:1.5em; color:#21B9D7; font-weight: bold;\"> This notebook wants to figure out how to use ESPnet toolkit. </p>"
   ]
  },
  {
   "cell_type": "markdown",
   "id": "verbal-receiver",
   "metadata": {},
   "source": [
    "### Section 1: Installation"
   ]
  },
  {
   "cell_type": "code",
   "execution_count": 4,
   "id": "selected-auction",
   "metadata": {
    "scrolled": true,
    "tags": []
   },
   "outputs": [],
   "source": [
    "# get the most up-to-date code\n",
    "# !pip install git+https://github.com/espnet/espnet\n",
    "# setup\n",
    "# !cd /Users/shiyang/espnet; pip install -e .\n",
    "# !mkdir -p /Users/shiyang/espnet/tools/venv/bin; touch /Users/shiyang/espnet/tools/venv/bin/activate"
   ]
  },
  {
   "cell_type": "code",
   "execution_count": 7,
   "id": "skilled-provider",
   "metadata": {},
   "outputs": [],
   "source": [
    "# wrap ctc setup\n",
    "# !git clone https://github.com/espnet/warp-ctc -b pytorch-1.1 /Users/shiyang/warp-ctc\n",
    "# !cd /Users/shiyang/warp-ctc && mkdir build && cd build && cmake .. && make -j4\n",
    "# !cd /Users/shiyang/warp-ctc/pytorch_binding && python setup.py install"
   ]
  },
  {
   "cell_type": "code",
   "execution_count": 15,
   "id": "suburban-medicare",
   "metadata": {
    "scrolled": true,
    "tags": []
   },
   "outputs": [],
   "source": [
    "# kaldi setup\n",
    "# !cd /Users/shiyang/espnet/tools; git clone https://github.com/kaldi-asr/kaldi\n",
    "# !echo \"\" > /Users/shiyang/espnet/tools/kaldi/tools/extras/check_dependencies.sh # ignore check\n",
    "# !chmod +x /Users/shiyang/espnet/tools/kaldi/tools/extras/check_dependencies.sh\n",
    "# !cd /Users/shiyang/espnet/tools/kaldi/tools; make sph2pipe sclite\n",
    "# !rm -rf espnet/tools/kaldi/tools/python"
   ]
  },
  {
   "cell_type": "markdown",
   "id": "spoken-retro",
   "metadata": {
    "tags": []
   },
   "source": [
    "### Section 2: Python usage"
   ]
  },
  {
   "cell_type": "code",
   "execution_count": 19,
   "id": "similar-murder",
   "metadata": {
    "scrolled": true,
    "tags": []
   },
   "outputs": [
    {
     "name": "stdout",
     "output_type": "stream",
     "text": [
      "Init Plugin\n",
      "Init Graph Optimizer\n",
      "Init Kernel\n"
     ]
    },
    {
     "name": "stderr",
     "output_type": "stream",
     "text": [
      "[nltk_data] Downloading package averaged_perceptron_tagger to\n",
      "[nltk_data]     /Users/shiyang/nltk_data...\n",
      "[nltk_data]   Unzipping taggers/averaged_perceptron_tagger.zip.\n",
      "[nltk_data] Downloading package cmudict to /Users/shiyang/nltk_data...\n",
      "[nltk_data]   Unzipping corpora/cmudict.zip.\n"
     ]
    }
   ],
   "source": [
    "import time\n",
    "import torch\n",
    "import string\n",
    "from espnet_model_zoo.downloader import ModelDownloader\n",
    "from espnet2.bin.asr_inference import Speech2Text"
   ]
  },
  {
   "cell_type": "code",
   "execution_count": 23,
   "id": "neither-steam",
   "metadata": {
    "tags": []
   },
   "outputs": [],
   "source": [
    "downloader = ModelDownloader()\n",
    "tag = 'Shinji Watanabe/spgispeech_asr_train_asr_conformer6_n_fft512_hop_length256_raw_en_unnorm_bpe5000_valid.acc.ave'\n",
    "#@param [\"Shinji Watanabe/spgispeech_asr_train_asr_conformer6_n_fft512_hop_length256_raw_en_unnorm_bpe5000_valid.acc.ave\",\n",
    "#\"kamo-naoyuki/librispeech_asr_train_asr_conformer6_n_fft512_hop_length256_raw_en_bpe5000_scheduler_confwarmup_steps40000_optim_conflr0.0025_sp_valid.acc.ave\"]\n",
    "#{type:\"string\"}\n",
    "\n",
    "speech2text = Speech2Text(\n",
    "    **downloader.download_and_unpack(tag),\n",
    "    device=\"cuda\",\n",
    "    minlenratio=0.0,\n",
    "    maxlenratio=0.0,\n",
    "    ctc_weight=0.3,\n",
    "    beam_size=10,\n",
    "    batch_size=0,\n",
    "    nbest=1\n",
    ")"
   ]
  },
  {
   "cell_type": "code",
   "execution_count": null,
   "id": "classical-choir",
   "metadata": {},
   "outputs": [],
   "source": []
  }
 ],
 "metadata": {
  "kernelspec": {
   "display_name": "keras",
   "language": "python",
   "name": "tensor_flow"
  },
  "language_info": {
   "codemirror_mode": {
    "name": "ipython",
    "version": 3
   },
   "file_extension": ".py",
   "mimetype": "text/x-python",
   "name": "python",
   "nbconvert_exporter": "python",
   "pygments_lexer": "ipython3",
   "version": "3.8.10"
  }
 },
 "nbformat": 4,
 "nbformat_minor": 5
}
