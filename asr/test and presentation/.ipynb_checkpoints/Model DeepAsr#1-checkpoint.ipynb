{
 "cells": [
  {
   "cell_type": "markdown",
   "id": "eleven-cornell",
   "metadata": {},
   "source": [
    "<p style=\"font-family: Arial; font-size:2em; color:#F0A152;\"> DeepAsr is an open-source & Keras (Tensorflow) implementation of end-to-end Automatic Speech Recognition (ASR) engine and it supports multiple Speech Recognition architectures. <p>\n",
    "\n",
    "### Supported Asr Architectures:\n",
    "\n",
    "#### - Baidu's Deep Speech 2\n",
    "#### - DeepAsrNetwork1"
   ]
  },
  {
   "cell_type": "markdown",
   "id": "developing-hierarchy",
   "metadata": {},
   "source": [
    "<p style=\"font-family: Arial; font-size:1.4em; color:#52C3F0;\"> This notebook tries to understand and rerun the DeepAsr raw model's code! </p>"
   ]
  },
  {
   "cell_type": "code",
   "execution_count": null,
   "id": "infrared-multimedia",
   "metadata": {},
   "outputs": [],
   "source": []
  }
 ],
 "metadata": {
  "kernelspec": {
   "display_name": "keras",
   "language": "python",
   "name": "tensor_flow"
  },
  "language_info": {
   "codemirror_mode": {
    "name": "ipython",
    "version": 3
   },
   "file_extension": ".py",
   "mimetype": "text/x-python",
   "name": "python",
   "nbconvert_exporter": "python",
   "pygments_lexer": "ipython3",
   "version": "3.8.10"
  }
 },
 "nbformat": 4,
 "nbformat_minor": 5
}
