{
 "cells": [
  {
   "cell_type": "code",
   "execution_count": 2,
   "metadata": {},
   "outputs": [],
   "source": [
    "import pandas as pd\n",
    "import numpy as np\n",
    "\n",
    "import matplotlib.pyplot as plt\n",
    "from nltk.corpus import stopwords"
   ]
  },
  {
   "cell_type": "code",
   "execution_count": null,
   "metadata": {},
   "outputs": [],
   "source": []
  },
  {
   "cell_type": "markdown",
   "metadata": {},
   "source": [
    "# Analysis of Utterances with Minimum Noise"
   ]
  },
  {
   "cell_type": "code",
   "execution_count": 490,
   "metadata": {},
   "outputs": [],
   "source": [
    "t = pd.read_csv('Primed_Data/Transcripts_CombinedByFile.csv')"
   ]
  },
  {
   "cell_type": "code",
   "execution_count": 491,
   "metadata": {},
   "outputs": [],
   "source": [
    "t['Count'] = t['transcription'].str.split().str.len()"
   ]
  },
  {
   "cell_type": "code",
   "execution_count": 493,
   "metadata": {},
   "outputs": [],
   "source": [
    "t['transcription'] = t['transcription'].str.lower()"
   ]
  },
  {
   "cell_type": "markdown",
   "metadata": {},
   "source": [
    "## Convert Text To Numbers"
   ]
  },
  {
   "cell_type": "code",
   "execution_count": 495,
   "metadata": {},
   "outputs": [],
   "source": [
    "def is_number(x):\n",
    "    if type(x) == str:\n",
    "        x = x.replace(',', '')\n",
    "    try:\n",
    "        float(x)\n",
    "    except:\n",
    "        return False\n",
    "    return True\n",
    "\n",
    "def text2int (textnum, numwords={}):\n",
    "    textnum = str(textnum)\n",
    "    units = [\n",
    "        'zero', 'one', 'two', 'three', 'four', 'five', 'six', 'seven', 'eight',\n",
    "        'nine', 'ten', 'eleven', 'twelve', 'thirteen', 'fourteen', 'fifteen',\n",
    "        'sixteen', 'seventeen', 'eighteen', 'nineteen',\n",
    "    ]\n",
    "    tens = ['', '', 'twenty', 'thirty', 'forty', 'fifty', 'sixty', 'seventy', 'eighty', 'ninety']\n",
    "    scales = ['hundred', 'thousand', 'million', 'billion', 'trillion']\n",
    "    ordinal_words = {'first':1, 'second':2, 'third':3, 'fifth':5, 'eighth':8, 'ninth':9, 'twelfth':12}\n",
    "    #ordinal_endings = [('ieth', 'y'), ('th', '')]\n",
    "    ordinal_endings = [('ieth', 'y')]\n",
    "\n",
    "\n",
    "    if not numwords:\n",
    "        numwords['and'] = (1, 0)\n",
    "        for idx, word in enumerate(units): numwords[word] = (1, idx)\n",
    "        for idx, word in enumerate(tens): numwords[word] = (1, idx * 10)\n",
    "        for idx, word in enumerate(scales): numwords[word] = (10 ** (idx * 3 or 2), 0)\n",
    "\n",
    "    textnum = textnum.replace('-', ' ')\n",
    "\n",
    "    current = result = 0\n",
    "    curstring = ''\n",
    "    onnumber = False\n",
    "    lastunit = False\n",
    "    lastscale = False\n",
    "\n",
    "    def is_numword(x):\n",
    "        if is_number(x):\n",
    "            return True\n",
    "        if word in numwords:\n",
    "            return True\n",
    "        return False\n",
    "\n",
    "    def from_numword(x):\n",
    "        if is_number(x):\n",
    "            scale = 0\n",
    "            increment = int(x.replace(',', ''))\n",
    "            return scale, increment\n",
    "        return numwords[x]\n",
    "\n",
    "    for word in textnum.split():\n",
    "        if word in ordinal_words:\n",
    "            scale, increment = (1, ordinal_words[word])\n",
    "            current = current * scale + increment\n",
    "            if scale > 100:\n",
    "                result += current\n",
    "                current = 0\n",
    "            onnumber = True\n",
    "            lastunit = False\n",
    "            lastscale = False\n",
    "        else:\n",
    "            for ending, replacement in ordinal_endings:\n",
    "                if word.endswith(ending):\n",
    "                    word = \"%s%s\" % (word[:-len(ending)], replacement)\n",
    "\n",
    "            if (not is_numword(word)) or (word == 'and' and not lastscale):\n",
    "                if onnumber:\n",
    "                    # Flush the current number we are building\n",
    "                    curstring += repr(result + current) + \" \"\n",
    "                curstring += word + \" \"\n",
    "                result = current = 0\n",
    "                onnumber = False\n",
    "                lastunit = False\n",
    "                lastscale = False\n",
    "            else:\n",
    "                scale, increment = from_numword(word)\n",
    "                onnumber = True\n",
    "\n",
    "                if lastunit and (word not in scales):                                                                                                                                                                                                                                         \n",
    "                    # Assume this is part of a string of individual numbers to                                                                                                                                                                                                                \n",
    "                    # be flushed, such as a zipcode \"one two three four five\"                                                                                                                                                                                                                 \n",
    "                    curstring += repr(result + current)                                                                                                                                                                                                                                       \n",
    "                    result = current = 0                                                                                                                                                                                                                                                      \n",
    "\n",
    "                if scale > 1:                                                                                                                                                                                                                                                                 \n",
    "                    current = max(1, current)                                                                                                                                                                                                                                                 \n",
    "\n",
    "                current = current * scale + increment                                                                                                                                                                                                                                         \n",
    "                if scale > 100:                                                                                                                                                                                                                                                               \n",
    "                    result += current                                                                                                                                                                                                                                                         \n",
    "                    current = 0                                                                                                                                                                                                                                                               \n",
    "\n",
    "                lastscale = False                                                                                                                                                                                                              \n",
    "                lastunit = False                                                                                                                                                \n",
    "                if word in scales:                                                                                                                                                                                                             \n",
    "                    lastscale = True                                                                                                                                                                                                         \n",
    "                elif word in units:                                                                                                                                                                                                             \n",
    "                    lastunit = True\n",
    "\n",
    "    if onnumber:\n",
    "        curstring += repr(result + current)\n",
    "\n",
    "    return curstring"
   ]
  },
  {
   "cell_type": "code",
   "execution_count": 496,
   "metadata": {},
   "outputs": [
    {
     "data": {
      "text/plain": [
       "0                                      on south king drive\n",
       "1                                         were gonna go in\n",
       "2                                        teen thirty three\n",
       "3                                             thirty three\n",
       "4                            got a person calling for help\n",
       "                               ...                        \n",
       "10317    its a boat with a tarp over it theyre just goi...\n",
       "10318                                                  <x>\n",
       "10319                              thank you sir thank you\n",
       "10320                                                  <x>\n",
       "10321                                             five two\n",
       "Name: transcription, Length: 10322, dtype: object"
      ]
     },
     "execution_count": 496,
     "metadata": {},
     "output_type": "execute_result"
    }
   ],
   "source": [
    "def rep(text):\n",
    "    text= str(text)\n",
    "    text = text.replace(\"'\", \"\")\n",
    "    return text\n",
    "\n",
    "t.transcription.apply(rep)"
   ]
  },
  {
   "cell_type": "code",
   "execution_count": 497,
   "metadata": {},
   "outputs": [],
   "source": [
    "t.transcription.fillna('NA', inplace=True)"
   ]
  },
  {
   "cell_type": "code",
   "execution_count": 499,
   "metadata": {},
   "outputs": [],
   "source": [
    "t['transcription1'] = t.transcription.apply(text2int)"
   ]
  },
  {
   "cell_type": "code",
   "execution_count": 500,
   "metadata": {},
   "outputs": [],
   "source": [
    "t['transcription1'] = t['transcription1'].str.upper()"
   ]
  },
  {
   "cell_type": "code",
   "execution_count": null,
   "metadata": {},
   "outputs": [],
   "source": [
    "t['Count'] = t['transcription'].str.split().str.len()"
   ]
  },
  {
   "cell_type": "code",
   "execution_count": 502,
   "metadata": {},
   "outputs": [
    {
     "data": {
      "text/html": [
       "<div>\n",
       "<style scoped>\n",
       "    .dataframe tbody tr th:only-of-type {\n",
       "        vertical-align: middle;\n",
       "    }\n",
       "\n",
       "    .dataframe tbody tr th {\n",
       "        vertical-align: top;\n",
       "    }\n",
       "\n",
       "    .dataframe thead th {\n",
       "        text-align: right;\n",
       "    }\n",
       "</style>\n",
       "<table border=\"1\" class=\"dataframe\">\n",
       "  <thead>\n",
       "    <tr style=\"text-align: right;\">\n",
       "      <th></th>\n",
       "      <th>Unnamed: 0.1</th>\n",
       "      <th>Unnamed: 0</th>\n",
       "      <th>feed</th>\n",
       "      <th>zone</th>\n",
       "      <th>year</th>\n",
       "      <th>month</th>\n",
       "      <th>day</th>\n",
       "      <th>time</th>\n",
       "      <th>sid</th>\n",
       "      <th>start</th>\n",
       "      <th>...</th>\n",
       "      <th>transcription</th>\n",
       "      <th>notes</th>\n",
       "      <th>file</th>\n",
       "      <th>transcriber</th>\n",
       "      <th>length</th>\n",
       "      <th>idx</th>\n",
       "      <th>filename</th>\n",
       "      <th>Noise</th>\n",
       "      <th>Count</th>\n",
       "      <th>transcription1</th>\n",
       "    </tr>\n",
       "  </thead>\n",
       "  <tbody>\n",
       "    <tr>\n",
       "      <th>0</th>\n",
       "      <td>1181</td>\n",
       "      <td>24388</td>\n",
       "      <td>26296</td>\n",
       "      <td>Zone4</td>\n",
       "      <td>2018</td>\n",
       "      <td>8</td>\n",
       "      <td>10</td>\n",
       "      <td>859</td>\n",
       "      <td>SID-003</td>\n",
       "      <td>60.892</td>\n",
       "      <td>...</td>\n",
       "      <td>on south king drive</td>\n",
       "      <td>NaN</td>\n",
       "      <td>201808100859-179195-26296tjs</td>\n",
       "      <td>tjs</td>\n",
       "      <td>1.600</td>\n",
       "      <td>24889</td>\n",
       "      <td>201808100859-179195-26296</td>\n",
       "      <td>0</td>\n",
       "      <td>4</td>\n",
       "      <td>ON SOUTH KING DRIVE</td>\n",
       "    </tr>\n",
       "    <tr>\n",
       "      <th>1</th>\n",
       "      <td>1182</td>\n",
       "      <td>24389</td>\n",
       "      <td>26296</td>\n",
       "      <td>Zone4</td>\n",
       "      <td>2018</td>\n",
       "      <td>8</td>\n",
       "      <td>10</td>\n",
       "      <td>859</td>\n",
       "      <td>SID-003</td>\n",
       "      <td>63.792</td>\n",
       "      <td>...</td>\n",
       "      <td>we're gonna go in</td>\n",
       "      <td>NaN</td>\n",
       "      <td>201808100859-179195-26296tjs</td>\n",
       "      <td>tjs</td>\n",
       "      <td>1.099</td>\n",
       "      <td>24890</td>\n",
       "      <td>201808100859-179195-26296</td>\n",
       "      <td>0</td>\n",
       "      <td>4</td>\n",
       "      <td>WE'RE GONNA GO IN</td>\n",
       "    </tr>\n",
       "    <tr>\n",
       "      <th>2</th>\n",
       "      <td>1183</td>\n",
       "      <td>24390</td>\n",
       "      <td>26296</td>\n",
       "      <td>Zone4</td>\n",
       "      <td>2018</td>\n",
       "      <td>8</td>\n",
       "      <td>10</td>\n",
       "      <td>859</td>\n",
       "      <td>SID-004</td>\n",
       "      <td>70.891</td>\n",
       "      <td>...</td>\n",
       "      <td>teen thirty three</td>\n",
       "      <td>NaN</td>\n",
       "      <td>201808100859-179195-26296tjs</td>\n",
       "      <td>tjs</td>\n",
       "      <td>1.100</td>\n",
       "      <td>24891</td>\n",
       "      <td>201808100859-179195-26296</td>\n",
       "      <td>0</td>\n",
       "      <td>3</td>\n",
       "      <td>TEEN 33</td>\n",
       "    </tr>\n",
       "    <tr>\n",
       "      <th>3</th>\n",
       "      <td>1184</td>\n",
       "      <td>24391</td>\n",
       "      <td>26296</td>\n",
       "      <td>Zone4</td>\n",
       "      <td>2018</td>\n",
       "      <td>8</td>\n",
       "      <td>10</td>\n",
       "      <td>859</td>\n",
       "      <td>SID-005</td>\n",
       "      <td>73.590</td>\n",
       "      <td>...</td>\n",
       "      <td>thirty three</td>\n",
       "      <td>NaN</td>\n",
       "      <td>201808100859-179195-26296tjs</td>\n",
       "      <td>tjs</td>\n",
       "      <td>1.400</td>\n",
       "      <td>24892</td>\n",
       "      <td>201808100859-179195-26296</td>\n",
       "      <td>0</td>\n",
       "      <td>2</td>\n",
       "      <td>33</td>\n",
       "    </tr>\n",
       "    <tr>\n",
       "      <th>4</th>\n",
       "      <td>1185</td>\n",
       "      <td>24392</td>\n",
       "      <td>26296</td>\n",
       "      <td>Zone4</td>\n",
       "      <td>2018</td>\n",
       "      <td>8</td>\n",
       "      <td>10</td>\n",
       "      <td>859</td>\n",
       "      <td>SID-004</td>\n",
       "      <td>76.490</td>\n",
       "      <td>...</td>\n",
       "      <td>got a person calling for help</td>\n",
       "      <td>NaN</td>\n",
       "      <td>201808100859-179195-26296tjs</td>\n",
       "      <td>tjs</td>\n",
       "      <td>2.000</td>\n",
       "      <td>24893</td>\n",
       "      <td>201808100859-179195-26296</td>\n",
       "      <td>0</td>\n",
       "      <td>6</td>\n",
       "      <td>GOT A PERSON CALLING FOR HELP</td>\n",
       "    </tr>\n",
       "    <tr>\n",
       "      <th>...</th>\n",
       "      <td>...</td>\n",
       "      <td>...</td>\n",
       "      <td>...</td>\n",
       "      <td>...</td>\n",
       "      <td>...</td>\n",
       "      <td>...</td>\n",
       "      <td>...</td>\n",
       "      <td>...</td>\n",
       "      <td>...</td>\n",
       "      <td>...</td>\n",
       "      <td>...</td>\n",
       "      <td>...</td>\n",
       "      <td>...</td>\n",
       "      <td>...</td>\n",
       "      <td>...</td>\n",
       "      <td>...</td>\n",
       "      <td>...</td>\n",
       "      <td>...</td>\n",
       "      <td>...</td>\n",
       "      <td>...</td>\n",
       "      <td>...</td>\n",
       "    </tr>\n",
       "    <tr>\n",
       "      <th>10317</th>\n",
       "      <td>19141</td>\n",
       "      <td>71073</td>\n",
       "      <td>17692</td>\n",
       "      <td>Zone13</td>\n",
       "      <td>2018</td>\n",
       "      <td>8</td>\n",
       "      <td>10</td>\n",
       "      <td>1632</td>\n",
       "      <td>SID 001</td>\n",
       "      <td>1605.106</td>\n",
       "      <td>...</td>\n",
       "      <td>it's a boat with a tarp over it they're just g...</td>\n",
       "      <td>NaN</td>\n",
       "      <td>201808101632-66905-17692sj</td>\n",
       "      <td>sj</td>\n",
       "      <td>5.366</td>\n",
       "      <td>71739</td>\n",
       "      <td>201808101632-66905-17692</td>\n",
       "      <td>0</td>\n",
       "      <td>23</td>\n",
       "      <td>IT'S A BOAT WITH A TARP OVER IT THEY'RE JUST G...</td>\n",
       "    </tr>\n",
       "    <tr>\n",
       "      <th>10318</th>\n",
       "      <td>19142</td>\n",
       "      <td>71074</td>\n",
       "      <td>17692</td>\n",
       "      <td>Zone13</td>\n",
       "      <td>2018</td>\n",
       "      <td>8</td>\n",
       "      <td>10</td>\n",
       "      <td>1632</td>\n",
       "      <td>SID 008</td>\n",
       "      <td>1612.385</td>\n",
       "      <td>...</td>\n",
       "      <td>&lt;x&gt;</td>\n",
       "      <td>NaN</td>\n",
       "      <td>201808101632-66905-17692sj</td>\n",
       "      <td>sj</td>\n",
       "      <td>1.687</td>\n",
       "      <td>71740</td>\n",
       "      <td>201808101632-66905-17692</td>\n",
       "      <td>1</td>\n",
       "      <td>1</td>\n",
       "      <td>&lt;X&gt;</td>\n",
       "    </tr>\n",
       "    <tr>\n",
       "      <th>10319</th>\n",
       "      <td>19143</td>\n",
       "      <td>71075</td>\n",
       "      <td>17692</td>\n",
       "      <td>Zone13</td>\n",
       "      <td>2018</td>\n",
       "      <td>8</td>\n",
       "      <td>10</td>\n",
       "      <td>1632</td>\n",
       "      <td>SID 001</td>\n",
       "      <td>1615.411</td>\n",
       "      <td>...</td>\n",
       "      <td>thank you sir thank you</td>\n",
       "      <td>NaN</td>\n",
       "      <td>201808101632-66905-17692sj</td>\n",
       "      <td>sj</td>\n",
       "      <td>1.249</td>\n",
       "      <td>71741</td>\n",
       "      <td>201808101632-66905-17692</td>\n",
       "      <td>0</td>\n",
       "      <td>5</td>\n",
       "      <td>THANK YOU SIR THANK YOU</td>\n",
       "    </tr>\n",
       "    <tr>\n",
       "      <th>10320</th>\n",
       "      <td>19144</td>\n",
       "      <td>71076</td>\n",
       "      <td>17692</td>\n",
       "      <td>Zone13</td>\n",
       "      <td>2018</td>\n",
       "      <td>8</td>\n",
       "      <td>10</td>\n",
       "      <td>1632</td>\n",
       "      <td>SID 032</td>\n",
       "      <td>1671.270</td>\n",
       "      <td>...</td>\n",
       "      <td>&lt;x&gt;</td>\n",
       "      <td>NaN</td>\n",
       "      <td>201808101632-66905-17692sj</td>\n",
       "      <td>sj</td>\n",
       "      <td>0.934</td>\n",
       "      <td>71742</td>\n",
       "      <td>201808101632-66905-17692</td>\n",
       "      <td>1</td>\n",
       "      <td>1</td>\n",
       "      <td>&lt;X&gt;</td>\n",
       "    </tr>\n",
       "    <tr>\n",
       "      <th>10321</th>\n",
       "      <td>19145</td>\n",
       "      <td>71077</td>\n",
       "      <td>17692</td>\n",
       "      <td>Zone13</td>\n",
       "      <td>2018</td>\n",
       "      <td>8</td>\n",
       "      <td>10</td>\n",
       "      <td>1632</td>\n",
       "      <td>SID 031</td>\n",
       "      <td>1674.882</td>\n",
       "      <td>...</td>\n",
       "      <td>five two</td>\n",
       "      <td>NaN</td>\n",
       "      <td>201808101632-66905-17692sj</td>\n",
       "      <td>sj</td>\n",
       "      <td>0.405</td>\n",
       "      <td>71743</td>\n",
       "      <td>201808101632-66905-17692</td>\n",
       "      <td>0</td>\n",
       "      <td>2</td>\n",
       "      <td>52</td>\n",
       "    </tr>\n",
       "  </tbody>\n",
       "</table>\n",
       "<p>10322 rows × 21 columns</p>\n",
       "</div>"
      ],
      "text/plain": [
       "       Unnamed: 0.1  Unnamed: 0   feed    zone  year  month  day  time  \\\n",
       "0              1181       24388  26296   Zone4  2018      8   10   859   \n",
       "1              1182       24389  26296   Zone4  2018      8   10   859   \n",
       "2              1183       24390  26296   Zone4  2018      8   10   859   \n",
       "3              1184       24391  26296   Zone4  2018      8   10   859   \n",
       "4              1185       24392  26296   Zone4  2018      8   10   859   \n",
       "...             ...         ...    ...     ...   ...    ...  ...   ...   \n",
       "10317         19141       71073  17692  Zone13  2018      8   10  1632   \n",
       "10318         19142       71074  17692  Zone13  2018      8   10  1632   \n",
       "10319         19143       71075  17692  Zone13  2018      8   10  1632   \n",
       "10320         19144       71076  17692  Zone13  2018      8   10  1632   \n",
       "10321         19145       71077  17692  Zone13  2018      8   10  1632   \n",
       "\n",
       "           sid     start  ...  \\\n",
       "0      SID-003    60.892  ...   \n",
       "1      SID-003    63.792  ...   \n",
       "2      SID-004    70.891  ...   \n",
       "3      SID-005    73.590  ...   \n",
       "4      SID-004    76.490  ...   \n",
       "...        ...       ...  ...   \n",
       "10317  SID 001  1605.106  ...   \n",
       "10318  SID 008  1612.385  ...   \n",
       "10319  SID 001  1615.411  ...   \n",
       "10320  SID 032  1671.270  ...   \n",
       "10321  SID 031  1674.882  ...   \n",
       "\n",
       "                                           transcription notes  \\\n",
       "0                                    on south king drive   NaN   \n",
       "1                                      we're gonna go in   NaN   \n",
       "2                                      teen thirty three   NaN   \n",
       "3                                           thirty three   NaN   \n",
       "4                          got a person calling for help   NaN   \n",
       "...                                                  ...   ...   \n",
       "10317  it's a boat with a tarp over it they're just g...   NaN   \n",
       "10318                                                <x>   NaN   \n",
       "10319                            thank you sir thank you   NaN   \n",
       "10320                                                <x>   NaN   \n",
       "10321                                           five two   NaN   \n",
       "\n",
       "                               file transcriber length    idx  \\\n",
       "0      201808100859-179195-26296tjs         tjs  1.600  24889   \n",
       "1      201808100859-179195-26296tjs         tjs  1.099  24890   \n",
       "2      201808100859-179195-26296tjs         tjs  1.100  24891   \n",
       "3      201808100859-179195-26296tjs         tjs  1.400  24892   \n",
       "4      201808100859-179195-26296tjs         tjs  2.000  24893   \n",
       "...                             ...         ...    ...    ...   \n",
       "10317    201808101632-66905-17692sj          sj  5.366  71739   \n",
       "10318    201808101632-66905-17692sj          sj  1.687  71740   \n",
       "10319    201808101632-66905-17692sj          sj  1.249  71741   \n",
       "10320    201808101632-66905-17692sj          sj  0.934  71742   \n",
       "10321    201808101632-66905-17692sj          sj  0.405  71743   \n",
       "\n",
       "                        filename Noise  Count  \\\n",
       "0      201808100859-179195-26296     0      4   \n",
       "1      201808100859-179195-26296     0      4   \n",
       "2      201808100859-179195-26296     0      3   \n",
       "3      201808100859-179195-26296     0      2   \n",
       "4      201808100859-179195-26296     0      6   \n",
       "...                          ...   ...    ...   \n",
       "10317   201808101632-66905-17692     0     23   \n",
       "10318   201808101632-66905-17692     1      1   \n",
       "10319   201808101632-66905-17692     0      5   \n",
       "10320   201808101632-66905-17692     1      1   \n",
       "10321   201808101632-66905-17692     0      2   \n",
       "\n",
       "                                          transcription1  \n",
       "0                                   ON SOUTH KING DRIVE   \n",
       "1                                     WE'RE GONNA GO IN   \n",
       "2                                                TEEN 33  \n",
       "3                                                     33  \n",
       "4                         GOT A PERSON CALLING FOR HELP   \n",
       "...                                                  ...  \n",
       "10317  IT'S A BOAT WITH A TARP OVER IT THEY'RE JUST G...  \n",
       "10318                                               <X>   \n",
       "10319                           THANK YOU SIR THANK YOU   \n",
       "10320                                               <X>   \n",
       "10321                                                 52  \n",
       "\n",
       "[10322 rows x 21 columns]"
      ]
     },
     "execution_count": 502,
     "metadata": {},
     "output_type": "execute_result"
    }
   ],
   "source": [
    "t"
   ]
  },
  {
   "cell_type": "code",
   "execution_count": null,
   "metadata": {},
   "outputs": [],
   "source": []
  },
  {
   "cell_type": "code",
   "execution_count": null,
   "metadata": {},
   "outputs": [],
   "source": []
  },
  {
   "cell_type": "code",
   "execution_count": null,
   "metadata": {},
   "outputs": [],
   "source": []
  },
  {
   "cell_type": "markdown",
   "metadata": {},
   "source": [
    "## Remove Stopwords"
   ]
  },
  {
   "cell_type": "code",
   "execution_count": 1,
   "metadata": {},
   "outputs": [],
   "source": [
    "# stopwords have been decided by Dr. Shomir Wilson, Dr. Chris Graziul and Pranav Venkit"
   ]
  },
  {
   "cell_type": "code",
   "execution_count": 389,
   "metadata": {},
   "outputs": [],
   "source": [
    "stop = ['i', 'me', 'my','myself','we','our','ours','ourselves','you','you\\'re','you\\'ve','you\\'ll','you\\'d','your','yours','yourself','yourselves','it','it\\'s','its','itself','they','them','their','theirs','themselves','this','that','that\\'ll','these','those','am','is','are','was','were','be','been','being','have','has','had','having','do','does','did','doing','a','an','the','and','but','if','or','because','as','until','while','of','at','by','for','with','about','against','between','into','through','during','before','after','above','below','to','from','up','down','in','out','on','off','over','under','again','further','then','once','here','there','all','any','both','each','few','more','most','other','some','such','no','nor','not','only','own','same','so','than','too','very','s','t','can','will','just','on','don\\'t','should','should\\'ve','now','d','ll','m','o','re','ve','y','ain','aren','aren\\'t','couldn','couldn\\'t','didn','didn\\'t','doesn','doesn\\'t','hadn','hadn\\'t','hasn','hasn\\'t','haven','haven\\'t','isn','isn\\'t','ma','mightn','mightn\\'t','mustn','mustn\\'t','needn','needn\\'t','shan','shan\\'t','shouldn','shouldn\\'t','wasn','wasn\\'t','weren','weren\\'t','won','won\\'t','wouldn','wouldn\\'t']"
   ]
  },
  {
   "cell_type": "code",
   "execution_count": 390,
   "metadata": {},
   "outputs": [],
   "source": [
    "t['transcription_Stop'] = t.transcription1.apply(lambda x: [item for item in x if item not in stop])"
   ]
  },
  {
   "cell_type": "code",
   "execution_count": 391,
   "metadata": {},
   "outputs": [],
   "source": [
    "def listToString(s): \n",
    "    \n",
    "    # initialize an empty string\n",
    "    str1 = \" \" \n",
    "    \n",
    "    # return string  \n",
    "    return (str1.join(s))\n",
    "        \n",
    "\n",
    "t['transcription1'] = t.transcription1.apply(listToString)\n",
    "t['transcription_Stop'] = t.transcription_Stop.apply(listToString)"
   ]
  },
  {
   "cell_type": "code",
   "execution_count": null,
   "metadata": {},
   "outputs": [],
   "source": []
  },
  {
   "cell_type": "code",
   "execution_count": null,
   "metadata": {},
   "outputs": [],
   "source": []
  },
  {
   "cell_type": "markdown",
   "metadata": {},
   "source": [
    "# Divide into various Zones"
   ]
  },
  {
   "cell_type": "code",
   "execution_count": 503,
   "metadata": {},
   "outputs": [],
   "source": [
    "z1 = t[t.zone == 'Zone1']\n",
    "z4 = t[t.zone == 'Zone4']\n",
    "z8 = t[t.zone == 'Zone8']\n",
    "z13 = t[t.zone == 'Zone13']"
   ]
  },
  {
   "cell_type": "code",
   "execution_count": null,
   "metadata": {},
   "outputs": [],
   "source": []
  },
  {
   "cell_type": "code",
   "execution_count": null,
   "metadata": {},
   "outputs": [],
   "source": []
  },
  {
   "cell_type": "markdown",
   "metadata": {},
   "source": [
    "## Top 15 words from all Zones"
   ]
  },
  {
   "cell_type": "code",
   "execution_count": 394,
   "metadata": {},
   "outputs": [
    {
     "data": {
      "text/plain": [
       "the     1803\n",
       "a       1500\n",
       "<x>     1315\n",
       "and     1270\n",
       "you     1208\n",
       "uh      1104\n",
       "on       947\n",
       "to       843\n",
       "104      738\n",
       "in       734\n",
       "i        656\n",
       "at       591\n",
       "for      580\n",
       "that     540\n",
       "is       463\n",
       "dtype: int64"
      ]
     },
     "execution_count": 394,
     "metadata": {},
     "output_type": "execute_result"
    }
   ],
   "source": [
    "#Including stopwords\n",
    "X1 = t.transcription1.str.split(expand=True).stack().value_counts()\n",
    "X1.head(15)"
   ]
  },
  {
   "cell_type": "code",
   "execution_count": 395,
   "metadata": {},
   "outputs": [
    {
     "data": {
      "text/plain": [
       "<x>        1315\n",
       "uh         1104\n",
       "104         738\n",
       "1           455\n",
       "got         381\n",
       "alright     375\n",
       "oh          351\n",
       "4           324\n",
       "okay        298\n",
       "go          295\n",
       "south       289\n",
       "get         256\n",
       "yeah        241\n",
       "squad       239\n",
       "i'm         238\n",
       "dtype: int64"
      ]
     },
     "execution_count": 395,
     "metadata": {},
     "output_type": "execute_result"
    }
   ],
   "source": [
    "#Excluding Stopwords\n",
    "X2 = t.transcription_Stop.str.split(expand=True).stack().value_counts()\n",
    "X2.head(15)"
   ]
  },
  {
   "cell_type": "code",
   "execution_count": null,
   "metadata": {},
   "outputs": [],
   "source": []
  },
  {
   "cell_type": "code",
   "execution_count": null,
   "metadata": {},
   "outputs": [],
   "source": []
  },
  {
   "cell_type": "markdown",
   "metadata": {},
   "source": [
    "# Exploration of Utterance Length"
   ]
  },
  {
   "cell_type": "code",
   "execution_count": 140,
   "metadata": {},
   "outputs": [
    {
     "data": {
      "text/plain": [
       "count    9656.000000\n",
       "mean        7.184445\n",
       "std         8.272211\n",
       "min         1.000000\n",
       "25%         2.000000\n",
       "50%         4.000000\n",
       "75%         9.000000\n",
       "max       118.000000\n",
       "Name: Count, dtype: float64"
      ]
     },
     "execution_count": 140,
     "metadata": {},
     "output_type": "execute_result"
    }
   ],
   "source": [
    "t.Count.describe()"
   ]
  },
  {
   "cell_type": "code",
   "execution_count": 141,
   "metadata": {},
   "outputs": [],
   "source": [
    "t['Count1'] =  t['Count'].apply(np.int64)"
   ]
  },
  {
   "cell_type": "code",
   "execution_count": 142,
   "metadata": {},
   "outputs": [
    {
     "ename": "NameError",
     "evalue": "name 'StrMethodFormatter' is not defined",
     "output_type": "error",
     "traceback": [
      "\u001b[0;31m---------------------------------------------------------------------------\u001b[0m",
      "\u001b[0;31mNameError\u001b[0m                                 Traceback (most recent call last)",
      "Input \u001b[0;32mIn [142]\u001b[0m, in \u001b[0;36m<cell line: 4>\u001b[0;34m()\u001b[0m\n\u001b[1;32m     27\u001b[0m x\u001b[38;5;241m.\u001b[39mset_ylabel(\u001b[38;5;124m\"\u001b[39m\u001b[38;5;124mTotal Number of Transcriptions\u001b[39m\u001b[38;5;124m\"\u001b[39m, labelpad\u001b[38;5;241m=\u001b[39m\u001b[38;5;241m20\u001b[39m, weight\u001b[38;5;241m=\u001b[39m\u001b[38;5;124m'\u001b[39m\u001b[38;5;124mbold\u001b[39m\u001b[38;5;124m'\u001b[39m, size\u001b[38;5;241m=\u001b[39m\u001b[38;5;241m12\u001b[39m)\n\u001b[1;32m     29\u001b[0m \u001b[38;5;66;03m# Format y-axis label\u001b[39;00m\n\u001b[0;32m---> 30\u001b[0m x\u001b[38;5;241m.\u001b[39myaxis\u001b[38;5;241m.\u001b[39mset_major_formatter(\u001b[43mStrMethodFormatter\u001b[49m(\u001b[38;5;124m'\u001b[39m\u001b[38;5;132;01m{x:,g}\u001b[39;00m\u001b[38;5;124m'\u001b[39m))\n",
      "\u001b[0;31mNameError\u001b[0m: name 'StrMethodFormatter' is not defined"
     ]
    },
    {
     "data": {
      "image/png": "[encoded data removed]",
      "text/plain": [
       "<Figure size 864x576 with 1 Axes>"
      ]
     },
     "metadata": {
      "needs_background": "light"
     },
     "output_type": "display_data"
    }
   ],
   "source": [
    "ax = t.hist(column='Count1', bins=66, grid=False, figsize=(12,8), color='#9dd0f5', zorder=2, rwidth=0.9)\n",
    "\n",
    "ax = ax[0]\n",
    "for x in ax:\n",
    "\n",
    "    # Despine\n",
    "    x.spines['right'].set_visible(False)\n",
    "    x.spines['top'].set_visible(False)\n",
    "    x.spines['left'].set_visible(False)\n",
    "\n",
    "    # Switch off ticks\n",
    "    x.tick_params(axis=\"both\", which=\"both\", bottom=\"off\", top=\"off\", labelbottom=\"on\", left=\"off\", right=\"off\", labelleft=\"on\")\n",
    "\n",
    "    # Draw horizontal axis lines\n",
    "    \n",
    "    vals = x.get_yticks()\n",
    "    for tick in vals:\n",
    "        x.axhline(y=tick, linestyle='dashed', alpha=0.4, color='#eeeeee', zorder=1)\n",
    "\n",
    "    # Remove title\n",
    "    x.set_title(\"\")\n",
    "\n",
    "    # Set x-axis label\n",
    "    x.set_xlabel(\"Word Length of the Transcriptions\", labelpad=20, weight='bold', size=12)\n",
    "\n",
    "    # Set y-axis label\n",
    "    x.set_ylabel(\"Total Number of Transcriptions\", labelpad=20, weight='bold', size=12)\n",
    "\n",
    "    # Format y-axis label\n",
    "    x.yaxis.set_major_formatter(StrMethodFormatter('{x:,g}'))"
   ]
  },
  {
   "cell_type": "code",
   "execution_count": 145,
   "metadata": {},
   "outputs": [
    {
     "data": {
      "text/plain": [
       "count    9656.000000\n",
       "mean        7.184445\n",
       "std         8.272211\n",
       "min         1.000000\n",
       "25%         2.000000\n",
       "50%         4.000000\n",
       "75%         9.000000\n",
       "max       118.000000\n",
       "Name: Count1, dtype: float64"
      ]
     },
     "execution_count": 145,
     "metadata": {},
     "output_type": "execute_result"
    }
   ],
   "source": [
    "t.Count1.describe()"
   ]
  },
  {
   "cell_type": "code",
   "execution_count": 146,
   "metadata": {},
   "outputs": [
    {
     "data": {
      "text/plain": [
       "4.0"
      ]
     },
     "execution_count": 146,
     "metadata": {},
     "output_type": "execute_result"
    }
   ],
   "source": [
    "t.Count1.median()"
   ]
  },
  {
   "cell_type": "code",
   "execution_count": null,
   "metadata": {},
   "outputs": [],
   "source": []
  },
  {
   "cell_type": "code",
   "execution_count": null,
   "metadata": {},
   "outputs": [],
   "source": []
  },
  {
   "cell_type": "code",
   "execution_count": null,
   "metadata": {},
   "outputs": [],
   "source": []
  },
  {
   "cell_type": "markdown",
   "metadata": {},
   "source": [
    "## Find BiGrams of complete corpus "
   ]
  },
  {
   "cell_type": "code",
   "execution_count": 2,
   "metadata": {},
   "outputs": [],
   "source": [
    "#function to get bi & trigrams in a df sorted by frequency\n",
    "from sklearn.feature_extraction.text import CountVectorizer\n",
    "\n",
    "#Excluding these stopwords as using self-defined stopwords later\n",
    "#sw = set(stopwords.words('english')) \n",
    "\n",
    "\n",
    "def top_n_bi_grams(corpus, n=None):\n",
    "    #initialise count verctoriser to get bigrams without stopwords\n",
    "    \n",
    "    #v = CountVectorizer(ngram_range=(2,3), stop_words=sw)  #uncomment to use nltk stopwords\n",
    "    v = CountVectorizer(ngram_range=(2,2))\n",
    "    X = v.fit_transform(corpus)\n",
    "    bi_tri_df = pd.DataFrame(X.toarray(), columns = v.get_feature_names())\n",
    "    #sum the values in each columns\n",
    "    bi_tri_summed = bi_tri_df.sum()\n",
    "    #rename the columns\n",
    "    top_n = pd.DataFrame({'ngram': bi_tri_summed.index, 'count':  bi_tri_summed.values})\n",
    "    #sort and return top n values if given, otherwise just a sorted df\n",
    "    top_n = top_n.sort_values(by='count', ascending=False).head(n)\n",
    "    return top_n\n",
    "\n",
    "\n",
    "\n",
    "#For TriGram\n",
    "# def top_n_tri_grams(corpus, n=None):\n",
    "#     #initialise count verctoriser to get bi & trigrams without stopwords\n",
    "# #     v = CountVectorizer(ngram_range=(2,3), stop_words=sw)\n",
    "#     v = CountVectorizer(ngram_range=(3,3))\n",
    "#     X = v.fit_transform(corpus)\n",
    "#     bi_tri_df = pd.DataFrame(X.toarray(), columns = v.get_feature_names())\n",
    "#     #sum the values in each columns\n",
    "#     bi_tri_summed = bi_tri_df.sum()\n",
    "#     #rename the columns\n",
    "#     top_n = pd.DataFrame({'ngram': bi_tri_summed.index, 'count':  bi_tri_summed.values})\n",
    "#     #sort and return top n values if given, otherwise just a sorted df\n",
    "#     top_n = top_n.sort_values(by='count', ascending=False).head(n)\n",
    "#     return top_n"
   ]
  },
  {
   "cell_type": "code",
   "execution_count": 149,
   "metadata": {},
   "outputs": [
    {
     "name": "stderr",
     "output_type": "stream",
     "text": [
      "/home/pnv5011/miniconda3/lib/python3.9/site-packages/sklearn/utils/deprecation.py:87: FutureWarning: Function get_feature_names is deprecated; get_feature_names is deprecated in 1.0 and will be removed in 1.2. Please use get_feature_names_out instead.\n",
      "  warnings.warn(msg, category=FutureWarning)\n"
     ]
    },
    {
     "data": {
      "text/plain": [
       "Text(0.5, 1.0, 'Top 20 bigram in Golden Standard of Transcripts (Including Stopwords)')"
      ]
     },
     "execution_count": 149,
     "metadata": {},
     "output_type": "execute_result"
    },
    {
     "data": {
      "image/png": "[encoded data removed]",
      "text/plain": [
       "<Figure size 720x576 with 1 Axes>"
      ]
     },
     "metadata": {
      "needs_background": "light"
     },
     "output_type": "display_data"
    }
   ],
   "source": [
    "#Visualize the bigram (Not using for now. Creating visualization later.)\n",
    "\n",
    "#get top 10\n",
    "top_10_bi = top_n_bi_grams(t['transcription1'],20)\n",
    "\n",
    "#plot top 10 bi & trigrams\n",
    "fig, ax = plt.subplots(figsize=(10,8))\n",
    "\n",
    "labels = top_10_bi['ngram']\n",
    "x= np.arange(len(labels))\n",
    "y= top_10_bi['count']\n",
    "\n",
    "ax.set_yticks(x)\n",
    "ax.set_yticklabels(labels)\n",
    "plt.barh(x, width=y)\n",
    "plt.title(\"Top 20 bigram in Golden Standard of Transcripts (Including Stopwords)\", fontsize=14)"
   ]
  },
  {
   "cell_type": "code",
   "execution_count": 3,
   "metadata": {},
   "outputs": [],
   "source": [
    "t.transcription1.apply(lambda x: [item for item in x if item not in stop])"
   ]
  },
  {
   "cell_type": "code",
   "execution_count": null,
   "metadata": {},
   "outputs": [],
   "source": []
  },
  {
   "cell_type": "code",
   "execution_count": null,
   "metadata": {},
   "outputs": [],
   "source": [
    "#Invoking the Bigram function\n",
    "top_10_bi1 = top_n_bi_grams(t['transcription1'],100) #top 100 bigrams of all zones\n",
    "top_10bi_z4 = top_n_bi_grams(z4['transcription1'],100)   #top 100 bigrams of zone 4\n",
    "top_10bi_z8 = top_n_bi_grams(z8['transcription1'],100)   #top 100 bigrams of zone 8\n",
    "top_10bi_z13 = top_n_bi_grams(z13['transcription1'],100) #top 100 bigrams of zone 13"
   ]
  },
  {
   "cell_type": "code",
   "execution_count": null,
   "metadata": {},
   "outputs": [],
   "source": [
    "#Invoking the trigram function\n",
    "#top_10_tri1 = top_n_tri_grams(t['transcription1'],300) #with stopwords\n",
    "#top_10_tri2 = top_n_tri_grams(t['transcription_Stop'],20) #without stopwords"
   ]
  },
  {
   "cell_type": "code",
   "execution_count": 57,
   "metadata": {},
   "outputs": [],
   "source": []
  },
  {
   "cell_type": "code",
   "execution_count": null,
   "metadata": {},
   "outputs": [],
   "source": []
  },
  {
   "cell_type": "code",
   "execution_count": 509,
   "metadata": {},
   "outputs": [
    {
     "data": {
      "text/plain": [
       "12606       on the\n",
       "19116        we re\n",
       "9495        in the\n",
       "7723      go ahead\n",
       "20163       you re\n",
       "           ...    \n",
       "16275    the event\n",
       "1689        79 and\n",
       "9806      is there\n",
       "15989      that is\n",
       "10665        ll be\n",
       "Name: ngram, Length: 100, dtype: object"
      ]
     },
     "execution_count": 509,
     "metadata": {},
     "output_type": "execute_result"
    }
   ],
   "source": [
    "# Printing for all zones\n",
    "top_10_bi1[\"ngram\"]"
   ]
  },
  {
   "cell_type": "code",
   "execution_count": 510,
   "metadata": {},
   "outputs": [],
   "source": [
    "\n",
    "top_10_bi1[\"ngram\"] = top_10_bi1[\"ngram\"].str.lower().str.split()\n",
    "top_10bi_z4[\"ngram\"] = top_10bi_z4[\"ngram\"].str.lower().str.split()\n",
    "top_10bi_z8[\"ngram\"] = top_10bi_z8[\"ngram\"].str.lower().str.split()\n",
    "top_10bi_z13[\"ngram\"] = top_10bi_z13[\"ngram\"].str.lower().str.split()"
   ]
  },
  {
   "cell_type": "code",
   "execution_count": 511,
   "metadata": {},
   "outputs": [],
   "source": [
    "#Function to indicate if bigram contains stopwords\n",
    "\n",
    "stop = ['i', 'me', 'my','myself','we','our','ours','ourselves','you','you\\'re','you\\'ve','you\\'ll','you\\'d','your','yours','yourself','yourselves','it','it\\'s','its','itself','they','them','their','theirs','themselves','this','that','that\\'ll','these','those','am','is','are','was','were','be','been','being','have','has','had','having','do','does','did','doing','a','an','the','and','but','if','or','because','as','until','while','of','at','by','for','with','about','against','between','into','through','during','before','after','above','below','to','from','up','down','in','out','on','off','over','under','again','further','then','once','here','there','all','any','both','each','few','more','most','other','some','such','no','nor','not','only','own','same','so','than','too','very','s','t','can','will','just','on','don\\'t','should','should\\'ve','now','d','ll','m','o','re','ve','y','ain','aren','aren\\'t','couldn','couldn\\'t','didn','didn\\'t','doesn','doesn\\'t','hadn','hadn\\'t','hasn','hasn\\'t','haven','haven\\'t','isn','isn\\'t','ma','mightn','mightn\\'t','mustn','mustn\\'t','needn','needn\\'t','shan','shan\\'t','shouldn','shouldn\\'t','wasn','wasn\\'t','weren','weren\\'t','won','won\\'t','wouldn','wouldn\\'t']\n",
    "\n",
    "def stop_verification(text):\n",
    "    flag = 0\n",
    "    for x in text:\n",
    "        if x in stop:\n",
    "            flag = 1\n",
    "    return flag\n",
    "\n",
    "\n",
    "\n",
    "def listToString(s): \n",
    "    \n",
    "    # initialize an empty string\n",
    "    str1 = \" \" \n",
    "    \n",
    "    # return string  \n",
    "    return (str1.join(s))"
   ]
  },
  {
   "cell_type": "code",
   "execution_count": 512,
   "metadata": {},
   "outputs": [],
   "source": [
    "top_10_bi1[\"stop_status\"] = top_10_bi1.ngram.apply(stop_verification)\n",
    "top_10_bi1[\"ngram\"] = top_10_bi1.ngram.apply(listToString)\n",
    "\n",
    "top_10bi_z4[\"stop_status\"] = top_10bi_z4.ngram.apply(stop_verification)\n",
    "top_10bi_z4[\"ngram\"] = top_10bi_z4.ngram.apply(listToString)\n",
    "\n",
    "top_10bi_z8[\"stop_status\"] = top_10bi_z8.ngram.apply(stop_verification)\n",
    "top_10bi_z8[\"ngram\"] = top_10bi_z8.ngram.apply(listToString)\n",
    "\n",
    "top_10bi_z13[\"stop_status\"] = top_10bi_z13.ngram.apply(stop_verification)\n",
    "top_10bi_z13[\"ngram\"] = top_10bi_z13.ngram.apply(listToString)"
   ]
  },
  {
   "cell_type": "code",
   "execution_count": 513,
   "metadata": {},
   "outputs": [
    {
     "data": {
      "text/html": [
       "<div>\n",
       "<style scoped>\n",
       "    .dataframe tbody tr th:only-of-type {\n",
       "        vertical-align: middle;\n",
       "    }\n",
       "\n",
       "    .dataframe tbody tr th {\n",
       "        vertical-align: top;\n",
       "    }\n",
       "\n",
       "    .dataframe thead th {\n",
       "        text-align: right;\n",
       "    }\n",
       "</style>\n",
       "<table border=\"1\" class=\"dataframe\">\n",
       "  <thead>\n",
       "    <tr style=\"text-align: right;\">\n",
       "      <th></th>\n",
       "      <th>ngram</th>\n",
       "      <th>count</th>\n",
       "      <th>stop_status</th>\n",
       "    </tr>\n",
       "  </thead>\n",
       "  <tbody>\n",
       "    <tr>\n",
       "      <th>12606</th>\n",
       "      <td>on the</td>\n",
       "      <td>240</td>\n",
       "      <td>1</td>\n",
       "    </tr>\n",
       "    <tr>\n",
       "      <th>19116</th>\n",
       "      <td>we re</td>\n",
       "      <td>206</td>\n",
       "      <td>1</td>\n",
       "    </tr>\n",
       "    <tr>\n",
       "      <th>9495</th>\n",
       "      <td>in the</td>\n",
       "      <td>192</td>\n",
       "      <td>1</td>\n",
       "    </tr>\n",
       "    <tr>\n",
       "      <th>7723</th>\n",
       "      <td>go ahead</td>\n",
       "      <td>134</td>\n",
       "      <td>0</td>\n",
       "    </tr>\n",
       "    <tr>\n",
       "      <th>20163</th>\n",
       "      <td>you re</td>\n",
       "      <td>121</td>\n",
       "      <td>1</td>\n",
       "    </tr>\n",
       "    <tr>\n",
       "      <th>5107</th>\n",
       "      <td>can you</td>\n",
       "      <td>120</td>\n",
       "      <td>1</td>\n",
       "    </tr>\n",
       "    <tr>\n",
       "      <th>7213</th>\n",
       "      <td>for the</td>\n",
       "      <td>110</td>\n",
       "      <td>1</td>\n",
       "    </tr>\n",
       "    <tr>\n",
       "      <th>17545</th>\n",
       "      <td>traffic stop</td>\n",
       "      <td>103</td>\n",
       "      <td>0</td>\n",
       "    </tr>\n",
       "    <tr>\n",
       "      <th>12983</th>\n",
       "      <td>over there</td>\n",
       "      <td>100</td>\n",
       "      <td>1</td>\n",
       "    </tr>\n",
       "    <tr>\n",
       "      <th>16895</th>\n",
       "      <td>they re</td>\n",
       "      <td>96</td>\n",
       "      <td>1</td>\n",
       "    </tr>\n",
       "  </tbody>\n",
       "</table>\n",
       "</div>"
      ],
      "text/plain": [
       "              ngram  count  stop_status\n",
       "12606        on the    240            1\n",
       "19116         we re    206            1\n",
       "9495         in the    192            1\n",
       "7723       go ahead    134            0\n",
       "20163        you re    121            1\n",
       "5107        can you    120            1\n",
       "7213        for the    110            1\n",
       "17545  traffic stop    103            0\n",
       "12983    over there    100            1\n",
       "16895       they re     96            1"
      ]
     },
     "execution_count": 513,
     "metadata": {},
     "output_type": "execute_result"
    }
   ],
   "source": [
    "#Demo output. We see stop_status shows if the bigram contains stopwords\n",
    "top_10_bi1.head(10)"
   ]
  },
  {
   "cell_type": "code",
   "execution_count": 514,
   "metadata": {},
   "outputs": [],
   "source": [
    "# Filter out all the bigrams that contain stopwords\n",
    "result_all = top_10_bi1[top_10_bi1['stop_status'] == 0] \n",
    "result_z4 = top_10bi_z4[top_10bi_z4['stop_status'] == 0] \n",
    "result_z8 = top_10bi_z8[top_10bi_z8['stop_status'] == 0] \n",
    "result_z13 = top_10bi_z13[top_10bi_z13['stop_status'] == 0] "
   ]
  },
  {
   "cell_type": "code",
   "execution_count": null,
   "metadata": {},
   "outputs": [],
   "source": []
  },
  {
   "cell_type": "code",
   "execution_count": 544,
   "metadata": {
    "scrolled": true
   },
   "outputs": [
    {
     "data": {
      "text/html": [
       "<div>\n",
       "<style scoped>\n",
       "    .dataframe tbody tr th:only-of-type {\n",
       "        vertical-align: middle;\n",
       "    }\n",
       "\n",
       "    .dataframe tbody tr th {\n",
       "        vertical-align: top;\n",
       "    }\n",
       "\n",
       "    .dataframe thead th {\n",
       "        text-align: right;\n",
       "    }\n",
       "</style>\n",
       "<table border=\"1\" class=\"dataframe\">\n",
       "  <thead>\n",
       "    <tr style=\"text-align: right;\">\n",
       "      <th></th>\n",
       "      <th>ngram</th>\n",
       "      <th>count</th>\n",
       "      <th>stop_status</th>\n",
       "    </tr>\n",
       "  </thead>\n",
       "  <tbody>\n",
       "    <tr>\n",
       "      <th>4385</th>\n",
       "      <td>go ahead</td>\n",
       "      <td>84</td>\n",
       "      <td>0</td>\n",
       "    </tr>\n",
       "    <tr>\n",
       "      <th>10172</th>\n",
       "      <td>traffic stop</td>\n",
       "      <td>81</td>\n",
       "      <td>0</td>\n",
       "    </tr>\n",
       "    <tr>\n",
       "      <th>10709</th>\n",
       "      <td>unit coming</td>\n",
       "      <td>39</td>\n",
       "      <td>0</td>\n",
       "    </tr>\n",
       "    <tr>\n",
       "      <th>6268</th>\n",
       "      <td>male black</td>\n",
       "      <td>32</td>\n",
       "      <td>0</td>\n",
       "    </tr>\n",
       "    <tr>\n",
       "      <th>1479</th>\n",
       "      <td>alright 104</td>\n",
       "      <td>25</td>\n",
       "      <td>0</td>\n",
       "    </tr>\n",
       "    <tr>\n",
       "      <th>3819</th>\n",
       "      <td>event number</td>\n",
       "      <td>20</td>\n",
       "      <td>0</td>\n",
       "    </tr>\n",
       "    <tr>\n",
       "      <th>8418</th>\n",
       "      <td>shots fired</td>\n",
       "      <td>19</td>\n",
       "      <td>0</td>\n",
       "    </tr>\n",
       "    <tr>\n",
       "      <th>3219</th>\n",
       "      <td>cottage grove</td>\n",
       "      <td>19</td>\n",
       "      <td>0</td>\n",
       "    </tr>\n",
       "    <tr>\n",
       "      <th>3257</th>\n",
       "      <td>crime scene</td>\n",
       "      <td>19</td>\n",
       "      <td>0</td>\n",
       "    </tr>\n",
       "    <tr>\n",
       "      <th>2748</th>\n",
       "      <td>call back</td>\n",
       "      <td>18</td>\n",
       "      <td>0</td>\n",
       "    </tr>\n",
       "    <tr>\n",
       "      <th>5986</th>\n",
       "      <td>know what</td>\n",
       "      <td>17</td>\n",
       "      <td>0</td>\n",
       "    </tr>\n",
       "    <tr>\n",
       "      <th>3518</th>\n",
       "      <td>don know</td>\n",
       "      <td>17</td>\n",
       "      <td>0</td>\n",
       "    </tr>\n",
       "  </tbody>\n",
       "</table>\n",
       "</div>"
      ],
      "text/plain": [
       "               ngram  count  stop_status\n",
       "4385        go ahead     84            0\n",
       "10172   traffic stop     81            0\n",
       "10709    unit coming     39            0\n",
       "6268      male black     32            0\n",
       "1479     alright 104     25            0\n",
       "3819    event number     20            0\n",
       "8418     shots fired     19            0\n",
       "3219   cottage grove     19            0\n",
       "3257     crime scene     19            0\n",
       "2748       call back     18            0\n",
       "5986       know what     17            0\n",
       "3518        don know     17            0"
      ]
     },
     "execution_count": 544,
     "metadata": {},
     "output_type": "execute_result"
    }
   ],
   "source": [
    "#Demo Output\n",
    "result_all.head(12)"
   ]
  },
  {
   "cell_type": "code",
   "execution_count": null,
   "metadata": {
    "collapsed": true
   },
   "outputs": [],
   "source": []
  }
 ],
 "metadata": {
  "kernelspec": {
   "display_name": "Python 3 (ipykernel)",
   "language": "python",
   "name": "python3"
  },
  "language_info": {
   "codemirror_mode": {
    "name": "ipython",
    "version": 3
   },
   "file_extension": ".py",
   "mimetype": "text/x-python",
   "name": "python",
   "nbconvert_exporter": "python",
   "pygments_lexer": "ipython3",
   "version": "3.9.12"
  }
 },
 "nbformat": 4,
 "nbformat_minor": 4
}
