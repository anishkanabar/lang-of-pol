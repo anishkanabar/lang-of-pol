{
 "cells": [
  {
   "cell_type": "code",
   "execution_count": null,
   "id": "d17497d7-b02d-4cda-a79c-16e14b856b82",
   "metadata": {},
   "outputs": [],
   "source": [
    "import IPython.display as ipd\n",
    "import os\n",
    "import librosa\n",
    "import librosa.display\n",
    "import pandas as pd\n",
    "import random\n",
    "import getpass"
   ]
  },
  {
   "cell_type": "code",
   "execution_count": null,
   "id": "c1482664",
   "metadata": {},
   "outputs": [],
   "source": [
    "def play_audio(fpath):\n",
    "    dur = librosa.get_duration(filename=fpath)\n",
    "    sr = librosa.get_samplerate(fpath)\n",
    "    print(\"Path: {}\".format(fpath))\n",
    "    print(\"Duration: {} sec\".format(dur))\n",
    "    plt, aud = None, None\n",
    "    try:\n",
    "        aud = ipd.Audio(filename=fpath, rate=sr)\n",
    "    except Error as e:\n",
    "        print(e)\n",
    "        audio, sr = librosa.load(fpath)\n",
    "        plt = librosa.display.waveplot(audio, sr=sr)\n",
    "        aud = ipd.Audio(data=audio, rate=sr)\n",
    "    return plt, aud"
   ]
  },
  {
   "cell_type": "markdown",
   "id": "1bf081a8",
   "metadata": {},
   "source": [
    "### PATH"
   ]
  },
  {
   "cell_type": "code",
   "execution_count": null,
   "id": "85bca824",
   "metadata": {
    "scrolled": true
   },
   "outputs": [],
   "source": [
    "female_audio = '/project/graziul/data/utterances/Zone1/2018_08_05/201808050001-100238-27730/853366_857758.flac'\n",
    "plt, aud = play_audio(female_audio)\n",
    "aud"
   ]
  },
  {
   "cell_type": "code",
   "execution_count": null,
   "id": "16a19f6d",
   "metadata": {
    "scrolled": true
   },
   "outputs": [],
   "source": [
    "shell_audio = '/project/graziul/data/utterances/Zone8/2018_08_10/201808101202-916683-27158/268396_270685.flac'\n",
    "plt, aud = play_audio(shell_audio)\n",
    "aud"
   ]
  },
  {
   "cell_type": "code",
   "execution_count": null,
   "id": "f2c588a9",
   "metadata": {},
   "outputs": [],
   "source": [
    "traffic_audio = '/project/graziul/data/utterances/Zone1/2018_08_05/201808050359-300564-27730/433621_435561.flac'\n",
    "cherry_audio_y = '/project/graziul/data/utterances/Zone1/2018_08_05/201808050359-300564-27730/433755_435281.flac'\n",
    "plt, aud = play_audio(traffic_audio)\n",
    "aud"
   ]
  },
  {
   "cell_type": "code",
   "execution_count": null,
   "id": "e8795c3c",
   "metadata": {},
   "outputs": [],
   "source": []
  }
 ],
 "metadata": {
  "kernelspec": {
   "display_name": "sb-audio",
   "language": "python",
   "name": "sb-audio"
  },
  "language_info": {
   "codemirror_mode": {
    "name": "ipython",
    "version": 3
   },
   "file_extension": ".py",
   "mimetype": "text/x-python",
   "name": "python",
   "nbconvert_exporter": "python",
   "pygments_lexer": "ipython3",
   "version": "3.10.4"
  }
 },
 "nbformat": 4,
 "nbformat_minor": 5
}
