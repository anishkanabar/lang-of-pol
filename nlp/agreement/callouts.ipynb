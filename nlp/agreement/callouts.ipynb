{
 "cells": [
  {
   "cell_type": "markdown",
   "metadata": {},
   "source": [
    "# Race and Gender and Location Callouts\n",
    "\n",
    "Are race and gender and location callouts more likely to be misunderstood?"
   ]
  },
  {
   "cell_type": "markdown",
   "metadata": {},
   "source": [
    "### Load Data"
   ]
  },
  {
   "cell_type": "code",
   "execution_count": 1,
   "metadata": {},
   "outputs": [],
   "source": [
    "from asr_dataset.police import BpcETL, AmbiguityStrategy\n",
    "from asr_dataset.constants import Cluster\n",
    "import pandas as pd\n",
    "import numpy as np\n",
    "import librosa"
   ]
  },
  {
   "cell_type": "code",
   "execution_count": 3,
   "metadata": {},
   "outputs": [],
   "source": [
    "etl = BpcETL(Cluster.RCC, \n",
    "    filter_inaudible=False, \n",
    "    filter_numeric=False, \n",
    "    filter_uncertain=False,\n",
    "    ambiguity='ALL')"
   ]
  },
  {
   "cell_type": "code",
   "execution_count": 4,
   "metadata": {},
   "outputs": [],
   "source": [
    "data = etl.extract()"
   ]
  },
  {
   "cell_type": "code",
   "execution_count": 55,
   "metadata": {},
   "outputs": [],
   "source": [
    "# This is meant for a quick check and a quick minimum estimate,\n",
    "# not an exhaustive search for gender or racial callouts. \n",
    "GENDER_WORDS = ['man','woman','boy','girl','male','female']\n",
    "RACE_WORDS = ['black','white','latino','asian']\n",
    "LOCATION_WORDS = ['street','alley','park','building','road','highway','ave','avenue']"
   ]
  },
  {
   "cell_type": "code",
   "execution_count": 56,
   "metadata": {},
   "outputs": [],
   "source": [
    "# Check data for callouts\n",
    "data = data.assign(location=data['text'].str.contains(' | '.join(LOCATION_WORDS), regex=True, case=False),\n",
    "                gender=data['text'].str.contains(' | '.join(GENDER_WORDS), regex=True, case=False),\n",
    "                race=data['text'].str.contains(' | '.join(RACE_WORDS), regex=True, case=False))"
   ]
  },
  {
   "cell_type": "code",
   "execution_count": 57,
   "metadata": {},
   "outputs": [],
   "source": [
    "# Check data for uncertainty\n",
    "data = data.assign(uncertain=data['text'].str.contains(' | '.join(BpcETL.BAD_WORDS), regex=True, case=False) |\n",
    "                            data['text'].str.contains(\"\\[.+\\]\", regex=True))"
   ]
  },
  {
   "cell_type": "code",
   "execution_count": 59,
   "metadata": {},
   "outputs": [
    {
     "name": "stdout",
     "output_type": "stream",
     "text": [
      "gender + Uncertain = 698\n",
      "gender + Not Uncertain = 1431\n",
      "Not gender + Uncertain = 13057\n",
      "Not gender + Not Uncertain = 46611\n",
      "race + Uncertain = 396\n",
      "race + Not Uncertain = 745\n",
      "Not race + Uncertain = 13359\n",
      "Not race + Not Uncertain = 47297\n",
      "location + Uncertain = 430\n",
      "location + Not Uncertain = 821\n",
      "Not location + Uncertain = 13325\n",
      "Not location + Not Uncertain = 47221\n"
     ]
    }
   ],
   "source": [
    "def confusion(col, data):\n",
    "    yy = sum(data[col].astype(bool) & data['uncertain'].astype(bool))\n",
    "    yn = sum(data[col].astype(bool) & ~data['uncertain'].astype(bool))\n",
    "    ny = sum(~data[col].astype(bool) & data['uncertain'].astype(bool))\n",
    "    nn = sum(~data[col].astype(bool) & ~data['uncertain'].astype(bool))\n",
    "    print(f\"{col} + Uncertain = {yy}\")\n",
    "    print(f\"{col} + Not Uncertain = {yn}\")\n",
    "    print(f\"Not {col} + Uncertain = {ny}\")\n",
    "    print(f\"Not {col} + Not Uncertain = {nn}\")\n",
    "\n",
    "confusion('gender', data)\n",
    "confusion('race', data)\n",
    "confusion('location', data)"
   ]
  },
  {
   "cell_type": "code",
   "execution_count": 60,
   "metadata": {},
   "outputs": [],
   "source": [
    "data = data.assign(robert=data['text'].str.contains(\"robert\", case=False))"
   ]
  },
  {
   "cell_type": "code",
   "execution_count": 61,
   "metadata": {},
   "outputs": [
    {
     "name": "stdout",
     "output_type": "stream",
     "text": [
      "gender + Uncertain = 636\n",
      "gender + Not Uncertain = 1283\n",
      "Not gender + Uncertain = 8888\n",
      "Not gender + Not Uncertain = 24521\n",
      "race + Uncertain = 361\n",
      "race + Not Uncertain = 636\n",
      "Not race + Uncertain = 9163\n",
      "Not race + Not Uncertain = 25168\n",
      "location + Uncertain = 407\n",
      "location + Not Uncertain = 731\n",
      "Not location + Uncertain = 9117\n",
      "Not location + Not Uncertain = 25073\n"
     ]
    }
   ],
   "source": [
    "dat = data[(~data['robert'].astype(bool)) & (data['duration']>1)]\n",
    "confusion('gender', dat)\n",
    "confusion('race', dat)\n",
    "confusion('location', dat)"
   ]
  },
  {
   "cell_type": "code",
   "execution_count": null,
   "metadata": {},
   "outputs": [],
   "source": []
  }
 ],
 "metadata": {
  "interpreter": {
   "hash": "75f1655cc98ebdec045ba0a94d0a3d9b40cce450c7e83a290e736f98858da139"
  },
  "kernelspec": {
   "display_name": "Python 3",
   "language": "python",
   "name": "python3"
  },
  "language_info": {
   "codemirror_mode": {
    "name": "ipython",
    "version": 3
   },
   "file_extension": ".py",
   "mimetype": "text/x-python",
   "name": "python",
   "nbconvert_exporter": "python",
   "pygments_lexer": "ipython3",
   "version": "3.8.13"
  }
 },
 "nbformat": 4,
 "nbformat_minor": 2
}
