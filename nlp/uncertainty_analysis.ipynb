{
 "cells": [
  {
   "cell_type": "code",
   "execution_count": 1,
   "metadata": {},
   "outputs": [],
   "source": [
    "#run if working dir currently same dir as notebook"
   ]
  },
  {
   "cell_type": "code",
   "execution_count": 1,
   "metadata": {},
   "outputs": [
    {
     "name": "stdout",
     "output_type": "stream",
     "text": [
      "/project/graziul/ra/wdolan/lang-of-pol/asr/data/asr_dataset\n"
     ]
    }
   ],
   "source": [
    "cd ../asr/data/asr_dataset"
   ]
  },
  {
   "cell_type": "markdown",
   "metadata": {},
   "source": [
    "## Data Loading\n",
    "author: Eric Chandler"
   ]
  },
  {
   "cell_type": "code",
   "execution_count": 1,
   "metadata": {},
   "outputs": [],
   "source": [
    "# Uncomment if the cells aren't printing stuff\n",
    "# import logging\n",
    "# root_logger = logging.getLogger()\n",
    "# root_logger.setLevel(logging.DEBUG)\n",
    "# root_logger.addHandler(logging.StreamHandler())"
   ]
  },
  {
   "cell_type": "code",
   "execution_count": 2,
   "metadata": {},
   "outputs": [],
   "source": [
    "from asr_dataset.police import BpcETL, AmbiguityStrategy\n",
    "from asr_dataset.constants import DataSizeUnit, Cluster\n",
    "\n",
    "cluster = Cluster['RCC']\n",
    "etl = BpcETL(cluster, filter_inaudible=False, filter_uncertain=False, filter_numeric=False, ambiguity=AmbiguityStrategy.ALL)\n",
    "# This should NOT throw errors about PySoundFile etc. \n",
    "# Sometimes it works sometimes it doesn't... I really hate midway :(\n",
    "data = etl.etl()"
   ]
  },
  {
   "cell_type": "markdown",
   "metadata": {},
   "source": [
    "## Transcript Labeling\n",
    "author: Eric Chandler"
   ]
  },
  {
   "cell_type": "code",
   "execution_count": 3,
   "metadata": {},
   "outputs": [
    {
     "data": {
      "text/plain": [
       "'7907 inaudible and 10099 uncertain and 41013 clean'"
      ]
     },
     "execution_count": 3,
     "metadata": {},
     "output_type": "execute_result"
    }
   ],
   "source": [
    "# Label data as good/bad\n",
    "data = data.assign(inaudible = data['text'].str.contains('|'.join(etl.BAD_WORDS), regex=True, case=False),\n",
    "                    uncertain = lambda x: ~x['inaudible'] & x['text'].str.contains('\\[.+\\]', regex=True),\n",
    "                    clean = lambda x: ~x['inaudible'] & ~x['uncertain'])\n",
    "\n",
    "f\"{data['inaudible'].sum()} inaudible and {data['uncertain'].sum()} uncertain and {data['clean'].sum()} clean\""
   ]
  },
  {
   "cell_type": "code",
   "execution_count": 4,
   "metadata": {},
   "outputs": [],
   "source": [
    "labeler = {'clean': 0, 'uncertain': 1, 'inaudible': 2}\n",
    "unlabeler = {0: 'clean', 1:'uncertain', 2:'inaudible'}"
   ]
  },
  {
   "cell_type": "code",
   "execution_count": 5,
   "metadata": {},
   "outputs": [],
   "source": [
    "import numpy as np\n",
    "import pandas as pd"
   ]
  },
  {
   "cell_type": "code",
   "execution_count": 6,
   "metadata": {},
   "outputs": [],
   "source": [
    "data['label'] = pd.Series(np.zeros(len(data)))\n",
    "data.loc[data['inaudible'], 'label'] = labeler['inaudible']\n",
    "data.loc[data['clean'], 'label'] = labeler['clean']\n",
    "data.loc[data['uncertain'], 'label'] = labeler['uncertain']"
   ]
  },
  {
   "cell_type": "markdown",
   "metadata": {},
   "source": [
    "## Content analysis\n",
    "william dolan"
   ]
  },
  {
   "cell_type": "code",
   "execution_count": 7,
   "metadata": {},
   "outputs": [],
   "source": [
    "def clean_string(string):\n",
    "    return string.replace('[','').replace(']','').replace('<X>', '')\n",
    "\n",
    "groups = data.groupby('label')\n",
    "clean = groups.get_group(0.0).copy()\n",
    "uncertain = groups.get_group(1.0).copy()\n",
    "inaudible = groups.get_group(2.0).copy()\n",
    "\n",
    "uncertain['text'] = uncertain['text'].apply(clean_string)\n",
    "inaudible['text'] = inaudible['text'].apply(clean_string)"
   ]
  },
  {
   "cell_type": "code",
   "execution_count": 8,
   "metadata": {},
   "outputs": [],
   "source": [
    "from wordcloud import WordCloud, STOPWORDS, ImageColorGenerator\n",
    "import matplotlib.pyplot as plt\n",
    "\n",
    "stopwords = set(STOPWORDS)\n",
    "stopwords.update([\"ZERO\", \"ONE\", \"TWO\", \"THREE\", \"FOUR\", \"FIVE\", \"SIX\", \"SEVEN\", \"EIGHT\", \"NINE\", \"TEN\"])\n",
    "stopwords.update([\"TWENTY\", \"THIRTY\", \"FORTY\", \"FIFTY\", \"SIXTY\", \"SEVENTY\", \"EIGHTY\", \"NINETY\", \"FOURTY\"])\n",
    "stopwords.update([\"ELEVEN\", \"TWELVE\", \"THIRTEEN\", \"FOURTEEN\", \"FIFTEEN\", \n",
    "                  \"SIXTEEN\", \"SEVENTEEN\", \"EIGHTEEN\", \"NINETEEN\"])"
   ]
  },
  {
   "cell_type": "code",
   "execution_count": 9,
   "metadata": {},
   "outputs": [],
   "source": [
    "clean_text = \"\".join(text for text in clean['text'])\n",
    "uncertain_text = \"\".join(text for text in uncertain['text'])\n",
    "inaudible_text = \"\".join(text for text in inaudible['text'])\n",
    "\n",
    "clean_wordcloud = WordCloud(stopwords=stopwords, background_color=\"white\").generate(clean_text)\n",
    "uncertain_wordcloud = WordCloud(stopwords=stopwords, background_color=\"white\").generate(uncertain_text)\n",
    "inaudible_wordcloud = WordCloud(stopwords=stopwords, background_color=\"white\").generate(inaudible_text)"
   ]
  },
  {
   "cell_type": "code",
   "execution_count": 11,
   "metadata": {},
   "outputs": [],
   "source": [
    "#uncomment to visualize wordcloud\n",
    "#plt.imshow(clean_wordcloud, interpolation='bilinear')\n",
    "#plt.axis(\"off\")\n",
    "#plt.show()"
   ]
  },
  {
   "cell_type": "code",
   "execution_count": 12,
   "metadata": {},
   "outputs": [],
   "source": [
    "#uncomment to visualize wordcloud\n",
    "#plt.imshow(uncertain_wordcloud, interpolation='bilinear')\n",
    "#plt.axis(\"off\")\n",
    "#plt.show()"
   ]
  },
  {
   "cell_type": "code",
   "execution_count": 13,
   "metadata": {},
   "outputs": [],
   "source": [
    "#uncomment to visualize wordcloud\n",
    "#plt.imshow(inaudible_wordcloud, interpolation='bilinear')\n",
    "#plt.axis(\"off\")\n",
    "#plt.show()"
   ]
  },
  {
   "cell_type": "code",
   "execution_count": 14,
   "metadata": {},
   "outputs": [],
   "source": [
    "masculine_words = [\"MAN\", \"HE\", \"HIM\", \"HIS\", \"MALE\", \"SON\", \"FATHER\", \"HE'S\", \"HE'LL\", \"HIMSELF\",\n",
    "                   \"HE'D\", \"BOYFRIEND\", \"UNCLE\", \"MASCULINE\", \"BOY\", \"MEN\", \"BOYS\", \"MALES\"]\n",
    "feminine_words = [\"WOMAN\", \"SHE\", \"HER\", \"HERS\", \"FEMALE\", \"DAUGHTER\", \"MOTHER\", \"SHE'S\", \"SHE'LL\", \"HERSELF\",\n",
    "                  \"SHE'D\", \"GIRLFRIEND\", \"AUNT\", \"FEMININE\", \"GIRL\", \"WOMEN\", \"GIRLS\", \"FEMALES\"]\n",
    "gendered_words = masculine_words + feminine_words\n",
    "\n",
    "#TODO get placenames from csv?\n",
    "place_words = [\"LOCATION\", \"AT\", \"IN\"]"
   ]
  },
  {
   "cell_type": "code",
   "execution_count": 15,
   "metadata": {},
   "outputs": [
    {
     "name": "stdout",
     "output_type": "stream",
     "text": [
      "confident gendered words freq:  0.01677860238395649\n",
      "uncertain gendered words freq:  0.019337135943306542\n",
      "inaudible gendered words freq:  0.019256245268735806\n",
      "confident place words freq:  0.01925503318887487\n",
      "uncertain place words freq:  0.025332728372655777\n",
      "inaudible place words freq:  0.028269303557910675\n"
     ]
    }
   ],
   "source": [
    "def topic_freq(corp_string, topic):\n",
    "    topic_word_count = 0\n",
    "    corp_words = corp_string.split()\n",
    "    for word in corp_words:\n",
    "        if word in topic:\n",
    "            topic_word_count = topic_word_count + 1\n",
    "    return (topic_word_count / len(corp_words))\n",
    "\n",
    "\n",
    "#TODO get placenames from csv?\n",
    "def place_freq(corp_string):\n",
    "    place_word\n",
    "\n",
    "print(\"confident gendered words freq: \", topic_freq(clean_text, gendered_words))\n",
    "print(\"uncertain gendered words freq: \", topic_freq(uncertain_text, gendered_words))\n",
    "print(\"inaudible gendered words freq: \", topic_freq(inaudible_text, gendered_words))\n",
    "print(\"confident place words freq: \", topic_freq(clean_text, place_words))\n",
    "print(\"uncertain place words freq: \", topic_freq(uncertain_text, place_words))\n",
    "print(\"inaudible place words freq: \", topic_freq(inaudible_text, place_words))"
   ]
  },
  {
   "cell_type": "code",
   "execution_count": null,
   "metadata": {},
   "outputs": [],
   "source": []
  }
 ],
 "metadata": {
  "interpreter": {
   "hash": "5192df41692c1aa295b85ee46ec01a1c01b343417c94fcbc3e4a66f3c082fb33"
  },
  "kernelspec": {
   "display_name": "Python 3 (ipykernel)",
   "language": "python",
   "name": "python3"
  },
  "language_info": {
   "codemirror_mode": {
    "name": "ipython",
    "version": 3
   },
   "file_extension": ".py",
   "mimetype": "text/x-python",
   "name": "python",
   "nbconvert_exporter": "python",
   "pygments_lexer": "ipython3",
   "version": "3.9.7"
  }
 },
 "nbformat": 4,
 "nbformat_minor": 2
}
