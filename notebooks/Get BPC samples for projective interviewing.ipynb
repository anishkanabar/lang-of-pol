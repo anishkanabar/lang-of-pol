{
 "cells": [
  {
   "cell_type": "code",
   "execution_count": 4,
   "id": "517918d5",
   "metadata": {},
   "outputs": [],
   "source": [
    "# module load python\n",
    "# module load ffmpeg (if Midway2)\n",
    "\n",
    "import pandas as pd\n",
    "import pydub\n",
    "import re\n",
    "import os \n",
    "\n",
    "os.chdir('/project/graziul/')"
   ]
  },
  {
   "cell_type": "code",
   "execution_count": 5,
   "id": "bc5b0cae",
   "metadata": {},
   "outputs": [
    {
     "data": {
      "text/html": [
       "<div>\n",
       "<style scoped>\n",
       "    .dataframe tbody tr th:only-of-type {\n",
       "        vertical-align: middle;\n",
       "    }\n",
       "\n",
       "    .dataframe tbody tr th {\n",
       "        vertical-align: top;\n",
       "    }\n",
       "\n",
       "    .dataframe thead th {\n",
       "        text-align: right;\n",
       "    }\n",
       "</style>\n",
       "<table border=\"1\" class=\"dataframe\">\n",
       "  <thead>\n",
       "    <tr style=\"text-align: right;\">\n",
       "      <th></th>\n",
       "      <th>start</th>\n",
       "      <th>end</th>\n",
       "      <th>transcription</th>\n",
       "    </tr>\n",
       "  </thead>\n",
       "  <tbody>\n",
       "    <tr>\n",
       "      <th>0</th>\n",
       "      <td>00.02.21.252</td>\n",
       "      <td>00.02.31.279</td>\n",
       "      <td>RADIOSHOP TESTING ONE TWO THREE FOUR FIVE FIVE...</td>\n",
       "    </tr>\n",
       "    <tr>\n",
       "      <th>1</th>\n",
       "      <td>00.02.38.109</td>\n",
       "      <td>00.02.39.417</td>\n",
       "      <td>ONE TWO ONE TWO</td>\n",
       "    </tr>\n",
       "    <tr>\n",
       "      <th>2</th>\n",
       "      <td>00.02.48.327</td>\n",
       "      <td>00.02.49.235</td>\n",
       "      <td>UNIT COMING IN</td>\n",
       "    </tr>\n",
       "    <tr>\n",
       "      <th>3</th>\n",
       "      <td>00.02.55.330</td>\n",
       "      <td>00.02.57.437</td>\n",
       "      <td>ZONE ONE IS ON CITY [WIDE] FIVE</td>\n",
       "    </tr>\n",
       "    <tr>\n",
       "      <th>4</th>\n",
       "      <td>00.03.04.003</td>\n",
       "      <td>00.03.09.017</td>\n",
       "      <td>OKAY THANKS UH THIS IS THE RADIO SHOP TESTING ...</td>\n",
       "    </tr>\n",
       "  </tbody>\n",
       "</table>\n",
       "</div>"
      ],
      "text/plain": [
       "          start           end  \\\n",
       "0  00.02.21.252  00.02.31.279   \n",
       "1  00.02.38.109  00.02.39.417   \n",
       "2  00.02.48.327  00.02.49.235   \n",
       "3  00.02.55.330  00.02.57.437   \n",
       "4  00.03.04.003  00.03.09.017   \n",
       "\n",
       "                                       transcription  \n",
       "0  RADIOSHOP TESTING ONE TWO THREE FOUR FIVE FIVE...  \n",
       "1                                    ONE TWO ONE TWO  \n",
       "2                                     UNIT COMING IN  \n",
       "3                    ZONE ONE IS ON CITY [WIDE] FIVE  \n",
       "4  OKAY THANKS UH THIS IS THE RADIO SHOP TESTING ...  "
      ]
     },
     "execution_count": 5,
     "metadata": {},
     "output_type": "execute_result"
    }
   ],
   "source": [
    "df = pd.read_csv('transcripts/transcripts2021_09_03.csv')\n",
    "df[['start','end','transcription']].head()"
   ]
  },
  {
   "cell_type": "code",
   "execution_count": 7,
   "id": "adaf8b8a",
   "metadata": {},
   "outputs": [],
   "source": [
    "def get_milliseconds(pandas_row,time_var):\n",
    "    var_dt = pd.to_datetime(pandas_row[time_var])\n",
    "    minute = var_dt.dt.minute*60\n",
    "    second = var_dt.dt.second\n",
    "    frac_second = var_dt.dt.microsecond/(10**6)\n",
    "    total_seconds = minute+second+frac_second\n",
    "    milliseconds = int(total_seconds.values[0]*1000)\n",
    "    return milliseconds"
   ]
  },
  {
   "cell_type": "code",
   "execution_count": 8,
   "id": "70373e22",
   "metadata": {},
   "outputs": [],
   "source": [
    "def get_audio_transcript(df, idx, data_dir='data/', sample_rate=22050):\n",
    "    # Select row by index value\n",
    "    row = df.loc[df.index==idx].copy()\n",
    "    # Get transcription\n",
    "    transcription = row['transcription'].values[0]\n",
    "    # Load audio using row info\n",
    "    file = row['file'].values[0]\n",
    "    zone = row['zone'].values[0]\n",
    "    date = '_'.join([row['year'].astype(str).values[0],\n",
    "                     row['month'].astype(str).str.zfill(2).values[0],\n",
    "                     row['day'].astype(str).str.zfill(2).values[0]])\n",
    "    mp3_file = '-'.join([re.sub(\"[^0-9^.]\", \"\", i) for i in file.split('.')[0].split('-')])+'.mp3'\n",
    "    mp3_path = data_dir+zone+'/'+date+'/'+mp3_file\n",
    "    audio = pydub.AudioSegment.from_mp3(mp3_path)\n",
    "    # Get snippet of audio based on timing\n",
    "    start_ms = max(0,get_milliseconds(row, 'start_dt')-200)\n",
    "    end_ms = min(len(audio),get_milliseconds(row, 'end_dt')+200)\n",
    "    snippet = audio[start_ms:end_ms]\n",
    "    transcription_lower = transcription.lower()\n",
    "    transcription_proper = transcription_lower.split()[0].capitalize()+' '+' '.join(transcription_lower.split()[1:])\n",
    "    return snippet, transcription_proper"
   ]
  },
  {
   "cell_type": "code",
   "execution_count": 10,
   "id": "544bcefb",
   "metadata": {},
   "outputs": [
    {
     "data": {
      "text/plain": [
       "[\"Projective #1: \\n\\nSuspicous person seventy one hundred at mason call says three males in hoodies riding bikes checking car doors one's in gray, either a gray or a white hoodie the other two are in dark hoodiesheaded north bound\\n\",\n",
       " 'Projective #2: \\n\\nFourty ten lawrence at the walgreens gary says he got male black about 35 black t shirt holding items in a bag\\n',\n",
       " 'Projective #3:',\n",
       " '',\n",
       " \"Suspicous person bernice and menard bernice and menard male black red shirt carying a white shopping bag been walking around in circles for over thirty minutes talking to themselves and yelling not sure what's wrong with them.\",\n",
       " \"Guy is saying now the male black in the red t-shirt carying the bag is probably drunk talking to himself but he's getting on the neighbor's porch at fifty eight oh two on byron now\",\n",
       " '\\n',\n",
       " 'Projective #4:',\n",
       " '',\n",
       " \"Yeah i've got a request for a supervisor for you at fourty four hundred menard regarding twenty four's job ms. portillo says she wants a supervisor because the officers are not search and arresting the people who assualted her and stole her necklace\",\n",
       " \"Uh alright i'll uh meet twenty four somewhere along the way over there\",\n",
       " 'Fourty four hundred north menard scene close at fourty four hundred north menard thirty robert needs one car no emergency',\n",
       " '\\n',\n",
       " 'Projective #5:',\n",
       " '',\n",
       " 'Can we get our half an hour on irving and sawyer please',\n",
       " 'Sure ',\n",
       " '\\n']"
      ]
     },
     "execution_count": 10,
     "metadata": {},
     "output_type": "execute_result"
    }
   ],
   "source": [
    "list_of_idx = [22, 33, [43, 52], [248, 249, 268], [443, 444]]\n",
    "transcripts = []\n",
    "proj_n = 1\n",
    "# Extract projectives based on index\n",
    "for idx in list_of_idx:\n",
    "    if type(idx)==list:\n",
    "        multiple_snippets = pydub.AudioSegment.empty()\n",
    "        multiple_transcripts = ['Projective #'+str(proj_n)+':','']\n",
    "        for i in idx:\n",
    "            # Get audio snippet and its transcription\n",
    "            snippet, transcript = get_audio_transcript(df, i) \n",
    "            # Add the snippet    \n",
    "            multiple_snippets += pydub.AudioSegment.silent(500)\n",
    "            multiple_snippets += snippet\n",
    "            # Add the transcription\n",
    "            multiple_transcripts.append(transcript)\n",
    "        # Save all snippets\n",
    "        multiple_snippets.export('data/ProjectiveNum'+str(proj_n)+'.wav', format='wav')\n",
    "        # Add transcriptions\n",
    "        transcripts += multiple_transcripts\n",
    "        transcripts += ['\\n']\n",
    "        # Iterate projective number\n",
    "        proj_n+=1\n",
    "    else:\n",
    "        # Get audio snippet and its transcription\n",
    "        snippet, transcript = get_audio_transcript(df, idx) \n",
    "        # Save the snippet\n",
    "        snippet.export('data/ProjectiveNum'+str(proj_n)+'.wav', format='wav')\n",
    "        # Add the transcription to list of transcriptions\n",
    "        label = 'Projective #'+str(proj_n)+': \\n\\n'\n",
    "        proj = label + transcript + '\\n'\n",
    "        transcripts.append(proj)\n",
    "        # Iterate projective number\n",
    "        proj_n+=1\n",
    "# Write the list of transcriptions to file\n",
    "with open('data/projectives2021_09_07.txt','w') as f:\n",
    "    for t in transcripts:\n",
    "        f.write(t+'\\n')\n",
    "    f.close()\n",
    "# Print the list of transcriptions to validate process\n",
    "transcripts"
   ]
  },
  {
   "cell_type": "code",
   "execution_count": null,
   "id": "49d90733",
   "metadata": {},
   "outputs": [],
   "source": []
  }
 ],
 "metadata": {
  "kernelspec": {
   "display_name": "Python 3 (ipykernel)",
   "language": "python",
   "name": "python3"
  },
  "language_info": {
   "codemirror_mode": {
    "name": "ipython",
    "version": 3
   },
   "file_extension": ".py",
   "mimetype": "text/x-python",
   "name": "python",
   "nbconvert_exporter": "python",
   "pygments_lexer": "ipython3",
   "version": "3.9.6"
  }
 },
 "nbformat": 4,
 "nbformat_minor": 5
}
