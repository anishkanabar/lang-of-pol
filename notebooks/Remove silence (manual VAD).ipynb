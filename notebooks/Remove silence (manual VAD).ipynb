{
 "cells": [
  {
   "cell_type": "code",
   "execution_count": 1,
   "metadata": {},
   "outputs": [],
   "source": [
    "import pandas as pd\n",
    "import numpy as np\n",
    "import pydub\n",
    "from pydub import AudioSegment\n",
    "from pydub.silence import detect_nonsilent\n",
    "import pickle\n",
    "from multiprocessing import Pool\n",
    "import os\n",
    "from datetime import datetime\n",
    "from collections import namedtuple\n",
    "from itertools import combinations\n",
    "import random\n",
    "\n",
    "Range = namedtuple('Range',['start','end'])\n",
    "os.chdir('/project/graziul/')"
   ]
  },
  {
   "cell_type": "markdown",
   "metadata": {},
   "source": [
    "#### For each file: Use intersection of transcriber utterance timings as threshold to create union of transcriber utterance timings, then use union to clip audio - add silence between, save file, receive test audio corpus with manual VAD feature extraction"
   ]
  },
  {
   "cell_type": "code",
   "execution_count": 2,
   "metadata": {},
   "outputs": [
    {
     "data": {
      "text/html": [
       "<div>\n",
       "<style scoped>\n",
       "    .dataframe tbody tr th:only-of-type {\n",
       "        vertical-align: middle;\n",
       "    }\n",
       "\n",
       "    .dataframe tbody tr th {\n",
       "        vertical-align: top;\n",
       "    }\n",
       "\n",
       "    .dataframe thead th {\n",
       "        text-align: right;\n",
       "    }\n",
       "</style>\n",
       "<table border=\"1\" class=\"dataframe\">\n",
       "  <thead>\n",
       "    <tr style=\"text-align: right;\">\n",
       "      <th></th>\n",
       "      <th>start</th>\n",
       "      <th>end</th>\n",
       "      <th>transcription</th>\n",
       "    </tr>\n",
       "  </thead>\n",
       "  <tbody>\n",
       "    <tr>\n",
       "      <th>0</th>\n",
       "      <td>00.02.21.252</td>\n",
       "      <td>00.02.31.279</td>\n",
       "      <td>RADIOSHOP TESTING ONE TWO THREE FOUR FIVE FIVE...</td>\n",
       "    </tr>\n",
       "    <tr>\n",
       "      <th>1</th>\n",
       "      <td>00.02.38.109</td>\n",
       "      <td>00.02.39.417</td>\n",
       "      <td>ONE TWO ONE TWO</td>\n",
       "    </tr>\n",
       "    <tr>\n",
       "      <th>2</th>\n",
       "      <td>00.02.48.327</td>\n",
       "      <td>00.02.49.235</td>\n",
       "      <td>UNIT COMING IN</td>\n",
       "    </tr>\n",
       "    <tr>\n",
       "      <th>3</th>\n",
       "      <td>00.02.55.330</td>\n",
       "      <td>00.02.57.437</td>\n",
       "      <td>ZONE ONE IS ON CITY [WIDE] FIVE</td>\n",
       "    </tr>\n",
       "    <tr>\n",
       "      <th>4</th>\n",
       "      <td>00.03.04.003</td>\n",
       "      <td>00.03.09.017</td>\n",
       "      <td>OKAY THANKS UH THIS IS THE RADIO SHOP TESTING ...</td>\n",
       "    </tr>\n",
       "  </tbody>\n",
       "</table>\n",
       "</div>"
      ],
      "text/plain": [
       "          start           end  \\\n",
       "0  00.02.21.252  00.02.31.279   \n",
       "1  00.02.38.109  00.02.39.417   \n",
       "2  00.02.48.327  00.02.49.235   \n",
       "3  00.02.55.330  00.02.57.437   \n",
       "4  00.03.04.003  00.03.09.017   \n",
       "\n",
       "                                       transcription  \n",
       "0  RADIOSHOP TESTING ONE TWO THREE FOUR FIVE FIVE...  \n",
       "1                                    ONE TWO ONE TWO  \n",
       "2                                     UNIT COMING IN  \n",
       "3                    ZONE ONE IS ON CITY [WIDE] FIVE  \n",
       "4  OKAY THANKS UH THIS IS THE RADIO SHOP TESTING ...  "
      ]
     },
     "execution_count": 2,
     "metadata": {},
     "output_type": "execute_result"
    }
   ],
   "source": [
    "df_transcripts = pd.read_csv('transcripts/deprecated/transcripts.csv')\n",
    "df_transcripts[['start','end','transcription']].head()"
   ]
  },
  {
   "cell_type": "code",
   "execution_count": 3,
   "metadata": {},
   "outputs": [],
   "source": [
    "df_transcripts[['filename','transcriber']] = df_transcripts['file'].str.split('(\\d*-\\d*-\\d*)',expand=True)[[1,2]]\n",
    "def remove_filetype(x):\n",
    "    y = x.replace('.xlsx','')\n",
    "    y = y.replace('.txt','')\n",
    "    return y\n",
    "df_transcripts['transcriber'] = df_transcripts['transcriber'].apply(lambda x: remove_filetype(x))\n",
    "df_transcripts['transcriber'] = df_transcripts['transcriber'].str.lower().str.strip()\n",
    "df_transcripts = df_transcripts[df_transcripts['transcriber']!='xxx']\n",
    "#df_transcripts[['filename','transcriber']]\n",
    "#df_transcripts['transcriber'].value_counts()"
   ]
  },
  {
   "cell_type": "code",
   "execution_count": 4,
   "metadata": {},
   "outputs": [],
   "source": [
    "df_transcripts['start_dt'] = pd.to_datetime(df_transcripts['start_dt'])\n",
    "df_transcripts['end_dt'] = pd.to_datetime(df_transcripts['end_dt'])"
   ]
  },
  {
   "cell_type": "code",
   "execution_count": 5,
   "metadata": {},
   "outputs": [],
   "source": [
    "def remove_irrelevant(x):\n",
    "    x = str(x)\n",
    "    x = x.replace(\"\\[Uncertain\\]\",\"\")\n",
    "    x = x.replace(\"INAUDIBLE\",\"\")    \n",
    "    x = x.replace(\"<X>\",\"\")\n",
    "    x = ' '.join(x.split())\n",
    "    x = ''.join([i for i in x if i.isalnum() or i==' '])\n",
    "    x = x.strip()\n",
    "    x = x.upper()\n",
    "    return x"
   ]
  },
  {
   "cell_type": "code",
   "execution_count": 6,
   "metadata": {},
   "outputs": [],
   "source": [
    "df_transcripts['start_ts'] = (df_transcripts['start_dt']-np.datetime64('1900-01-01T00:00:00.000000000')).dt.total_seconds()\n",
    "df_transcripts['end_ts'] = (df_transcripts['end_dt']-np.datetime64('1900-01-01T00:00:00.000000000')).dt.total_seconds()"
   ]
  },
  {
   "cell_type": "code",
   "execution_count": 7,
   "metadata": {},
   "outputs": [
    {
     "data": {
      "text/html": [
       "<div>\n",
       "<style scoped>\n",
       "    .dataframe tbody tr th:only-of-type {\n",
       "        vertical-align: middle;\n",
       "    }\n",
       "\n",
       "    .dataframe tbody tr th {\n",
       "        vertical-align: top;\n",
       "    }\n",
       "\n",
       "    .dataframe thead th {\n",
       "        text-align: right;\n",
       "    }\n",
       "</style>\n",
       "<table border=\"1\" class=\"dataframe\">\n",
       "  <thead>\n",
       "    <tr style=\"text-align: right;\">\n",
       "      <th></th>\n",
       "      <th>Range</th>\n",
       "      <th>transcription</th>\n",
       "    </tr>\n",
       "  </thead>\n",
       "  <tbody>\n",
       "    <tr>\n",
       "      <th>0</th>\n",
       "      <td>(141.252, 151.279)</td>\n",
       "      <td>RADIOSHOP TESTING ONE TWO THREE FOUR FIVE FIVE...</td>\n",
       "    </tr>\n",
       "    <tr>\n",
       "      <th>1</th>\n",
       "      <td>(158.109, 159.417)</td>\n",
       "      <td>ONE TWO ONE TWO</td>\n",
       "    </tr>\n",
       "    <tr>\n",
       "      <th>2</th>\n",
       "      <td>(168.327, 169.235)</td>\n",
       "      <td>UNIT COMING IN</td>\n",
       "    </tr>\n",
       "    <tr>\n",
       "      <th>3</th>\n",
       "      <td>(175.33, 177.437)</td>\n",
       "      <td>ZONE ONE IS ON CITY [WIDE] FIVE</td>\n",
       "    </tr>\n",
       "    <tr>\n",
       "      <th>4</th>\n",
       "      <td>(184.00300000000001, 189.01700000000002)</td>\n",
       "      <td>OKAY THANKS UH THIS IS THE RADIO SHOP TESTING ...</td>\n",
       "    </tr>\n",
       "  </tbody>\n",
       "</table>\n",
       "</div>"
      ],
      "text/plain": [
       "                                      Range  \\\n",
       "0                        (141.252, 151.279)   \n",
       "1                        (158.109, 159.417)   \n",
       "2                        (168.327, 169.235)   \n",
       "3                         (175.33, 177.437)   \n",
       "4  (184.00300000000001, 189.01700000000002)   \n",
       "\n",
       "                                       transcription  \n",
       "0  RADIOSHOP TESTING ONE TWO THREE FOUR FIVE FIVE...  \n",
       "1                                    ONE TWO ONE TWO  \n",
       "2                                     UNIT COMING IN  \n",
       "3                    ZONE ONE IS ON CITY [WIDE] FIVE  \n",
       "4  OKAY THANKS UH THIS IS THE RADIO SHOP TESTING ...  "
      ]
     },
     "execution_count": 7,
     "metadata": {},
     "output_type": "execute_result"
    }
   ],
   "source": [
    "df_transcripts['Range'] = df_transcripts[['start_ts','end_ts']].apply(tuple,axis=1)\n",
    "df_transcripts[['Range','transcription']].head()"
   ]
  },
  {
   "cell_type": "code",
   "execution_count": 8,
   "metadata": {},
   "outputs": [],
   "source": [
    "def get_prop_overlap(se1, se2):\n",
    "    s1, e1 = se1\n",
    "    s2, e2 = se2\n",
    "    overlap = max(0,min(e1,e2)-max(s1,s2))\n",
    "    prop_overlap = overlap/max(e1-s1,e2-s2)\n",
    "    return prop_overlap"
   ]
  },
  {
   "cell_type": "code",
   "execution_count": 9,
   "metadata": {},
   "outputs": [],
   "source": [
    "def get_se_voice(filename, df_transcripts):\n",
    "    df = df_transcripts[df_transcripts['filename']==f].copy()\n",
    "    # Extract information so we can reconstruct dir_path\n",
    "    zone = df['zone'].unique()[0]\n",
    "    year = df['year'].astype(str).unique()[0]\n",
    "    month = df['month'].astype(str).apply(lambda x: x.zfill(2)).unique()[0]\n",
    "    day = df['day'].astype(str).apply(lambda x: x.zfill(2)).unique()[0]\n",
    "    date = year+'_'+month+'_'+day\n",
    "    # Create a list to hold the ranges we derive\n",
    "    se_voice_list = []\n",
    "    # Create a list of \"exhausted\" tuples (i.e. do not try to compare to others)\n",
    "    exhausted = []\n",
    "    # Get transcribers\n",
    "    transcribers = df['transcriber'].unique().tolist()\n",
    "    # If only 1 transcription...\n",
    "    # If 2+ transcriptions...\n",
    "    if len(transcribers)>=2:\n",
    "        # Pick 2 transcribers at random to avoid \"issues\"\n",
    "        df_foruse = df[df['transcriber'].isin(random.sample(transcribers,2))].copy()\n",
    "        # Get the ranges\n",
    "        ranges = df_foruse['Range'].values\n",
    "        # Check all permutations\n",
    "        checked_se_tuples = []\n",
    "        # Get target range\n",
    "        for se1 in ranges:\n",
    "            # Collect candidates\n",
    "            candidate_se_list = []\n",
    "            # Get start/end for target range\n",
    "            s1, e1 = se1\n",
    "            # Check overlap with remaining ranges\n",
    "            for se2 in ranges:\n",
    "                se_tuple = set((se1, se2))\n",
    "                # Make sure it's not the target range and we have not checked for overlap of these ranges\n",
    "                if se1!=se2: #) and len([i for i in checked_se_tuples if se_tuple in i])==0:\n",
    "                    #checked_se_tuples.append(se_tuple)\n",
    "                    prop_overlap = get_prop_overlap(se1, se2)\n",
    "                    # If overlap more than 75%\n",
    "                    if prop_overlap > 0.75 and [se2, se1] not in checked_se_tuples:\n",
    "                        checked_se_tuples.append([se1, se2])\n",
    "                        exhausted.append(se2)\n",
    "                        exhausted.append(se1)\n",
    "                        # Get start/end for other range\n",
    "                        s2, e2 = se2\n",
    "                        # Get the minimum start time of both periods \n",
    "                        start_voice = min(s1,s2)\n",
    "                        # Get the maximum end time of both periods\n",
    "                        end_voice = max(e1,e2)\n",
    "                        # Get transcriptions associated with each range\n",
    "                        t1 = df_foruse.loc[df['Range']==se1,'transcription'].apply(remove_irrelevant).values[0]\n",
    "                        t2 = df_foruse.loc[df['Range']==se2,'transcription'].apply(remove_irrelevant).values[0]\n",
    "                        # Add to candidate list\n",
    "                        candidate_se_list.append([zone, date, f+'.mp3', start_voice, end_voice, t1==t2, t1, t2])\n",
    "            if len(candidate_se_list)>0:\n",
    "                se_voice_list.append(candidate_se_list[0])\n",
    "    return se_voice_list"
   ]
  },
  {
   "cell_type": "code",
   "execution_count": 10,
   "metadata": {},
   "outputs": [
    {
     "data": {
      "text/plain": [
       "'\\n        # If only one overlapping range is found then add it to the list of voice activity for the file\\n        if len(candidate_se_list)==1:\\n            se_voice_list.append(candidate_se_list[0])\\n        # If more than one overlapping range...\\n        if len(candidate_se_list)>1:\\n            # Add the first overlapping range (NOTE: THIS IS NOT IDEAL)\\n            se_voice_list.append(candidate_se_list[0])\\n'"
      ]
     },
     "execution_count": 10,
     "metadata": {},
     "output_type": "execute_result"
    }
   ],
   "source": [
    "'''\n",
    "        # If only one overlapping range is found then add it to the list of voice activity for the file\n",
    "        if len(candidate_se_list)==1:\n",
    "            se_voice_list.append(candidate_se_list[0])\n",
    "        # If more than one overlapping range...\n",
    "        if len(candidate_se_list)>1:\n",
    "            # Add the first overlapping range (NOTE: THIS IS NOT IDEAL)\n",
    "            se_voice_list.append(candidate_se_list[0])\n",
    "'''\n"
   ]
  },
  {
   "cell_type": "code",
   "execution_count": 11,
   "metadata": {},
   "outputs": [
    {
     "name": "stdout",
     "output_type": "stream",
     "text": [
      "CPU times: user 14 s, sys: 22.1 ms, total: 14.1 s\n",
      "Wall time: 14.1 s\n"
     ]
    }
   ],
   "source": [
    "%%time\n",
    "voice_list = []\n",
    "for f in df_transcripts['filename'].unique():\n",
    "    voice_list += get_se_voice(f,df_transcripts)"
   ]
  },
  {
   "cell_type": "code",
   "execution_count": 23,
   "metadata": {
    "scrolled": true
   },
   "outputs": [
    {
     "data": {
      "text/html": [
       "<div>\n",
       "<style scoped>\n",
       "    .dataframe tbody tr th:only-of-type {\n",
       "        vertical-align: middle;\n",
       "    }\n",
       "\n",
       "    .dataframe tbody tr th {\n",
       "        vertical-align: top;\n",
       "    }\n",
       "\n",
       "    .dataframe thead th {\n",
       "        text-align: right;\n",
       "    }\n",
       "</style>\n",
       "<table border=\"1\" class=\"dataframe\">\n",
       "  <thead>\n",
       "    <tr style=\"text-align: right;\">\n",
       "      <th></th>\n",
       "      <th>start_voice</th>\n",
       "      <th>end_voice</th>\n",
       "      <th>transcripts_agree</th>\n",
       "    </tr>\n",
       "  </thead>\n",
       "  <tbody>\n",
       "    <tr>\n",
       "      <th>2541</th>\n",
       "      <td>40.044</td>\n",
       "      <td>45.552</td>\n",
       "      <td>True</td>\n",
       "    </tr>\n",
       "    <tr>\n",
       "      <th>2542</th>\n",
       "      <td>71.000</td>\n",
       "      <td>72.786</td>\n",
       "      <td>True</td>\n",
       "    </tr>\n",
       "    <tr>\n",
       "      <th>2543</th>\n",
       "      <td>75.826</td>\n",
       "      <td>81.023</td>\n",
       "      <td>True</td>\n",
       "    </tr>\n",
       "    <tr>\n",
       "      <th>2544</th>\n",
       "      <td>96.567</td>\n",
       "      <td>100.190</td>\n",
       "      <td>False</td>\n",
       "    </tr>\n",
       "    <tr>\n",
       "      <th>2545</th>\n",
       "      <td>101.429</td>\n",
       "      <td>103.266</td>\n",
       "      <td>True</td>\n",
       "    </tr>\n",
       "  </tbody>\n",
       "</table>\n",
       "</div>"
      ],
      "text/plain": [
       "      start_voice  end_voice  transcripts_agree\n",
       "2541       40.044     45.552               True\n",
       "2542       71.000     72.786               True\n",
       "2543       75.826     81.023               True\n",
       "2544       96.567    100.190              False\n",
       "2545      101.429    103.266               True"
      ]
     },
     "execution_count": 23,
     "metadata": {},
     "output_type": "execute_result"
    }
   ],
   "source": [
    "df_va = pd.DataFrame(voice_list,columns=['zone','date','filename','start_voice','end_voice','transcripts_agree','transcription1','transcription2'])\n",
    "df_va = df_va.drop_duplicates()\n",
    "df_va.sort_values(['zone','date','start_voice'],inplace=True)\n",
    "df_va.to_csv('transcripts/deprecated/df_va.csv')\n",
    "df_va[['start_voice','end_voice','transcripts_agree']].head()"
   ]
  },
  {
   "cell_type": "markdown",
   "metadata": {},
   "source": [
    "### This code for file-by-file removal of silence using manually provided VAD data"
   ]
  },
  {
   "cell_type": "code",
   "execution_count": 14,
   "metadata": {},
   "outputs": [],
   "source": [
    "# Set some defaults \n",
    "silence_buffer = 2500 # ms\n",
    "num_processors = 28"
   ]
  },
  {
   "cell_type": "code",
   "execution_count": 15,
   "metadata": {},
   "outputs": [],
   "source": [
    "def get_all_voice_activity(df_va):\n",
    "    p = Pool(processes = num_processors)\n",
    "    output = p.starmap(extract_voice_activity,[(file,df_va) for file in df_va['filename'].unique()])\n",
    "    p.close()"
   ]
  },
  {
   "cell_type": "code",
   "execution_count": 17,
   "metadata": {},
   "outputs": [],
   "source": [
    "def extract_voice_activity(file, df_va, pad=200):\n",
    "    # Get data associated with file\n",
    "    df_temp = df_va[df_va['filename']==file].copy()\n",
    "    # Get data needed to construct path to file\n",
    "    zone = df_temp['zone'].unique()[0]\n",
    "    date = df_temp['date'].unique()[0]\n",
    "    # Load file\n",
    "    try:\n",
    "        mp3_file_in = 'data/'+zone+'/'+date+'/'+file\n",
    "        pydub_audiosegment = AudioSegment.from_mp3(mp3_file_in)\n",
    "    except:\n",
    "        date_split = date.split('_')\n",
    "        day = int(date_split[2])+1\n",
    "        date = date_split[0]+'_'+date_split[1]+'_'+str(day).zfill(2)\n",
    "        mp3_file_in = 'data/'+zone+'/'+date+'/'+file\n",
    "        pydub_audiosegment = AudioSegment.from_mp3(mp3_file_in)\n",
    "    # Get frame_rate\n",
    "    fr = pydub_audiosegment.frame_rate\n",
    "    # Create silence\n",
    "    silence = AudioSegment.silent(duration = silence_buffer, frame_rate = fr)\n",
    "    # Get (start, end) tuples to extract voice activity\n",
    "    se = df_temp[['start_voice','end_voice']].sort_values('start_voice').values\n",
    "    # Build up list of audio segments with voice activity  \n",
    "    va_slices = []\n",
    "    for s,e in se:\n",
    "        start = max(0,s*1000-pad)\n",
    "        end = min(e*1000+pad,len(pydub_audiosegment))\n",
    "        va_slices.append(pydub_audiosegment[start:end])\n",
    "    combined = silence\n",
    "    for va_slice in va_slices:\n",
    "        combined += va_slice + silence\n",
    "    wav_file_out = 'data/'+zone+'/'+date+'/'+file.split('.')[0]+'va.wav'\n",
    "    combined = combined.set_frame_rate(fr)\n",
    "    combined.export(wav_file_out,format='wav')"
   ]
  },
  {
   "cell_type": "code",
   "execution_count": 18,
   "metadata": {},
   "outputs": [
    {
     "name": "stdout",
     "output_type": "stream",
     "text": [
      "CPU times: user 237 ms, sys: 167 ms, total: 403 ms\n",
      "Wall time: 9.29 s\n"
     ]
    }
   ],
   "source": [
    "%%time\n",
    "get_all_voice_activity(df_va)"
   ]
  },
  {
   "cell_type": "markdown",
   "metadata": {},
   "source": [
    "### This code for creating test files using manually provided VAD data"
   ]
  },
  {
   "cell_type": "code",
   "execution_count": 22,
   "metadata": {},
   "outputs": [
    {
     "data": {
      "text/html": [
       "<div>\n",
       "<style scoped>\n",
       "    .dataframe tbody tr th:only-of-type {\n",
       "        vertical-align: middle;\n",
       "    }\n",
       "\n",
       "    .dataframe tbody tr th {\n",
       "        vertical-align: top;\n",
       "    }\n",
       "\n",
       "    .dataframe thead th {\n",
       "        text-align: right;\n",
       "    }\n",
       "</style>\n",
       "<table border=\"1\" class=\"dataframe\">\n",
       "  <thead>\n",
       "    <tr style=\"text-align: right;\">\n",
       "      <th></th>\n",
       "      <th>start_voice</th>\n",
       "      <th>end_voice</th>\n",
       "      <th>transcripts_agree</th>\n",
       "    </tr>\n",
       "  </thead>\n",
       "  <tbody>\n",
       "    <tr>\n",
       "      <th>0</th>\n",
       "      <td>40.044</td>\n",
       "      <td>45.552</td>\n",
       "      <td>True</td>\n",
       "    </tr>\n",
       "    <tr>\n",
       "      <th>1</th>\n",
       "      <td>71.000</td>\n",
       "      <td>72.786</td>\n",
       "      <td>True</td>\n",
       "    </tr>\n",
       "    <tr>\n",
       "      <th>2</th>\n",
       "      <td>75.826</td>\n",
       "      <td>81.023</td>\n",
       "      <td>True</td>\n",
       "    </tr>\n",
       "    <tr>\n",
       "      <th>3</th>\n",
       "      <td>96.567</td>\n",
       "      <td>100.190</td>\n",
       "      <td>False</td>\n",
       "    </tr>\n",
       "    <tr>\n",
       "      <th>4</th>\n",
       "      <td>101.429</td>\n",
       "      <td>103.266</td>\n",
       "      <td>True</td>\n",
       "    </tr>\n",
       "  </tbody>\n",
       "</table>\n",
       "</div>"
      ],
      "text/plain": [
       "   start_voice  end_voice  transcripts_agree\n",
       "0       40.044     45.552               True\n",
       "1       71.000     72.786               True\n",
       "2       75.826     81.023               True\n",
       "3       96.567    100.190              False\n",
       "4      101.429    103.266               True"
      ]
     },
     "execution_count": 22,
     "metadata": {},
     "output_type": "execute_result"
    }
   ],
   "source": [
    "df_va = pd.read_csv('transcripts/deprecated/df_va.csv')\n",
    "df_va.drop(columns=df_va.columns.values[0],inplace=True)\n",
    "df_va[['start_voice','end_voice','transcripts_agree']].head()"
   ]
  },
  {
   "cell_type": "code",
   "execution_count": null,
   "metadata": {},
   "outputs": [],
   "source": [
    "# Now use these timings to compile sample data for use by potential vendors"
   ]
  },
  {
   "cell_type": "code",
   "execution_count": 24,
   "metadata": {},
   "outputs": [
    {
     "data": {
      "text/plain": [
       "1923"
      ]
     },
     "execution_count": 24,
     "metadata": {},
     "output_type": "execute_result"
    }
   ],
   "source": [
    "# File #1: Both transcribers agree (\"clean\" = easy)\n",
    "df_va1 = df_va[df_va['transcripts_agree']].copy()\n",
    "df_va1 = df_va1.drop_duplicates()\n",
    "df_va1 = df_va1[~df_va1['transcription1'].isna()]\n",
    "len(df_va1)"
   ]
  },
  {
   "cell_type": "code",
   "execution_count": 25,
   "metadata": {},
   "outputs": [
    {
     "name": "stdout",
     "output_type": "stream",
     "text": [
      "File #1 now 0 in length 201808042331-339616-27730.mp3\n",
      "File #1 now 0.2 in length 201808042331-339616-27730.mp3\n",
      "File #1 now 0.3 in length 201808042331-339616-27730.mp3\n",
      "File #1 now 0.4 in length 201808042331-339616-27730.mp3\n",
      "File #1 now 0.5 in length 201808042331-339616-27730.mp3\n",
      "File #1 now 0.5 in length 201808042331-339616-27730.mp3\n",
      "File #1 now 0.7 in length 201808042331-339616-27730.mp3\n",
      "File #1 now 0.7 in length 201808042331-339616-27730.mp3\n",
      "File #1 now 0.8 in length 201808042331-339616-27730.mp3\n",
      "File #1 now 0.9 in length 201808042331-339616-27730.mp3\n",
      "File #1 now 0.9 in length 201808042331-339616-27730.mp3\n",
      "File #1 now 1.0 in length 201808042331-339616-27730.mp3\n",
      "File #1 now 1.1 in length 201808042331-339616-27730.mp3\n",
      "File #1 now 1.2 in length 201808042331-339616-27730.mp3\n",
      "File #1 now 1.3 in length 201808042331-339616-27730.mp3\n",
      "File #1 now 1.3 in length 201808042331-339616-27730.mp3\n",
      "File #1 now 1.5 in length 201808042331-339616-27730.mp3\n",
      "File #1 now 1.6 in length 201808042331-339616-27730.mp3\n",
      "File #1 now 1.7 in length 201808042331-339616-27730.mp3\n",
      "File #1 now 1.7 in length 201808042331-339616-27730.mp3\n",
      "File #1 now 1.8 in length 201808042331-339616-27730.mp3\n",
      "File #1 now 1.9 in length 201808042331-339616-27730.mp3\n",
      "File #1 now 2.0 in length 201808042331-339616-27730.mp3\n",
      "File #1 now 2.0 in length 201808042331-339616-27730.mp3\n",
      "File #1 now 2.1 in length 201808042331-339616-27730.mp3\n",
      "File #1 now 2.2 in length 201808042331-339616-27730.mp3\n",
      "File #1 now 2.2 in length 201808042331-339616-27730.mp3\n",
      "File #1 now 2.3 in length 201808042331-339616-27730.mp3\n",
      "File #1 now 2.4 in length 201808042331-339616-27730.mp3\n",
      "File #1 now 2.5 in length 201808042331-339616-27730.mp3\n",
      "File #1 now 2.5 in length 201808042331-339616-27730.mp3\n",
      "File #1 now 2.6 in length 201808042331-339616-27730.mp3\n",
      "File #1 now 2.7 in length 201808042331-339616-27730.mp3\n",
      "File #1 now 2.8 in length 201808042331-339616-27730.mp3\n",
      "File #1 now 2.8 in length 201808050001-100238-27730.mp3\n",
      "File #1 now 2.9 in length 201808050001-100238-27730.mp3\n",
      "File #1 now 3.0 in length 201808050001-100238-27730.mp3\n",
      "File #1 now 3.1 in length 201808050001-100238-27730.mp3\n",
      "File #1 now 3.1 in length 201808050001-100238-27730.mp3\n",
      "File #1 now 3.2 in length 201808050001-100238-27730.mp3\n",
      "File #1 now 3.3 in length 201808050001-100238-27730.mp3\n",
      "File #1 now 3.3 in length 201808050001-100238-27730.mp3\n",
      "File #1 now 3.4 in length 201808050001-100238-27730.mp3\n",
      "File #1 now 3.5 in length 201808050001-100238-27730.mp3\n",
      "File #1 now 3.6 in length 201808050001-100238-27730.mp3\n",
      "File #1 now 3.6 in length 201808050001-100238-27730.mp3\n",
      "File #1 now 3.7 in length 201808050001-100238-27730.mp3\n",
      "File #1 now 3.7 in length 201808050001-100238-27730.mp3\n",
      "File #1 now 3.8 in length 201808050001-100238-27730.mp3\n",
      "File #1 now 3.9 in length 201808050001-100238-27730.mp3\n",
      "File #1 now 4.0 in length 201808050001-100238-27730.mp3\n",
      "File #1 now 4.1 in length 201808050031-739899-27730.mp3\n",
      "File #1 now 4.2 in length 201808050031-739899-27730.mp3\n",
      "File #1 now 4.2 in length 201808050031-739899-27730.mp3\n",
      "File #1 now 4.3 in length 201808050031-739899-27730.mp3\n",
      "File #1 now 4.4 in length 201808050031-739899-27730.mp3\n",
      "File #1 now 4.4 in length 201808050031-739899-27730.mp3\n",
      "File #1 now 4.5 in length 201808050031-739899-27730.mp3\n",
      "File #1 now 4.6 in length 201808050031-739899-27730.mp3\n",
      "File #1 now 4.6 in length 201808050031-739899-27730.mp3\n",
      "File #1 now 4.7 in length 201808050031-739899-27730.mp3\n",
      "File #1 now 4.8 in length 201808050031-739899-27730.mp3\n",
      "File #1 now 4.8 in length 201808050031-739899-27730.mp3\n",
      "File #1 now 4.9 in length 201808050031-739899-27730.mp3\n",
      "File #1 now 5.0 in length 201808050031-739899-27730.mp3\n",
      "File #1 now 5.1 in length 201808050031-739899-27730.mp3\n",
      "File #1 now 5.1 in length 201808050031-739899-27730.mp3\n",
      "File #1 now 5.2 in length 201808050031-739899-27730.mp3\n",
      "File #1 now 5.4 in length 201808050031-739899-27730.mp3\n",
      "File #1 now 5.4 in length 201808050031-739899-27730.mp3\n",
      "File #1 now 5.5 in length 201808050031-739899-27730.mp3\n",
      "File #1 now 5.6 in length 201808050031-739899-27730.mp3\n",
      "File #1 now 5.7 in length 201808050031-739899-27730.mp3\n",
      "File #1 now 5.7 in length 201808050031-739899-27730.mp3\n",
      "File #1 now 5.9 in length 201808050031-739899-27730.mp3\n",
      "File #1 now 5.9 in length 201808050031-739899-27730.mp3\n",
      "File #1 now 6.0 in length 201808050031-739899-27730.mp3\n",
      "File #1 now 6.1 in length 201808050031-739899-27730.mp3\n",
      "File #1 now 6.2 in length 201808050031-739899-27730.mp3\n",
      "File #1 now 6.2 in length 201808050031-739899-27730.mp3\n",
      "File #1 now 6.3 in length 201808050031-739899-27730.mp3\n",
      "File #1 now 6.4 in length 201808050031-739899-27730.mp3\n",
      "File #1 now 6.4 in length 201808050031-739899-27730.mp3\n",
      "File #1 now 6.5 in length 201808050031-739899-27730.mp3\n",
      "File #1 now 6.6 in length 201808050031-739899-27730.mp3\n",
      "File #1 now 6.6 in length 201808050031-739899-27730.mp3\n",
      "File #1 now 6.7 in length 201808050031-739899-27730.mp3\n",
      "File #1 now 6.8 in length 201808050031-739899-27730.mp3\n",
      "File #1 now 6.9 in length 201808050031-739899-27730.mp3\n",
      "File #1 now 7.0 in length 201808050100-298054-27730.mp3\n",
      "File #1 now 7.0 in length 201808050100-298054-27730.mp3\n",
      "File #1 now 7.1 in length 201808050100-298054-27730.mp3\n",
      "File #1 now 7.2 in length 201808050100-298054-27730.mp3\n",
      "File #1 now 7.3 in length 201808050100-298054-27730.mp3\n",
      "File #1 now 7.3 in length 201808050100-298054-27730.mp3\n",
      "File #1 now 7.4 in length 201808050100-298054-27730.mp3\n",
      "File #1 now 7.5 in length 201808050100-298054-27730.mp3\n",
      "File #1 now 7.6 in length 201808050100-298054-27730.mp3\n",
      "File #1 now 7.7 in length 201808050100-298054-27730.mp3\n",
      "File #1 now 7.7 in length 201808050100-298054-27730.mp3\n",
      "File #1 now 7.8 in length 201808050100-298054-27730.mp3\n",
      "File #1 now 7.9 in length 201808050100-298054-27730.mp3\n",
      "File #1 now 7.9 in length 201808050100-298054-27730.mp3\n",
      "File #1 now 8.0 in length 201808050100-298054-27730.mp3\n",
      "File #1 now 8.1 in length 201808050100-298054-27730.mp3\n",
      "File #1 now 8.2 in length 201808050100-298054-27730.mp3\n",
      "File #1 now 8.2 in length 201808050100-298054-27730.mp3\n",
      "File #1 now 8.3 in length 201808050100-298054-27730.mp3\n",
      "File #1 now 8.4 in length 201808050100-298054-27730.mp3\n",
      "File #1 now 8.5 in length 201808050100-298054-27730.mp3\n",
      "File #1 now 8.5 in length 201808050100-298054-27730.mp3\n",
      "File #1 now 8.6 in length 201808050100-298054-27730.mp3\n",
      "File #1 now 8.7 in length 201808050100-298054-27730.mp3\n",
      "File #1 now 8.8 in length 201808050100-298054-27730.mp3\n",
      "File #1 now 9.0 in length 201808050100-298054-27730.mp3\n",
      "File #1 now 9.1 in length 201808050100-298054-27730.mp3\n",
      "File #1 now 9.2 in length 201808050100-298054-27730.mp3\n",
      "File #1 now 9.3 in length 201808050100-298054-27730.mp3\n",
      "File #1 now 9.4 in length 201808050130-950381-27730.mp3\n",
      "File #1 now 9.4 in length 201808050130-950381-27730.mp3\n",
      "File #1 now 9.5 in length 201808050130-950381-27730.mp3\n",
      "File #1 now 9.6 in length 201808050130-950381-27730.mp3\n",
      "File #1 now 9.7 in length 201808050130-950381-27730.mp3\n",
      "File #1 now 9.8 in length 201808050130-950381-27730.mp3\n",
      "File #1 now 9.8 in length 201808050130-950381-27730.mp3\n",
      "File #1 now 9.9 in length 201808050130-950381-27730.mp3\n",
      "File #1 now 10.0 in length 201808050130-950381-27730.mp3\n"
     ]
    },
    {
     "data": {
      "text/plain": [
       "<_io.BufferedRandom name='transcripts/vendors/test1.wav'>"
      ]
     },
     "execution_count": 25,
     "metadata": {},
     "output_type": "execute_result"
    }
   ],
   "source": [
    "df_va1.sort_values(['date','start_voice'],inplace=True)\n",
    "# Exhausted case indices\n",
    "exhausted_cases = []\n",
    "total_length = 0\n",
    "# Create silence\n",
    "silence = AudioSegment.silent(duration = silence_buffer, frame_rate = 22050)\n",
    "combined = silence\n",
    "files = df_va1['filename'].unique().tolist()\n",
    "files.sort()\n",
    "pad = 200\n",
    "for file in files:\n",
    "    if total_length < 10:\n",
    "        # Get data associated with file\n",
    "        df_temp = df_va1[df_va1['filename']==file].copy()\n",
    "        # Get data needed to construct path to file\n",
    "        zone = df_temp['zone'].unique()[0]\n",
    "        date = df_temp['date'].unique()[0]\n",
    "        # Load file\n",
    "        try:\n",
    "            mp3_file_in = 'data/'+zone+'/'+date+'/'+file\n",
    "            pydub_audiosegment = AudioSegment.from_mp3(mp3_file_in)\n",
    "        except:\n",
    "            date_split = date.split('_')\n",
    "            day = int(date_split[2])+1\n",
    "            date = date_split[0]+'_'+date_split[1]+'_'+str(day).zfill(2)\n",
    "            mp3_file_in = 'data/'+zone+'/'+date+'/'+file\n",
    "            pydub_audiosegment = AudioSegment.from_mp3(mp3_file_in)\n",
    "        # Get (start, end) tuples to extract voice activity\n",
    "        se = df_temp[['start_voice','end_voice']].values\n",
    "        # Build up audio segments with voice activity  \n",
    "        for s,e in se:\n",
    "            start = max(0,s*1000-pad)\n",
    "            end = min(e*1000+pad,len(pydub_audiosegment))\n",
    "            va_segment = pydub_audiosegment[start:end]\n",
    "            if len(detect_nonsilent(va_segment))>0:\n",
    "                #print(len(detect_nonsilent(va_segment)),file)\n",
    "                if total_length < 10: # and va_segment not in combined:\n",
    "                    print(\"File #1 now \"+str(round(total_length,1))+\" in length\",file)\n",
    "                    combined += va_segment + silence\n",
    "                    total_length = len(combined)/(1000*60)\n",
    "                    exhausted_cases.append(df_temp[(df_temp['start_voice']==s) & (df_temp['end_voice']==e)].index)\n",
    "        #del df_temp, se\n",
    "wav_file_out = 'transcripts/vendors/test1.wav'\n",
    "combined = combined.set_frame_rate(22050)\n",
    "combined.export(wav_file_out,format='wav')"
   ]
  },
  {
   "cell_type": "code",
   "execution_count": 26,
   "metadata": {},
   "outputs": [
    {
     "data": {
      "text/plain": [
       "(127, 6213, 6086)"
      ]
     },
     "execution_count": 26,
     "metadata": {},
     "output_type": "execute_result"
    }
   ],
   "source": [
    "exhausted_from_test1 = pd.Index([i for s in exhausted_cases for i in s])\n",
    "len(exhausted_cases), len(df_va), len(df_va[~df_va.index.isin(exhausted_from_test1)])"
   ]
  },
  {
   "cell_type": "code",
   "execution_count": 27,
   "metadata": {},
   "outputs": [],
   "source": [
    "df_va[df_va.index.isin(exhausted_from_test1)].to_csv('transcripts/vendors/test1.csv')"
   ]
  },
  {
   "cell_type": "code",
   "execution_count": 28,
   "metadata": {},
   "outputs": [
    {
     "name": "stdout",
     "output_type": "stream",
     "text": [
      "Proportion of samples where transcripts disagree: 0.723629935179729\n",
      "Length of df_va2:  3394\n"
     ]
    }
   ],
   "source": [
    "# File #2: Mix of agree/disagree (\"not clean\" = medium)\n",
    "df_va2 = df_va[(~df_va.index.isin(exhausted_from_test1)) & (df_va.index>max(exhausted_from_test1))].copy()\n",
    "print(\"Proportion of samples where transcripts disagree:\", str(len(df_va2[~df_va2['transcripts_agree']])/len(df_va2)))\n",
    "print(\"Length of df_va2: \",str(len(df_va2)))"
   ]
  },
  {
   "cell_type": "code",
   "execution_count": 29,
   "metadata": {},
   "outputs": [
    {
     "data": {
      "text/html": [
       "<div>\n",
       "<style scoped>\n",
       "    .dataframe tbody tr th:only-of-type {\n",
       "        vertical-align: middle;\n",
       "    }\n",
       "\n",
       "    .dataframe tbody tr th {\n",
       "        vertical-align: top;\n",
       "    }\n",
       "\n",
       "    .dataframe thead th {\n",
       "        text-align: right;\n",
       "    }\n",
       "</style>\n",
       "<table border=\"1\" class=\"dataframe\">\n",
       "  <thead>\n",
       "    <tr style=\"text-align: right;\">\n",
       "      <th></th>\n",
       "      <th>start_voice</th>\n",
       "      <th>end_voice</th>\n",
       "      <th>transcripts_agree</th>\n",
       "    </tr>\n",
       "  </thead>\n",
       "  <tbody>\n",
       "    <tr>\n",
       "      <th>3580</th>\n",
       "      <td>11.313</td>\n",
       "      <td>14.092</td>\n",
       "      <td>True</td>\n",
       "    </tr>\n",
       "    <tr>\n",
       "      <th>3581</th>\n",
       "      <td>14.818</td>\n",
       "      <td>15.653</td>\n",
       "      <td>False</td>\n",
       "    </tr>\n",
       "    <tr>\n",
       "      <th>3582</th>\n",
       "      <td>17.324</td>\n",
       "      <td>33.940</td>\n",
       "      <td>False</td>\n",
       "    </tr>\n",
       "    <tr>\n",
       "      <th>2824</th>\n",
       "      <td>17.495</td>\n",
       "      <td>18.882</td>\n",
       "      <td>False</td>\n",
       "    </tr>\n",
       "    <tr>\n",
       "      <th>2825</th>\n",
       "      <td>20.272</td>\n",
       "      <td>21.545</td>\n",
       "      <td>True</td>\n",
       "    </tr>\n",
       "  </tbody>\n",
       "</table>\n",
       "</div>"
      ],
      "text/plain": [
       "      start_voice  end_voice  transcripts_agree\n",
       "3580       11.313     14.092               True\n",
       "3581       14.818     15.653              False\n",
       "3582       17.324     33.940              False\n",
       "2824       17.495     18.882              False\n",
       "2825       20.272     21.545               True"
      ]
     },
     "execution_count": 29,
     "metadata": {},
     "output_type": "execute_result"
    }
   ],
   "source": [
    "df_va2.sort_values(['date','start_voice'],inplace=True)\n",
    "df_va2[['start_voice','end_voice','transcripts_agree']].head()"
   ]
  },
  {
   "cell_type": "code",
   "execution_count": 30,
   "metadata": {},
   "outputs": [
    {
     "name": "stdout",
     "output_type": "stream",
     "text": [
      "File #2 now 0 in length 201808050100-298054-27730.mp3\n",
      "File #2 now 0.1 in length 201808050100-298054-27730.mp3\n",
      "File #2 now 0.2 in length 201808050200-579833-27730.mp3\n",
      "File #2 now 0.3 in length 201808050200-579833-27730.mp3\n",
      "File #2 now 0.4 in length 201808050200-579833-27730.mp3\n",
      "File #2 now 0.7 in length 201808050200-579833-27730.mp3\n",
      "File #2 now 0.8 in length 201808050200-579833-27730.mp3\n",
      "File #2 now 0.9 in length 201808050200-579833-27730.mp3\n",
      "File #2 now 1.0 in length 201808050200-579833-27730.mp3\n",
      "File #2 now 1.1 in length 201808050200-579833-27730.mp3\n",
      "File #2 now 1.2 in length 201808050200-579833-27730.mp3\n",
      "File #2 now 1.3 in length 201808050200-579833-27730.mp3\n",
      "File #2 now 1.3 in length 201808050200-579833-27730.mp3\n",
      "File #2 now 1.6 in length 201808050200-579833-27730.mp3\n",
      "File #2 now 1.6 in length 201808050200-579833-27730.mp3\n",
      "File #2 now 1.8 in length 201808050200-579833-27730.mp3\n",
      "File #2 now 1.9 in length 201808050200-579833-27730.mp3\n",
      "File #2 now 2.0 in length 201808050200-579833-27730.mp3\n",
      "File #2 now 2.1 in length 201808050200-579833-27730.mp3\n",
      "File #2 now 2.2 in length 201808050200-579833-27730.mp3\n",
      "File #2 now 2.3 in length 201808050200-579833-27730.mp3\n",
      "File #2 now 2.4 in length 201808050200-579833-27730.mp3\n",
      "File #2 now 2.5 in length 201808050200-579833-27730.mp3\n",
      "File #2 now 2.6 in length 201808050200-579833-27730.mp3\n",
      "File #2 now 2.7 in length 201808050200-579833-27730.mp3\n",
      "File #2 now 2.7 in length 201808050200-579833-27730.mp3\n",
      "File #2 now 2.8 in length 201808050200-579833-27730.mp3\n",
      "File #2 now 2.9 in length 201808050200-579833-27730.mp3\n",
      "File #2 now 3.0 in length 201808050200-579833-27730.mp3\n",
      "File #2 now 3.2 in length 201808050200-579833-27730.mp3\n",
      "File #2 now 3.2 in length 201808050200-579833-27730.mp3\n",
      "File #2 now 3.3 in length 201808050200-579833-27730.mp3\n",
      "File #2 now 3.4 in length 201808050200-579833-27730.mp3\n",
      "File #2 now 3.5 in length 201808050200-579833-27730.mp3\n",
      "File #2 now 3.6 in length 201808050200-579833-27730.mp3\n",
      "File #2 now 3.8 in length 201808050200-579833-27730.mp3\n",
      "File #2 now 3.9 in length 201808050200-579833-27730.mp3\n",
      "File #2 now 3.9 in length 201808050200-579833-27730.mp3\n",
      "File #2 now 4.1 in length 201808050200-579833-27730.mp3\n",
      "File #2 now 4.1 in length 201808050200-579833-27730.mp3\n",
      "File #2 now 4.2 in length 201808050200-579833-27730.mp3\n",
      "File #2 now 4.3 in length 201808050200-579833-27730.mp3\n",
      "File #2 now 4.4 in length 201808050200-579833-27730.mp3\n",
      "File #2 now 4.4 in length 201808050200-579833-27730.mp3\n",
      "File #2 now 4.5 in length 201808050200-579833-27730.mp3\n",
      "File #2 now 4.6 in length 201808050200-579833-27730.mp3\n",
      "File #2 now 4.7 in length 201808050200-579833-27730.mp3\n",
      "File #2 now 4.8 in length 201808050200-579833-27730.mp3\n",
      "File #2 now 4.9 in length 201808050200-579833-27730.mp3\n",
      "File #2 now 4.9 in length 201808050200-579833-27730.mp3\n",
      "File #2 now 5.0 in length 201808050200-579833-27730.mp3\n",
      "File #2 now 5.1 in length 201808050200-579833-27730.mp3\n",
      "File #2 now 5.2 in length 201808050200-579833-27730.mp3\n",
      "File #2 now 5.3 in length 201808050200-579833-27730.mp3\n",
      "File #2 now 5.4 in length 201808050200-579833-27730.mp3\n",
      "File #2 now 5.4 in length 201808050200-579833-27730.mp3\n",
      "File #2 now 5.5 in length 201808050200-579833-27730.mp3\n",
      "File #2 now 5.6 in length 201808050200-579833-27730.mp3\n",
      "File #2 now 5.7 in length 201808050200-579833-27730.mp3\n",
      "File #2 now 5.8 in length 201808050200-579833-27730.mp3\n",
      "File #2 now 5.9 in length 201808050200-579833-27730.mp3\n",
      "File #2 now 6.0 in length 201808050200-579833-27730.mp3\n",
      "File #2 now 6.0 in length 201808050200-579833-27730.mp3\n",
      "File #2 now 6.2 in length 201808050200-579833-27730.mp3\n",
      "File #2 now 6.3 in length 201808050200-579833-27730.mp3\n",
      "File #2 now 6.4 in length 201808050200-579833-27730.mp3\n",
      "File #2 now 6.4 in length 201808050200-579833-27730.mp3\n",
      "File #2 now 6.6 in length 201808050200-579833-27730.mp3\n",
      "File #2 now 6.6 in length 201808050200-579833-27730.mp3\n",
      "File #2 now 6.7 in length 201808050200-579833-27730.mp3\n",
      "File #2 now 6.9 in length 201808050200-579833-27730.mp3\n",
      "File #2 now 7.0 in length 201808050200-579833-27730.mp3\n",
      "File #2 now 7.0 in length 201808050230-338958-27730.mp3\n",
      "File #2 now 7.1 in length 201808050230-338958-27730.mp3\n",
      "File #2 now 7.2 in length 201808050230-338958-27730.mp3\n",
      "File #2 now 7.3 in length 201808050230-338958-27730.mp3\n",
      "File #2 now 7.4 in length 201808050230-338958-27730.mp3\n",
      "File #2 now 7.4 in length 201808050230-338958-27730.mp3\n",
      "File #2 now 7.5 in length 201808050230-338958-27730.mp3\n",
      "File #2 now 7.6 in length 201808050230-338958-27730.mp3\n",
      "File #2 now 7.6 in length 201808050230-338958-27730.mp3\n",
      "File #2 now 7.7 in length 201808050230-338958-27730.mp3\n",
      "File #2 now 7.8 in length 201808050230-338958-27730.mp3\n",
      "File #2 now 8.0 in length 201808050230-338958-27730.mp3\n",
      "File #2 now 8.1 in length 201808050230-338958-27730.mp3\n",
      "File #2 now 8.2 in length 201808050230-338958-27730.mp3\n",
      "File #2 now 8.3 in length 201808050230-338958-27730.mp3\n",
      "File #2 now 8.5 in length 201808050230-338958-27730.mp3\n",
      "File #2 now 8.6 in length 201808050230-338958-27730.mp3\n",
      "File #2 now 8.7 in length 201808050230-338958-27730.mp3\n",
      "File #2 now 8.8 in length 201808050230-338958-27730.mp3\n",
      "File #2 now 8.9 in length 201808050230-338958-27730.mp3\n",
      "File #2 now 9.0 in length 201808050230-338958-27730.mp3\n",
      "File #2 now 9.1 in length 201808050230-338958-27730.mp3\n",
      "File #2 now 9.1 in length 201808050230-338958-27730.mp3\n",
      "File #2 now 9.3 in length 201808050230-338958-27730.mp3\n",
      "File #2 now 9.3 in length 201808050230-338958-27730.mp3\n",
      "File #2 now 9.4 in length 201808050230-338958-27730.mp3\n",
      "File #2 now 9.6 in length 201808050230-338958-27730.mp3\n",
      "File #2 now 9.7 in length 201808050230-338958-27730.mp3\n",
      "File #2 now 10.0 in length 201808050230-338958-27730.mp3\n"
     ]
    },
    {
     "data": {
      "text/plain": [
       "<_io.BufferedRandom name='transcripts/vendors/test2.wav'>"
      ]
     },
     "execution_count": 30,
     "metadata": {},
     "output_type": "execute_result"
    }
   ],
   "source": [
    "df_va2.sort_values(['date','start_voice'],inplace=True)\n",
    "# Exhausted case indices\n",
    "exhausted_cases = []\n",
    "total_length = 0\n",
    "# Create silence\n",
    "silence = AudioSegment.silent(duration = silence_buffer, frame_rate = 22050)\n",
    "combined = silence\n",
    "files = df_va2['filename'].unique().tolist()\n",
    "files.sort()\n",
    "for file in files:\n",
    "    if total_length < 10:\n",
    "        # Get data associated with file\n",
    "        df_temp = df_va2[df_va2['filename']==file].copy()\n",
    "        # Get data needed to construct path to file\n",
    "        zone = df_temp['zone'].unique()[0]\n",
    "        date = df_temp['date'].unique()[0]\n",
    "        # Load file\n",
    "        try:\n",
    "            mp3_file_in = 'data/'+zone+'/'+date+'/'+file\n",
    "            pydub_audiosegment = AudioSegment.from_mp3(mp3_file_in)\n",
    "        except:\n",
    "            date_split = date.split('_')\n",
    "            day = int(date_split[2])+1\n",
    "            date = date_split[0]+'_'+date_split[1]+'_'+str(day).zfill(2)\n",
    "            mp3_file_in = 'data/'+zone+'/'+date+'/'+file\n",
    "            pydub_audiosegment = AudioSegment.from_mp3(mp3_file_in)\n",
    "        # Get (start, end) tuples to extract voice activity\n",
    "        se = df_temp[['start_voice','end_voice']].values\n",
    "        # Build up audio segments with voice activity  \n",
    "        for s,e in se:\n",
    "            start = max(0,s*1000-pad)\n",
    "            end = min(e*1000+pad,len(pydub_audiosegment))\n",
    "            va_segment = pydub_audiosegment[start:end]\n",
    "            if len(detect_nonsilent(va_segment))>0:\n",
    "                #print(len(detect_nonsilent(va_segment)),file)\n",
    "                if total_length < 10: # and va_segment not in combined:\n",
    "                    print(\"File #2 now \"+str(round(total_length,1))+\" in length\",file)\n",
    "                    combined += va_segment + silence\n",
    "                    total_length = len(combined)/(1000*60)\n",
    "                    exhausted_cases.append(df_temp[(df_temp['start_voice']==s) & (df_temp['end_voice']==e)].index)\n",
    "        #del df_temp, se\n",
    "wav_file_out = 'transcripts/vendors/test2.wav'\n",
    "combined = combined.set_frame_rate(22050)\n",
    "combined.export(wav_file_out,format='wav')"
   ]
  },
  {
   "cell_type": "code",
   "execution_count": 31,
   "metadata": {},
   "outputs": [
    {
     "data": {
      "text/plain": [
       "(127, 101, 6213, 3394, 5985)"
      ]
     },
     "execution_count": 31,
     "metadata": {},
     "output_type": "execute_result"
    }
   ],
   "source": [
    "exhausted_from_test2 = pd.Index([i for s in exhausted_cases for i in s])\n",
    "len(exhausted_from_test1), len(exhausted_from_test2), len(df_va), len(df_va2), len(df_va[~df_va.index.isin(exhausted_from_test1.union(exhausted_from_test2))])"
   ]
  },
  {
   "cell_type": "code",
   "execution_count": 32,
   "metadata": {},
   "outputs": [],
   "source": [
    "df_va[df_va.index.isin(exhausted_from_test2)].to_csv('transcripts/vendors/test2.csv')"
   ]
  },
  {
   "cell_type": "code",
   "execution_count": 33,
   "metadata": {},
   "outputs": [
    {
     "name": "stdout",
     "output_type": "stream",
     "text": [
      "Proportion of samples where transcripts disagree: 1.0\n",
      "Length of df_va3:  2252\n"
     ]
    }
   ],
   "source": [
    "# File #3: Transcribers disagree (\"not clean\" = hard)'\n",
    "df_va3 = df_va[(~df_va['transcripts_agree']) & (df_va.index>max(exhausted_from_test2)-500)].copy()\n",
    "print(\"Proportion of samples where transcripts disagree:\", str(len(df_va3[~df_va3['transcripts_agree']])/len(df_va3)))\n",
    "print(\"Length of df_va3: \",str(len(df_va3)))"
   ]
  },
  {
   "cell_type": "code",
   "execution_count": 35,
   "metadata": {},
   "outputs": [
    {
     "data": {
      "text/html": [
       "<div>\n",
       "<style scoped>\n",
       "    .dataframe tbody tr th:only-of-type {\n",
       "        vertical-align: middle;\n",
       "    }\n",
       "\n",
       "    .dataframe tbody tr th {\n",
       "        vertical-align: top;\n",
       "    }\n",
       "\n",
       "    .dataframe thead th {\n",
       "        text-align: right;\n",
       "    }\n",
       "</style>\n",
       "<table border=\"1\" class=\"dataframe\">\n",
       "  <thead>\n",
       "    <tr style=\"text-align: right;\">\n",
       "      <th></th>\n",
       "      <th>start_voice</th>\n",
       "      <th>end_voice</th>\n",
       "      <th>transcripts_agree</th>\n",
       "    </tr>\n",
       "  </thead>\n",
       "  <tbody>\n",
       "    <tr>\n",
       "      <th>3581</th>\n",
       "      <td>14.818</td>\n",
       "      <td>15.653</td>\n",
       "      <td>False</td>\n",
       "    </tr>\n",
       "    <tr>\n",
       "      <th>3582</th>\n",
       "      <td>17.324</td>\n",
       "      <td>33.940</td>\n",
       "      <td>False</td>\n",
       "    </tr>\n",
       "    <tr>\n",
       "      <th>3583</th>\n",
       "      <td>35.919</td>\n",
       "      <td>38.048</td>\n",
       "      <td>False</td>\n",
       "    </tr>\n",
       "    <tr>\n",
       "      <th>3587</th>\n",
       "      <td>47.255</td>\n",
       "      <td>51.791</td>\n",
       "      <td>False</td>\n",
       "    </tr>\n",
       "    <tr>\n",
       "      <th>3650</th>\n",
       "      <td>83.251</td>\n",
       "      <td>88.501</td>\n",
       "      <td>False</td>\n",
       "    </tr>\n",
       "  </tbody>\n",
       "</table>\n",
       "</div>"
      ],
      "text/plain": [
       "      start_voice  end_voice  transcripts_agree\n",
       "3581       14.818     15.653              False\n",
       "3582       17.324     33.940              False\n",
       "3583       35.919     38.048              False\n",
       "3587       47.255     51.791              False\n",
       "3650       83.251     88.501              False"
      ]
     },
     "execution_count": 35,
     "metadata": {},
     "output_type": "execute_result"
    }
   ],
   "source": [
    "df_va3.sort_values(['date','start_voice'],inplace=True)\n",
    "df_va3[['start_voice','end_voice','transcripts_agree']].head()"
   ]
  },
  {
   "cell_type": "code",
   "execution_count": 36,
   "metadata": {},
   "outputs": [
    {
     "name": "stdout",
     "output_type": "stream",
     "text": [
      "File #3 now 0 in length 201808050200-579833-27730.mp3\n",
      "File #3 now 0.1 in length 201808050200-579833-27730.mp3\n",
      "File #3 now 0.4 in length 201808050200-579833-27730.mp3\n",
      "File #3 now 0.5 in length 201808050200-579833-27730.mp3\n",
      "File #3 now 0.6 in length 201808050200-579833-27730.mp3\n",
      "File #3 now 0.7 in length 201808050200-579833-27730.mp3\n",
      "File #3 now 0.9 in length 201808050200-579833-27730.mp3\n",
      "File #3 now 1.1 in length 201808050200-579833-27730.mp3\n",
      "File #3 now 1.2 in length 201808050200-579833-27730.mp3\n",
      "File #3 now 1.4 in length 201808050200-579833-27730.mp3\n",
      "File #3 now 1.5 in length 201808050200-579833-27730.mp3\n",
      "File #3 now 1.6 in length 201808050200-579833-27730.mp3\n",
      "File #3 now 1.6 in length 201808050200-579833-27730.mp3\n",
      "File #3 now 1.7 in length 201808050200-579833-27730.mp3\n",
      "File #3 now 1.8 in length 201808050200-579833-27730.mp3\n",
      "File #3 now 1.9 in length 201808050200-579833-27730.mp3\n",
      "File #3 now 2.1 in length 201808050200-579833-27730.mp3\n",
      "File #3 now 2.1 in length 201808050200-579833-27730.mp3\n",
      "File #3 now 2.2 in length 201808050200-579833-27730.mp3\n",
      "File #3 now 2.3 in length 201808050200-579833-27730.mp3\n",
      "File #3 now 2.5 in length 201808050200-579833-27730.mp3\n",
      "File #3 now 2.5 in length 201808050200-579833-27730.mp3\n",
      "File #3 now 2.7 in length 201808050200-579833-27730.mp3\n",
      "File #3 now 2.8 in length 201808050200-579833-27730.mp3\n",
      "File #3 now 2.9 in length 201808050200-579833-27730.mp3\n",
      "File #3 now 2.9 in length 201808050200-579833-27730.mp3\n",
      "File #3 now 3.0 in length 201808050200-579833-27730.mp3\n",
      "File #3 now 3.2 in length 201808050200-579833-27730.mp3\n",
      "File #3 now 3.3 in length 201808050200-579833-27730.mp3\n",
      "File #3 now 3.4 in length 201808050200-579833-27730.mp3\n",
      "File #3 now 3.5 in length 201808050200-579833-27730.mp3\n",
      "File #3 now 3.5 in length 201808050200-579833-27730.mp3\n",
      "File #3 now 3.6 in length 201808050200-579833-27730.mp3\n",
      "File #3 now 3.7 in length 201808050200-579833-27730.mp3\n",
      "File #3 now 3.8 in length 201808050200-579833-27730.mp3\n",
      "File #3 now 3.9 in length 201808050200-579833-27730.mp3\n",
      "File #3 now 4.0 in length 201808050200-579833-27730.mp3\n",
      "File #3 now 4.2 in length 201808050200-579833-27730.mp3\n",
      "File #3 now 4.4 in length 201808050200-579833-27730.mp3\n",
      "File #3 now 4.4 in length 201808050230-338958-27730.mp3\n",
      "File #3 now 4.5 in length 201808050230-338958-27730.mp3\n",
      "File #3 now 4.6 in length 201808050230-338958-27730.mp3\n",
      "File #3 now 4.7 in length 201808050230-338958-27730.mp3\n",
      "File #3 now 4.8 in length 201808050230-338958-27730.mp3\n",
      "File #3 now 4.8 in length 201808050230-338958-27730.mp3\n",
      "File #3 now 5.0 in length 201808050230-338958-27730.mp3\n",
      "File #3 now 5.1 in length 201808050230-338958-27730.mp3\n",
      "File #3 now 5.3 in length 201808050230-338958-27730.mp3\n",
      "File #3 now 5.4 in length 201808050230-338958-27730.mp3\n",
      "File #3 now 5.5 in length 201808050230-338958-27730.mp3\n",
      "File #3 now 5.6 in length 201808050230-338958-27730.mp3\n",
      "File #3 now 5.7 in length 201808050230-338958-27730.mp3\n",
      "File #3 now 5.8 in length 201808050230-338958-27730.mp3\n",
      "File #3 now 5.9 in length 201808050230-338958-27730.mp3\n",
      "File #3 now 6.0 in length 201808050230-338958-27730.mp3\n",
      "File #3 now 6.1 in length 201808050230-338958-27730.mp3\n",
      "File #3 now 6.2 in length 201808050230-338958-27730.mp3\n",
      "File #3 now 6.3 in length 201808050230-338958-27730.mp3\n",
      "File #3 now 6.4 in length 201808050230-338958-27730.mp3\n",
      "File #3 now 6.7 in length 201808050230-338958-27730.mp3\n",
      "File #3 now 6.8 in length 201808050230-338958-27730.mp3\n",
      "File #3 now 6.8 in length 201808050230-338958-27730.mp3\n",
      "File #3 now 6.9 in length 201808050230-338958-27730.mp3\n",
      "File #3 now 7.0 in length 201808050230-338958-27730.mp3\n",
      "File #3 now 7.2 in length 201808050230-338958-27730.mp3\n",
      "File #3 now 7.3 in length 201808050230-338958-27730.mp3\n",
      "File #3 now 7.5 in length 201808050230-338958-27730.mp3\n",
      "File #3 now 7.6 in length 201808050230-338958-27730.mp3\n",
      "File #3 now 7.7 in length 201808050230-338958-27730.mp3\n",
      "File #3 now 7.8 in length 201808050230-338958-27730.mp3\n",
      "File #3 now 7.9 in length 201808050230-338958-27730.mp3\n",
      "File #3 now 8.0 in length 201808050230-338958-27730.mp3\n",
      "File #3 now 8.2 in length 201808050230-338958-27730.mp3\n",
      "File #3 now 8.4 in length 201808050230-338958-27730.mp3\n",
      "File #3 now 8.6 in length 201808050230-338958-27730.mp3\n",
      "File #3 now 8.7 in length 201808050230-338958-27730.mp3\n",
      "File #3 now 8.8 in length 201808050658-982393-27730.mp3\n",
      "File #3 now 8.9 in length 201808050658-982393-27730.mp3\n",
      "File #3 now 9.2 in length 201808050658-982393-27730.mp3\n",
      "File #3 now 9.3 in length 201808050658-982393-27730.mp3\n",
      "File #3 now 9.4 in length 201808050658-982393-27730.mp3\n",
      "File #3 now 9.5 in length 201808050658-982393-27730.mp3\n",
      "File #3 now 9.6 in length 201808050658-982393-27730.mp3\n",
      "File #3 now 9.9 in length 201808050658-982393-27730.mp3\n"
     ]
    },
    {
     "data": {
      "text/plain": [
       "<_io.BufferedRandom name='transcripts/vendors/test3.wav'>"
      ]
     },
     "execution_count": 36,
     "metadata": {},
     "output_type": "execute_result"
    }
   ],
   "source": [
    "df_va3.sort_values(['date','start_voice'],inplace=True)\n",
    "# Exhausted case indices\n",
    "exhausted_cases = []\n",
    "total_length = 0\n",
    "# Create silence\n",
    "silence = AudioSegment.silent(duration = silence_buffer, frame_rate = 22050)\n",
    "combined = silence\n",
    "files = df_va3['filename'].unique().tolist()\n",
    "files.sort()\n",
    "for file in files:\n",
    "    if total_length < 10:\n",
    "        # Get data associated with file\n",
    "        df_temp = df_va3[df_va3['filename']==file].copy()\n",
    "        # Get data needed to construct path to file\n",
    "        zone = df_temp['zone'].unique()[0]\n",
    "        date = df_temp['date'].unique()[0]\n",
    "        # Load file\n",
    "        try:\n",
    "            mp3_file_in = 'data/'+zone+'/'+date+'/'+file\n",
    "            pydub_audiosegment = AudioSegment.from_mp3(mp3_file_in)\n",
    "        except:\n",
    "            date_split = date.split('_')\n",
    "            day = int(date_split[2])+1\n",
    "            date = date_split[0]+'_'+date_split[1]+'_'+str(day).zfill(2)\n",
    "            mp3_file_in = 'data/'+zone+'/'+date+'/'+file\n",
    "            pydub_audiosegment = AudioSegment.from_mp3(mp3_file_in)\n",
    "        # Get (start, end) tuples to extract voice activity\n",
    "        se = df_temp[['start_voice','end_voice']].values\n",
    "        # Build up audio segments with voice activity  \n",
    "        for s,e in se:\n",
    "            start = max(0,s*1000-pad)\n",
    "            end = min(e*1000+pad,len(pydub_audiosegment))\n",
    "            va_segment = pydub_audiosegment[start:end]\n",
    "            if len(detect_nonsilent(va_segment))>0:\n",
    "                #print(len(detect_nonsilent(va_segment)),file)\n",
    "                if total_length < 10: # and va_segment not in combined:\n",
    "                    print(\"File #3 now \"+str(round(total_length,1))+\" in length\",file)\n",
    "                    combined += va_segment + silence\n",
    "                    total_length = len(combined)/(1000*60)\n",
    "                    exhausted_cases.append(df_temp[(df_temp['start_voice']==s) & (df_temp['end_voice']==e)].index)\n",
    "        #del df_temp, se\n",
    "wav_file_out = 'transcripts/vendors/test3.wav'\n",
    "combined = combined.set_frame_rate(22050)\n",
    "combined.export(wav_file_out,format='wav')"
   ]
  },
  {
   "cell_type": "code",
   "execution_count": 37,
   "metadata": {},
   "outputs": [],
   "source": [
    "exhausted_from_test3 = pd.Index([i for s in exhausted_cases for i in s])"
   ]
  },
  {
   "cell_type": "code",
   "execution_count": 38,
   "metadata": {},
   "outputs": [],
   "source": [
    "df_va[df_va.index.isin(exhausted_from_test3)].to_csv('transcripts/vendors/test3.csv')"
   ]
  },
  {
   "cell_type": "code",
   "execution_count": null,
   "metadata": {},
   "outputs": [],
   "source": []
  },
  {
   "cell_type": "code",
   "execution_count": null,
   "metadata": {},
   "outputs": [],
   "source": []
  }
 ],
 "metadata": {
  "kernelspec": {
   "display_name": "Python 3 (ipykernel)",
   "language": "python",
   "name": "python3"
  },
  "language_info": {
   "codemirror_mode": {
    "name": "ipython",
    "version": 3
   },
   "file_extension": ".py",
   "mimetype": "text/x-python",
   "name": "python",
   "nbconvert_exporter": "python",
   "pygments_lexer": "ipython3",
   "version": "3.9.6"
  }
 },
 "nbformat": 4,
 "nbformat_minor": 4
}
