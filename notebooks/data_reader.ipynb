{
 "cells": [
  {
   "cell_type": "code",
   "execution_count": 1,
   "id": "e77c9088-3369-4d34-90c2-25ba90400e92",
   "metadata": {},
   "outputs": [],
   "source": [
    "import os, glob\n",
    "import pandas as pd\n",
    "import numpy as np"
   ]
  },
  {
   "cell_type": "code",
   "execution_count": 2,
   "id": "c4c34af9-7d3f-4030-8ebe-2d556942c012",
   "metadata": {},
   "outputs": [],
   "source": [
    "corpus_name = 'atc0'\n",
    "root_path = '/project/graziul/ra/shiyanglai/corpus/'\n",
    "corpus_prefix = '/project/graziul/data/corpora/atc0_comp/'\n",
    "\n",
    "def make_corpus_structure(root_path, corpus_name):\n",
    "    if not os.path.exists(root_path + corpus_name):\n",
    "        os.makedirs(root_path + corpus_name)\n",
    "        # create three subfolders: lists, rttms, uems\n",
    "        if not os.path.exists(root_path + corpus_name + '/lists'):\n",
    "            os.makedirs(root_path + corpus_name + '/lists')\n",
    "        else:\n",
    "            print(f\"Directory '{root_path + corpus_name + '/lists'}' already exist. Please delete it and try again.\")\n",
    "\n",
    "        if not os.path.exists(root_path + corpus_name + '/rttms'):\n",
    "            os.makedirs(root_path + corpus_name + '/rttms')\n",
    "            os.makedirs(root_path + corpus_name + '/rttms/train')\n",
    "            os.makedirs(root_path + corpus_name + '/rttms/dev')\n",
    "            os.makedirs(root_path + corpus_name + '/rttms/test')\n",
    "        else:\n",
    "            print(f\"Directory '{root_path + corpus_name + '/rttms'}' already exist. Please delete it and try again.\")\n",
    "\n",
    "        if not os.path.exists(root_path + corpus_name + '/uems'):\n",
    "            os.makedirs(root_path + corpus_name + '/uems')\n",
    "            os.makedirs(root_path + corpus_name + '/uems/train')\n",
    "            os.makedirs(root_path + corpus_name + '/uems/dev')\n",
    "            os.makedirs(root_path + corpus_name + '/uems/test')\n",
    "        else:\n",
    "            print(f\"Directory '{root_path + corpus_name + '/uems'}' already exist. Please delete it and try again.\")\n",
    "\n",
    "        print('The structure of corpus has been set successfully.')\n",
    "    else:\n",
    "        print(f\"Directory '{root_path + corpus_name}' already exist. Please delete it and try again.\")"
   ]
  },
  {
   "cell_type": "code",
   "execution_count": 4,
   "id": "e3cddf33-b14f-4933-83b2-4e208a13d7ce",
   "metadata": {},
   "outputs": [],
   "source": [
    "# split train, development, test files\n",
    "def split_atc0(train_rate=0.6, dev_rate=0.2):\n",
    "    all_files = glob.glob('/project/graziul/data/corpora/atc0_comp/*/data/audio/*')\n",
    "    all_files = [f for f in all_files if f.endswith('.sph') or f.endswith('.wav')]\n",
    "    # random sampling\n",
    "    train = all_files[:int(len(all_files)*train_rate)]\n",
    "    devlopment = all_files[len(train):len(train)+int(len(all_files)*0.2)]\n",
    "    test = all_files[len(train)+len(devlopment):]\n",
    "    # inform the spliting results\n",
    "    print('Corpus splitting successfully.')\n",
    "    print(f'Training sample: {len(train)}.\\nDevelopment sample: {len(devlopment)}.\\nTesting sample: {len(test)}.')\n",
    "    return train, devlopment, test"
   ]
  },
  {
   "cell_type": "code",
   "execution_count": 5,
   "id": "73874b04-9f50-42ab-8226-f0d854604c8f",
   "metadata": {
    "tags": []
   },
   "outputs": [],
   "source": [
    "# generate lists\n",
    "def generate_list(root_path, train, development, test):\n",
    "    for name, data in zip(['train.txt', 'dev.txt', 'test.txt'], [train, development, test]):\n",
    "        with open(root_path + '/lists/' + name, 'w') as f:\n",
    "            uris = [audio.split('/')[-1].split('.')[0] for audio in data]\n",
    "    print('.lst files are created successfully.')"
   ]
  },
  {
   "cell_type": "code",
   "execution_count": 11,
   "id": "0e7fbc26-ba82-47f2-b8b5-039f27c783ba",
   "metadata": {},
   "outputs": [],
   "source": [
    "# generate rttms\n",
    "def generate_rttms(root_path, train, development, test, reference, prefix_ignore=''):\n",
    "    utt = pd.read_csv(reference)\n",
    "    # train files\n",
    "    for path in train:\n",
    "        uri = path.split('/')[-1].split('.')[0]\n",
    "        sub_df = utt[utt.filePath == path.replace(prefix_ignore, '')]\n",
    "        file = open(root_path+'/rttms/train/'+uri+'.rttm', 'w')\n",
    "        for index, row in sub_df.iterrows():\n",
    "            try:\n",
    "                file.write(f\"SPEAKER {uri} 1 {row['start']} {float(row['end'])-float(row['start'])} <NA> <NA> {row['speaker']} <NA> <NA>\" + \"\\n\")\n",
    "            except BaseException:\n",
    "                print(f\"Incorrect training instance in .csv file row {index}.\")\n",
    "        file.close()\n",
    "    for path in development:\n",
    "        uri = path.split('/')[-1].split('.')[0]\n",
    "        sub_df = utt[utt.filePath == path.replace(prefix_ignore, '')]\n",
    "        file = open(root_path+'/rttms/dev/'+uri+'.rttm', 'w')\n",
    "        for index, row in sub_df.iterrows():\n",
    "            try:\n",
    "                file.write(f\"SPEAKER {uri} 1 {row['start']} {float(row['end'])-float(row['start'])} <NA> <NA> {row['speaker']} <NA> <NA>\" + \"\\n\")\n",
    "            except BaseException:\n",
    "                print(f\"Incorrect development instance in .csv file row {index}.\")\n",
    "        file.close()\n",
    "    for path in test:\n",
    "        uri = path.split('/')[-1].split('.')[0]\n",
    "        sub_df = utt[utt.filePath == path.replace(prefix_ignore, '')]\n",
    "        file = open(root_path+'/rttms/test/'+uri+'.rttm', 'w')\n",
    "        for index, row in sub_df.iterrows():\n",
    "            try:\n",
    "                file.write(f\"SPEAKER {uri} 1 {row['start']} {float(row['end'])-float(row['start'])} <NA> <NA> {row['speaker']} <NA> <NA>\" + \"\\n\")\n",
    "            except BaseException:\n",
    "                print(f\"Incorrect testing instance in .csv file row {index}.\")\n",
    "        file.close()\n",
    "    print(\".rttm files created successfully!\")"
   ]
  },
  {
   "cell_type": "code",
   "execution_count": 21,
   "id": "3171fda2-f669-4ad4-a786-ec2d6c69f92b",
   "metadata": {},
   "outputs": [],
   "source": [
    "# generate uems\n",
    "def generate_uems(root_path, train, development, test, reference, prefix_ignore=''):\n",
    "    utt = pd.read_csv(reference)\n",
    "    # train files\n",
    "    for path in train:\n",
    "        uri = path.split('/')[-1].split('.')[0]\n",
    "        sub_df = utt[utt.filePath == path.replace(prefix_ignore, '')]\n",
    "        file = open(root_path+'/uems/train/'+uri+'.uem', 'w')\n",
    "        file.write(f\"{uri} 1 0.000 {sub_df.tail(1)['end'].values[0]}\")\n",
    "        file.close()\n",
    "    for path in development:\n",
    "        uri = path.split('/')[-1].split('.')[0]\n",
    "        sub_df = utt[utt.filePath == path.replace(prefix_ignore, '')]\n",
    "        file = open(root_path+'/uems/dev/'+uri+'.uem', 'w')\n",
    "        file.write(f\"{uri} 1 0.000 {sub_df.tail(1)['end'].values[0]}\")\n",
    "        file.close()\n",
    "    for path in test:\n",
    "        uri = path.split('/')[-1].split('.')[0]\n",
    "        sub_df = utt[utt.filePath == path.replace(prefix_ignore, '')]\n",
    "        file = open(root_path+'/uems/test/'+uri+'.uem', 'w')\n",
    "        file.write(f\"{uri} 1 0.000 {sub_df.tail(1)['end'].values[0]}\")\n",
    "        file.close()\n",
    "    print(\".uem files created successfully!\")"
   ]
  },
  {
   "cell_type": "code",
   "execution_count": 22,
   "id": "f080ccb5-d893-4f94-9357-59ca83e4876c",
   "metadata": {
    "tags": []
   },
   "outputs": [
    {
     "name": "stdout",
     "output_type": "stream",
     "text": [
      "Corpus splitting successfully.\n",
      "Training sample: 31.\n",
      "Development sample: 10.\n",
      "Testing sample: 11.\n",
      ".lst files are created successfully.\n",
      "Incorrect testing instance in .csv file row 9009.\n",
      ".rttm files created successfully!\n",
      ".uem files created successfully!\n"
     ]
    }
   ],
   "source": [
    "# make_corpus_structure(root_path, corpus_name)\n",
    "train, dev, test = split_atc0()\n",
    "generate_list(root_path=root_path+corpus_name, train=train, development=dev, test=test)\n",
    "generate_rttms(root_path='/project/graziul/ra/shiyanglai/corpus/atc0', train=train, development=dev, test=test,\n",
    "               reference='/project/graziul/data/corpora/atc0_comp/atc0.csv', prefix_ignore=corpus_prefix)\n",
    "generate_uems(root_path='/project/graziul/ra/shiyanglai/corpus/atc0', train=train, development=dev, test=test,\n",
    "             reference='/project/graziul/data/corpora/atc0_comp/atc0.csv', prefix_ignore=corpus_prefix)"
   ]
  },
  {
   "cell_type": "code",
   "execution_count": 17,
   "id": "b7bd696a-13be-471b-8931-a42eab399e30",
   "metadata": {
    "tags": []
   },
   "outputs": [
    {
     "data": {
      "text/plain": [
       "30436    3585.02\n",
       "Name: end, dtype: object"
      ]
     },
     "execution_count": 17,
     "metadata": {},
     "output_type": "execute_result"
    }
   ],
   "source": [
    "pd.read_csv('/project/graziul/data/corpora/atc0_comp/atc0.csv').tail(1)['end']"
   ]
  },
  {
   "cell_type": "code",
   "execution_count": 66,
   "id": "d93359fb-2d74-4594-afeb-9c7c956eb8d6",
   "metadata": {},
   "outputs": [
    {
     "data": {
      "text/plain": [
       "'atc0_bos/data/audio/log_f1_1.sph'"
      ]
     },
     "execution_count": 66,
     "metadata": {},
     "output_type": "execute_result"
    }
   ],
   "source": [
    "data.iloc[0, 11]"
   ]
  },
  {
   "cell_type": "code",
   "execution_count": 73,
   "id": "90fbcb24-61ab-4aa2-bede-544bbc49d7e0",
   "metadata": {},
   "outputs": [
    {
     "data": {
      "text/plain": [
       "<torchaudio.backend.common.AudioMetaData at 0x7f3a70afc460>"
      ]
     },
     "execution_count": 73,
     "metadata": {},
     "output_type": "execute_result"
    }
   ],
   "source": [
    "import torchaudio.backend.soundfile_backend as sb\n",
    "from pathlib import Path\n",
    "filepath = '/project/graziul/data/ProjectiveNum1.wav'\n",
    "sb.info(filepath)\n",
    "sb.info(Path(filepath))   "
   ]
  },
  {
   "cell_type": "code",
   "execution_count": 70,
   "id": "b9e3b07c-0b72-47b9-aaf4-a4f47290ac6f",
   "metadata": {},
   "outputs": [
    {
     "data": {
      "text/plain": [
       "'/project/graziul/data/corpora/atc1_comp/atc0_bos/data/audio/log_f1_1.sph'"
      ]
     },
     "execution_count": 70,
     "metadata": {},
     "output_type": "execute_result"
    }
   ],
   "source": [
    "filepath"
   ]
  },
  {
   "cell_type": "code",
   "execution_count": null,
   "id": "19a1f28a-40a0-44a3-8e21-6e079980d26e",
   "metadata": {},
   "outputs": [],
   "source": []
  }
 ],
 "metadata": {
  "kernelspec": {
   "display_name": "pyannote",
   "language": "python",
   "name": "pyannote"
  },
  "language_info": {
   "codemirror_mode": {
    "name": "ipython",
    "version": 3
   },
   "file_extension": ".py",
   "mimetype": "text/x-python",
   "name": "python",
   "nbconvert_exporter": "python",
   "pygments_lexer": "ipython3",
   "version": "3.8.5"
  }
 },
 "nbformat": 4,
 "nbformat_minor": 5
}
