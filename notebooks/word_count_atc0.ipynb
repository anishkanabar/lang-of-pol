{
 "cells": [
  {
   "cell_type": "code",
   "execution_count": 1,
   "id": "7082567e",
   "metadata": {},
   "outputs": [],
   "source": [
    "import pandas as pd"
   ]
  },
  {
   "cell_type": "code",
   "execution_count": 45,
   "id": "ad467001",
   "metadata": {},
   "outputs": [],
   "source": [
    "df = pd.read_csv('atc0.csv', keep_default_na = False)"
   ]
  },
  {
   "cell_type": "code",
   "execution_count": 56,
   "id": "ff330330",
   "metadata": {},
   "outputs": [],
   "source": [
    "def num_of_words(string):\n",
    "    \n",
    "    #For the sake of getting the word count, ignore unintelligible portions\n",
    "    #because they may contain many words\n",
    "    string = string.replace(\"(UNINTELLIGIBLE)\", \"\")\n",
    "    \n",
    "    word_count = 0\n",
    "    in_word = False\n",
    "    \n",
    "    for i in range(len(string)):\n",
    "        if (string[i] == ' '):\n",
    "            in_word = False\n",
    "        elif (in_word == False):\n",
    "            in_word = True\n",
    "            word_count = word_count + 1\n",
    "        \n",
    "    return word_count"
   ]
  },
  {
   "cell_type": "code",
   "execution_count": 62,
   "id": "777406cb",
   "metadata": {},
   "outputs": [],
   "source": [
    "df['word_count'] = df['transcription'].apply(num_of_words)"
   ]
  },
  {
   "cell_type": "code",
   "execution_count": 117,
   "id": "9be33e23",
   "metadata": {},
   "outputs": [
    {
     "data": {
      "text/plain": [
       "3"
      ]
     },
     "execution_count": 117,
     "metadata": {},
     "output_type": "execute_result"
    }
   ],
   "source": [
    "num_of_words(\"(UNINTELLIGIBLE) one two (UNINTELLIGIBLE) three\")"
   ]
  },
  {
   "cell_type": "code",
   "execution_count": 64,
   "id": "7cca079c",
   "metadata": {},
   "outputs": [],
   "source": [
    "bos_df = df[df['location'] == \"bos\"]\n",
    "dfw_df = df[df['location'] == \"dfw\"]\n",
    "dca_df = df[df['location'] == \"dca\"]"
   ]
  },
  {
   "cell_type": "code",
   "execution_count": 65,
   "id": "76286a1f",
   "metadata": {},
   "outputs": [
    {
     "name": "stdout",
     "output_type": "stream",
     "text": [
      "bos size =  8327\n",
      "dfw size =  12369\n",
      "dca size =  9741\n",
      "comb size =  30437\n",
      "orig file size =  30437\n"
     ]
    }
   ],
   "source": [
    "print(\"bos size = \", len(bos_df))\n",
    "print(\"dfw size = \", len(dfw_df))\n",
    "print(\"dca size = \", len(dca_df))\n",
    "print(\"comb size = \", len(bos_df) + len(dfw_df) + len(dca_df))\n",
    "print(\"orig file size = \", len(df))"
   ]
  },
  {
   "cell_type": "code",
   "execution_count": 81,
   "id": "ff0c8506",
   "metadata": {},
   "outputs": [
    {
     "data": {
      "text/plain": [
       "0     556\n",
       "1     562\n",
       "2     994\n",
       "3     859\n",
       "4     903\n",
       "     ... \n",
       "65      1\n",
       "66      1\n",
       "68      1\n",
       "69      1\n",
       "73      2\n",
       "Name: word_count, Length: 64, dtype: int64"
      ]
     },
     "execution_count": 81,
     "metadata": {},
     "output_type": "execute_result"
    }
   ],
   "source": [
    "comb_word_counts = df['word_count'].value_counts(ascending = True)\n",
    "comb_word_counts = comb_word_counts.sort_index()\n",
    "comb_word_counts"
   ]
  },
  {
   "cell_type": "code",
   "execution_count": 72,
   "id": "0c66f47a",
   "metadata": {},
   "outputs": [
    {
     "data": {
      "text/plain": [
       "0      47\n",
       "1     128\n",
       "2     200\n",
       "3     187\n",
       "4     210\n",
       "5     342\n",
       "6     393\n",
       "7     503\n",
       "8     537\n",
       "9     632\n",
       "10    600\n",
       "11    569\n",
       "12    554\n",
       "13    520\n",
       "14    375\n",
       "15    375\n",
       "16    319\n",
       "17    266\n",
       "18    206\n",
       "19    178\n",
       "20    154\n",
       "21    140\n",
       "22    100\n",
       "23    104\n",
       "24     92\n",
       "25     90\n",
       "26     55\n",
       "27     46\n",
       "28     45\n",
       "29     43\n",
       "30     38\n",
       "31     35\n",
       "32     30\n",
       "33     34\n",
       "34     39\n",
       "35     22\n",
       "36     19\n",
       "37     19\n",
       "38     14\n",
       "39     10\n",
       "40      8\n",
       "41      7\n",
       "42      6\n",
       "43      8\n",
       "44      2\n",
       "45      2\n",
       "46      3\n",
       "47      2\n",
       "48      6\n",
       "49      2\n",
       "50      1\n",
       "51      1\n",
       "53      2\n",
       "55      1\n",
       "56      2\n",
       "57      1\n",
       "62      1\n",
       "66      1\n",
       "69      1\n",
       "Name: word_count, dtype: int64"
      ]
     },
     "execution_count": 72,
     "metadata": {},
     "output_type": "execute_result"
    }
   ],
   "source": [
    "bos_word_counts = bos_df['word_count'].value_counts(ascending = True)\n",
    "bos_word_counts = bos_word_counts.sort_index()\n",
    "bos_word_counts"
   ]
  },
  {
   "cell_type": "code",
   "execution_count": 71,
   "id": "1bbba7a4",
   "metadata": {},
   "outputs": [
    {
     "data": {
      "text/plain": [
       "0     441\n",
       "1     246\n",
       "2     450\n",
       "3     348\n",
       "4     411\n",
       "5     493\n",
       "6     727\n",
       "7     762\n",
       "8     824\n",
       "9     894\n",
       "10    953\n",
       "11    688\n",
       "12    594\n",
       "13    550\n",
       "14    537\n",
       "15    496\n",
       "16    394\n",
       "17    343\n",
       "18    291\n",
       "19    297\n",
       "20    267\n",
       "21    204\n",
       "22    139\n",
       "23    118\n",
       "24    114\n",
       "25     92\n",
       "26    107\n",
       "27     82\n",
       "28     69\n",
       "29     32\n",
       "30     53\n",
       "31     34\n",
       "32     41\n",
       "33     41\n",
       "34     29\n",
       "35     32\n",
       "36     20\n",
       "37     31\n",
       "38     10\n",
       "39     20\n",
       "40     14\n",
       "41     12\n",
       "42     10\n",
       "43      9\n",
       "44      9\n",
       "45      2\n",
       "46      6\n",
       "47      5\n",
       "48      9\n",
       "49      5\n",
       "51      4\n",
       "54      2\n",
       "55      1\n",
       "56      1\n",
       "57      1\n",
       "60      1\n",
       "65      1\n",
       "68      1\n",
       "73      2\n",
       "Name: word_count, dtype: int64"
      ]
     },
     "execution_count": 71,
     "metadata": {},
     "output_type": "execute_result"
    }
   ],
   "source": [
    "dfw_word_counts = dfw_df['word_count'].value_counts(ascending = True)\n",
    "dfw_word_counts = dfw_word_counts.sort_index()\n",
    "dfw_word_counts"
   ]
  },
  {
   "cell_type": "code",
   "execution_count": 70,
   "id": "00ede9a8",
   "metadata": {},
   "outputs": [
    {
     "data": {
      "text/plain": [
       "0      68\n",
       "1     188\n",
       "2     344\n",
       "3     324\n",
       "4     282\n",
       "5     453\n",
       "6     588\n",
       "7     660\n",
       "8     704\n",
       "9     798\n",
       "10    790\n",
       "11    619\n",
       "12    559\n",
       "13    503\n",
       "14    452\n",
       "15    353\n",
       "16    366\n",
       "17    280\n",
       "18    273\n",
       "19    202\n",
       "20    187\n",
       "21    124\n",
       "22     96\n",
       "23     81\n",
       "24     59\n",
       "25     58\n",
       "26     52\n",
       "27     54\n",
       "28     41\n",
       "29     33\n",
       "30     17\n",
       "31     24\n",
       "32     21\n",
       "33     19\n",
       "34     15\n",
       "35      9\n",
       "36      9\n",
       "37      9\n",
       "38      2\n",
       "39      6\n",
       "40      4\n",
       "41      2\n",
       "43      2\n",
       "45      2\n",
       "47      2\n",
       "48      2\n",
       "49      1\n",
       "50      1\n",
       "51      2\n",
       "53      1\n",
       "Name: word_count, dtype: int64"
      ]
     },
     "execution_count": 70,
     "metadata": {},
     "output_type": "execute_result"
    }
   ],
   "source": [
    "dca_word_counts = dca_df['word_count'].value_counts(ascending = True)\n",
    "dca_word_counts = dca_word_counts.sort_index()\n",
    "dca_word_counts"
   ]
  },
  {
   "cell_type": "code",
   "execution_count": 115,
   "id": "724c5ede",
   "metadata": {},
   "outputs": [],
   "source": [
    "wc_df = pd.concat([comb_word_counts, bos_word_counts, dca_word_counts, dfw_word_counts],axis=1)\n",
    "wc_df = wc_df.fillna(0)\n",
    "wc_df.columns = ['all_locs', 'bos', 'dca', 'dfw']\n",
    "wc_df = wc_df.astype({\"all_locs\":'int', \"bos\":'int', \"dca\":'int', \"dfw\":'int'})\n",
    "wc_df.index.names = [\"utterance_word_count_freq\"]\n",
    "wc_df = wc_df.reindex(list(range(74)),fill_value=0)\n",
    "wc_df.to_csv('word_count_freqs.csv')"
   ]
  }
 ],
 "metadata": {
  "kernelspec": {
   "display_name": "Python 3 (ipykernel)",
   "language": "python",
   "name": "python3"
  },
  "language_info": {
   "codemirror_mode": {
    "name": "ipython",
    "version": 3
   },
   "file_extension": ".py",
   "mimetype": "text/x-python",
   "name": "python",
   "nbconvert_exporter": "python",
   "pygments_lexer": "ipython3",
   "version": "3.9.7"
  }
 },
 "nbformat": 4,
 "nbformat_minor": 5
}
