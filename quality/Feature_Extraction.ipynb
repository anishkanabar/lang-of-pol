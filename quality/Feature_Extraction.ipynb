{
 "cells": [
  {
   "cell_type": "code",
   "execution_count": 1,
   "metadata": {},
   "outputs": [],
   "source": [
    "from python_speech_features import mfcc\n",
    "import pandas as pd\n",
    "import numpy as np\n",
    "import pydub\n",
    "import librosa\n",
    "import pickle\n",
    "import re\n",
    "import os\n",
    "import warnings\n",
    "warnings.filterwarnings('ignore')"
   ]
  },
  {
   "cell_type": "markdown",
   "metadata": {},
   "source": [
    "## Helper Functions"
   ]
  },
  {
   "cell_type": "code",
   "execution_count": 2,
   "metadata": {},
   "outputs": [],
   "source": [
    "def Zone(name):\n",
    "    \"\"\"\n",
    "    create a list of [file name, day, and time]\n",
    "    for all files in each zone folder if the file is in 'mp3'\n",
    "    format \n",
    "    \"\"\"\n",
    "    lst = []\n",
    "    for file in name:\n",
    "        if \".mp3\" in file:\n",
    "            lst.append([file, \n",
    "                          int(file[6:8]),\n",
    "                          int(file[8:12].lstrip('0'))]) \n",
    "    return lst"
   ]
  },
  {
   "cell_type": "code",
   "execution_count": 3,
   "metadata": {},
   "outputs": [],
   "source": [
    "def file_name(x, zone):\n",
    "    \"\"\"\n",
    "    return the mp3 file name in each zone folder based on day and time\n",
    "    \"\"\"\n",
    "    for feature in zone:\n",
    "        if (feature[1] == x.day) & (feature[2] == x.time):\n",
    "            return feature[0]"
   ]
  },
  {
   "cell_type": "code",
   "execution_count": 4,
   "metadata": {},
   "outputs": [],
   "source": [
    "def mp3_path(x):\n",
    "    \"\"\"\n",
    "    return the mp3 file name based on zone number \n",
    "    \"\"\"\n",
    "    if x.zone == 'Zone1':\n",
    "        return file_name(x,Zone1)\n",
    "    elif x.zone == 'Zone4':\n",
    "        return file_name(x,Zone4)\n",
    "    elif x.zone == 'Zone8':\n",
    "        return file_name(x,Zone8)\n",
    "    else:\n",
    "        return file_name(x,Zone13)"
   ]
  },
  {
   "cell_type": "code",
   "execution_count": 5,
   "metadata": {},
   "outputs": [],
   "source": [
    "def export(df, name):\n",
    "    output = {}\n",
    "    df['index_'] = df.index\n",
    "    for index, row in df.iterrows():\n",
    "        output[row.index_] = row.wav_rate\n",
    "    \n",
    "    with open(name, \"wb\") as fil:\n",
    "        pickle.dump(output, fil, pickle.HIGHEST_PROTOCOL)"
   ]
  },
  {
   "cell_type": "code",
   "execution_count": 6,
   "metadata": {},
   "outputs": [],
   "source": [
    "def load(name):\n",
    "    file = open(name,'rb')\n",
    "    input_ = pickle.load(file)\n",
    "    file.close()\n",
    "    \n",
    "    zone = {}\n",
    "    for idx,key in enumerate(input_):\n",
    "        zone[key] = input_[key]\n",
    "    \n",
    "    return zone "
   ]
  },
  {
   "cell_type": "code",
   "execution_count": 7,
   "metadata": {},
   "outputs": [],
   "source": [
    "def pydub_to_np(audio):\n",
    "    return np.array(audio.get_array_of_samples(), dtype=np.float64).reshape((-1, audio.channels)).T / (1<<(8*audio.sample_width)), audio.frame_rate"
   ]
  },
  {
   "cell_type": "code",
   "execution_count": 8,
   "metadata": {},
   "outputs": [],
   "source": [
    "def get_mfcc(wav_rate):\n",
    "    \"\"\"\n",
    "    return the mfcc features  \n",
    "    \"\"\"\n",
    "    wav, sample_rate = wav_rate\n",
    "    features = librosa.feature.mfcc(wav, sr=sample_rate,n_mfcc=40)\n",
    "    return features "
   ]
  },
  {
   "cell_type": "markdown",
   "metadata": {},
   "source": [
    "## Categories:\n",
    "#### Highest quality - no X and no []\n",
    "#### High quality - no X but has []\n",
    "#### Medium quality - some Xs but no [ ]\n",
    "#### Low quality - some X and has [ ]\n",
    "#### Lowest Quality => Contains only Xs"
   ]
  },
  {
   "cell_type": "code",
   "execution_count": 11,
   "metadata": {},
   "outputs": [],
   "source": [
    "df = pd.read_csv(\"transcripts_noid2022_02_06.csv\")"
   ]
  },
  {
   "cell_type": "code",
   "execution_count": 12,
   "metadata": {},
   "outputs": [
    {
     "data": {
      "text/plain": [
       "61847"
      ]
     },
     "execution_count": 12,
     "metadata": {},
     "output_type": "execute_result"
    }
   ],
   "source": [
    "len(df)"
   ]
  },
  {
   "cell_type": "code",
   "execution_count": 13,
   "metadata": {},
   "outputs": [
    {
     "data": {
      "text/plain": [
       "array(['Zone1', 'Zone4', 'Zone8', 'Zone13'], dtype=object)"
      ]
     },
     "execution_count": 13,
     "metadata": {},
     "output_type": "execute_result"
    }
   ],
   "source": [
    "df.zone.unique()"
   ]
  },
  {
   "cell_type": "code",
   "execution_count": 14,
   "metadata": {},
   "outputs": [],
   "source": [
    "df['char_len'] = df.transcription.apply(lambda x: len(str(x))) #count the number of words in transcripts "
   ]
  },
  {
   "cell_type": "code",
   "execution_count": 15,
   "metadata": {
    "scrolled": false
   },
   "outputs": [],
   "source": [
    "highest = df[(df.transcription.str.contains(\"<X>\") == False)&(df.transcription.str.contains(r'\\[\\w+\\]') == False)]\n",
    "highest['label'] = 'highest'"
   ]
  },
  {
   "cell_type": "code",
   "execution_count": 16,
   "metadata": {},
   "outputs": [],
   "source": [
    "high = df[(df.transcription.str.contains(\"<X>\") == False)&(df.transcription.str.contains(r'\\[\\w+\\]') == True)]\n",
    "high['label'] = 'high'"
   ]
  },
  {
   "cell_type": "code",
   "execution_count": 17,
   "metadata": {},
   "outputs": [],
   "source": [
    "sub = df[(df.transcription.str.contains(\"<X>\") == True)&(df.transcription.str.contains(r'\\[\\w+\\]') == False)]\n",
    "medium = sub[sub['char_len'] > 5]\n",
    "medium['label'] = 'medium'"
   ]
  },
  {
   "cell_type": "code",
   "execution_count": 18,
   "metadata": {},
   "outputs": [],
   "source": [
    "lowest = sub[sub['char_len'] <= 5]\n",
    "lowest['label'] = 'lowest'"
   ]
  },
  {
   "cell_type": "code",
   "execution_count": 19,
   "metadata": {},
   "outputs": [],
   "source": [
    "low = df[(df.transcription.str.contains(\"<X>\") == True)&(df.transcription.str.contains(r'\\[\\w+\\]') == True)]\n",
    "low['label'] = 'low'"
   ]
  },
  {
   "cell_type": "code",
   "execution_count": 23,
   "metadata": {},
   "outputs": [],
   "source": [
    "#get all the files in each zone folder \n",
    "Zone1_arr = os.listdir(\"Zone1/\")\n",
    "Zone4_arr = os.listdir(\"Zone4/\")\n",
    "Zone8_arr = os.listdir(\"Zone8/\")\n",
    "Zone13_arr = os.listdir(\"Zone13/\")"
   ]
  },
  {
   "cell_type": "code",
   "execution_count": 24,
   "metadata": {},
   "outputs": [],
   "source": [
    "Zone1 = Zone(Zone1_arr)\n",
    "Zone4 = Zone(Zone4_arr)\n",
    "Zone8 = Zone(Zone8_arr)\n",
    "Zone13 = Zone(Zone13_arr)"
   ]
  },
  {
   "cell_type": "markdown",
   "metadata": {},
   "source": [
    "## Create target variables for model training\n",
    "class 1 -> highest quality \n",
    "\n",
    "class 2 -> medium + low + lowest "
   ]
  },
  {
   "cell_type": "markdown",
   "metadata": {},
   "source": [
    "## Class 1"
   ]
  },
  {
   "cell_type": "code",
   "execution_count": 25,
   "metadata": {},
   "outputs": [],
   "source": [
    "highest['mp3'] = None\n",
    "highest['mp3'] = highest.apply(lambda x: mp3_path(x), axis=1)"
   ]
  },
  {
   "cell_type": "code",
   "execution_count": 282,
   "metadata": {},
   "outputs": [],
   "source": [
    "zone1 = highest[highest.zone == 'Zone1']\n",
    "zone1['wav_rate'] = zone1.apply(lambda x: \n",
    "                                pydub_to_np(pydub.AudioSegment.from_mp3('Zone1/' + x.mp3)[(x.start * 1000):(x.end * 1000)]), \n",
    "                                axis = 1)\n",
    "export(zone1, f\"class1_wav_1.pkl\")"
   ]
  },
  {
   "cell_type": "code",
   "execution_count": 281,
   "metadata": {},
   "outputs": [],
   "source": [
    "zone4 = highest[highest.zone == 'Zone4']\n",
    "zone4['wav_rate'] = zone4.apply(lambda x: \n",
    "                                pydub_to_np(pydub.AudioSegment.from_mp3('Zone4/' + x.mp3)[(x.start * 1000):(x.end * 1000)]), \n",
    "                                axis = 1)\n",
    "export(zone4, f\"class1_wav_4.pkl\")"
   ]
  },
  {
   "cell_type": "code",
   "execution_count": 280,
   "metadata": {},
   "outputs": [],
   "source": [
    "zone8 = highest[highest.zone == 'Zone8']\n",
    "zone8['wav_rate'] = zone8.apply(lambda x: \n",
    "                                pydub_to_np(pydub.AudioSegment.from_mp3('Zone8/' + x.mp3)[(x.start * 1000):(x.end * 1000)]), \n",
    "                                axis = 1)\n",
    "export(zone8, f\"class1_wav_8.pkl\")"
   ]
  },
  {
   "cell_type": "code",
   "execution_count": 283,
   "metadata": {},
   "outputs": [],
   "source": [
    "zone13 = highest[highest.zone == 'Zone13']\n",
    "zone13['wav_rate'] = zone13.apply(lambda x: \n",
    "                                pydub_to_np(pydub.AudioSegment.from_mp3('Zone13/' + x.mp3)[(x.start * 1000):(x.end * 1000)]), \n",
    "                                axis = 1)\n",
    "export(zone8, f\"class1_wav_13.pkl\")"
   ]
  },
  {
   "cell_type": "code",
   "execution_count": 22,
   "metadata": {},
   "outputs": [],
   "source": [
    "zone1 = load(\"class1_wav_1.pkl\")\n",
    "zone1 = pd.DataFrame.from_dict(zone1.items())\n",
    "zone1.columns = ['id', 'wav_rate']\n",
    "zone4 = load(\"class1_wav_4.pkl\")\n",
    "zone4 = pd.DataFrame.from_dict(zone4.items())\n",
    "zone4.columns = ['id', 'wav_rate']\n",
    "zone8 = load(\"class1_wav_8.pkl\")\n",
    "zone8 = pd.DataFrame.from_dict(zone8.items())\n",
    "zone8.columns = ['id', 'wav_rate']\n",
    "zone13 = load(\"class1_wav_13.pkl\")\n",
    "zone13 = pd.DataFrame.from_dict(zone13.items())\n",
    "zone13.columns = ['id', 'wav_rate']"
   ]
  },
  {
   "cell_type": "code",
   "execution_count": 6,
   "metadata": {},
   "outputs": [],
   "source": [
    "zone = pd.concat([zone1,zone4,zone8,zone13], axis = 0).reset_index(drop=True)\n",
    "zone['MFCC'] = zone.wav_rate.apply(lambda x: get_mfcc(x))"
   ]
  },
  {
   "cell_type": "code",
   "execution_count": 8,
   "metadata": {},
   "outputs": [],
   "source": [
    "mfcc = {}\n",
    "for index in range(len(zone)):\n",
    "    each = {}\n",
    "    for key,value in enumerate(zone['MFCC'].values[index][0]):\n",
    "        each[key] = value\n",
    "        \n",
    "    mfcc[index] = each \n",
    "\n",
    "#split the 40 mfcc features into 40 columns in dataframe \n",
    "class1 = pd.DataFrame.from_dict(mfcc.values())"
   ]
  },
  {
   "cell_type": "code",
   "execution_count": 10,
   "metadata": {},
   "outputs": [],
   "source": [
    "##create a dataframe (x 120 columns) including metrics like \n",
    "##mean, median, and standard deviation  \n",
    "class1_mean = class1.applymap(np.mean).add_suffix(\"_mean\") \n",
    "class1_median = class1.applymap(np.median).add_suffix(\"_median\")\n",
    "class1_std = class1.applymap(np.std).add_suffix(\"_std\")\n",
    "class1 = pd.concat([class1_mean,class1_median,class1_std], axis = 1)\n",
    "class1['target'] = 0 #1 indicates low quality, 0 indicates high quality  "
   ]
  },
  {
   "cell_type": "markdown",
   "metadata": {},
   "source": [
    "## Class 2"
   ]
  },
  {
   "cell_type": "code",
   "execution_count": 268,
   "metadata": {},
   "outputs": [],
   "source": [
    "subdf = pd.concat([medium,low,lowest]) \n",
    "subdf['mp3'] = None\n",
    "subdf['mp3'] = subdf.apply(lambda x: mp3_path(x), axis=1)"
   ]
  },
  {
   "cell_type": "code",
   "execution_count": 267,
   "metadata": {},
   "outputs": [],
   "source": [
    "#get sound array, sample rate of files in Zone 1 \n",
    "zone1 = subdf[subdf.zone == 'Zone1']\n",
    "zone1['wav_rate'] = zone1.apply(lambda x: \n",
    "                                pydub_to_np(pydub.AudioSegment.from_mp3('Zone1/' + x.mp3)[(x.start * 1000):(x.end * 1000)]), \n",
    "                                axis = 1)\n",
    "export(zone1, f\"class2_wav_1.pkl\")"
   ]
  },
  {
   "cell_type": "code",
   "execution_count": 260,
   "metadata": {},
   "outputs": [],
   "source": [
    "zone4 = subdf[subdf.zone == 'Zone4']\n",
    "zone4['wav_rate'] = zone4.apply(lambda x: \n",
    "                                pydub_to_np(pydub.AudioSegment.from_mp3('Zone4/' + x.mp3)[(x.start * 1000):(x.end * 1000)]), \n",
    "                                axis = 1)\n",
    "export(zone4, f\"class2_wav_4.pkl\")"
   ]
  },
  {
   "cell_type": "code",
   "execution_count": 262,
   "metadata": {},
   "outputs": [],
   "source": [
    "zone8 = subdf[subdf.zone == 'Zone8']\n",
    "zone8['wav_rate'] = zone8.apply(lambda x: \n",
    "                                pydub_to_np(pydub.AudioSegment.from_mp3('Zone8/' + x.mp3)[(x.start * 1000):(x.end * 1000)]), \n",
    "                                axis = 1)\n",
    "export(zone8, f\"class2_wav_8.pkl\")"
   ]
  },
  {
   "cell_type": "code",
   "execution_count": 264,
   "metadata": {},
   "outputs": [],
   "source": [
    "zone13 = subdf[subdf.zone == 'Zone13']\n",
    "zone13['wav_rate'] = zone13.apply(lambda x: \n",
    "                                pydub_to_np(pydub.AudioSegment.from_mp3('Zone13/' + x.mp3)[(x.start * 1000):(x.end * 1000)]), \n",
    "                                axis = 1)\n",
    "export(zone13, f\"class2_wav_13.pkl\")"
   ]
  },
  {
   "cell_type": "code",
   "execution_count": 17,
   "metadata": {},
   "outputs": [],
   "source": [
    "zone1 = load(\"class2_wav_1.pkl\")\n",
    "zone1 = pd.DataFrame.from_dict(zone1.items())\n",
    "zone1.columns = ['id', 'wav_rate']\n",
    "zone4 = load(\"class2_wav_4.pkl\")\n",
    "zone4 = pd.DataFrame.from_dict(zone4.items())\n",
    "zone4.columns = ['id', 'wav_rate']\n",
    "zone8 = load(\"class2_wav_8.pkl\")\n",
    "zone8 = pd.DataFrame.from_dict(zone8.items())\n",
    "zone8.columns = ['id', 'wav_rate']\n",
    "zone13 = load(\"class2_wav_13.pkl\")\n",
    "zone13 = pd.DataFrame.from_dict(zone13.items())\n",
    "zone13.columns = ['id', 'wav_rate']\n",
    "zone = pd.concat([zone1,zone4,zone8,zone13], axis = 0).reset_index(drop=True)\n",
    "zone['MFCC'] = zone.wav_rate.apply(lambda x: get_mfcc(x))"
   ]
  },
  {
   "cell_type": "code",
   "execution_count": 18,
   "metadata": {},
   "outputs": [],
   "source": [
    "mfcc = {}\n",
    "for index in range(len(zone)):\n",
    "    each = {}\n",
    "    for key,value in enumerate(zone['MFCC'].values[index][0]):\n",
    "        each[key] = value\n",
    "        \n",
    "    mfcc[index] = each \n",
    "\n",
    "#split the 40 mfcc features into 40 columns in dataframe \n",
    "class2 = pd.DataFrame.from_dict(mfcc.values()) "
   ]
  },
  {
   "cell_type": "code",
   "execution_count": 20,
   "metadata": {},
   "outputs": [],
   "source": [
    "##create a dataframe (x 120 columns) including metrics like \n",
    "##mean, median, and standard deviation  \n",
    "class2_mean = class2.applymap(np.mean).add_suffix(\"_mean\") \n",
    "class2_median = class2.applymap(np.median).add_suffix(\"_median\")\n",
    "class2_std = class2.applymap(np.std).add_suffix(\"_std\")\n",
    "class2 = pd.concat([class2_mean,class2_median,class2_std], axis = 1)\n",
    "class2['target'] = 1 #1 indicates low quality, 0 indicates high quality "
   ]
  }
 ],
 "metadata": {
  "kernelspec": {
   "display_name": "Python 3 (ipykernel)",
   "language": "python",
   "name": "python3"
  },
  "language_info": {
   "codemirror_mode": {
    "name": "ipython",
    "version": 3
   },
   "file_extension": ".py",
   "mimetype": "text/x-python",
   "name": "python",
   "nbconvert_exporter": "python",
   "pygments_lexer": "ipython3",
   "version": "3.9.6"
  }
 },
 "nbformat": 4,
 "nbformat_minor": 4
}
