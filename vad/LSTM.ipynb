{
 "cells": [
  {
   "cell_type": "code",
   "execution_count": 1,
   "metadata": {},
   "outputs": [
    {
     "data": {
      "text/plain": [
       "<torch._C.Generator at 0x7f6738104ab0>"
      ]
     },
     "execution_count": 1,
     "metadata": {},
     "output_type": "execute_result"
    }
   ],
   "source": [
    "import torch\n",
    "import torch.nn as nn\n",
    "import torch.nn.functional as F\n",
    "import torch.optim as optim\n",
    "import matplotlib.pyplot as plt\n",
    "import torchaudio\n",
    "import torch\n",
    "import numpy as np\n",
    "import pandas as pd\n",
    "import os\n",
    "import pickle\n",
    "import re\n",
    "import torchaudio.transforms as T\n",
    "import math\n",
    "import librosa\n",
    "import librosa.display\n",
    "import matplotlib.patches as patches\n",
    "from glob import glob\n",
    "\n",
    "torch.manual_seed(1)"
   ]
  },
  {
   "cell_type": "code",
   "execution_count": 2,
   "metadata": {},
   "outputs": [],
   "source": [
    "def process_filename(filename):\n",
    "    chars_to_remove = ['_','a','b','c','d','e','f','g','h','i','j','k','l','m','n','o','p','q','r','s','t','u','v','w','x','y','z','.']\n",
    "    my_filename = filename.lower()\n",
    "    for char in chars_to_remove:\n",
    "        my_filename = my_filename.replace(char,\"\")\n",
    "    return my_filename\n",
    "\n",
    "def get_info_from_fname(filename):\n",
    "    year = filename[0:4]\n",
    "    month = filename[4:6]\n",
    "    date = filename[6:8]\n",
    "    sub_file = year + '_' + month + '_' + date\n",
    "    file_loc = sub_file + '/' + filename\n",
    "    return file_loc\n",
    "    \n",
    "def get_whitelisted_filepaths(new_filename_list):\n",
    "    zone_paths = '/project/graziul/data/Zone'\n",
    "    file_list = []\n",
    "    for file in new_filename_list:\n",
    "        for i in range(15):\n",
    "            zone_path = zone_paths + str(i) + '/'\n",
    "            #print(zone_path + file)\n",
    "            my_file = zone_path + get_info_from_fname(file)\n",
    "            if(os.path.exists(my_file)):\n",
    "                file_list.append(my_file)\n",
    "    return file_list\n",
    "\n",
    "def is_in_list(my_list,elt):\n",
    "    for my_elt in my_list:\n",
    "        #print(elt, my_elt)\n",
    "        if elt == my_elt:\n",
    "            return 1\n",
    "    return 0\n",
    "\n",
    "\n",
    "datapath = '/project/graziul/data/whitelisted_vad_files.csv'\n",
    "dataframe = pd.read_csv(datapath, header=None)\n",
    "\n",
    "transcripts_path = '/project/graziul/transcripts/transcripts2021_10_27.csv'\n",
    "transcripts_df = pd.read_csv(transcripts_path)\n",
    "df_groups = transcripts_df.groupby(['zone','day','month','year','file'])\n",
    "clean_transcripts_df_files = [process_filename(transcripts_file) for transcripts_file in list(transcripts_df['file'])]\n",
    "#print(clean_transcripts_df_files)\n",
    "\n",
    "new_filename_list = []\n",
    "chars_to_remove = ['_','a','b','c','d','e','f','g','h','i','j','k','l','m','n','o','p','q','r','s','t','u','v','w','x','y','z','.']\n",
    "for idx,elt in enumerate(list(dataframe[0])):\n",
    "    my_elt = process_filename(elt)\n",
    "    new_filename_list.append(my_elt[:-1] + '.mp3')\n",
    "    #new_filename_list.append(my_elt[:-1])\n",
    "new_filename_list = list(set(new_filename_list))\n",
    "\n",
    "sampling_rate = 22050\n",
    "fname_list = []\n",
    "transcripts_list = []\n",
    "for state,frame in df_groups: \n",
    "    #print(frame)\n",
    "    info_list = list(state)\n",
    "    zone = info_list[0]\n",
    "    day = info_list[1]\n",
    "    month = info_list[2]\n",
    "    year = info_list[3]\n",
    "    if(len(str(day)) > 1):\n",
    "        str_day = str(day)\n",
    "    else:\n",
    "        str_day = '0' + str(day)\n",
    "    date = str(year) + '_0' + str(month) + '_' + str_day\n",
    "    filename = process_filename(info_list[4]) + '.mp3'\n",
    "    fpath = '/project/graziul/data/' + zone + '/' + date + '/' + filename\n",
    "    #print(filename)\n",
    "    if(is_in_list(new_filename_list, filename) == 1):\n",
    "        #print(fpath)\n",
    "        if(os.path.exists(fpath)):\n",
    "            #print(frame)\n",
    "            if(is_in_list(fname_list,fpath) == 0):\n",
    "                start_times = list(frame['start'])\n",
    "                end_times = list(frame['end'])\n",
    "                start_samples = [(int)(sampling_rate*start_time) for start_time in start_times]\n",
    "                end_samples = [(int)(sampling_rate*end_time) for end_time in end_times]\n",
    "                #transcripts = list(zip(start_times,end_times))\n",
    "                transcripts = list(zip(start_samples,end_samples))\n",
    "                transcripts_list.append(transcripts)\n",
    "                fname_list.append(fpath)\n",
    "fname_list = list(set(fname_list))"
   ]
  },
  {
   "cell_type": "code",
   "execution_count": 30,
   "metadata": {
    "collapsed": true
   },
   "outputs": [
    {
     "data": {
      "text/plain": [
       "[(165992, 187028),\n",
       " (219772, 310353),\n",
       " (552925, 582737),\n",
       " (663969, 684432),\n",
       " (704299, 776777),\n",
       " (801914, 817106),\n",
       " (953287, 982525),\n",
       " (1050903, 1077781),\n",
       " (1092401, 1210456),\n",
       " (1285867, 1315084),\n",
       " (1344895, 1355413),\n",
       " (3231030, 3253234),\n",
       " (3295901, 3322802),\n",
       " (3342074, 3402270),\n",
       " (8368063, 8394368),\n",
       " (8459239, 8477365),\n",
       " (8504244, 8571452),\n",
       " (8643930, 8672573),\n",
       " (9898245, 9935641),\n",
       " (9968959, 9979477),\n",
       " (14917199, 14944078),\n",
       " (15138118, 15181976),\n",
       " (15244510, 15270220),\n",
       " (15296526, 15447921),\n",
       " (16754824, 16792221),\n",
       " (16816763, 16848338),\n",
       " (16876981, 17000880),\n",
       " (17033625, 17059908),\n",
       " (17685312, 17737924),\n",
       " (17805132, 17815650),\n",
       " (19625800, 19645668),\n",
       " (19694773, 19718741),\n",
       " (19785950, 19817525),\n",
       " (19857833, 19879464),\n",
       " (21769105, 21807692),\n",
       " (21875474, 21893026),\n",
       " (21915230, 22084728),\n",
       " (22102258, 22112776),\n",
       " (26403485, 26430960),\n",
       " (26487650, 26508686),\n",
       " (26539666, 26641956),\n",
       " (26791587, 26813792),\n",
       " (36363096, 36399324),\n",
       " (36489332, 36510367),\n",
       " (36538437, 36622602),\n",
       " (36682798, 36689810),\n",
       " (38704541, 38729083),\n",
       " (39069248, 39098508),\n",
       " (39129444, 39329350),\n",
       " (39529233, 39587688),\n",
       " (39601711, 39629759),\n",
       " (39657829, 39704575),\n",
       " (39716283, 39739656),\n",
       " (39789908, 39900379),\n",
       " (39925516, 39936033)]"
      ]
     },
     "execution_count": 30,
     "metadata": {},
     "output_type": "execute_result"
    }
   ],
   "source": [
    "transcripts_list[0]"
   ]
  },
  {
   "cell_type": "code",
   "execution_count": 41,
   "metadata": {},
   "outputs": [],
   "source": [
    "new_vad_dict = {}\n",
    "for idx,filename in enumerate(fname_list):\n",
    "    new_vad_dict[filename] = {'nonsilent_slices':transcripts_list[idx]}\n",
    "file = open('/project/graziul/ra/ajays/whitelisted_vad_dict.pkl','wb')\n",
    "pickle.dump(new_vad_dict,file)\n",
    "file.close()"
   ]
  },
  {
   "cell_type": "code",
   "execution_count": 42,
   "metadata": {},
   "outputs": [],
   "source": [
    "pkl_path = '/project/graziul/ra/ajays/whitelisted_vad_dict.pkl' \n",
    "#pkl_path = '/project/graziul/data/Zone1/2018_08_04/2018_08_04vad_dict.pkl'\n",
    "file = open(pkl_path,'rb')\n",
    "vad_dict = pickle.load(file)\n",
    "file.close()"
   ]
  },
  {
   "cell_type": "code",
   "execution_count": 43,
   "metadata": {},
   "outputs": [
    {
     "data": {
      "text/plain": [
       "{'nonsilent_slices': [(165992, 187028),\n",
       "  (219772, 310353),\n",
       "  (552925, 582737),\n",
       "  (663969, 684432),\n",
       "  (704299, 776777),\n",
       "  (801914, 817106),\n",
       "  (953287, 982525),\n",
       "  (1050903, 1077781),\n",
       "  (1092401, 1210456),\n",
       "  (1285867, 1315084),\n",
       "  (1344895, 1355413),\n",
       "  (3231030, 3253234),\n",
       "  (3295901, 3322802),\n",
       "  (3342074, 3402270),\n",
       "  (8368063, 8394368),\n",
       "  (8459239, 8477365),\n",
       "  (8504244, 8571452),\n",
       "  (8643930, 8672573),\n",
       "  (9898245, 9935641),\n",
       "  (9968959, 9979477),\n",
       "  (14917199, 14944078),\n",
       "  (15138118, 15181976),\n",
       "  (15244510, 15270220),\n",
       "  (15296526, 15447921),\n",
       "  (16754824, 16792221),\n",
       "  (16816763, 16848338),\n",
       "  (16876981, 17000880),\n",
       "  (17033625, 17059908),\n",
       "  (17685312, 17737924),\n",
       "  (17805132, 17815650),\n",
       "  (19625800, 19645668),\n",
       "  (19694773, 19718741),\n",
       "  (19785950, 19817525),\n",
       "  (19857833, 19879464),\n",
       "  (21769105, 21807692),\n",
       "  (21875474, 21893026),\n",
       "  (21915230, 22084728),\n",
       "  (22102258, 22112776),\n",
       "  (26403485, 26430960),\n",
       "  (26487650, 26508686),\n",
       "  (26539666, 26641956),\n",
       "  (26791587, 26813792),\n",
       "  (36363096, 36399324),\n",
       "  (36489332, 36510367),\n",
       "  (36538437, 36622602),\n",
       "  (36682798, 36689810),\n",
       "  (38704541, 38729083),\n",
       "  (39069248, 39098508),\n",
       "  (39129444, 39329350),\n",
       "  (39529233, 39587688),\n",
       "  (39601711, 39629759),\n",
       "  (39657829, 39704575),\n",
       "  (39716283, 39739656),\n",
       "  (39789908, 39900379),\n",
       "  (39925516, 39936033)]}"
      ]
     },
     "execution_count": 43,
     "metadata": {},
     "output_type": "execute_result"
    }
   ],
   "source": [
    "test_key = list(vad_dict.keys())[0]\n",
    "vad_dict[test_key]"
   ]
  },
  {
   "cell_type": "code",
   "execution_count": 56,
   "metadata": {},
   "outputs": [
    {
     "data": {
      "text/plain": [
       "39690000"
      ]
     },
     "execution_count": 56,
     "metadata": {},
     "output_type": "execute_result"
    }
   ],
   "source": [
    "t = a.get_mfcc()\n",
    "t.size()"
   ]
  },
  {
   "cell_type": "code",
   "execution_count": 57,
   "metadata": {},
   "outputs": [],
   "source": [
    "def divide_audio(datafile, div_size = 30): #Divide the audio clip into bits of 1 minute each\n",
    "#resizes input arrays from (1,feature_length, time) to (div_size,feature_length,time/div_length)\n",
    "    return np.reshape(datafile,[div_size,datafile.shape[1],datafile.shape[2]//div_size])\n",
    "\n",
    "class audio_file():\n",
    "    def __init__(self, name,new_flag = 1):\n",
    "        self.name = name\n",
    "        self.vad_slices = None\n",
    "        self.frames = None\n",
    "        self.frames_labels = None\n",
    "        self.mfcc = None\n",
    "        self.n_clips = 30\n",
    "        self.flag = new_flag\n",
    "    \n",
    "    def get_slices(self, vad_dict):\n",
    "        if self.flag == 1:\n",
    "            self.vad_slices = vad_dict[self.name]['nonsilent_slices']\n",
    "        else:\n",
    "            self.vad_slices = vad_dict[self.name]['pydub'][-24]['nonsilent_slices']\n",
    "        return self.vad_slices\n",
    "    \n",
    "    def get_frames(self):\n",
    "        ms_2_sample = self.sample_rate/1000\n",
    "        frames_array = np.zeros(self.mfcc.shape[2])\n",
    "        #print(frames_array.shape)\n",
    "        #frames_array = np.zeros(180409)\n",
    "\n",
    "        for v in self.vad_slices:\n",
    "            start = math.floor(v[0]*ms_2_sample)\n",
    "            end = math.ceil(v[1]*ms_2_sample)\n",
    "            #print(v)\n",
    "            for i in range(start,end):\n",
    "                n = math.floor(i/220)\n",
    "                j = i%220\n",
    "                if j <= 110:\n",
    "                    frames_array[n-2] += 1\n",
    "                    frames_array[n-1] += 1\n",
    "                    frames_array[n] += 1\n",
    "                elif j>=111 and j<=220:\n",
    "                    frames_array[n-1] += 1\n",
    "                    frames_array[n] += 1\n",
    "                elif j>=221 and j<=330:\n",
    "                    frames_array[n-1] += 1\n",
    "                    frames_array[n] += 1\n",
    "                    frames_array[n+1] += 1\n",
    "                elif j>=331 and j<=440:\n",
    "                    frames_array[n+1] += 1\n",
    "                    frames_array[n] += 1\n",
    "                elif j>=441:\n",
    "                    frames_array[n+2] += 1\n",
    "                    frames_array[n+1] += 1\n",
    "                    frames_array[n] += 1\n",
    "            \n",
    "        self.frames = frames_array\n",
    "        return self.frames\n",
    "        \n",
    "    def get_split_frames(self):\n",
    "        '''ms_2_sample = self.sample_rate/1000\n",
    "        frame_arr_list = []\n",
    "        for j in range(self.n_clips):\n",
    "            frames_array = np.zeros(self.mfcc.shape[2])\n",
    "            #frames_array = np.zeros(180409)\n",
    "            self.clip_size = self.mfcc.shape[2]\n",
    "            start_idx = j*self.clip_size\n",
    "            end_idx = j*self.clip_size\n",
    "            print(start_idx, end_idx)\n",
    "            for v in self.vad_slices:\n",
    "                start = math.floor(v[0]*ms_2_sample)\n",
    "                end = math.ceil(v[1]*ms_2_sample)\n",
    "                if(start >= start_idx and end <= end_idx):\n",
    "                    for i in range(start,end):\n",
    "                        n = math.floor(i/220)\n",
    "                        j = i%220\n",
    "                        if j <= 110:\n",
    "                            frames_array[n-2] += 1\n",
    "                            frames_array[n-1] += 1\n",
    "                            frames_array[n] += 1\n",
    "                        elif j>=111 and j<=220:\n",
    "                            frames_array[n-1] += 1\n",
    "                            frames_array[n] += 1\n",
    "                        elif j>=221 and j<=330:\n",
    "                            frames_array[n-1] += 1\n",
    "                            frames_array[n] += 1\n",
    "                            frames_array[n+1] += 1\n",
    "                        elif j>=331 and j<=440:\n",
    "                            frames_array[n+1] += 1\n",
    "                            frames_array[n] += 1\n",
    "                        elif j>=441:\n",
    "                            frames_array[n+2] += 1\n",
    "                            frames_array[n+1] += 1\n",
    "                            frames_array[n] += 1\n",
    "            frame_arr_list.append(np.expand_dims(frames_array,axis = 0))        \n",
    "        self.frames = np.concatenate(frame_arr_list,axis = 0)\n",
    "        return self.frames'''\n",
    "        ms_2_sample = self.sample_rate/1000\n",
    "        frames_array = np.zeros(self.mfcc.shape[2]*self.n_clips)\n",
    "        print(frames_array.shape)\n",
    "        #frames_array = np.zeros(180409)\n",
    "\n",
    "        for v in self.vad_slices:\n",
    "            start = math.floor(v[0]*ms_2_sample)\n",
    "            end = math.ceil(v[1]*ms_2_sample)\n",
    "            for i in range(start,end):\n",
    "                n = min(math.floor(i/220),len(frames_array)-1)\n",
    "                j = i%220\n",
    "                if j <= 110:\n",
    "                    frames_array[n-2] += 1\n",
    "                    frames_array[n-1] += 1\n",
    "                    frames_array[n] += 1\n",
    "                elif j>=111 and j<=220:\n",
    "                    frames_array[n-1] += 1\n",
    "                    frames_array[n] += 1\n",
    "                elif j>=221 and j<=330:\n",
    "                    frames_array[n-1] += 1\n",
    "                    frames_array[n] += 1\n",
    "                    frames_array[n+1] += 1\n",
    "                elif j>=331 and j<=440:\n",
    "                    frames_array[n+1] += 1\n",
    "                    frames_array[n] += 1\n",
    "                elif j>=441:\n",
    "                    frames_array[n+2] += 1\n",
    "                    frames_array[n+1] += 1\n",
    "                    frames_array[n] += 1\n",
    "        \n",
    "        self.clip_size = self.mfcc.shape[2]\n",
    "        frame_arr_list = []\n",
    "        for j in range(self.n_clips):\n",
    "            frame_arr_list.append(np.expand_dims(frames_array[j*self.clip_size:(j+1)*self.clip_size],axis=0))\n",
    "        self.frames = np.concatenate(frame_arr_list,axis=0)\n",
    "        return self.frames\n",
    "    \n",
    "        \n",
    "    def get_labels(self): \n",
    "        self.frames_labels = np.zeros(len(self.frames))\n",
    "        self.frames_labels[np.where(self.frames>0)] = 1\n",
    "        return self.frames_labels\n",
    "    \n",
    "    def get_split_labels(self):\n",
    "        self.frames_labels = np.zeros_like(self.frames)\n",
    "        self.frames_labels[np.where(self.frames>0)] = 1\n",
    "        return self.frames_labels\n",
    "        \n",
    "    def get_mfcc(self): \n",
    "        if self.flag == 0:\n",
    "            file_name = '/project/graziul/data/Zone1/2018_08_04/' + self.name\n",
    "        else:\n",
    "            file_name = self.name\n",
    "        self.waveform, self.sample_rate = torchaudio.load(file_name)\n",
    "        self.waveform = self.waveform[:,:1800*self.sample_rate] #Clip the file at 1800s\n",
    "        n_fft = 2048\n",
    "        win_length = 551\n",
    "        hop_length = 220\n",
    "        n_mels = 40\n",
    "        n_mfcc = 40\n",
    "\n",
    "        mfcc_transform = T.MFCC(\n",
    "            sample_rate=self.sample_rate,\n",
    "            n_mfcc=n_mfcc,\n",
    "            melkwargs={\n",
    "              'n_fft': n_fft,\n",
    "              'n_mels': n_mels,\n",
    "              'hop_length': hop_length,\n",
    "              'mel_scale': 'htk',\n",
    "            }\n",
    "        )\n",
    "\n",
    "        self.mfcc = mfcc_transform(self.waveform)\n",
    "        return self.mfcc\n",
    "    \n",
    "    def get_split_mfcc(self):\n",
    "        if self.flag == 1:\n",
    "            file_name = self.name\n",
    "        else:\n",
    "            file_name = '/project/graziul/data/Zone1/2018_08_04/' + self.name\n",
    "        self.waveform, self.sample_rate = torchaudio.load(file_name)\n",
    "        self.waveform = self.waveform[:,:1800*self.sample_rate] #Clip the file at 1800s\n",
    "        clip_size = math.floor(self.waveform.shape[1]/self.n_clips)\n",
    "        n_clips = self.n_clips\n",
    "        mfcc_list = []\n",
    "        n_fft = 2048\n",
    "        win_length = 551\n",
    "        hop_length = 220\n",
    "        n_mels = 40\n",
    "        n_mfcc = 40\n",
    "        mfcc_transform = T.MFCC(\n",
    "                sample_rate=self.sample_rate,\n",
    "                n_mfcc=n_mfcc,\n",
    "                melkwargs={\n",
    "                  'n_fft': n_fft,\n",
    "                  'n_mels': n_mels,\n",
    "                  'hop_length': hop_length,\n",
    "                  'mel_scale': 'htk',\n",
    "                }\n",
    "            )\n",
    "        for i in range(n_clips):\n",
    "            mfcc_list.append(mfcc_transform(self.waveform[:,i*clip_size:(i+1)*clip_size]))\n",
    "        self.mfcc = torch.cat(mfcc_list)\n",
    "        return self.mfcc\n",
    "    \n",
    "    def plot_waveform_with_labels(self,i,clip_size):\n",
    "        plt.figure(figsize=(14,5))\n",
    "        fig,(ax1,ax2) = plt.subplots(2,1)\n",
    "        librosa.display.waveshow(self.waveform.squeeze().numpy()[i*clip_size:(i+1)*clip_size],self.sample_rate,ax = ax1)\n",
    "        ax2.plot(self.frames_labels[i])\n",
    "        plt.show()\n",
    "        return    \n",
    "    \n",
    "    def get_plots(self): \n",
    "        clip_size = math.floor(1800*self.sample_rate/self.n_clips)\n",
    "        for i in range(self.n_clips):\n",
    "            print(i)\n",
    "            self.plot_waveform_with_labels(i,clip_size)\n",
    "        return"
   ]
  },
  {
   "cell_type": "code",
   "execution_count": 58,
   "metadata": {},
   "outputs": [
    {
     "name": "stdout",
     "output_type": "stream",
     "text": [
      "(180420,)\n",
      "0\n"
     ]
    },
    {
     "data": {
      "text/plain": [
       "<Figure size 1008x360 with 0 Axes>"
      ]
     },
     "metadata": {},
     "output_type": "display_data"
    },
    {
     "data": {
      "image/png": "[encoded data removed]",
      "text/plain": [
       "<Figure size 432x288 with 2 Axes>"
      ]
     },
     "metadata": {
      "needs_background": "light"
     },
     "output_type": "display_data"
    },
    {
     "name": "stdout",
     "output_type": "stream",
     "text": [
      "1\n"
     ]
    },
    {
     "data": {
      "text/plain": [
       "<Figure size 1008x360 with 0 Axes>"
      ]
     },
     "metadata": {},
     "output_type": "display_data"
    },
    {
     "data": {
      "image/png": "[encoded data removed]",
      "text/plain": [
       "<Figure size 432x288 with 2 Axes>"
      ]
     },
     "metadata": {
      "needs_background": "light"
     },
     "output_type": "display_data"
    },
    {
     "name": "stdout",
     "output_type": "stream",
     "text": [
      "2\n"
     ]
    },
    {
     "data": {
      "text/plain": [
       "<Figure size 1008x360 with 0 Axes>"
      ]
     },
     "metadata": {},
     "output_type": "display_data"
    },
    {
     "data": {
      "image/png": "[encoded data removed]",
      "text/plain": [
       "<Figure size 432x288 with 2 Axes>"
      ]
     },
     "metadata": {
      "needs_background": "light"
     },
     "output_type": "display_data"
    },
    {
     "name": "stdout",
     "output_type": "stream",
     "text": [
      "3\n"
     ]
    },
    {
     "data": {
      "text/plain": [
       "<Figure size 1008x360 with 0 Axes>"
      ]
     },
     "metadata": {},
     "output_type": "display_data"
    },
    {
     "data": {
      "image/png": "[encoded data removed]",
      "text/plain": [
       "<Figure size 432x288 with 2 Axes>"
      ]
     },
     "metadata": {
      "needs_background": "light"
     },
     "output_type": "display_data"
    },
    {
     "name": "stdout",
     "output_type": "stream",
     "text": [
      "4\n"
     ]
    },
    {
     "data": {
      "text/plain": [
       "<Figure size 1008x360 with 0 Axes>"
      ]
     },
     "metadata": {},
     "output_type": "display_data"
    },
    {
     "data": {
      "image/png": "[encoded data removed]",
      "text/plain": [
       "<Figure size 432x288 with 2 Axes>"
      ]
     },
     "metadata": {
      "needs_background": "light"
     },
     "output_type": "display_data"
    },
    {
     "name": "stdout",
     "output_type": "stream",
     "text": [
      "5\n"
     ]
    },
    {
     "data": {
      "text/plain": [
       "<Figure size 1008x360 with 0 Axes>"
      ]
     },
     "metadata": {},
     "output_type": "display_data"
    },
    {
     "data": {
      "image/png": "[encoded data removed]",
      "text/plain": [
       "<Figure size 432x288 with 2 Axes>"
      ]
     },
     "metadata": {
      "needs_background": "light"
     },
     "output_type": "display_data"
    },
    {
     "name": "stdout",
     "output_type": "stream",
     "text": [
      "6\n"
     ]
    },
    {
     "data": {
      "text/plain": [
       "<Figure size 1008x360 with 0 Axes>"
      ]
     },
     "metadata": {},
     "output_type": "display_data"
    },
    {
     "data": {
      "image/png": "[encoded data removed]",
      "text/plain": [
       "<Figure size 432x288 with 2 Axes>"
      ]
     },
     "metadata": {
      "needs_background": "light"
     },
     "output_type": "display_data"
    },
    {
     "name": "stdout",
     "output_type": "stream",
     "text": [
      "7\n"
     ]
    },
    {
     "data": {
      "text/plain": [
       "<Figure size 1008x360 with 0 Axes>"
      ]
     },
     "metadata": {},
     "output_type": "display_data"
    },
    {
     "data": {
      "image/png": "[encoded data removed]",
      "text/plain": [
       "<Figure size 432x288 with 2 Axes>"
      ]
     },
     "metadata": {
      "needs_background": "light"
     },
     "output_type": "display_data"
    },
    {
     "name": "stdout",
     "output_type": "stream",
     "text": [
      "8\n"
     ]
    },
    {
     "data": {
      "text/plain": [
       "<Figure size 1008x360 with 0 Axes>"
      ]
     },
     "metadata": {},
     "output_type": "display_data"
    },
    {
     "data": {
      "image/png": "[encoded data removed]",
      "text/plain": [
       "<Figure size 432x288 with 2 Axes>"
      ]
     },
     "metadata": {
      "needs_background": "light"
     },
     "output_type": "display_data"
    },
    {
     "name": "stdout",
     "output_type": "stream",
     "text": [
      "9\n"
     ]
    },
    {
     "data": {
      "text/plain": [
       "<Figure size 1008x360 with 0 Axes>"
      ]
     },
     "metadata": {},
     "output_type": "display_data"
    },
    {
     "data": {
      "image/png": "[encoded data removed]",
      "text/plain": [
       "<Figure size 432x288 with 2 Axes>"
      ]
     },
     "metadata": {
      "needs_background": "light"
     },
     "output_type": "display_data"
    },
    {
     "name": "stdout",
     "output_type": "stream",
     "text": [
      "10\n"
     ]
    },
    {
     "data": {
      "text/plain": [
       "<Figure size 1008x360 with 0 Axes>"
      ]
     },
     "metadata": {},
     "output_type": "display_data"
    },
    {
     "data": {
      "image/png": "[encoded data removed]",
      "text/plain": [
       "<Figure size 432x288 with 2 Axes>"
      ]
     },
     "metadata": {
      "needs_background": "light"
     },
     "output_type": "display_data"
    },
    {
     "name": "stdout",
     "output_type": "stream",
     "text": [
      "11\n"
     ]
    },
    {
     "data": {
      "text/plain": [
       "<Figure size 1008x360 with 0 Axes>"
      ]
     },
     "metadata": {},
     "output_type": "display_data"
    },
    {
     "data": {
      "image/png": "[encoded data removed]",
      "text/plain": [
       "<Figure size 432x288 with 2 Axes>"
      ]
     },
     "metadata": {
      "needs_background": "light"
     },
     "output_type": "display_data"
    },
    {
     "name": "stdout",
     "output_type": "stream",
     "text": [
      "12\n"
     ]
    },
    {
     "data": {
      "text/plain": [
       "<Figure size 1008x360 with 0 Axes>"
      ]
     },
     "metadata": {},
     "output_type": "display_data"
    },
    {
     "data": {
      "image/png": "[encoded data removed]",
      "text/plain": [
       "<Figure size 432x288 with 2 Axes>"
      ]
     },
     "metadata": {
      "needs_background": "light"
     },
     "output_type": "display_data"
    },
    {
     "name": "stdout",
     "output_type": "stream",
     "text": [
      "13\n"
     ]
    },
    {
     "data": {
      "text/plain": [
       "<Figure size 1008x360 with 0 Axes>"
      ]
     },
     "metadata": {},
     "output_type": "display_data"
    },
    {
     "data": {
      "image/png": "[encoded data removed]",
      "text/plain": [
       "<Figure size 432x288 with 2 Axes>"
      ]
     },
     "metadata": {
      "needs_background": "light"
     },
     "output_type": "display_data"
    },
    {
     "name": "stdout",
     "output_type": "stream",
     "text": [
      "14\n"
     ]
    },
    {
     "data": {
      "text/plain": [
       "<Figure size 1008x360 with 0 Axes>"
      ]
     },
     "metadata": {},
     "output_type": "display_data"
    },
    {
     "data": {
      "image/png": "[encoded data removed]",
      "text/plain": [
       "<Figure size 432x288 with 2 Axes>"
      ]
     },
     "metadata": {
      "needs_background": "light"
     },
     "output_type": "display_data"
    },
    {
     "name": "stdout",
     "output_type": "stream",
     "text": [
      "15\n"
     ]
    },
    {
     "data": {
      "text/plain": [
       "<Figure size 1008x360 with 0 Axes>"
      ]
     },
     "metadata": {},
     "output_type": "display_data"
    },
    {
     "data": {
      "image/png": "[encoded data removed]",
      "text/plain": [
       "<Figure size 432x288 with 2 Axes>"
      ]
     },
     "metadata": {
      "needs_background": "light"
     },
     "output_type": "display_data"
    },
    {
     "name": "stdout",
     "output_type": "stream",
     "text": [
      "16\n"
     ]
    },
    {
     "data": {
      "text/plain": [
       "<Figure size 1008x360 with 0 Axes>"
      ]
     },
     "metadata": {},
     "output_type": "display_data"
    },
    {
     "data": {
      "image/png": "[encoded data removed]",
      "text/plain": [
       "<Figure size 432x288 with 2 Axes>"
      ]
     },
     "metadata": {
      "needs_background": "light"
     },
     "output_type": "display_data"
    },
    {
     "name": "stdout",
     "output_type": "stream",
     "text": [
      "17\n"
     ]
    },
    {
     "data": {
      "text/plain": [
       "<Figure size 1008x360 with 0 Axes>"
      ]
     },
     "metadata": {},
     "output_type": "display_data"
    },
    {
     "data": {
      "image/png": "[encoded data removed]",
      "text/plain": [
       "<Figure size 432x288 with 2 Axes>"
      ]
     },
     "metadata": {
      "needs_background": "light"
     },
     "output_type": "display_data"
    },
    {
     "name": "stdout",
     "output_type": "stream",
     "text": [
      "18\n"
     ]
    },
    {
     "data": {
      "text/plain": [
       "<Figure size 1008x360 with 0 Axes>"
      ]
     },
     "metadata": {},
     "output_type": "display_data"
    },
    {
     "data": {
      "image/png": "[encoded data removed]",
      "text/plain": [
       "<Figure size 432x288 with 2 Axes>"
      ]
     },
     "metadata": {
      "needs_background": "light"
     },
     "output_type": "display_data"
    },
    {
     "name": "stdout",
     "output_type": "stream",
     "text": [
      "19\n"
     ]
    },
    {
     "data": {
      "text/plain": [
       "<Figure size 1008x360 with 0 Axes>"
      ]
     },
     "metadata": {},
     "output_type": "display_data"
    },
    {
     "data": {
      "image/png": "[encoded data removed]",
      "text/plain": [
       "<Figure size 432x288 with 2 Axes>"
      ]
     },
     "metadata": {
      "needs_background": "light"
     },
     "output_type": "display_data"
    },
    {
     "name": "stdout",
     "output_type": "stream",
     "text": [
      "20\n"
     ]
    },
    {
     "data": {
      "text/plain": [
       "<Figure size 1008x360 with 0 Axes>"
      ]
     },
     "metadata": {},
     "output_type": "display_data"
    },
    {
     "data": {
      "image/png": "[encoded data removed]",
      "text/plain": [
       "<Figure size 432x288 with 2 Axes>"
      ]
     },
     "metadata": {
      "needs_background": "light"
     },
     "output_type": "display_data"
    },
    {
     "name": "stdout",
     "output_type": "stream",
     "text": [
      "21\n"
     ]
    },
    {
     "data": {
      "text/plain": [
       "<Figure size 1008x360 with 0 Axes>"
      ]
     },
     "metadata": {},
     "output_type": "display_data"
    },
    {
     "data": {
      "image/png": "[encoded data removed]",
      "text/plain": [
       "<Figure size 432x288 with 2 Axes>"
      ]
     },
     "metadata": {
      "needs_background": "light"
     },
     "output_type": "display_data"
    },
    {
     "name": "stdout",
     "output_type": "stream",
     "text": [
      "22\n"
     ]
    },
    {
     "data": {
      "text/plain": [
       "<Figure size 1008x360 with 0 Axes>"
      ]
     },
     "metadata": {},
     "output_type": "display_data"
    },
    {
     "data": {
      "image/png": "[encoded data removed]",
      "text/plain": [
       "<Figure size 432x288 with 2 Axes>"
      ]
     },
     "metadata": {
      "needs_background": "light"
     },
     "output_type": "display_data"
    },
    {
     "name": "stdout",
     "output_type": "stream",
     "text": [
      "23\n"
     ]
    },
    {
     "data": {
      "text/plain": [
       "<Figure size 1008x360 with 0 Axes>"
      ]
     },
     "metadata": {},
     "output_type": "display_data"
    },
    {
     "data": {
      "image/png": "[encoded data removed]",
      "text/plain": [
       "<Figure size 432x288 with 2 Axes>"
      ]
     },
     "metadata": {
      "needs_background": "light"
     },
     "output_type": "display_data"
    },
    {
     "name": "stdout",
     "output_type": "stream",
     "text": [
      "24\n"
     ]
    },
    {
     "data": {
      "text/plain": [
       "<Figure size 1008x360 with 0 Axes>"
      ]
     },
     "metadata": {},
     "output_type": "display_data"
    },
    {
     "data": {
      "image/png": "[encoded data removed]",
      "text/plain": [
       "<Figure size 432x288 with 2 Axes>"
      ]
     },
     "metadata": {
      "needs_background": "light"
     },
     "output_type": "display_data"
    },
    {
     "name": "stdout",
     "output_type": "stream",
     "text": [
      "25\n"
     ]
    },
    {
     "data": {
      "text/plain": [
       "<Figure size 1008x360 with 0 Axes>"
      ]
     },
     "metadata": {},
     "output_type": "display_data"
    },
    {
     "data": {
      "image/png": "[encoded data removed]",
      "text/plain": [
       "<Figure size 432x288 with 2 Axes>"
      ]
     },
     "metadata": {
      "needs_background": "light"
     },
     "output_type": "display_data"
    },
    {
     "name": "stdout",
     "output_type": "stream",
     "text": [
      "26\n"
     ]
    },
    {
     "data": {
      "text/plain": [
       "<Figure size 1008x360 with 0 Axes>"
      ]
     },
     "metadata": {},
     "output_type": "display_data"
    },
    {
     "data": {
      "image/png": "[encoded data removed]",
      "text/plain": [
       "<Figure size 432x288 with 2 Axes>"
      ]
     },
     "metadata": {
      "needs_background": "light"
     },
     "output_type": "display_data"
    },
    {
     "name": "stdout",
     "output_type": "stream",
     "text": [
      "27\n"
     ]
    },
    {
     "data": {
      "text/plain": [
       "<Figure size 1008x360 with 0 Axes>"
      ]
     },
     "metadata": {},
     "output_type": "display_data"
    },
    {
     "data": {
      "image/png": "[encoded data removed]",
      "text/plain": [
       "<Figure size 432x288 with 2 Axes>"
      ]
     },
     "metadata": {
      "needs_background": "light"
     },
     "output_type": "display_data"
    },
    {
     "name": "stdout",
     "output_type": "stream",
     "text": [
      "28\n"
     ]
    },
    {
     "data": {
      "text/plain": [
       "<Figure size 1008x360 with 0 Axes>"
      ]
     },
     "metadata": {},
     "output_type": "display_data"
    },
    {
     "data": {
      "image/png": "[encoded data removed]",
      "text/plain": [
       "<Figure size 432x288 with 2 Axes>"
      ]
     },
     "metadata": {
      "needs_background": "light"
     },
     "output_type": "display_data"
    },
    {
     "name": "stdout",
     "output_type": "stream",
     "text": [
      "29\n"
     ]
    },
    {
     "data": {
      "text/plain": [
       "<Figure size 1008x360 with 0 Axes>"
      ]
     },
     "metadata": {},
     "output_type": "display_data"
    },
    {
     "data": {
      "image/png": "[encoded data removed]",
      "text/plain": [
       "<Figure size 432x288 with 2 Axes>"
      ]
     },
     "metadata": {
      "needs_background": "light"
     },
     "output_type": "display_data"
    }
   ],
   "source": [
    "test_key = list(vad_dict.keys())[0]\n",
    "a = audio_file(test_key)\n",
    "a.get_slices(vad_dict)\n",
    "test_mfcc = (a.get_split_mfcc())\n",
    "a.get_split_frames()\n",
    "test_labels2= (a.get_split_labels())\n",
    "a.get_plots()"
   ]
  },
  {
   "cell_type": "code",
   "execution_count": 166,
   "metadata": {
    "scrolled": true
   },
   "outputs": [
    {
     "name": "stdout",
     "output_type": "stream",
     "text": [
      "0\n",
      "(180420,)\n",
      "1\n",
      "torch.Size([30, 6014, 40])\n",
      "torch.Size([30, 6014])\n"
     ]
    }
   ],
   "source": [
    "input_list = []\n",
    "labels_list = []\n",
    "\n",
    "for idx,key in enumerate(vad_dict):\n",
    "    print(idx)\n",
    "    if(idx == 1):\n",
    "        break\n",
    "    a = audio_file(key)\n",
    "    a.get_slices(vad_dict)\n",
    "    input_list.append(a.get_split_mfcc()) #180409\n",
    "    a.get_split_frames()\n",
    "    labels_list.append(a.get_split_labels()) #180409\n",
    "    #a.get_plots()\n",
    "input_list = torch.cat(input_list)\n",
    "input_list = torch.transpose(input_list,1,2)\n",
    "labels_list = torch.from_numpy(np.concatenate(labels_list,axis = 0)).float()\n",
    "print(input_list.size())\n",
    "print(labels_list.size())"
   ]
  },
  {
   "cell_type": "code",
   "execution_count": null,
   "metadata": {},
   "outputs": [],
   "source": [
    "input_list = []\n",
    "labels_list = []"
   ]
  },
  {
   "cell_type": "code",
   "execution_count": 25,
   "metadata": {},
   "outputs": [
    {
     "data": {
      "text/plain": [
       "True"
      ]
     },
     "execution_count": 25,
     "metadata": {},
     "output_type": "execute_result"
    }
   ],
   "source": [
    "np.any(labels_list.numpy() == 1.)"
   ]
  },
  {
   "cell_type": "code",
   "execution_count": null,
   "metadata": {},
   "outputs": [],
   "source": [
    "f = '/project/graziul/ra/anishk/VAD/Source/Data/data1.pt'\n",
    "data = torch.load(f)\n",
    "data = np.transpose(data, (0, 2, 1))"
   ]
  },
  {
   "cell_type": "code",
   "execution_count": null,
   "metadata": {},
   "outputs": [],
   "source": [
    "data.shape"
   ]
  },
  {
   "cell_type": "markdown",
   "metadata": {},
   "source": [
    "# Initialize LSTM\n",
    "Pytorch’s LSTM expects all of its inputs to be 3D tensors. The semantics of the axes of these tensors is important. The first axis is the sequence itself, the second indexes instances in the mini-batch, and the third indexes elements of the input. "
   ]
  },
  {
   "cell_type": "code",
   "execution_count": 6,
   "metadata": {},
   "outputs": [],
   "source": [
    "if torch.cuda.is_available():\n",
    "    device = torch.device(\"cuda\")\n",
    "else:\n",
    "    device = torch.device(\"cpu\")"
   ]
  },
  {
   "cell_type": "code",
   "execution_count": null,
   "metadata": {},
   "outputs": [],
   "source": [
    "input_dim = 40\n",
    "hidden_dim = 64 \n",
    "n_layers = 3 \n",
    "\n",
    "lstm = nn.LSTM(input_dim, hidden_dim, n_layers, batch_first=True)\n",
    "\n",
    "batch_size = 1\n",
    "\n",
    "hidden_state = torch.randn(n_layers, batch_size, hidden_dim)\n",
    "cell_state = torch.randn(n_layers, batch_size, hidden_dim)\n",
    "hidden = (hidden_state, cell_state)\n",
    "\n",
    "out, hidden = lstm(data, hidden)"
   ]
  },
  {
   "cell_type": "code",
   "execution_count": null,
   "metadata": {},
   "outputs": [],
   "source": [
    "def temp_attention(hidden_feature_map):\n",
    "    H_maxtemp = torch.max(hidden_feature_map, 1).values\n",
    "    H_avgtemp = torch.mean(hidden_feature_map, 1)\n",
    "    H_stdtemp = torch.std(hidden_feature_map, 1)\n",
    "    H_concattemp = torch.cat([H_maxtemp[None, :], H_avgtemp[None, :], H_stdtemp[None,:]], dim=0)\n",
    "    return H_concattemp\n",
    "\n",
    "def freq_attention(hidden_feature_map):\n",
    "    H_maxfreq = torch.max(hidden_feature_map, 0).values\n",
    "    H_avgfreq = torch.mean(hidden_feature_map, 0)\n",
    "    H_stdfreq = torch.std(hidden_feature_map, 0)\n",
    "    H_concatfreq = torch.cat([H_maxfreq[None, :], H_avgfreq[None, :], H_stdfreq[None,:]], dim=0)\n",
    "    return H_concatfreq \n",
    "\n",
    "def convolve(input,H):\n",
    "    # Define normalization and relu functions for use after first 3 convolutions\n",
    "    norm = nn.BatchNorm1d(64, affine=False, track_running_stats=False)\n",
    "    ReLU = nn.ReLU()\n",
    "\n",
    "    # 1D Convolution; padding of 5 on both sides to account for ndims change\n",
    "    conv1 = nn.Conv1d(3,3, kernel_size=11, padding=5)\n",
    "    output = conv1(input)\n",
    "    output = norm(output)\n",
    "    output = ReLU(output)\n",
    "    \n",
    "    conv2 = nn.Conv1d(3,5, kernel_size=11, padding=5)\n",
    "    input = output\n",
    "    output = conv2(input)\n",
    "    output = norm(output)\n",
    "    output = ReLU(output)\n",
    "    \n",
    "    conv3 = nn.Conv1d(5,5, kernel_size=11, padding=5)\n",
    "    input = output\n",
    "    output = conv3(input)\n",
    "    output = norm(output)\n",
    "    output = ReLU(output)\n",
    "    \n",
    "    conv4 = nn.Conv1d(5,1, kernel_size=11, padding=5)\n",
    "    input = output\n",
    "    H_temp = conv4(input)\n",
    "    # \"Expand/copy\" output of last layer (H_temp) to same dims as H\n",
    "    H_temp = H_temp.expand(-1,64,-1)\n",
    "    # Sigmoid activation     \n",
    "    sigmoid = nn.Sigmoid()\n",
    "    input = H_temp\n",
    "    H_temp = sigmoid(input)\n",
    "    H_temp = torch.transpose(H_temp, 1, 2)[0]\n",
    "    # Merge H_temp and H by element wise summation\n",
    "    H_prime = torch.stack((H,H_temp))\n",
    "    H_prime = torch.sum(H_prime,0)\n",
    "    return H_prime\n",
    "\n",
    "#H = out[0] ##H is the \"Hidden feature map\"\n",
    "#input = temp_attention(H)[None,:] ## batch_size, channels, features\n",
    "#output = convolve(input,H)"
   ]
  },
  {
   "cell_type": "code",
   "execution_count": null,
   "metadata": {},
   "outputs": [],
   "source": [
    "def display(tensor):\n",
    "    input = tensor.detach().numpy()\n",
    "    a = plt.hist(input[0][0], bins = 50)\n",
    "    b = plt.hist(input[0][1], bins = 50)\n",
    "    c = plt.hist(input[0][2], bins = 50)\n",
    "    plt.show()\n",
    "    d = print('max:',np.max(input))\n",
    "    e = print('min:',np.min(input))\n",
    "    range = np.max(input)-np.min(input)\n",
    "    f = print('range:',range)\n",
    "    return "
   ]
  },
  {
   "cell_type": "code",
   "execution_count": null,
   "metadata": {},
   "outputs": [],
   "source": [
    "H = out[0] ##H is the \"Hidden feature map\"\n",
    "input = temp_attention(H)[None,:] ## batch_size, channels, features\n",
    "\n",
    "# Define normalization and relu functions for use after first 3 convolutions\n",
    "norm = nn.BatchNorm1d(64, affine=False, track_running_stats=False)\n",
    "ReLU = nn.ReLU()\n",
    "\n",
    "# 1D Convolution; padding of 5 on both sides to account for ndims change\n",
    "conv1 = nn.Conv1d(3,3, kernel_size=11, padding=5)\n",
    "output = conv1(input)\n",
    "output = norm(output)\n",
    "output = ReLU(output)\n",
    "\n",
    "conv2 = nn.Conv1d(3,5, kernel_size=11, padding=5)\n",
    "input = output\n",
    "output = conv2(input)\n",
    "output = norm(output)\n",
    "output = ReLU(output)\n",
    "\n",
    "\n",
    "conv3 = nn.Conv1d(5,5, kernel_size=11, padding=5)\n",
    "input = output\n",
    "output = conv3(input)\n",
    "output = norm(output)\n",
    "output = ReLU(output)\n",
    "\n",
    "conv4 = nn.Conv1d(5,1, kernel_size=11, padding=5)\n",
    "input = output\n",
    "H_temp = conv4(input)\n",
    "# \"Expand/copy\" output of last layer (H_temp) to same dims as H\n",
    "H_temp = H_temp.expand(-1,64,-1)\n",
    "# Sigmoid activation     \n",
    "sigmoid = nn.Sigmoid()\n",
    "input = H_temp\n",
    "H_temp = sigmoid(input)\n",
    "H_temp = torch.transpose(H_temp, 1, 2)[0]\n",
    "# Merge H_temp and H by element wise summation\n",
    "H_prime = torch.stack((H,H_temp))\n",
    "H_prime = torch.sum(H_prime,0)\n",
    "display(H_temp)"
   ]
  },
  {
   "cell_type": "code",
   "execution_count": null,
   "metadata": {},
   "outputs": [],
   "source": [
    "# Same parameters as LSTM1 except for input dim\n",
    "\n",
    "output = output[0,:,:,:]\n",
    "output = torch.transpose(output,1,2)\n",
    "input_dim = 5\n",
    "hidden_dim = 64 \n",
    "n_layers = 3 \n",
    "\n",
    "lstm2 = nn.LSTM(input_dim, hidden_dim, n_layers, batch_first=True)\n",
    "\n",
    "batch_size = 1\n",
    "\n",
    "hidden_state = torch.randn(n_layers, batch_size, hidden_dim)\n",
    "cell_state = torch.randn(n_layers, batch_size, hidden_dim)\n",
    "hidden = (hidden_state, cell_state)\n",
    "\n",
    "out, hidden = lstm2(output, hidden)"
   ]
  },
  {
   "cell_type": "code",
   "execution_count": null,
   "metadata": {},
   "outputs": [],
   "source": [
    "print(out.size())"
   ]
  },
  {
   "cell_type": "code",
   "execution_count": null,
   "metadata": {},
   "outputs": [],
   "source": [
    "linear1 = nn.Linear(64, 64)\n",
    "linear1_output = linear1(out)\n",
    "\n",
    "linear2 = nn.Linear(64, 1)\n",
    "linear2_output = linear2(linear1_output)\n",
    "\n",
    "sigmoid = nn.Sigmoid()\n",
    "input = linear2_output\n",
    "output_binary = sigmoid(input)"
   ]
  },
  {
   "cell_type": "code",
   "execution_count": null,
   "metadata": {},
   "outputs": [],
   "source": [
    "input = \n",
    "\n",
    "optimizer = torch.optim.SGD(model.parameters(), lr=0.1, momentum=0.9)\n",
    "optimizer.zero_grad()\n",
    "loss_fn(model(input), target).backward()\n",
    "optimizer.step()"
   ]
  },
  {
   "cell_type": "code",
   "execution_count": null,
   "metadata": {},
   "outputs": [],
   "source": []
  },
  {
   "cell_type": "code",
   "execution_count": 168,
   "metadata": {},
   "outputs": [],
   "source": [
    "class StackedLSTM(nn.Module):\n",
    "    def __init__(self):\n",
    "        super(StackedLSTM, self).__init__()\n",
    "        self.input_dim1 = 40\n",
    "        self.input_dim2 = 64 \n",
    "        self.hidden_dim = 64\n",
    "        self.n_layers = 3\n",
    "        self.batch_size = 2\n",
    "        #(input is of format batch_size, sequence_length, num_features)\n",
    "        #hidden states should be (num_layers, batch_size, hidden_length)\n",
    "        self.hidden_state1 = torch.randn(self.n_layers, self.batch_size, self.hidden_dim)\n",
    "        self.cell_state1 = torch.randn(self.n_layers, self.batch_size, self.hidden_dim)\n",
    "        self.hidden_state2 = torch.randn(self.n_layers, self.batch_size, self.hidden_dim)\n",
    "        self.cell_state2 = torch.randn(self.n_layers, self.batch_size, self.hidden_dim)\n",
    "        self.lstm1 = nn.LSTM(input_size = self.input_dim1, hidden_size = self.hidden_dim, num_layers = self.n_layers, batch_first=True) #should be True\n",
    "        self.lstm2 = nn.LSTM(input_size = self.input_dim2, hidden_size = self.hidden_dim, num_layers = self.n_layers, batch_first=True) #should be True\n",
    "        self.lstm2_out = None \n",
    "        self.hidden = None\n",
    "        #self.flatten = nn.Flatten()\n",
    "        self.convolve1d = nn.Sequential(\n",
    "            nn.Conv1d(3,3, kernel_size=11, padding=5),\n",
    "            nn.BatchNorm1d(64, affine=False, track_running_stats=False),\n",
    "            nn.ReLU(),\n",
    "            nn.Conv1d(3,5, kernel_size=11, padding=5),\n",
    "            nn.BatchNorm1d(64, affine=False, track_running_stats=False),\n",
    "            nn.ReLU(),\n",
    "            nn.Conv1d(5,5, kernel_size=11, padding=5),\n",
    "            nn.BatchNorm1d(64, affine=False, track_running_stats=False),\n",
    "            nn.ReLU(),\n",
    "            nn.Conv1d(5,1, kernel_size=11, padding=5)\n",
    "        )\n",
    "        self.output_stack = nn.Sequential(\n",
    "            nn.Linear(64, 64),\n",
    "            nn.Linear(64, 1)\n",
    "        )\n",
    "        self.sigmoid = nn.Sigmoid()\n",
    "\n",
    "#     def create_rand_hidden1(self):\n",
    "#         self.hidden_state1 = torch.randn(self.n_layers, self.batch_size, self.hidden_dim)\n",
    "#         self.cell_state1 = torch.randn(self.n_layers, self.batch_size, self.hidden_dim)\n",
    "#         return (self.hidden_state1, self.cell_state1)\n",
    "\n",
    "    def temp_attention(self, data):\n",
    "        #hn = self.hidden_state1\n",
    "        #cn = self.cell_state1\n",
    "        #for idx in range(data.size()[1]):\n",
    "        #    output, (hn,cn) = self.lstm1(torch.unsqueeze(data[:,idx,:],1), (hn,cn))\n",
    "        H, hidden = self.lstm1(data, (self.hidden_state1, self.cell_state1)) \n",
    "        #H = output\n",
    "        #hidden = (hn,cn)\n",
    "        H_maxtemp = torch.unsqueeze(torch.max(H, -1).values,2)\n",
    "        H_avgtemp = torch.unsqueeze(torch.mean(H, -1),2)\n",
    "        H_stdtemp = torch.unsqueeze(torch.std(H, -1),2)\n",
    "        H_concattemp = torch.cat([H_maxtemp, H_avgtemp,H_stdtemp], dim=2)\n",
    "        H_concattemp = torch.transpose(H_concattemp, 1,2)\n",
    "        return H_concattemp,H \n",
    "    \n",
    "    def convolve1(self, data):\n",
    "        H_concattemp,H = self.temp_attention(data)\n",
    "        H_temp = self.convolve1d(H_concattemp)\n",
    "        # \"Expand/copy\" output of last layer (H_temp) to same dims as H\n",
    "        H_temp = H_temp.expand(-1,64,-1)\n",
    "        # Sigmoid activation     \n",
    "        sigmoid = nn.Sigmoid()\n",
    "        my_input = H_temp\n",
    "        H_temp = sigmoid(my_input)\n",
    "        H_temp = torch.transpose(H_temp, 1, 2)\n",
    "        # Merge H_temp and H by element wise summation\n",
    "        H_prime = torch.stack((H,H_temp))\n",
    "        H_prime = torch.sum(H_prime,0)\n",
    "        return H_prime\n",
    "        \n",
    "#     def create_rand_hidden2(self):\n",
    "#         self.hidden_state2 = torch.randn(self.n_layers, self.batch_size, self.hidden_dim)\n",
    "#         self.cell_state2 = torch.randn(self.n_layers, self.batch_size, self.hidden_dim)\n",
    "#         return (self.hidden_state2, self.cell_state2)  \n",
    "    \n",
    "#     def freq_attention(hidden_feature_map):\n",
    "#         H_maxfreq = torch.max(hidden_feature_map, 0).values\n",
    "#         H_avgfreq = torch.mean(hidden_feature_map, 0)\n",
    "#         H_stdfreq = torch.std(hidden_feature_map, 0)\n",
    "#         H_concatfreq = torch.cat([H_maxfreq[None, :], H_avgfreq[None, :], H_stdfreq[None,:]], dim=0)\n",
    "#         return H_concatfreq \n",
    "\n",
    "    def forward(self, data):\n",
    "        input1 = self.convolve1(data)\n",
    "        #print(input1.size())\n",
    "        #hn = self.hidden_state2\n",
    "        #cn = self.cell_state2\n",
    "        #for idx in range(input1.size()[1]):\n",
    "        #    output, (hn,cn) = self.lstm2(torch.unsqueeze(input1[:,idx,:],1), (hn,cn))\n",
    "        #lstm2_out = output\n",
    "        #hidden = (hn,cn)\n",
    "        lstm2_out, hidden = self.lstm2(input1, (self.hidden_state2, self.cell_state2))\n",
    "        self.output = self.output_stack(lstm2_out)\n",
    "        print(self.output)\n",
    "        self.output = torch.squeeze(self.output)\n",
    "        return self.output\n",
    "        "
   ]
  },
  {
   "cell_type": "code",
   "execution_count": 169,
   "metadata": {},
   "outputs": [],
   "source": [
    "class ToyModel(nn.Module):\n",
    "    def __init__(self):\n",
    "        super(ToyModel, self).__init__()\n",
    "        self.input_dim1 = 40\n",
    "        self.input_dim2 = 64 \n",
    "        self.hidden_dim = 64\n",
    "        self.n_layers = 3\n",
    "        self.batch_size = 2\n",
    "        #(input is of format batch_size, sequence_length, num_features)\n",
    "        #hidden states should be (num_layers, batch_size, hidden_length)\n",
    "        self.hidden_state1 = torch.randn(self.n_layers, self.batch_size, self.hidden_dim)\n",
    "        self.cell_state1 = torch.randn(self.n_layers, self.batch_size, self.hidden_dim)\n",
    "        self.hidden_state2 = torch.randn(self.n_layers, self.batch_size, self.hidden_dim)\n",
    "        self.cell_state2 = torch.randn(self.n_layers, self.batch_size, self.hidden_dim)\n",
    "        self.lstm1 = nn.LSTM(input_size = self.input_dim1, hidden_size = self.hidden_dim, num_layers = self.n_layers, batch_first=True) #should be True\n",
    "        self.lstm2 = nn.LSTM(input_size = self.input_dim2, hidden_size = self.hidden_dim, num_layers = self.n_layers, batch_first=True) #should be True\n",
    "        self.lstm2_out = None \n",
    "        self.hidden = None\n",
    "        #self.flatten = nn.Flatten()\n",
    "        self.convolve1d = nn.Sequential(\n",
    "            nn.Conv1d(3,3, kernel_size=11, padding=5),\n",
    "            nn.BatchNorm1d(64, affine=False, track_running_stats=False),\n",
    "            nn.ReLU(),\n",
    "            nn.Conv1d(3,5, kernel_size=11, padding=5),\n",
    "            nn.BatchNorm1d(64, affine=False, track_running_stats=False),\n",
    "            nn.ReLU(),\n",
    "            nn.Conv1d(5,5, kernel_size=11, padding=5),\n",
    "            nn.BatchNorm1d(64, affine=False, track_running_stats=False),\n",
    "            nn.ReLU(),\n",
    "            nn.Conv1d(5,1, kernel_size=11, padding=5)\n",
    "        )\n",
    "        self.output_stack = nn.Sequential(\n",
    "            nn.Linear(64, 128),\n",
    "            nn.Linear(128, 1)\n",
    "        )\n",
    "        self.sigmoid = nn.Sigmoid()\n",
    "\n",
    "\n",
    "    def forward(self, data):\n",
    "        out1,_ = self.lstm1(data,(self.hidden_state1,self.cell_state1))\n",
    "        out2 = self.sigmoid(self.output_stack(out1))\n",
    "        return torch.squeeze(out2)\n",
    "        "
   ]
  },
  {
   "cell_type": "code",
   "execution_count": 16,
   "metadata": {},
   "outputs": [],
   "source": [
    "class WeightedFocalLoss(nn.Module):\n",
    "    \"Non weighted version of Focal Loss\"\n",
    "    def __init__(self, alpha=.25, gamma=1):\n",
    "        super(WeightedFocalLoss, self).__init__()\n",
    "        self.alpha = torch.tensor([alpha, 1-alpha])\n",
    "        self.gamma = gamma\n",
    "\n",
    "    def forward(self, inputs, targets):\n",
    "        BCE_loss = F.binary_cross_entropy_with_logits(inputs, targets, reduction='none')\n",
    "        targets = targets.type(torch.long)\n",
    "        at = self.alpha.gather(0, targets.data.view(-1))\n",
    "        pt = torch.exp(-BCE_loss)\n",
    "        F_loss = at*(1-pt)**self.gamma * BCE_loss\n",
    "        return F_loss.mean()\n"
   ]
  },
  {
   "cell_type": "code",
   "execution_count": 170,
   "metadata": {},
   "outputs": [],
   "source": [
    "class FocalLoss(nn.modules.loss._WeightedLoss):\n",
    "    def __init__(self, weight=None, gamma=1,reduction='mean'):\n",
    "        super(FocalLoss, self).__init__(weight,reduction=reduction)\n",
    "        self.gamma = gamma\n",
    "        self.weight = weight #weight parameter will act as the alpha parameter to balance class weights\n",
    "\n",
    "    def forward(self, inputs, targets):\n",
    "        print(inputs)\n",
    "        print(targets)\n",
    "        BCE_loss = F.binary_cross_entropy(inputs, targets, reduction='mean')\n",
    "        return torch.mean(BCE_loss)\n",
    "        #ce_loss = F.binary_cross_entropy(inputs, targets,reduction=self.reduction,weight=self.weight)\n",
    "        #pt = torch.exp(-ce_loss)\n",
    "        #focal_loss = ((1 - pt) ** self.gamma * ce_loss).mean()\n",
    "        #return focal_loss"
   ]
  },
  {
   "cell_type": "code",
   "execution_count": null,
   "metadata": {},
   "outputs": [],
   "source": [
    "labels_list = torch.tensor(labels_list[:31])\n",
    "labels_list.size()"
   ]
  },
  {
   "cell_type": "code",
   "execution_count": 171,
   "metadata": {},
   "outputs": [],
   "source": [
    "#model = StackedLSTM().to(device)\n",
    "model = ToyModel()\n",
    "loss_fn = FocalLoss()\n",
    "optimizer = torch.optim.Adam(model.parameters(), lr=1e-2)"
   ]
  },
  {
   "cell_type": "code",
   "execution_count": 10,
   "metadata": {},
   "outputs": [],
   "source": [
    "device = torch.device(\"cpu\")"
   ]
  },
  {
   "cell_type": "code",
   "execution_count": 68,
   "metadata": {},
   "outputs": [],
   "source": [
    "input_list = input_list[13:15]\n",
    "labels_list = labels_list[13:15]"
   ]
  },
  {
   "cell_type": "code",
   "execution_count": 87,
   "metadata": {},
   "outputs": [
    {
     "data": {
      "text/plain": [
       "torch.Size([2, 6014])"
      ]
     },
     "execution_count": 87,
     "metadata": {},
     "output_type": "execute_result"
    }
   ],
   "source": [
    "labels_list.size()"
   ]
  },
  {
   "cell_type": "code",
   "execution_count": 172,
   "metadata": {
    "scrolled": true
   },
   "outputs": [
    {
     "name": "stdout",
     "output_type": "stream",
     "text": [
      "0\n",
      "tensor([[0.5097, 0.5068, 0.5022,  ..., 0.4992, 0.4995, 0.4999],\n",
      "        [0.4846, 0.4974, 0.4985,  ..., 0.4993, 0.4992, 0.4991]],\n",
      "       grad_fn=<SqueezeBackward0>)\n",
      "tensor([[0., 0., 0.,  ..., 0., 0., 0.],\n",
      "        [0., 0., 0.,  ..., 0., 0., 0.]])\n",
      "tensor(0.6923, grad_fn=<MeanBackward0>)\n",
      "1\n",
      "tensor([[0.4606, 0.4329, 0.4060,  ..., 0.3606, 0.3611, 0.3618],\n",
      "        [0.4219, 0.4324, 0.4201,  ..., 0.3596, 0.3597, 0.3599]],\n",
      "       grad_fn=<SqueezeBackward0>)\n",
      "tensor([[0., 0., 0.,  ..., 0., 0., 0.],\n",
      "        [0., 0., 0.,  ..., 0., 0., 0.]])\n",
      "tensor(0.4453, grad_fn=<MeanBackward0>)\n",
      "2\n",
      "tensor([[0.3939, 0.3024, 0.2107,  ..., 0.0570, 0.0569, 0.0568],\n",
      "        [0.3894, 0.3310, 0.2402,  ..., 0.0567, 0.0566, 0.0565]],\n",
      "       grad_fn=<SqueezeBackward0>)\n",
      "tensor([[0., 0., 0.,  ..., 0., 0., 0.],\n",
      "        [0., 0., 0.,  ..., 0., 0., 0.]])\n",
      "tensor(0.0588, grad_fn=<MeanBackward0>)\n",
      "3\n",
      "tensor([[0.3105, 0.1417, 0.0424,  ..., 0.0025, 0.0025, 0.0025],\n",
      "        [0.3470, 0.1806, 0.0522,  ..., 0.0024, 0.0024, 0.0024]],\n",
      "       grad_fn=<SqueezeBackward0>)\n",
      "tensor([[0., 0., 0.,  ..., 0., 0., 0.],\n",
      "        [0., 0., 0.,  ..., 0., 0., 0.]])\n",
      "tensor(0.4660, grad_fn=<MeanBackward0>)\n",
      "4\n",
      "tensor([[0.2720, 0.0902, 0.0212,  ..., 0.0022, 0.0022, 0.0022],\n",
      "        [0.3275, 0.1383, 0.0315,  ..., 0.0022, 0.0022, 0.0022]],\n",
      "       grad_fn=<SqueezeBackward0>)\n",
      "tensor([[0., 0., 0.,  ..., 0., 0., 0.],\n",
      "        [0., 0., 0.,  ..., 0., 0., 0.]])\n",
      "tensor(0.0023, grad_fn=<MeanBackward0>)\n",
      "5\n",
      "tensor([[0.2442, 0.0659, 0.0139,  ..., 0.0019, 0.0019, 0.0019],\n",
      "        [0.2997, 0.0973, 0.0185,  ..., 0.0019, 0.0019, 0.0019]],\n",
      "       grad_fn=<SqueezeBackward0>)\n",
      "tensor([[0., 0., 0.,  ..., 0., 0., 0.],\n",
      "        [0., 0., 0.,  ..., 0., 0., 0.]])\n",
      "tensor(0.0020, grad_fn=<MeanBackward0>)\n",
      "6\n",
      "tensor([[0.2186, 0.0487, 0.0096,  ..., 0.0016, 0.0016, 0.0016],\n",
      "        [0.3059, 0.1201, 0.0249,  ..., 0.4959, 0.4948, 0.4940]],\n",
      "       grad_fn=<SqueezeBackward0>)\n",
      "tensor([[0., 0., 0.,  ..., 0., 0., 0.],\n",
      "        [0., 0., 0.,  ..., 1., 1., 1.]])\n",
      "tensor(0.1131, grad_fn=<MeanBackward0>)\n",
      "7\n",
      "tensor([[0.3301, 0.3868, 0.4427,  ..., 0.0017, 0.0017, 0.0017],\n",
      "        [0.2567, 0.0572, 0.0094,  ..., 0.0015, 0.0015, 0.0015]],\n",
      "       grad_fn=<SqueezeBackward0>)\n",
      "tensor([[1., 1., 1.,  ..., 0., 0., 0.],\n",
      "        [0., 0., 0.,  ..., 0., 0., 0.]])\n",
      "tensor(0.2286, grad_fn=<MeanBackward0>)\n",
      "8\n",
      "tensor([[0.1905, 0.0376, 0.0083,  ..., 0.0019, 0.0019, 0.0019],\n",
      "        [0.2433, 0.0516, 0.0093,  ..., 0.0019, 0.0019, 0.0019]],\n",
      "       grad_fn=<SqueezeBackward0>)\n",
      "tensor([[0., 0., 0.,  ..., 0., 0., 0.],\n",
      "        [0., 0., 0.,  ..., 0., 0., 0.]])\n",
      "tensor(0.0020, grad_fn=<MeanBackward0>)\n",
      "9\n",
      "tensor([[0.1748, 0.0330, 0.0080,  ..., 0.0032, 0.0032, 0.0032],\n",
      "        [0.2285, 0.0456, 0.0089,  ..., 0.0025, 0.0025, 0.0025]],\n",
      "       grad_fn=<SqueezeBackward0>)\n",
      "tensor([[0., 0., 0.,  ..., 0., 0., 0.],\n",
      "        [0., 0., 0.,  ..., 0., 0., 0.]])\n",
      "tensor(0.0029, grad_fn=<MeanBackward0>)\n",
      "10\n",
      "tensor([[0.1707, 0.0335, 0.0087,  ..., 0.0029, 0.0029, 0.0029],\n",
      "        [0.2261, 0.0455, 0.0093,  ..., 0.0028, 0.0028, 0.0028]],\n",
      "       grad_fn=<SqueezeBackward0>)\n",
      "tensor([[0., 0., 0.,  ..., 0., 0., 0.],\n",
      "        [0., 0., 0.,  ..., 0., 0., 0.]])\n",
      "tensor(0.0029, grad_fn=<MeanBackward0>)\n",
      "11\n",
      "tensor([[0.1615, 0.0293, 0.0076,  ..., 0.0024, 0.0024, 0.0025],\n",
      "        [0.2325, 0.0489, 0.0098,  ..., 0.0023, 0.0023, 0.0023]],\n",
      "       grad_fn=<SqueezeBackward0>)\n",
      "tensor([[0., 0., 0.,  ..., 0., 0., 0.],\n",
      "        [0., 0., 0.,  ..., 0., 0., 0.]])\n",
      "tensor(0.0024, grad_fn=<MeanBackward0>)\n",
      "12\n",
      "tensor([[0.1490, 0.0253, 0.0068,  ..., 0.0022, 0.0022, 0.0022],\n",
      "        [0.2069, 0.0389, 0.0082,  ..., 0.0021, 0.0021, 0.0022]],\n",
      "       grad_fn=<SqueezeBackward0>)\n",
      "tensor([[0., 0., 0.,  ..., 0., 0., 0.],\n",
      "        [0., 0., 0.,  ..., 0., 0., 0.]])\n",
      "tensor(0.0022, grad_fn=<MeanBackward0>)\n",
      "13\n",
      "tensor([[0.1497, 0.0262, 0.0067,  ..., 0.0019, 0.0019, 0.0019],\n",
      "        [0.3091, 0.1503, 0.0426,  ..., 0.0070, 0.0069, 0.0069]],\n",
      "       grad_fn=<SqueezeBackward0>)\n",
      "tensor([[0., 0., 0.,  ..., 0., 0., 0.],\n",
      "        [0., 0., 0.,  ..., 0., 0., 0.]])\n",
      "tensor(0.1357, grad_fn=<MeanBackward0>)\n",
      "14\n",
      "tensor([[0.1669, 0.0332, 0.0082,  ..., 0.0017, 0.0017, 0.0017],\n",
      "        [0.1783, 0.0286, 0.0058,  ..., 0.0017, 0.0017, 0.0017]],\n",
      "       grad_fn=<SqueezeBackward0>)\n",
      "tensor([[0., 0., 0.,  ..., 0., 0., 0.],\n",
      "        [0., 0., 0.,  ..., 0., 0., 0.]])\n",
      "tensor(0.0018, grad_fn=<MeanBackward0>)\n",
      "15\n",
      "tensor([[0.1398, 0.0207, 0.0052,  ..., 0.0015, 0.0015, 0.0015],\n",
      "        [0.1644, 0.0244, 0.0049,  ..., 0.0015, 0.0015, 0.0015]],\n",
      "       grad_fn=<SqueezeBackward0>)\n",
      "tensor([[0., 0., 0.,  ..., 0., 0., 0.],\n",
      "        [0., 0., 0.,  ..., 0., 0., 0.]])\n",
      "tensor(0.0015, grad_fn=<MeanBackward0>)\n",
      "16\n",
      "tensor([[0.1348, 0.0184, 0.0044,  ..., 0.0013, 0.0013, 0.0014],\n",
      "        [0.1671, 0.0251, 0.0047,  ..., 0.0013, 0.0013, 0.0013]],\n",
      "       grad_fn=<SqueezeBackward0>)\n",
      "tensor([[0., 0., 0.,  ..., 0., 0., 0.],\n",
      "        [0., 0., 0.,  ..., 0., 0., 0.]])\n",
      "tensor(0.0013, grad_fn=<MeanBackward0>)\n",
      "17\n",
      "tensor([[0.1287, 0.0156, 0.0036,  ..., 0.0011, 0.0011, 0.0011],\n",
      "        [0.1608, 0.0234, 0.0041,  ..., 0.0011, 0.0011, 0.0011]],\n",
      "       grad_fn=<SqueezeBackward0>)\n",
      "tensor([[0., 0., 0.,  ..., 0., 0., 0.],\n",
      "        [0., 0., 0.,  ..., 0., 0., 0.]])\n",
      "tensor(0.0011, grad_fn=<MeanBackward0>)\n",
      "18\n",
      "tensor([[0.1784, 0.0401, 0.0092,  ..., 0.0024, 0.0023, 0.0023],\n",
      "        [0.1312, 0.0160, 0.0029,  ..., 0.0009, 0.0009, 0.0009]],\n",
      "       grad_fn=<SqueezeBackward0>)\n",
      "tensor([[0., 0., 0.,  ..., 0., 0., 0.],\n",
      "        [0., 0., 0.,  ..., 0., 0., 0.]])\n",
      "tensor(0.0908, grad_fn=<MeanBackward0>)\n",
      "19\n",
      "tensor([[0.1196, 0.0124, 0.0025,  ..., 0.0007, 0.0007, 0.0007],\n",
      "        [0.1190, 0.0130, 0.0023,  ..., 0.0007, 0.0007, 0.0007]],\n",
      "       grad_fn=<SqueezeBackward0>)\n",
      "tensor([[0., 0., 0.,  ..., 0., 0., 0.],\n",
      "        [0., 0., 0.,  ..., 0., 0., 0.]])\n",
      "tensor(0.0007, grad_fn=<MeanBackward0>)\n",
      "20\n",
      "tensor([[0.1203, 0.0119, 0.0023,  ..., 0.0006, 0.0006, 0.0006],\n",
      "        [0.1275, 0.0139, 0.0021,  ..., 0.0006, 0.0006, 0.0006]],\n",
      "       grad_fn=<SqueezeBackward0>)\n",
      "tensor([[0., 0., 0.,  ..., 0., 0., 0.],\n",
      "        [0., 0., 0.,  ..., 0., 0., 0.]])\n",
      "tensor(0.0006, grad_fn=<MeanBackward0>)\n",
      "21\n",
      "tensor([[1.1660e-01, 1.0777e-02, 1.9470e-03,  ..., 4.4331e-04, 4.4409e-04,\n",
      "         4.4445e-04],\n",
      "        [1.9138e-01, 3.9422e-02, 5.3214e-03,  ..., 7.0885e-01, 7.0877e-01,\n",
      "         7.0876e-01]], grad_fn=<SqueezeBackward0>)\n",
      "tensor([[0., 0., 0.,  ..., 0., 0., 0.],\n",
      "        [0., 0., 0.,  ..., 1., 1., 1.]])\n",
      "tensor(0.0844, grad_fn=<MeanBackward0>)\n",
      "22\n",
      "tensor([[3.6175e-01, 5.9538e-01, 6.9103e-01,  ..., 8.1656e-04, 8.1559e-04,\n",
      "         8.1433e-04],\n",
      "        [1.1030e-01, 1.0110e-02, 1.4067e-03,  ..., 3.8018e-04, 3.8187e-04,\n",
      "         3.8277e-04]], grad_fn=<SqueezeBackward0>)\n",
      "tensor([[1., 1., 1.,  ..., 0., 0., 0.],\n",
      "        [0., 0., 0.,  ..., 0., 0., 0.]])\n",
      "tensor(0.1856, grad_fn=<MeanBackward0>)\n",
      "23\n",
      "tensor([[0.1203, 0.0131, 0.0024,  ..., 0.0004, 0.0004, 0.0004],\n",
      "        [0.1122, 0.0106, 0.0015,  ..., 0.0004, 0.0004, 0.0004]],\n",
      "       grad_fn=<SqueezeBackward0>)\n",
      "tensor([[0., 0., 0.,  ..., 0., 0., 0.],\n",
      "        [0., 0., 0.,  ..., 0., 0., 0.]])\n",
      "tensor(0.0004, grad_fn=<MeanBackward0>)\n",
      "24\n",
      "tensor([[0.0982, 0.0089, 0.0017,  ..., 0.0004, 0.0004, 0.0004],\n",
      "        [0.1125, 0.0108, 0.0015,  ..., 0.0004, 0.0004, 0.0004]],\n",
      "       grad_fn=<SqueezeBackward0>)\n",
      "tensor([[0., 0., 0.,  ..., 0., 0., 0.],\n",
      "        [0., 0., 0.,  ..., 0., 0., 0.]])\n",
      "tensor(0.0004, grad_fn=<MeanBackward0>)\n",
      "25\n",
      "tensor([[0.0942, 0.0084, 0.0016,  ..., 0.0004, 0.0004, 0.0004],\n",
      "        [0.1143, 0.0115, 0.0017,  ..., 0.0004, 0.0004, 0.0004]],\n",
      "       grad_fn=<SqueezeBackward0>)\n",
      "tensor([[0., 0., 0.,  ..., 0., 0., 0.],\n",
      "        [0., 0., 0.,  ..., 0., 0., 0.]])\n",
      "tensor(0.0004, grad_fn=<MeanBackward0>)\n",
      "26\n",
      "tensor([[0.1063, 0.0112, 0.0021,  ..., 0.0004, 0.0004, 0.0004],\n",
      "        [0.1455, 0.0199, 0.0027,  ..., 0.0004, 0.0004, 0.0004]],\n",
      "       grad_fn=<SqueezeBackward0>)\n",
      "tensor([[0., 0., 0.,  ..., 0., 0., 0.],\n",
      "        [0., 0., 0.,  ..., 0., 0., 0.]])\n",
      "tensor(0.0004, grad_fn=<MeanBackward0>)\n",
      "27\n",
      "tensor([[0.0880, 0.0081, 0.0016,  ..., 0.0004, 0.0004, 0.0004],\n",
      "        [0.1007, 0.0093, 0.0014,  ..., 0.0004, 0.0004, 0.0004]],\n",
      "       grad_fn=<SqueezeBackward0>)\n",
      "tensor([[0., 0., 0.,  ..., 0., 0., 0.],\n",
      "        [0., 0., 0.,  ..., 0., 0., 0.]])\n",
      "tensor(0.0004, grad_fn=<MeanBackward0>)\n",
      "28\n",
      "tensor([[0.0906, 0.0091, 0.0018,  ..., 0.0004, 0.0004, 0.0004],\n",
      "        [0.1850, 0.0412, 0.0062,  ..., 0.0018, 0.0018, 0.0018]],\n",
      "       grad_fn=<SqueezeBackward0>)\n",
      "tensor([[0., 0., 0.,  ..., 0., 0., 0.],\n",
      "        [0., 0., 0.,  ..., 0., 0., 0.]])\n",
      "tensor(0.0531, grad_fn=<MeanBackward0>)\n",
      "29\n",
      "tensor([[0.1070, 0.0152, 0.0029,  ..., 0.0003, 0.0003, 0.0004],\n",
      "        [0.0946, 0.0081, 0.0012,  ..., 0.0003, 0.0003, 0.0003]],\n",
      "       grad_fn=<SqueezeBackward0>)\n",
      "tensor([[0., 0., 0.,  ..., 0., 0., 0.],\n",
      "        [0., 0., 0.,  ..., 0., 0., 0.]])\n",
      "tensor(0.0004, grad_fn=<MeanBackward0>)\n"
     ]
    }
   ],
   "source": [
    "training_steps = 30\n",
    "batch_size = model.batch_size\n",
    "num_samples = input_list.size()[0]//batch_size\n",
    "idx = 0\n",
    "flag = 0\n",
    "for step in range(training_steps):\n",
    "    input_batch = input_list[idx*batch_size:(idx+1)*batch_size]\n",
    "    labels_batch = labels_list[idx*batch_size:(idx+1)*batch_size]\n",
    "    idx = (idx+1)%num_samples\n",
    "    print(step)\n",
    "    optimizer.zero_grad()\n",
    "    output_hat = model(input_batch)\n",
    "    #print(output_hat)\n",
    "    loss = loss_fn(output_hat, labels_batch)\n",
    "    loss.backward()\n",
    "    #for param in model.parameters():\n",
    "    #    print(param.grad)\n",
    "    print(loss)\n",
    "    optimizer.step()"
   ]
  },
  {
   "cell_type": "code",
   "execution_count": 271,
   "metadata": {},
   "outputs": [
    {
     "name": "stdout",
     "output_type": "stream",
     "text": [
      "1.0\n"
     ]
    }
   ],
   "source": [
    "outputs = (np.round(output_hat.detach().numpy()))\n",
    "labels = (labels_list.detach().numpy())\n",
    "from sklearn.metrics import accuracy_score, multilabel_confusion_matrix, classification_report\n",
    "print(accuracy_score(labels,outputs))"
   ]
  },
  {
   "cell_type": "code",
   "execution_count": 138,
   "metadata": {},
   "outputs": [
    {
     "data": {
      "text/plain": [
       "(array([0., 1.], dtype=float32), array([9056, 2972]))"
      ]
     },
     "execution_count": 138,
     "metadata": {},
     "output_type": "execute_result"
    }
   ],
   "source": [
    "np.unique(torch.round(output_hat).detach().numpy(),return_counts=True)"
   ]
  },
  {
   "cell_type": "code",
   "execution_count": 186,
   "metadata": {},
   "outputs": [
    {
     "name": "stdout",
     "output_type": "stream",
     "text": [
      "0\n",
      "1\n",
      "2\n",
      "3\n",
      "4\n",
      "5\n",
      "6\n",
      "7\n",
      "8\n",
      "9\n",
      "10\n",
      "11\n",
      "12\n",
      "13\n",
      "14\n"
     ]
    }
   ],
   "source": [
    "output_list = []\n",
    "idx = 0\n",
    "num_samples = labels_list.size()[0]//batch_size\n",
    "with torch.no_grad():\n",
    "    while(idx < num_samples):\n",
    "        print(idx)\n",
    "        input_batch = input_list[idx*batch_size:(idx+1)*batch_size]\n",
    "        labels_batch = labels_list[idx*batch_size:(idx+1)*batch_size]\n",
    "        idx = idx+1\n",
    "        output_hat = model(input_batch)\n",
    "        #print(output_hat)\n",
    "        #for param in model.parameters():\n",
    "        #    print(param.grad)\n",
    "        output_list.append(output_hat)\n",
    "    output_list = torch.cat(output_list, dim = 0)"
   ]
  },
  {
   "cell_type": "code",
   "execution_count": 188,
   "metadata": {},
   "outputs": [
    {
     "data": {
      "text/plain": [
       "torch.Size([30, 6014])"
      ]
     },
     "execution_count": 188,
     "metadata": {},
     "output_type": "execute_result"
    }
   ],
   "source": [
    "torch.sum"
   ]
  },
  {
   "cell_type": "code",
   "execution_count": 189,
   "metadata": {},
   "outputs": [
    {
     "name": "stdout",
     "output_type": "stream",
     "text": [
      "Frame error Rate :[tensor(0.), tensor(0.), tensor(0.), tensor(0.), tensor(0.), tensor(0.), tensor(3.7745), tensor(0.), tensor(0.), tensor(0.), tensor(0.), tensor(0.), tensor(0.), tensor(3.8577), tensor(8.7463), tensor(0.), tensor(0.), tensor(0.), tensor(0.), tensor(0.), tensor(0.), tensor(0.), tensor(0.), tensor(0.), tensor(0.), tensor(0.), tensor(0.), tensor(2.2946), tensor(0.), tensor(0.)]\n",
      "180420\n"
     ]
    }
   ],
   "source": [
    "def get_frame_error_rate(output_hat, labels):\n",
    "    num_samples = labels.size()[0]\n",
    "    fer_arr = []\n",
    "    for i in range(num_samples):\n",
    "        curr_output = output_hat[i]\n",
    "        curr_label = labels[i]\n",
    "        fer_arr.append(torch.mean(torch.add(curr_output,curr_label)%2).data*100)\n",
    "    return fer_arr\n",
    "\n",
    "def test_frame_error_rate(output_hat, labels):\n",
    "    num_samples = labels.size()[0]\n",
    "    s_length = labels.size()[1]\n",
    "    fer_arr = []\n",
    "    sum = 0\n",
    "    for i in range(num_samples):\n",
    "        curr_output = output_hat[i]\n",
    "        curr_label = labels[i]\n",
    "        for j in range(s_length):\n",
    "            if curr_output[j] == curr_label[j]:\n",
    "                pass\n",
    "            else:\n",
    "                sum = sum+1\n",
    "        fer_arr.append(torch.mean(torch.add(curr_output,curr_label)%2)*100)\n",
    "    return sum\n",
    "\n",
    "with torch.no_grad():\n",
    "    print(\"Frame error Rate :\" + str(get_frame_error_rate(torch.round(output_list),labels_list)))\n",
    "    print(test_frame_error_rate(output_list, labels_list))"
   ]
  },
  {
   "cell_type": "code",
   "execution_count": 190,
   "metadata": {},
   "outputs": [
    {
     "data": {
      "text/plain": [
       "tensor(5563.)"
      ]
     },
     "execution_count": 190,
     "metadata": {},
     "output_type": "execute_result"
    }
   ],
   "source": [
    "torch.sum(torch.round(output_list))"
   ]
  },
  {
   "cell_type": "code",
   "execution_count": 67,
   "metadata": {},
   "outputs": [
    {
     "name": "stdout",
     "output_type": "stream",
     "text": [
      "0\n"
     ]
    },
    {
     "data": {
      "text/plain": [
       "<Figure size 1008x360 with 0 Axes>"
      ]
     },
     "metadata": {},
     "output_type": "display_data"
    },
    {
     "data": {
      "image/png": "[encoded data removed]",
      "text/plain": [
       "<Figure size 432x288 with 2 Axes>"
      ]
     },
     "metadata": {
      "needs_background": "light"
     },
     "output_type": "display_data"
    },
    {
     "name": "stdout",
     "output_type": "stream",
     "text": [
      "1\n"
     ]
    },
    {
     "data": {
      "text/plain": [
       "<Figure size 1008x360 with 0 Axes>"
      ]
     },
     "metadata": {},
     "output_type": "display_data"
    },
    {
     "data": {
      "image/png": "[encoded data removed]",
      "text/plain": [
       "<Figure size 432x288 with 2 Axes>"
      ]
     },
     "metadata": {
      "needs_background": "light"
     },
     "output_type": "display_data"
    },
    {
     "name": "stdout",
     "output_type": "stream",
     "text": [
      "2\n"
     ]
    },
    {
     "data": {
      "text/plain": [
       "<Figure size 1008x360 with 0 Axes>"
      ]
     },
     "metadata": {},
     "output_type": "display_data"
    },
    {
     "data": {
      "image/png": "[encoded data removed]",
      "text/plain": [
       "<Figure size 432x288 with 2 Axes>"
      ]
     },
     "metadata": {
      "needs_background": "light"
     },
     "output_type": "display_data"
    },
    {
     "name": "stdout",
     "output_type": "stream",
     "text": [
      "3\n"
     ]
    },
    {
     "data": {
      "text/plain": [
       "<Figure size 1008x360 with 0 Axes>"
      ]
     },
     "metadata": {},
     "output_type": "display_data"
    },
    {
     "data": {
      "image/png": "[encoded data removed]",
      "text/plain": [
       "<Figure size 432x288 with 2 Axes>"
      ]
     },
     "metadata": {
      "needs_background": "light"
     },
     "output_type": "display_data"
    },
    {
     "name": "stdout",
     "output_type": "stream",
     "text": [
      "4\n"
     ]
    },
    {
     "data": {
      "text/plain": [
       "<Figure size 1008x360 with 0 Axes>"
      ]
     },
     "metadata": {},
     "output_type": "display_data"
    },
    {
     "data": {
      "image/png": "[encoded data removed]",
      "text/plain": [
       "<Figure size 432x288 with 2 Axes>"
      ]
     },
     "metadata": {
      "needs_background": "light"
     },
     "output_type": "display_data"
    },
    {
     "name": "stdout",
     "output_type": "stream",
     "text": [
      "5\n"
     ]
    },
    {
     "data": {
      "text/plain": [
       "<Figure size 1008x360 with 0 Axes>"
      ]
     },
     "metadata": {},
     "output_type": "display_data"
    },
    {
     "data": {
      "image/png": "[encoded data removed]",
      "text/plain": [
       "<Figure size 432x288 with 2 Axes>"
      ]
     },
     "metadata": {
      "needs_background": "light"
     },
     "output_type": "display_data"
    }
   ],
   "source": [
    "def plot_outputs(input_list, labels_list, output_hat, sample_rate = 22050):\n",
    "    num_samples = input_list.size()[0]\n",
    "    diff_labels = labels_list - output_hat\n",
    "    for i in range(num_samples):\n",
    "        print(i)\n",
    "        plt.figure(figsize=(14,5))\n",
    "        fig,(ax1,ax2) = plt.subplots(2,1)\n",
    "        librosa.display.waveshow(input_list[i].numpy(),sample_rate,ax = ax1)\n",
    "        ax2.plot(diff_labels[i].numpy())\n",
    "        plt.show()\n",
    "    return    \n",
    "    \n",
    "    \n",
    "with torch.no_grad():\n",
    "    plot_outputs(input_list,labels_list,output_hat)"
   ]
  },
  {
   "cell_type": "code",
   "execution_count": 36,
   "metadata": {},
   "outputs": [
    {
     "data": {
      "text/plain": [
       "tensor(144.9933, grad_fn=<SumBackward0>)"
      ]
     },
     "execution_count": 36,
     "metadata": {},
     "output_type": "execute_result"
    }
   ],
   "source": []
  },
  {
   "cell_type": "code",
   "execution_count": null,
   "metadata": {},
   "outputs": [],
   "source": [
    "filepath = '/project/graziul/ra/ajays/trimmed_threshold_plots/frame_error_rate_52.png'\n",
    "import matplotlib.image as img\n",
    "my_img = img.imread(filepath)\n",
    "plt.imshow(my_img)"
   ]
  }
 ],
 "metadata": {
  "kernelspec": {
   "display_name": "ajay_env",
   "language": "python",
   "name": "ajay_env"
  },
  "language_info": {
   "codemirror_mode": {
    "name": "ipython",
    "version": 3
   },
   "file_extension": ".py",
   "mimetype": "text/x-python",
   "name": "python",
   "nbconvert_exporter": "python",
   "pygments_lexer": "ipython3",
   "version": "3.9.7"
  }
 },
 "nbformat": 4,
 "nbformat_minor": 4
}
