{
 "cells": [
  {
   "cell_type": "markdown",
   "id": "4e296322",
   "metadata": {},
   "source": [
    "## Preprocessing (run once unless data already preprocessed)"
   ]
  },
  {
   "cell_type": "markdown",
   "id": "d2f2138d",
   "metadata": {},
   "source": [
    "### Utility functions"
   ]
  },
  {
   "cell_type": "code",
   "execution_count": 80,
   "id": "87c36a02",
   "metadata": {},
   "outputs": [],
   "source": [
    "import torch\n",
    "import torch.nn as nn\n",
    "import torch.nn.functional as F\n",
    "import torch.optim as optim\n",
    "#import matplotlib.pyplot as plt\n",
    "#import torchaudio\n",
    "import torch\n",
    "import numpy as np\n",
    "import pandas as pd\n",
    "import os\n",
    "import pickle\n",
    "import re\n",
    "#import torchaudio.transforms as T\n",
    "import math\n",
    "#import librosa\n",
    "#import librosa.display\n",
    "#import matplotlib.patches as patches\n",
    "from glob import glob\n",
    "\n",
    "torch.manual_seed(1)\n",
    "\n",
    "def convert_to_ms(times_list):\n",
    "    ms_time_list = []\n",
    "    for elt in times_list:\n",
    "        ms_time_list.append([int(elt[0]*1000),int(elt[1]*1000)])\n",
    "    return ms_time_list\n",
    "\n",
    "def load_data(pkl_path = '/project/graziul/ra/ajays/whitelisted_vad_dict.pkl'):\n",
    "    file = open(pkl_path,'rb')\n",
    "    vad_dict = pickle.load(file)\n",
    "    file.close()\n",
    "    input_list = []\n",
    "    labels_list = []\n",
    "\n",
    "    for idx,key in enumerate(vad_dict):\n",
    "        print(idx)\n",
    "        if idx > 100000000:\n",
    "            break\n",
    "        a = audio_file(key)\n",
    "        a.get_slices(vad_dict)\n",
    "        input_list.append(a.get_split_mfcc()) \n",
    "        a.get_split_frames()\n",
    "        labels_list.append(a.get_split_labels()) \n",
    "        #a.get_plots()\n",
    "    input_list = torch.cat(input_list)\n",
    "    input_list = torch.transpose(input_list,1,2)\n",
    "    labels_list = torch.from_numpy(np.concatenate(labels_list,axis = 0)).float()\n",
    "    return input_list, labels_list\n",
    "\n",
    "def load_data_limit(k=10000000,pkl_path = '/project/graziul/ra/ajays/whitelisted_vad_dict.pkl'): #load a subset of data\n",
    "    #pkl_path = '/project/graziul/data/Zone1/2018_08_04/2018_08_04vad_dict.pkl'\n",
    "    file = open(pkl_path,'rb')\n",
    "    vad_dict = pickle.load(file)\n",
    "    file.close()\n",
    "    input_list = []\n",
    "    labels_list = []\n",
    "\n",
    "    for idx,key in enumerate(vad_dict):\n",
    "        print(idx)\n",
    "        if(idx == k):\n",
    "            break\n",
    "        a = audio_file(key)\n",
    "        a.get_slices(vad_dict)\n",
    "        input_list.append(a.get_split_mfcc()) \n",
    "        a.get_split_frames()\n",
    "        labels_list.append(a.get_split_labels()) \n",
    "        #a.get_plots()\n",
    "    input_list = torch.cat(input_list)\n",
    "    input_list = torch.transpose(input_list,1,2)\n",
    "    labels_list = torch.from_numpy(np.concatenate(labels_list,axis = 0)).float()\n",
    "    return input_list, labels_list\n",
    "\n",
    "def divide_audio(datafile, div_size = 30): #Divide the audio clip into bits of 1 minute each\n",
    "#resizes input arrays from (1,feature_length, time) to (div_size,feature_length,time/div_length)\n",
    "    return np.reshape(datafile,[div_size,datafile.shape[1],datafile.shape[2]//div_size])\n",
    "\n",
    "class audio_file():\n",
    "    def __init__(self, name,new_flag = 1):\n",
    "        self.name = name\n",
    "        self.vad_slices = None\n",
    "        self.frames = None\n",
    "        self.frames_labels = None\n",
    "        self.mfcc = None\n",
    "        self.n_clips = 300\n",
    "        self.sample_rate = 22050\n",
    "        self.flag = new_flag\n",
    "    \n",
    "    def get_slices(self, vad_dict):\n",
    "        if self.flag == 1:\n",
    "            self.vad_slices = vad_dict[self.name]['nonsilent_slices']\n",
    "        else:\n",
    "            self.vad_slices = vad_dict[self.name]['pydub'][-24]['nonsilent_slices']\n",
    "        return self.vad_slices\n",
    "    \n",
    "    def get_frames(self):\n",
    "        ms_2_sample = self.sample_rate/1000\n",
    "        frames_array = np.zeros(self.mfcc.shape[2])\n",
    "\n",
    "        for v in self.vad_slices:\n",
    "            start = math.floor(v[0]*ms_2_sample)\n",
    "            end = math.ceil(v[1]*ms_2_sample)\n",
    "            #print(v)\n",
    "            for i in range(start,end):\n",
    "                n = math.floor(i/220)\n",
    "                j = i%220\n",
    "                if j <= 110:\n",
    "                    frames_array[n-2] += 1\n",
    "                    frames_array[n-1] += 1\n",
    "                    frames_array[n] += 1\n",
    "                elif j>=111 and j<=220:\n",
    "                    frames_array[n-1] += 1\n",
    "                    frames_array[n] += 1\n",
    "                elif j>=221 and j<=330:\n",
    "                    frames_array[n-1] += 1\n",
    "                    frames_array[n] += 1\n",
    "                    frames_array[n+1] += 1\n",
    "                elif j>=331 and j<=440:\n",
    "                    frames_array[n+1] += 1\n",
    "                    frames_array[n] += 1\n",
    "                elif j>=441:\n",
    "                    frames_array[n+2] += 1\n",
    "                    frames_array[n+1] += 1\n",
    "                    frames_array[n] += 1\n",
    "            \n",
    "        self.frames = frames_array\n",
    "        return self.frames\n",
    "        \n",
    "    def get_split_frames(self):\n",
    "        ms_2_sample = self.sample_rate/1000\n",
    "        frames_array = np.zeros(self.mfcc.shape[2]*self.n_clips)\n",
    "        print(frames_array.shape)\n",
    "\n",
    "        for v in self.vad_slices:\n",
    "            start = math.floor(v[0]*ms_2_sample)\n",
    "            end = math.ceil(v[1]*ms_2_sample)\n",
    "            for i in range(start,end):\n",
    "                n = min(math.floor(i/220),len(frames_array)-1)\n",
    "                j = i%220\n",
    "                if j <= 110:\n",
    "                    frames_array[n-2] += 1\n",
    "                    frames_array[n-1] += 1\n",
    "                    frames_array[n] += 1\n",
    "                elif j>=111 and j<=220:\n",
    "                    frames_array[n-1] += 1\n",
    "                    frames_array[n] += 1\n",
    "                elif j>=221 and j<=330:\n",
    "                    frames_array[n-1] += 1\n",
    "                    frames_array[n] += 1\n",
    "                    frames_array[n+1] += 1\n",
    "                elif j>=331 and j<=440:\n",
    "                    frames_array[n+1] += 1\n",
    "                    frames_array[n] += 1\n",
    "                elif j>=441:\n",
    "                    frames_array[n+2] += 1\n",
    "                    frames_array[n+1] += 1\n",
    "                    frames_array[n] += 1\n",
    "        \n",
    "        self.clip_size = self.mfcc.shape[2]\n",
    "        frame_arr_list = []\n",
    "        for j in range(self.n_clips):\n",
    "            frame_arr_list.append(np.expand_dims(frames_array[j*self.clip_size:(j+1)*self.clip_size],axis=0))\n",
    "        self.frames = np.concatenate(frame_arr_list,axis=0)\n",
    "        return self.frames\n",
    "        \n",
    "    def get_labels(self): \n",
    "        self.frames_labels = np.zeros(len(self.frames))\n",
    "        self.frames_labels[np.where(self.frames>0)] = 1\n",
    "        return self.frames_labels\n",
    "    \n",
    "    def get_split_labels(self):\n",
    "        self.frames_labels = np.zeros_like(self.frames)\n",
    "        self.frames_labels[np.where(self.frames>0)] = 1\n",
    "        return self.frames_labels\n",
    "        \n",
    "    def get_mfcc(self): \n",
    "        if self.flag == 0:\n",
    "            file_name = '/project/graziul/data/Zone1/2018_08_04/' + self.name\n",
    "        else:\n",
    "            file_name = self.name\n",
    "        self.waveform, self.sample_rate = torchaudio.load(file_name)\n",
    "        pad_array = torch.zeros((1,10000*self.sample_rate))\n",
    "        pad_array[:,:self.waveform.shape[1]] = self.waveform\n",
    "        self.waveform = pad_array\n",
    "        self.waveform = self.waveform[:,:1800*self.sample_rate] #Clip the file at 1800s\n",
    "        n_fft = 2048\n",
    "        win_length = 551\n",
    "        hop_length = 220\n",
    "        n_mels = 40\n",
    "        n_mfcc = 40\n",
    "\n",
    "        mfcc_transform = T.MFCC(\n",
    "            sample_rate=self.sample_rate,\n",
    "            n_mfcc=n_mfcc,\n",
    "            melkwargs={\n",
    "              'n_fft': n_fft,\n",
    "              'n_mels': n_mels,\n",
    "              'hop_length': hop_length,\n",
    "              'mel_scale': 'htk',\n",
    "            }\n",
    "        )\n",
    "\n",
    "        self.mfcc = mfcc_transform(self.waveform)\n",
    "        return self.mfcc\n",
    "    \n",
    "    def get_split_mfcc(self):\n",
    "        if self.flag == 1:\n",
    "            file_name = self.name\n",
    "        else:\n",
    "            file_name = '/project/graziul/data/Zone1/2018_08_04/' + self.name\n",
    "        self.waveform, self.sample_rate = torchaudio.load(file_name)\n",
    "        pad_array = torch.zeros((1,10000*self.sample_rate))\n",
    "        pad_array[:,:self.waveform.shape[1]] = self.waveform\n",
    "        self.waveform = pad_array\n",
    "        self.waveform = self.waveform[:,:1800*self.sample_rate] #Clip the file at 1800s\n",
    "        clip_size = math.floor(self.waveform.shape[1]/self.n_clips)\n",
    "        n_clips = self.n_clips\n",
    "        mfcc_list = []\n",
    "        n_fft = 2048\n",
    "        win_length = 551\n",
    "        hop_length = 220\n",
    "        n_mels = 40\n",
    "        n_mfcc = 40\n",
    "        mfcc_transform = T.MFCC(\n",
    "                sample_rate=self.sample_rate,\n",
    "                n_mfcc=n_mfcc,\n",
    "                melkwargs={\n",
    "                  'n_fft': n_fft,\n",
    "                  'n_mels': n_mels,\n",
    "                  'hop_length': hop_length,\n",
    "                  'mel_scale': 'htk',\n",
    "                }\n",
    "            )\n",
    "        for i in range(n_clips):\n",
    "            mfcc_list.append(mfcc_transform(self.waveform[:,i*clip_size:(i+1)*clip_size]))\n",
    "        self.mfcc = torch.cat(mfcc_list)\n",
    "        return self.mfcc"
   ]
  },
  {
   "cell_type": "markdown",
   "id": "86782b1f",
   "metadata": {},
   "source": [
    "### Preprocess the BPC data"
   ]
  },
  {
   "cell_type": "code",
   "execution_count": null,
   "id": "86863ccd",
   "metadata": {},
   "outputs": [],
   "source": [
    "input_list, labels_list = load_data_limit()\n",
    "torch.save(input_list, 'bpc_input')\n",
    "torch.save(labels_list, 'bpc_labels')"
   ]
  },
  {
   "cell_type": "markdown",
   "id": "3cdf8b43",
   "metadata": {},
   "source": [
    "## Simple LSTM"
   ]
  },
  {
   "cell_type": "markdown",
   "id": "e1e55312",
   "metadata": {},
   "source": [
    "### Load the BPC data and select the training set"
   ]
  },
  {
   "cell_type": "code",
   "execution_count": 38,
   "id": "c05c465f",
   "metadata": {},
   "outputs": [],
   "source": [
    "import torch\n",
    "from torch.utils.data import TensorDataset, DataLoader\n",
    "import torch.nn as nn\n",
    "\n",
    "input_list = torch.load('bpc_input')\n",
    "labels_list = torch.load('bpc_labels')\n",
    "\n",
    "shuffle = False\n",
    "batch_size = 100\n",
    "sequence_length = 602 # the length of each truncated segment\n",
    "input_size = 40 # the number of MFCC's\n",
    "train_end = 80 # the end index of the training set\n",
    "data_size = sequence_length*train_end # the length of the training data\n",
    "\n",
    "train_data = TensorDataset(input_list[:train_end].reshape([train_end*sequence_length, input_size]), labels_list[:train_end].reshape((train_end*sequence_length)))\n",
    "train_loader = DataLoader(train_data, shuffle=shuffle, batch_size=batch_size)"
   ]
  },
  {
   "cell_type": "markdown",
   "id": "9ced9541",
   "metadata": {},
   "source": [
    "### Define the model"
   ]
  },
  {
   "cell_type": "code",
   "execution_count": 39,
   "id": "35627203",
   "metadata": {},
   "outputs": [],
   "source": [
    "import torch \n",
    "import torch.nn as nn\n",
    "import torchvision\n",
    "import torchvision.transforms as transforms\n",
    "\n",
    "device = torch.device('cuda' if torch.cuda.is_available() else 'cpu')\n",
    "\n",
    "hidden_size = 128\n",
    "num_layers = 2\n",
    "num_classes = 2\n",
    "num_epochs = 2\n",
    "learning_rate = 0.001\n",
    "\n",
    "class RNN(nn.Module):\n",
    "    def __init__(self, input_size, hidden_size, num_layers, num_classes):\n",
    "        super(RNN, self).__init__()\n",
    "        self.hidden_size = hidden_size\n",
    "        self.num_layers = num_layers\n",
    "        self.lstm = nn.LSTM(input_size, hidden_size, num_layers, batch_first=True)\n",
    "        self.fc = nn.Linear(hidden_size, num_classes)\n",
    "    \n",
    "    def forward(self, x):\n",
    "        # Set initial hidden and cell states \n",
    "        h0 = torch.zeros(self.num_layers, self.hidden_size).to(device) \n",
    "        c0 = torch.zeros(self.num_layers, self.hidden_size).to(device)\n",
    "        \n",
    "        # Forward propagate LSTM\n",
    "        out, _ = self.lstm(x, (h0, c0))  # out: tensor of shape (batch_size, seq_length, hidden_size)\n",
    "        \n",
    "        # Decode the hidden state of the last time step\n",
    "        out = self.fc(out[:, :])\n",
    "        return out\n",
    "\n",
    "model = RNN(input_size, hidden_size, num_layers, num_classes).to(device)\n",
    "\n",
    "# Loss and optimizer\n",
    "criterion = nn.CrossEntropyLoss()\n",
    "optimizer = torch.optim.Adam(model.parameters(), lr=learning_rate)"
   ]
  },
  {
   "cell_type": "markdown",
   "id": "727fa888",
   "metadata": {},
   "source": [
    "### Train the model"
   ]
  },
  {
   "cell_type": "code",
   "execution_count": 40,
   "id": "69ff0e3f",
   "metadata": {},
   "outputs": [
    {
     "name": "stdout",
     "output_type": "stream",
     "text": [
      "0.11719018083443905\n",
      "0.09855696779314739\n"
     ]
    }
   ],
   "source": [
    "total_step = len(train_loader)\n",
    "for epoch in range(num_epochs):  \n",
    "    running_loss = 0.0     \n",
    "    for i, (mfccs, labels) in enumerate(train_loader):\n",
    "        #mfccs = mfccs.reshape(-1, sequence_length, input_size)#.to(device)\n",
    "        #labels = labels#.to(device)\n",
    "        #mfccs = mfccs.reshape(mfccs.shape[0],1,mfccs.shape[1])\n",
    "        labels = labels.long().to(device)\n",
    "        # Forward pass\n",
    "        outputs = model(mfccs).to(device)\n",
    "        loss = criterion(outputs, labels)\n",
    "        # Backward and optimize\n",
    "        optimizer.zero_grad()\n",
    "        loss.backward()\n",
    "        optimizer.step()    \n",
    "        running_loss += loss.item() * batch_size\n",
    "    epoch_loss = running_loss / data_size\n",
    "    print(epoch_loss)"
   ]
  },
  {
   "cell_type": "markdown",
   "id": "476523ba",
   "metadata": {},
   "source": [
    "### Select the test set"
   ]
  },
  {
   "cell_type": "code",
   "execution_count": 41,
   "id": "370bcdb7",
   "metadata": {},
   "outputs": [],
   "source": [
    "batch_size = 100\n",
    "test_start = 80 # the start index of the test set\n",
    "test_end = 100 # the end index of the test set\n",
    "test_length = test_end-test_start # the length of the test set\n",
    "\n",
    "test_data = TensorDataset(input_list[test_start:test_end].reshape([test_length*sequence_length, input_size]), labels_list[test_start:test_end].reshape([test_length*sequence_length]))\n",
    "test_loader = DataLoader(test_data, shuffle=shuffle, batch_size=batch_size)"
   ]
  },
  {
   "cell_type": "markdown",
   "id": "a4338c3b",
   "metadata": {},
   "source": [
    "### Test the model"
   ]
  },
  {
   "cell_type": "code",
   "execution_count": 42,
   "id": "39f930e9",
   "metadata": {},
   "outputs": [
    {
     "name": "stdout",
     "output_type": "stream",
     "text": [
      "Test Accuracy of the model: 100.0 %\n"
     ]
    }
   ],
   "source": [
    "model.eval()\n",
    "with torch.no_grad():\n",
    "    correct = 0\n",
    "    total = 0\n",
    "    predictions_array = np.empty([0])\n",
    "    labels_array = np.empty([0])\n",
    "    for mfccs, labels in test_loader:\n",
    "        labels = labels.long()\n",
    "        labels_array = np.append(labels_array, labels.numpy())\n",
    "        #labels = labels#.to(device)\n",
    "        outputs = model(mfccs)\n",
    "        _, predicted = torch.max(outputs.data, 1)\n",
    "        predictions_array = np.append(predictions_array, predicted.numpy())\n",
    "        total += labels.size(0)\n",
    "        correct += (predicted == labels).sum().item()\n",
    "    print('Test Accuracy of the model: {} %'.format(100 * correct / total)) \n",
    "# Save the model checkpoint\n",
    "torch.save(model.state_dict(), 'lstm.ckpt')"
   ]
  },
  {
   "cell_type": "code",
   "execution_count": 43,
   "id": "5f9929e3",
   "metadata": {},
   "outputs": [
    {
     "data": {
      "text/plain": [
       "(1.0, 1.0, 1.0, None)"
      ]
     },
     "execution_count": 43,
     "metadata": {},
     "output_type": "execute_result"
    }
   ],
   "source": [
    "from sklearn.metrics import precision_recall_fscore_support\n",
    "precision_recall_fscore_support(labels_array, predictions_array, average='weighted')"
   ]
  },
  {
   "cell_type": "markdown",
   "id": "15febc43",
   "metadata": {},
   "source": [
    "### Results"
   ]
  },
  {
   "cell_type": "markdown",
   "id": "f1e79b78",
   "metadata": {},
   "source": [
    "2 layers, 128 units, 481,600 frames (~200 mins), not shuffled, alpha=0.001, batch size 100, 2 epochs\n",
    "    \n",
    "    BPC precision: 0.9081431961609046, recall: 0.9077325581395349, f1: 0.9079344068144921\n",
    "    ATC0 precision: 0.9488357406336964, recall: 0.9489027431421446, f1: 0.9488683496558303\n",
    "\n",
    "2 layers, 128 units, 481,600 frames (~200 mins), shuffled, alpha=0.001, batch size 100, 2 epochs\n",
    "\n",
    "    precision: 0.8985289906640821, recall: 0.9031395348837209, f1: 0.9002618553001477\n",
    "\n",
    "2 layers, 128 units, 481,600 frames (~200 mins), not shuffled, alpha=0.01, batch size 100, 4 epochs\n",
    "    \n",
    "    precision: 0.891586545627616, recall: 0.8993023255813953, f1: 0.8934031460609343\n",
    "    \n",
    "2 layers, 128 units, 481,600 frames (~200 mins), shuffled, alpha=0.01, batch size 100, 4 epochs\n",
    "    \n",
    "    precision: 0.8988646210040573, recall: 0.9013704318936877, f1: 0.8999850823134596"
   ]
  },
  {
   "cell_type": "markdown",
   "id": "2fb62755",
   "metadata": {},
   "source": [
    "## Bi-directional LSTM"
   ]
  },
  {
   "cell_type": "markdown",
   "id": "9811cdc5",
   "metadata": {},
   "source": [
    "### Define the model"
   ]
  },
  {
   "cell_type": "code",
   "execution_count": 75,
   "id": "2608a531",
   "metadata": {},
   "outputs": [],
   "source": [
    "device = torch.device('cuda' if torch.cuda.is_available() else 'cpu')\n",
    "\n",
    "hidden_size = 128\n",
    "num_layers = 2\n",
    "num_classes = 2\n",
    "num_epochs = 2\n",
    "learning_rate = 0.001\n",
    "\n",
    "class BiRNN(nn.Module):\n",
    "    def __init__(self, input_size, hidden_size, num_layers, num_classes):\n",
    "        super(BiRNN, self).__init__()\n",
    "        self.hidden_size = hidden_size\n",
    "        self.num_layers = num_layers\n",
    "        self.lstm = nn.LSTM(input_size, hidden_size, num_layers, batch_first=True, bidirectional=True)\n",
    "        self.fc = nn.Linear(hidden_size*2, num_classes)  # 2 for bidirection\n",
    "    \n",
    "    def forward(self, x):\n",
    "        # Set initial states\n",
    "        h0 = torch.zeros(self.num_layers*2, x.size(0), self.hidden_size).to(device) # 2 for bidirection \n",
    "        c0 = torch.zeros(self.num_layers*2, x.size(0), self.hidden_size).to(device)\n",
    "        # Forward propagate LSTM\n",
    "        out, _ = self.lstm(x, (h0, c0))  # out: tensor of shape (batch_size, seq_length, hidden_size*2)\n",
    "        # Decode the hidden state of the last time step\n",
    "        out = self.fc(out[:, -1, :])\n",
    "        return out\n",
    "\n",
    "model = BiRNN(input_size, hidden_size, num_layers, num_classes).to(device)\n",
    "\n",
    "# Loss and optimizer\n",
    "criterion = nn.CrossEntropyLoss()\n",
    "optimizer = torch.optim.Adam(model.parameters(), lr=learning_rate)"
   ]
  },
  {
   "cell_type": "markdown",
   "id": "45453f02",
   "metadata": {},
   "source": [
    "### Train the model"
   ]
  },
  {
   "cell_type": "code",
   "execution_count": 76,
   "id": "f713a843",
   "metadata": {},
   "outputs": [
    {
     "name": "stdout",
     "output_type": "stream",
     "text": [
      "0.10596395130038865\n",
      "0.08907226200261543\n"
     ]
    }
   ],
   "source": [
    "total_step = len(train_loader)\n",
    "for epoch in range(num_epochs):  \n",
    "    running_loss = 0.0     \n",
    "    for i, (mfccs, labels) in enumerate(train_loader):\n",
    "        #mfccs = mfccs.reshape(-1, sequence_length, input_size)#.to(device)\n",
    "        #labels = labels#.to(device)\n",
    "        mfccs = mfccs.reshape(mfccs.shape[0],1,mfccs.shape[1])\n",
    "        labels = labels.long().to(device)\n",
    "        # Forward pass\n",
    "        outputs = model(mfccs).to(device)\n",
    "        loss = criterion(outputs, labels)\n",
    "        # Backward and optimize\n",
    "        optimizer.zero_grad()\n",
    "        loss.backward()\n",
    "        optimizer.step()    \n",
    "        running_loss += loss.item() * batch_size\n",
    "    epoch_loss = running_loss / data_size\n",
    "    print(epoch_loss)"
   ]
  },
  {
   "cell_type": "markdown",
   "id": "bc23aa2b",
   "metadata": {},
   "source": [
    "### Test the model"
   ]
  },
  {
   "cell_type": "code",
   "execution_count": 78,
   "id": "559a0480",
   "metadata": {},
   "outputs": [
    {
     "name": "stdout",
     "output_type": "stream",
     "text": [
      "Test Accuracy of the model : 100.0 %\n"
     ]
    }
   ],
   "source": [
    "with torch.no_grad():\n",
    "    correct = 0\n",
    "    total = 0\n",
    "    for mfccs, labels in test_loader:\n",
    "        mfccs = mfccs.reshape(mfccs.shape[0],1,mfccs.shape[1])\n",
    "        #labels = labels.squeeze()\n",
    "        labels = labels.to(device)\n",
    "        outputs = model(mfccs)\n",
    "        _, predicted = torch.max(outputs.data, 1)\n",
    "        total += labels.size(0)\n",
    "        correct += (predicted == labels).sum().item()\n",
    "\n",
    "    print('Test Accuracy of the model : {} %'.format(100 * correct / total)) \n",
    "\n",
    "# Save the model checkpoint\n",
    "torch.save(model.state_dict(), 'bilstm.ckpt')"
   ]
  },
  {
   "cell_type": "code",
   "execution_count": 79,
   "id": "12b45748",
   "metadata": {},
   "outputs": [
    {
     "data": {
      "text/plain": [
       "(1.0, 1.0, 1.0, None)"
      ]
     },
     "execution_count": 79,
     "metadata": {},
     "output_type": "execute_result"
    }
   ],
   "source": [
    "from sklearn.metrics import precision_recall_fscore_support\n",
    "precision_recall_fscore_support(labels, predicted, average='weighted')"
   ]
  }
 ],
 "metadata": {
  "kernelspec": {
   "display_name": "Python 3 (ipykernel)",
   "language": "python",
   "name": "python3"
  },
  "language_info": {
   "codemirror_mode": {
    "name": "ipython",
    "version": 3
   },
   "file_extension": ".py",
   "mimetype": "text/x-python",
   "name": "python",
   "nbconvert_exporter": "python",
   "pygments_lexer": "ipython3",
   "version": "3.9.12"
  }
 },
 "nbformat": 4,
 "nbformat_minor": 5
}
