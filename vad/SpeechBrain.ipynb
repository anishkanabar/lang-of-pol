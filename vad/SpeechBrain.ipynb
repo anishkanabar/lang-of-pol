{
 "cells": [
  {
   "cell_type": "code",
   "execution_count": 42,
   "id": "8bd78eb6",
   "metadata": {},
   "outputs": [],
   "source": [
    "import pickle\n",
    "pkl_path = '/project/graziul/ra/ajays/whitelisted_vad_dict.pkl'\n",
    "file = open(pkl_path,'rb')\n",
    "vad_dict = pickle.load(file)"
   ]
  },
  {
   "cell_type": "code",
   "execution_count": 4,
   "id": "7b2acde6",
   "metadata": {},
   "outputs": [],
   "source": [
    "key = list(vad_dict.keys())[0]"
   ]
  },
  {
   "cell_type": "code",
   "execution_count": 44,
   "id": "9074f59b",
   "metadata": {},
   "outputs": [
    {
     "name": "stdout",
     "output_type": "stream",
     "text": [
      "/project/graziul/ra/anishk/VAD/Data/201808100021-669974-27730.wav\n",
      "[   6979    9388    9999   15728   24679   27868   29999   35789   43158\n",
      "   44658   47859   55798   58228   60378  293308  295379  383659  390538\n",
      "  391969  393868  556928  558918  676249  678949  686478  689569  691218\n",
      "  702629  759999  769888  802228  805228  889999  890348  892978  895189\n",
      "  899999  901578  987328  989528  991879  993158  994578 1002118 1214618\n",
      " 1216048 1648769 1651858 1654738 1661668 1771688 1782608 1792338 1795798\n",
      " 1798688 1803178 1804188 1809988]\n",
      "/project/graziul/ra/anishk/VAD/Data/201808100051-862340-27730.wav\n",
      "[   1718    5178    7999   12129   13548   19948   42828   44488   45058\n",
      "   45618   59999   66138   68798   75219  264148  266518  268668  270969\n",
      "  272078  274838  390008  392478  394608  396969  475659  476878  477418\n",
      "  482499  491068  491808  574288  579988  654468  656828  657288  658408\n",
      "  659999  669988  682518  684588  687798  693238  698098  699658  709699\n",
      "  716408  719288  722689  725569  728908  733288  737048  739999  741708\n",
      "  742618  744538  749689  751379  845189  846278  968228  985588 1154368\n",
      " 1155048 1159999 1161718 1163578 1167488 1189999 1195678 1234168 1235538\n",
      " 1239379 1241328 1243958 1245298 1336558 1337548 1657228 1659708 1659988\n",
      " 1692418 1699999 1702848 1749738 1759769 1773418 1775558]\n",
      "/project/graziul/ra/anishk/VAD/Data/201808100121-608175-27730.wav\n",
      "[ 121138  145028  326638  328168  329999  346668  359999  367749  377129\n",
      "  378719  384249  397159  408928  423668  425948  429988  448988  451818\n",
      "  454738  474758  481418  495868  499999  505898  524288  527038  533648\n",
      "  553608  555168  556439  559999  567118  575228  576808  579999  580978\n",
      "  591898  595598  597199  600148  629999  646509  663618  665629  668368\n",
      "  669689  717978  719338  722918  725328  728328  744348  752509  755038\n",
      "  851848  860678  867629  869398  870009  883338  889999  895108  901788\n",
      "  906178  907048  909228  943418  945629  949488  965008 1059999 1066759\n",
      " 1082918 1086629 1096529 1097909 1112139 1121198 1142708 1143639 1149999\n",
      " 1156308 1171118 1175588 1281658 1283368 1284608 1293658 1306658 1309718\n",
      " 1309999 1314029 1318338 1327678 1444639 1446718 1448188 1449458 1449999\n",
      " 1456198 1479999 1483769 1576519 1582558 1595368 1599149 1599999 1600788\n",
      " 1618778 1627718 1746108 1750238 1759618 1781228 1783648 1785088 1789088]\n",
      "/project/graziul/ra/anishk/VAD/Data/201808100151-536595-27730.wav\n",
      "[ 10839  40878  45019  45859  47058  64649  67708  89999  93109  95518\n",
      "  97708  99999 111438 118179 122658 176878 179008 188719 195458 198158\n",
      " 205109 209999 215148 232058 233469 238978 242268 244028 245128 246109\n",
      " 251249 256198 258008 269999 275118 287499 290168 299988 300719 306069\n",
      " 308778 311298 317918 321708 324358 484088 487888]\n",
      "/project/graziul/ra/anishk/VAD/Data/201808111508-661302-27730.wav\n",
      "[  99999  101429  172178  172758  209999  212198  217719  218788  329999\n",
      "  331758  437719  438808  513118  515308  571639  573538  793788  795379\n",
      " 1029058 1034129 1036108 1047948 1049098 1052639 1069238 1079988 1212649\n",
      " 1229168 1398779 1401249 1402668 1407538 1412928 1415188 1419999 1423328\n",
      " 1621558 1623168 1629168 1633348 1666558 1668588 1669999 1677608]\n",
      "/project/graziul/ra/anishk/VAD/Data/201808111538-917671-27730.wav\n"
     ]
    },
    {
     "ename": "KeyboardInterrupt",
     "evalue": "",
     "output_type": "error",
     "traceback": [
      "\u001b[0;31m---------------------------------------------------------------------------\u001b[0m",
      "\u001b[0;31mKeyboardInterrupt\u001b[0m                         Traceback (most recent call last)",
      "\u001b[0;32m~/ipykernel_629922/2124825146.py\u001b[0m in \u001b[0;36m<module>\u001b[0;34m\u001b[0m\n\u001b[1;32m     19\u001b[0m     \u001b[0mtorchaudio\u001b[0m\u001b[0;34m.\u001b[0m\u001b[0msave\u001b[0m\u001b[0;34m(\u001b[0m\u001b[0mpath\u001b[0m\u001b[0;34m,\u001b[0m \u001b[0mwaveform\u001b[0m\u001b[0;34m,\u001b[0m \u001b[0;36m16000\u001b[0m\u001b[0;34m,\u001b[0m \u001b[0mformat\u001b[0m\u001b[0;34m=\u001b[0m\u001b[0;34m'wav'\u001b[0m\u001b[0;34m,\u001b[0m \u001b[0mencoding\u001b[0m\u001b[0;34m=\u001b[0m\u001b[0;34m\"PCM_S\"\u001b[0m\u001b[0;34m,\u001b[0m \u001b[0mbits_per_sample\u001b[0m\u001b[0;34m=\u001b[0m\u001b[0;36m16\u001b[0m\u001b[0;34m)\u001b[0m\u001b[0;34m\u001b[0m\u001b[0;34m\u001b[0m\u001b[0m\n\u001b[1;32m     20\u001b[0m     \u001b[0mVAD\u001b[0m \u001b[0;34m=\u001b[0m \u001b[0mVAD\u001b[0m\u001b[0;34m.\u001b[0m\u001b[0mfrom_hparams\u001b[0m\u001b[0;34m(\u001b[0m\u001b[0msource\u001b[0m\u001b[0;34m=\u001b[0m\u001b[0;34m\"speechbrain/vad-crdnn-libriparty\"\u001b[0m\u001b[0;34m,\u001b[0m \u001b[0msavedir\u001b[0m\u001b[0;34m=\u001b[0m\u001b[0;34m\"pretrained_models/vad-crdnn-libriparty\"\u001b[0m\u001b[0;34m)\u001b[0m\u001b[0;34m\u001b[0m\u001b[0;34m\u001b[0m\u001b[0m\n\u001b[0;32m---> 21\u001b[0;31m     \u001b[0mboundaries\u001b[0m \u001b[0;34m=\u001b[0m \u001b[0mnp\u001b[0m\u001b[0;34m.\u001b[0m\u001b[0marray\u001b[0m\u001b[0;34m(\u001b[0m\u001b[0mVAD\u001b[0m\u001b[0;34m.\u001b[0m\u001b[0mget_speech_segments\u001b[0m\u001b[0;34m(\u001b[0m\u001b[0mpath\u001b[0m\u001b[0;34m)\u001b[0m\u001b[0;34m)\u001b[0m\u001b[0;34m\u001b[0m\u001b[0;34m\u001b[0m\u001b[0m\n\u001b[0m\u001b[1;32m     22\u001b[0m \u001b[0;34m\u001b[0m\u001b[0m\n\u001b[1;32m     23\u001b[0m     \u001b[0mpredictions\u001b[0m \u001b[0;34m=\u001b[0m \u001b[0mnp\u001b[0m\u001b[0;34m.\u001b[0m\u001b[0mzeros\u001b[0m\u001b[0;34m(\u001b[0m\u001b[0mvad_dict\u001b[0m\u001b[0;34m[\u001b[0m\u001b[0mkey\u001b[0m\u001b[0;34m]\u001b[0m\u001b[0;34m[\u001b[0m\u001b[0;34m'nonsilent_slices'\u001b[0m\u001b[0;34m]\u001b[0m\u001b[0;34m[\u001b[0m\u001b[0;34m-\u001b[0m\u001b[0;36m1\u001b[0m\u001b[0;34m]\u001b[0m\u001b[0;34m[\u001b[0m\u001b[0;36m1\u001b[0m\u001b[0;34m]\u001b[0m\u001b[0;34m)\u001b[0m\u001b[0;34m\u001b[0m\u001b[0;34m\u001b[0m\u001b[0m\n",
      "\u001b[0;32m~/anaconda3/envs/VAD/lib/python3.9/site-packages/speechbrain/pretrained/interfaces.py\u001b[0m in \u001b[0;36mget_speech_segments\u001b[0;34m(self, audio_file, large_chunk_size, small_chunk_size, overlap_small_chunk, apply_energy_VAD, double_check, close_th, len_th, activation_th, deactivation_th, en_activation_th, en_deactivation_th, speech_th)\u001b[0m\n\u001b[1;32m   1859\u001b[0m \u001b[0;34m\u001b[0m\u001b[0m\n\u001b[1;32m   1860\u001b[0m         \u001b[0;31m# Computing speech vs non speech probabilities\u001b[0m\u001b[0;34m\u001b[0m\u001b[0;34m\u001b[0m\u001b[0m\n\u001b[0;32m-> 1861\u001b[0;31m         prob_chunks = self.get_speech_prob_file(\n\u001b[0m\u001b[1;32m   1862\u001b[0m             \u001b[0maudio_file\u001b[0m\u001b[0;34m,\u001b[0m\u001b[0;34m\u001b[0m\u001b[0;34m\u001b[0m\u001b[0m\n\u001b[1;32m   1863\u001b[0m             \u001b[0mlarge_chunk_size\u001b[0m\u001b[0;34m=\u001b[0m\u001b[0mlarge_chunk_size\u001b[0m\u001b[0;34m,\u001b[0m\u001b[0;34m\u001b[0m\u001b[0;34m\u001b[0m\u001b[0m\n",
      "\u001b[0;32m~/anaconda3/envs/VAD/lib/python3.9/site-packages/speechbrain/pretrained/interfaces.py\u001b[0m in \u001b[0;36mget_speech_prob_file\u001b[0;34m(self, audio_file, large_chunk_size, small_chunk_size, overlap_small_chunk)\u001b[0m\n\u001b[1;32m   1069\u001b[0m \u001b[0;34m\u001b[0m\u001b[0m\n\u001b[1;32m   1070\u001b[0m             \u001b[0;31m# Reading the big chunk\u001b[0m\u001b[0;34m\u001b[0m\u001b[0;34m\u001b[0m\u001b[0m\n\u001b[0;32m-> 1071\u001b[0;31m             large_chunk, fs = torchaudio.load(\n\u001b[0m\u001b[1;32m   1072\u001b[0m                 \u001b[0maudio_file\u001b[0m\u001b[0;34m,\u001b[0m \u001b[0mframe_offset\u001b[0m\u001b[0;34m=\u001b[0m\u001b[0mbegin_sample\u001b[0m\u001b[0;34m,\u001b[0m \u001b[0mnum_frames\u001b[0m\u001b[0;34m=\u001b[0m\u001b[0mlong_chunk_len\u001b[0m\u001b[0;34m\u001b[0m\u001b[0;34m\u001b[0m\u001b[0m\n\u001b[1;32m   1073\u001b[0m             )\n",
      "\u001b[0;32m~/anaconda3/envs/VAD/lib/python3.9/site-packages/torchaudio/backend/sox_io_backend.py\u001b[0m in \u001b[0;36mload\u001b[0;34m(filepath, frame_offset, num_frames, normalize, channels_first, format)\u001b[0m\n\u001b[1;32m    150\u001b[0m                 filepath, frame_offset, num_frames, normalize, channels_first, format)\n\u001b[1;32m    151\u001b[0m         \u001b[0mfilepath\u001b[0m \u001b[0;34m=\u001b[0m \u001b[0mos\u001b[0m\u001b[0;34m.\u001b[0m\u001b[0mfspath\u001b[0m\u001b[0;34m(\u001b[0m\u001b[0mfilepath\u001b[0m\u001b[0;34m)\u001b[0m\u001b[0;34m\u001b[0m\u001b[0;34m\u001b[0m\u001b[0m\n\u001b[0;32m--> 152\u001b[0;31m     return torch.ops.torchaudio.sox_io_load_audio_file(\n\u001b[0m\u001b[1;32m    153\u001b[0m         filepath, frame_offset, num_frames, normalize, channels_first, format)\n\u001b[1;32m    154\u001b[0m \u001b[0;34m\u001b[0m\u001b[0m\n",
      "\u001b[0;31mKeyboardInterrupt\u001b[0m: "
     ]
    }
   ],
   "source": [
    "import torchaudio\n",
    "from torchaudio import transforms\n",
    "import pickle\n",
    "from speechbrain.pretrained import VAD\n",
    "import os\n",
    "import numpy as np\n",
    "\n",
    "precision_list = []\n",
    "recall_list = []\n",
    "f1_list = []\n",
    "\n",
    "for key in vad_dict.keys():\n",
    "    waveform, sample_rate = torchaudio.load(key, normalize=True)\n",
    "    transform = transforms.Resample(sample_rate, 16000)\n",
    "    waveform = transform(waveform)\n",
    "    title = os.path.basename(key)[:-4] \n",
    "    path = '/project/graziul/ra/anishk/VAD/Data/' + title + '.wav'\n",
    "    print(path)\n",
    "    torchaudio.save(path, waveform, 16000, format='wav', encoding=\"PCM_S\", bits_per_sample=16)\n",
    "    VAD = VAD.from_hparams(source=\"speechbrain/vad-crdnn-libriparty\", savedir=\"pretrained_models/vad-crdnn-libriparty\")\n",
    "    boundaries = np.array(VAD.get_speech_segments(path))\n",
    "\n",
    "    predictions = np.zeros(vad_dict[key]['nonsilent_slices'][-1][1])\n",
    "    for n in range(boundaries.shape[0]):\n",
    "        start = int(boundaries[n][0]*1000)\n",
    "        end = int(boundaries[n][1]*1000)\n",
    "        predictions[start:end] = 1  \n",
    "    #print(predictions)\n",
    "\n",
    "    truth = np.zeros(vad_dict[key]['nonsilent_slices'][-1][1])\n",
    "    for n in range(len(vad_dict[key]['nonsilent_slices'])):\n",
    "        start = vad_dict[key]['nonsilent_slices'][n][0]\n",
    "        end = vad_dict[key]['nonsilent_slices'][n][1]\n",
    "        truth[start:end] = 1                  \n",
    "    #print(truth)\n",
    "\n",
    "    changes = np.where(np.diff(np.sign(predictions)))[0]\n",
    "    print(changes)\n",
    "    \n",
    "    for i in range(len(changes)-1):\n",
    "        if changes[i] + 60 > changes[i+1]:\n",
    "            print(changes[i],changes[i+1])\n",
    "\n",
    "    # precision = metrics.precision_score(truth, predictions)\n",
    "    # precision_list.append(precision)\n",
    "    # recall = metrics.recall_score(truth, predictions)\n",
    "    # recall_list.append(recall)\n",
    "    # f1 = metrics.f1_score(truth, predictions)\n",
    "    # f1_list.append(f1)\n"
   ]
  },
  {
   "cell_type": "code",
   "execution_count": null,
   "id": "1ac7cd27",
   "metadata": {},
   "outputs": [],
   "source": []
  }
 ],
 "metadata": {
  "kernelspec": {
   "display_name": "Python 3 (ipykernel)",
   "language": "python",
   "name": "python3"
  },
  "language_info": {
   "codemirror_mode": {
    "name": "ipython",
    "version": 3
   },
   "file_extension": ".py",
   "mimetype": "text/x-python",
   "name": "python",
   "nbconvert_exporter": "python",
   "pygments_lexer": "ipython3",
   "version": "3.9.12"
  }
 },
 "nbformat": 4,
 "nbformat_minor": 5
}
