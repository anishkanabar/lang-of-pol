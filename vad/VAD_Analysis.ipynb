{
 "cells": [
  {
   "cell_type": "code",
   "execution_count": 1,
   "id": "a70a705a",
   "metadata": {},
   "outputs": [
    {
     "name": "stdout",
     "output_type": "stream",
     "text": [
      "0\n",
      "(180600,)\n",
      "1\n",
      "(180600,)\n",
      "2\n",
      "(180600,)\n",
      "3\n",
      "(180600,)\n",
      "4\n",
      "(180600,)\n",
      "5\n",
      "(180600,)\n",
      "6\n",
      "done\n"
     ]
    }
   ],
   "source": [
    "import torch\n",
    "import torch.nn as nn\n",
    "import torch.nn.functional as F\n",
    "import torch.optim as optim\n",
    "import matplotlib.pyplot as plt\n",
    "import torchaudio\n",
    "import torch\n",
    "import numpy as np\n",
    "import pandas as pd\n",
    "import os\n",
    "import pickle\n",
    "import re\n",
    "import torchaudio.transforms as T\n",
    "import math\n",
    "import librosa\n",
    "import librosa.display\n",
    "import matplotlib.patches as patches\n",
    "from glob import glob\n",
    "import util\n",
    "from util import audio_file\n",
    "from util import *\n",
    "from Losses import FocalLoss,WeightedFocalLoss\n",
    "from StackedLSTM2 import StackedLSTM\n",
    "from AttentionLSTM import Attention_LSTM\n",
    "from Toy_Model import ToyModel\n",
    "import time\n",
    "import parselmouth\n",
    "torch.manual_seed(1)\n",
    "\n",
    "input_list, labels_list = load_data_limit(6)\n",
    "n_samples = input_list.size()[0]\n",
    "train_split = 4*n_samples//5\n",
    "test_samples = n_samples - train_split\n",
    "test_input_list = input_list[train_split:]\n",
    "test_labels_list = labels_list[train_split:]\n",
    "input_list = input_list[:train_split]\n",
    "labels_list = labels_list[:train_split]\n",
    "input_list.shape\n",
    "print(\"done\")"
   ]
  },
  {
   "cell_type": "code",
   "execution_count": 2,
   "id": "541845e0",
   "metadata": {},
   "outputs": [],
   "source": [
    "def load_model(model_name = 'Attention'):\n",
    "    if model_name == \"Attention\":\n",
    "        model_path = '/project/graziul/ra/ajays/lang-of-pol/vad/Attention_model/model_weights.pt'\n",
    "        model = Attention_LSTM()\n",
    "    elif model_name == \"LSTM\":\n",
    "        model_path = '/project/graziul/ra/ajays/lang-of-pol/vad/LSTM_layer_model/model_weights.pt'\n",
    "        model = ToyModel()\n",
    "    elif model_name == \"Speechbrain\":\n",
    "        pass\n",
    "    #odel_weights = torch.load(model.state_dict(), model_path)\n",
    "    model.load_state_dict(torch.load(model_path))\n",
    "    return model\n",
    "\n",
    "def convert_to_s(transcritions, frame_length = 25, frame_skip = 10):\n",
    "    #transcriptions is the frame level transcriptions, to convert to a list of intervals in seconds\n",
    "    num_frames = np.array(transcriptions).shape[0]\n",
    "    num_ms = frame_skip*num_frames + frame_length\n",
    "    ms_seconds_arr = np.zeros(num_frames*frame_length)\n",
    "    i = 0\n",
    "    while(1):\n",
    "        if(i >= num_frames):\n",
    "            break\n",
    "        else:\n",
    "            frame_num = i//frame_skip #lies in this frame for sure\n",
    "            frame_idx = i - 10*frame_num\n",
    "            temp = transcriptions[frame_num] + transcriptions[frame_num - 1]\n",
    "            if frame_idx < 5:\n",
    "                temp = temp+transcriptions[frame_num - 2]\n",
    "                \n",
    "            if temp >= 1:\n",
    "                ms_seconds_arr[i] = 1\n",
    "            else:\n",
    "                ms_seconds_arr[i] = 0\n",
    "                \n",
    "    #We have the ms seconds array, now convert to list of intervals\n",
    "    start = 0\n",
    "    transcripts_list = []\n",
    "    start_idx = 0\n",
    "    end_idx = 0\n",
    "    for i in range(ms_seconds_arr):\n",
    "        if(start == 0 and ms_seconds_arr[i] == 1):\n",
    "            start_idx = i\n",
    "            start = 1\n",
    "        elif(start == 1 and ms_seconds_arr[1] == 0):\n",
    "            end_idx = i-1\n",
    "            start = 0\n",
    "            transcripts_list.append([start_idx,end_idx])\n",
    "    return transcripts_list\n",
    "\n",
    "class postprocessing():\n",
    "    def __init__(self, model, inputs_list, labels_list, transcriptions = None):\n",
    "        self.model = model\n",
    "        self.inputs_list = inputs_list\n",
    "        self.true_labels = labels_list\n",
    "        if self.model:\n",
    "            self.batch_size = self.model.batch_size\n",
    "            self.transcriptions = torch.round(get_predictions(self.model, self.inputs_list, self.true_labels, self.batch_size)).numpy()    \n",
    "        else:\n",
    "            self.transcriptions = transcriptions\n",
    "    \n",
    "    def add_pred(self, x,true_label):\n",
    "        y = get_predictions(self.model,x,true_label,self.batch_size()).numpy()\n",
    "        self.transcriptions = np.concatenate([self.transcriptions,y], axis = 0)\n",
    "        return y\n",
    "    \n",
    "    def get_comm_lengths(self):\n",
    "        #Communication lengths in frames\n",
    "        final_comms_list = []\n",
    "        for i in range(self.transcriptions.shape[0]):\n",
    "            comms_list = []\n",
    "            start_flag = 0\n",
    "            end_flag = 0\n",
    "            run = 0\n",
    "            for j in range(self.transcriptions.shape[1]):\n",
    "                if start_flag == 0 and end_flag == 0 and self.transcriptions[i][j] == 1:\n",
    "                    start_flag = 1\n",
    "                    run = 1\n",
    "                elif start_flag == 1 and end_flag == 0 and self.transcriptions[i][j] == 1:\n",
    "                    run = run +1\n",
    "                    if j == self.transcriptions.shape[1] - 1:\n",
    "                            comms_list.append(run)\n",
    "                elif start_flag == 1 and end_flag == 0 and self.transcriptions[i][j] == 0:\n",
    "                    comms_list.append(run)\n",
    "                    start_flag = 0\n",
    "                    run  = 0\n",
    "        \n",
    "            final_comms_list.append(comms_list)\n",
    "        return final_comms_list\n",
    "        \n",
    "    def plot_transcripts(self,label):\n",
    "        plt.plot(label)\n",
    "        plt.imshow()\n",
    "        return\n",
    "    \n",
    "    def get_comm_stats(self):\n",
    "        comms = self.get_comm_lengths()\n",
    "        for i in range(len(comms)):\n",
    "            if len(comms[i]) != 0:\n",
    "                df = pd.DataFrame(np.array(comms[i]))\n",
    "                #print(df.describe())\n",
    "            else:\n",
    "                #comms.append([5])\n",
    "                pass\n",
    "        comms_combined = sum(comms,[])\n",
    "        df = pd.DataFrame(np.array(comms_combined))\n",
    "        print(df.describe())\n",
    "        plt.hist(comms_combined, bins = 40)\n",
    "        return comms_combined\n",
    "    \n",
    "    def get_frequencies(self,axis = 1):\n",
    "        final_freq_list = []\n",
    "        freq_list = []\n",
    "        comm_prev= 0\n",
    "        comm_end = 0\n",
    "        start_flag = 0\n",
    "        for j in range(np.concatenate(post_processor.transcriptions, axis = 0).shape[0]):\n",
    "            if start_flag == 0 and np.concatenate(post_processor.transcriptions, axis = 0)[j] == 1:\n",
    "                comm_end = j\n",
    "                start_flag = 1\n",
    "                if comm_end != comm_prev:\n",
    "                    freq_list.append(comm_end - comm_prev)\n",
    "                comm_prev= comm_end\n",
    "\n",
    "            elif start_flag == 1 and np.concatenate(post_processor.transcriptions, axis = 0)[j] == 0:\n",
    "                start_flag = 0\n",
    "        df = pd.DataFrame(freq_list)\n",
    "        print(df.describe())\n",
    "        plt.hist(freq_list, bins = 50)\n",
    "        return freq_list"
   ]
  },
  {
   "cell_type": "code",
   "execution_count": 3,
   "id": "15a88077",
   "metadata": {},
   "outputs": [
    {
     "name": "stdout",
     "output_type": "stream",
     "text": [
      "180\n",
      "0\n",
      "1\n",
      "2\n",
      "3\n",
      "4\n",
      "5\n",
      "6\n",
      "7\n",
      "8\n",
      "9\n",
      "10\n",
      "11\n",
      "12\n",
      "13\n",
      "14\n",
      "15\n",
      "16\n",
      "17\n",
      "18\n",
      "19\n",
      "20\n",
      "21\n",
      "22\n",
      "23\n",
      "24\n",
      "25\n",
      "26\n",
      "27\n",
      "28\n",
      "29\n",
      "30\n",
      "31\n",
      "32\n",
      "33\n",
      "34\n",
      "35\n",
      "36\n",
      "37\n",
      "38\n",
      "39\n",
      "40\n",
      "41\n",
      "42\n",
      "43\n",
      "44\n",
      "45\n",
      "46\n",
      "47\n",
      "48\n",
      "49\n",
      "50\n",
      "51\n",
      "52\n",
      "53\n",
      "54\n",
      "55\n",
      "56\n",
      "57\n",
      "58\n",
      "59\n",
      "60\n",
      "61\n",
      "62\n",
      "63\n",
      "64\n",
      "65\n",
      "66\n",
      "67\n",
      "68\n",
      "69\n",
      "70\n",
      "71\n",
      "72\n",
      "73\n",
      "74\n",
      "75\n",
      "76\n",
      "77\n",
      "78\n",
      "79\n",
      "80\n",
      "81\n",
      "82\n",
      "83\n",
      "84\n",
      "85\n",
      "86\n",
      "87\n",
      "88\n",
      "89\n",
      "90\n",
      "91\n",
      "92\n",
      "93\n",
      "94\n",
      "95\n",
      "96\n",
      "97\n",
      "98\n",
      "99\n",
      "100\n",
      "101\n",
      "102\n",
      "103\n",
      "104\n",
      "105\n",
      "106\n",
      "107\n",
      "108\n",
      "109\n",
      "110\n",
      "111\n",
      "112\n",
      "113\n",
      "114\n",
      "115\n",
      "116\n",
      "117\n",
      "118\n",
      "119\n",
      "120\n",
      "121\n",
      "122\n",
      "123\n",
      "124\n",
      "125\n",
      "126\n",
      "127\n",
      "128\n",
      "129\n",
      "130\n",
      "131\n",
      "132\n",
      "133\n",
      "134\n",
      "135\n",
      "136\n",
      "137\n",
      "138\n",
      "139\n",
      "140\n",
      "141\n",
      "142\n",
      "143\n",
      "144\n",
      "145\n",
      "146\n",
      "147\n",
      "148\n",
      "149\n",
      "150\n",
      "151\n",
      "152\n",
      "153\n",
      "154\n",
      "155\n",
      "156\n",
      "157\n",
      "158\n",
      "159\n",
      "160\n",
      "161\n",
      "162\n",
      "163\n",
      "164\n",
      "165\n",
      "166\n",
      "167\n",
      "168\n",
      "169\n",
      "170\n",
      "171\n",
      "172\n",
      "173\n",
      "174\n",
      "175\n",
      "176\n",
      "177\n",
      "178\n",
      "179\n"
     ]
    }
   ],
   "source": [
    "model = load_model()\n",
    "post_processor = postprocessing(model, test_input_list, test_labels_list)"
   ]
  },
  {
   "cell_type": "code",
   "execution_count": 22,
   "id": "767f366e",
   "metadata": {},
   "outputs": [
    {
     "name": "stdout",
     "output_type": "stream",
     "text": [
      "                0\n",
      "count  385.000000\n",
      "mean    64.085714\n",
      "std     76.269570\n",
      "min      1.000000\n",
      "25%     15.000000\n",
      "50%     34.000000\n",
      "75%     88.000000\n",
      "max    455.000000\n"
     ]
    },
    {
     "data": {
      "image/png": "[encoded data removed]",
      "text/plain": [
       "<Figure size 432x288 with 1 Axes>"
      ]
     },
     "metadata": {
      "needs_background": "light"
     },
     "output_type": "display_data"
    }
   ],
   "source": [
    "comm = post_processor.get_comm_stats()\n",
    "#freq = post_processor.get_frequencies()"
   ]
  },
  {
   "cell_type": "code",
   "execution_count": 18,
   "id": "08c750fc",
   "metadata": {},
   "outputs": [
    {
     "data": {
      "text/plain": [
       "(array([75., 90., 55., 41., 36., 21.,  8.,  9.,  6.,  7.,  6.,  1.,  2.,\n",
       "         0.,  2.,  1.,  0.,  0.,  0.,  3.,  1.,  2.,  0.,  0.,  0.,  0.,\n",
       "         0.,  1.,  0.,  0.,  0.,  0.,  0.,  0.,  0.,  0.,  0.,  1.,  0.,\n",
       "         0.,  1.,  0.,  1.,  0.,  0.,  0.,  0.,  0.,  0.,  1.]),\n",
       " array([   4.  ,   41.88,   79.76,  117.64,  155.52,  193.4 ,  231.28,\n",
       "         269.16,  307.04,  344.92,  382.8 ,  420.68,  458.56,  496.44,\n",
       "         534.32,  572.2 ,  610.08,  647.96,  685.84,  723.72,  761.6 ,\n",
       "         799.48,  837.36,  875.24,  913.12,  951.  ,  988.88, 1026.76,\n",
       "        1064.64, 1102.52, 1140.4 , 1178.28, 1216.16, 1254.04, 1291.92,\n",
       "        1329.8 , 1367.68, 1405.56, 1443.44, 1481.32, 1519.2 , 1557.08,\n",
       "        1594.96, 1632.84, 1670.72, 1708.6 , 1746.48, 1784.36, 1822.24,\n",
       "        1860.12, 1898.  ]),\n",
       " <BarContainer object of 50 artists>)"
      ]
     },
     "execution_count": 18,
     "metadata": {},
     "output_type": "execute_result"
    },
    {
     "data": {
      "image/png": "[encoded data removed]",
      "text/plain": [
       "<Figure size 432x288 with 1 Axes>"
      ]
     },
     "metadata": {
      "needs_background": "light"
     },
     "output_type": "display_data"
    }
   ],
   "source": [
    "plt.hist(np.array(freq)[np.nonzero(np.array(freq) < 2000)], bins = 50)"
   ]
  },
  {
   "cell_type": "code",
   "execution_count": 30,
   "id": "3b9bff6b",
   "metadata": {},
   "outputs": [
    {
     "data": {
      "text/plain": [
       "(array([74., 55., 40., 39., 24., 15., 11., 11., 10., 15.,  9., 10.,  7.,\n",
       "         6.,  3.,  9.,  6.,  4.,  3.,  2.,  2.,  1.,  9.,  0.,  0.,  0.,\n",
       "         1.,  1.,  3.,  0.,  2.,  3.,  2.,  1.,  2.,  1.,  0.,  2.,  0.,\n",
       "         0.,  0.,  0.,  0.,  1.,  0.,  0.,  0.,  0.,  0.,  1.]),\n",
       " array([  1.  ,  10.08,  19.16,  28.24,  37.32,  46.4 ,  55.48,  64.56,\n",
       "         73.64,  82.72,  91.8 , 100.88, 109.96, 119.04, 128.12, 137.2 ,\n",
       "        146.28, 155.36, 164.44, 173.52, 182.6 , 191.68, 200.76, 209.84,\n",
       "        218.92, 228.  , 237.08, 246.16, 255.24, 264.32, 273.4 , 282.48,\n",
       "        291.56, 300.64, 309.72, 318.8 , 327.88, 336.96, 346.04, 355.12,\n",
       "        364.2 , 373.28, 382.36, 391.44, 400.52, 409.6 , 418.68, 427.76,\n",
       "        436.84, 445.92, 455.  ]),\n",
       " <BarContainer object of 50 artists>)"
      ]
     },
     "execution_count": 30,
     "metadata": {},
     "output_type": "execute_result"
    },
    {
     "data": {
      "image/png": "[encoded data removed]",
      "text/plain": [
       "<Figure size 432x288 with 1 Axes>"
      ]
     },
     "metadata": {
      "needs_background": "light"
     },
     "output_type": "display_data"
    }
   ],
   "source": [
    "plt.hist(np.array(comm)[np.nonzero(np.array(comm) < 500)], bins = 50)"
   ]
  },
  {
   "cell_type": "code",
   "execution_count": 4,
   "id": "b0d950b2",
   "metadata": {},
   "outputs": [
    {
     "name": "stdout",
     "output_type": "stream",
     "text": [
      "0\n",
      "(180600,)\n",
      "1\n"
     ]
    }
   ],
   "source": [
    "pkl_path = '/project/graziul/ra/ajays/whitelisted_vad_dict.pkl'\n",
    "file = open(pkl_path,'rb')\n",
    "vad_dict = pickle.load(file)\n",
    "file.close()\n",
    "\n",
    "for idx,key in enumerate(vad_dict):\n",
    "        print(idx)\n",
    "        if idx > 0:\n",
    "            break\n",
    "        a = audio_file(key)\n",
    "        a.get_slices(vad_dict)\n",
    "        x = a.get_split_mfcc()\n",
    "        a.get_split_frames()\n",
    "        y = a.get_split_labels()"
   ]
  },
  {
   "cell_type": "code",
   "execution_count": 12,
   "id": "0f7f581c",
   "metadata": {},
   "outputs": [
    {
     "data": {
      "text/plain": [
       "'/project/graziul/data/Zone1/2018_08_10/201808100051-862340-27730.mp3'"
      ]
     },
     "execution_count": 12,
     "metadata": {},
     "output_type": "execute_result"
    }
   ],
   "source": [
    "key"
   ]
  },
  {
   "cell_type": "code",
   "execution_count": 11,
   "id": "e2a66dc5",
   "metadata": {},
   "outputs": [
    {
     "data": {
      "text/plain": [
       "<librosa.display.AdaptiveWaveplot at 0x7f9a098896d0>"
      ]
     },
     "execution_count": 11,
     "metadata": {},
     "output_type": "execute_result"
    },
    {
     "data": {
      "image/png": "[encoded data removed]",
      "text/plain": [
       "<Figure size 432x288 with 1 Axes>"
      ]
     },
     "metadata": {
      "needs_background": "light"
     },
     "output_type": "display_data"
    }
   ],
   "source": [
    "#aud,sr = torchaudio.load(key)\n",
    "aud = torch.squeeze(aud)\n",
    "librosa.display.waveshow(aud.numpy())\n",
    "post_processor.plot_transcripts()"
   ]
  }
 ],
 "metadata": {
  "kernelspec": {
   "display_name": "new_torch_env",
   "language": "python",
   "name": "new_torch_env"
  },
  "language_info": {
   "codemirror_mode": {
    "name": "ipython",
    "version": 3
   },
   "file_extension": ".py",
   "mimetype": "text/x-python",
   "name": "python",
   "nbconvert_exporter": "python",
   "pygments_lexer": "ipython3",
   "version": "3.9.7"
  }
 },
 "nbformat": 4,
 "nbformat_minor": 5
}
