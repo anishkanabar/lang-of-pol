{
 "cells": [
  {
   "cell_type": "code",
   "execution_count": 4,
   "metadata": {},
   "outputs": [],
   "source": [
    "import numpy as np\n",
    "import librosa\n",
    "import os\n",
    "import pandas as pd\n",
    "import matplotlib.pyplot as plt\n",
    "from mpl_toolkits import mplot3d\n",
    "from glob import glob\n",
    "import torchaudio\n",
    "import math\n",
    "import librosa.display"
   ]
  },
  {
   "cell_type": "code",
   "execution_count": 35,
   "metadata": {},
   "outputs": [],
   "source": [
    "def get_zcr(x,sr,frame_length=25,hop_length=10):\n",
    "    frame_arr = librosa.util.frame(x,frame_length,hop_length,axis = 0)\n",
    "    cross_arr = librosa.zero_crossings(frame_arr, threshold = -1)\n",
    "    return np.mean(cross_arr, axis = -1)\n",
    "\n",
    "def unionise(transcript_list): #Collapse intervals like (1,2),(2,3) into (1,3)\n",
    "    new_list = []\n",
    "    for interval in transcript_list:\n",
    "        start_pt = interval[0]\n",
    "        end_pt = interval[1]\n",
    "        final_elt = [-2,-1]\n",
    "        if new_list:\n",
    "            final_elt = new_list[-1]\n",
    "        if final_elt[1] == start_pt:\n",
    "            new_list[-1] = [final_elt[0],end_pt]\n",
    "        else:\n",
    "            new_list.append([start_pt,end_pt])\n",
    "    return new_list\n",
    "\n",
    "def get_transcripts(zcr_arr,rms_arr,zcr_t,rms_t, frame_length = 25, frame_hop=10,sr = 22050, min_interval = 1): \n",
    "    #Returns the transcripts given by the threshold algorithm. zcr_t and rms_t are the thresholds. It returns those\n",
    "    # as voice segments which satisfy both the zcr threshold AND the rms threshold\n",
    "    transcript_list = []\n",
    "    on_flag = 0\n",
    "    for i in range(zcr_arr.size):\n",
    "        if((zcr_arr[i] <= zcr_t and rms_arr[i] > rms_t) and on_flag== 0):\n",
    "            start_time = float(math.floor((frame_hop*i/sr))) #convert everything to seconds\n",
    "            on_flag = 1\n",
    "        if((zcr_arr[i] > zcr_t or rms_arr[i] <= rms_t) and on_flag == 1):\n",
    "            end_time= float(math.floor(((frame_hop*(i-1)/sr)))) #convert everything to seconds\n",
    "            if (end_time - start_time) > min_interval:\n",
    "                on_flag = 0\n",
    "                transcript_list.append([start_time,end_time])\n",
    "    return unionise(transcript_list)\n",
    "\n",
    "def is_in_interval(arr,idx): #arr is an array with each element being a tuple corresponding to an interval\n",
    "    #function checks whether idx is in any interval in the list\n",
    "    if not arr:\n",
    "        return 0\n",
    "    for pair in arr:\n",
    "        start = pair[0]\n",
    "        end = pair[1]\n",
    "        if(start <= idx and end >=idx):\n",
    "            return 1\n",
    "    return 0\n",
    "\n",
    "def get_frame_error_rate(x,y_hat, y,sr = 22050):\n",
    "    #Gets frame error rate - sums false positives and false negatives\n",
    "    n = int(x.size//sr)\n",
    "    err = 0\n",
    "    for i in range(n):\n",
    "        if(is_in_interval(y_hat,i) + is_in_interval(y,i) == 1): #This if condition means it is either a false positive or false negative - exactly one of the two is in the interval\n",
    "            err = err + 1\n",
    "    return 100*(err/n)\n",
    "\n",
    "def get_plots(x,zcr,rms,index = 0, time_slice = 1000000, t = 45): #plots audio, zcr, and rms for one sample\n",
    "    #The time indices used are from index*time_slice to (index+1)*time_slice\n",
    "    print(\"New Sample\")\n",
    "    jump = int(sr*t//10)\n",
    "    plt.figure(figsize=(14,5))\n",
    "    fig,(ax1,ax2,ax3) = plt.subplots(3,1)\n",
    "    librosa.display.waveshow(x[index*time_slice:(index+1)*time_slice],sr, ax = ax1)\n",
    "    ax2.plot(rms[index*jump:(index+1)*jump])\n",
    "    ax3.plot(zcr[index*jump:(index+1)*jump])\n",
    "    plt.show()\n",
    "    return\n",
    "\n",
    "def get_stats(x,zcr,rms, bins = 10):\n",
    "    get_plots(x,zcr,rms)\n",
    "    softening = 1e-9\n",
    "    print(\"Stats for ZCR:\")\n",
    "    print(pd.DataFrame(zcr).describe())\n",
    "    print(\"Stats for RMS:\")\n",
    "    print(pd.DataFrame(rms).describe())\n",
    "    plt.figure(figsize=(14,5))\n",
    "    fig,(ax1,ax2) = plt.subplots(2,1)\n",
    "    ax1.hist(np.histogram(zcr, bins = bins, density = True), bins = bins)\n",
    "    print(\"Histogram for RMS:\")\n",
    "    ax2.hist(np.histogram(rms, bins = bins, density = True), bins = bins)\n",
    "    return\n",
    "\n",
    "\n",
    "def get3dplots(frame_error_rate_list,zcr_threshold_list,rms_threshold_list,iteration, file_extension = '.png'):\n",
    "    fig = plt.figure(figsize=(14,5))\n",
    "    ax = fig.add_subplot(111, projection = '3d')\n",
    "    n = len(zcr_threshold_list)\n",
    "    m = len(rms_threshold_list)\n",
    "    my_idx = 0\n",
    "    #for zcr_elt in zcr_threshold_list:\n",
    "    #    for rms_elt in rms_threshold_list:\n",
    "    #        ax.scatter3D(zcr_elt, rms_elt, frame_error_rate_list[my_idx])\n",
    "    #        my_idx = my_idx+1\n",
    "    x1,y1 = np.meshgrid((zcr_threshold_list), (rms_threshold_list))\n",
    "    print(np.shape((zcr_threshold_list)), np.shape((rms_threshold_list)), np.shape(frame_error_rate_list))\n",
    "    ax.plot_surface(x1,y1,frame_error_rate_list.reshape([m,n]),cmap = 'Spectral')\n",
    "    ax.set_xlabel(\"ZCR-Threshold\")\n",
    "    ax.set_ylabel(\"RMS-Threshold\")\n",
    "    ax.set_zlabel(\"Frame Error Rate\")\n",
    "    ax.set_title(\"Frame Error Rate for Different Thresholds\")\n",
    "    plt.show()\n",
    "    plt.savefig('/project/graziul/threshold_plots/frame_error_rate_' + str(iteration) + file_extension)\n",
    "    return\n",
    "\n",
    "def process_single_file(x, label, sr, zcr_threshold, rms_threshold):\n",
    "    print(\"ZCR Threshold = \" + str(zcr_threshold) + \" RMS Threshold = \" + str(rms_threshold))\n",
    "    transcript_list = get_transcripts(zcr,rms,zcr_threshold,rms_threshold,frame_size,frame_hop,sr, 0.3)\n",
    "    print(\"The frame error rate is: \", end = '')\n",
    "    frame_error_rate = get_frame_error_rate(x,transcript_list, label,sr)\n",
    "    print(frame_error_rate)\n",
    "    return frame_error_rate"
   ]
  },
  {
   "cell_type": "code",
   "execution_count": 6,
   "metadata": {},
   "outputs": [
    {
     "name": "stdout",
     "output_type": "stream",
     "text": [
      "['/project/graziul/data/Zone1/2018_08_04/201808042032-193789-27730.mp3', '/project/graziul/data/Zone1/2018_08_04/201808041434-67097-27730.mp3', '/project/graziul/data/Zone1/2018_08_04/201808041703-149997-27730.mp3', '/project/graziul/data/Zone1/2018_08_04/201808041404-696986-27730.mp3', '/project/graziul/data/Zone1/2018_08_04/201808041135-540482-27730.mp3', '/project/graziul/data/Zone1/2018_08_04/201808042231-612241-27730.mp3', '/project/graziul/data/Zone1/2018_08_04/201808041733-277547-27730.mp3', '/project/graziul/data/Zone1/2018_08_04/201808041234-536320-27730.mp3', '/project/graziul/data/Zone1/2018_08_04/201808040836-586337-27730.mp3', '/project/graziul/data/Zone1/2018_08_04/201808042102-541890-27730.mp3', '/project/graziul/data/Zone1/2018_08_04/201808042201-380390-27730.mp3', '/project/graziul/data/Zone1/2018_08_04/201808041504-822552-27730.mp3', '/project/graziul/data/Zone1/2018_08_04/201808040935-23455-27730.mp3', '/project/graziul/data/Zone1/2018_08_04/201808041334-370955-27730.mp3', '/project/graziul/data/Zone1/2018_08_04/201808041633-224888-27730.mp3', '/project/graziul/data/Zone1/2018_08_04/201808041902-154725-27730.mp3', '/project/graziul/data/Zone1/2018_08_04/201808042301-783049-27730.mp3', '/project/graziul/data/Zone1/2018_08_04/201808041105-758598-27730.mp3', '/project/graziul/data/Zone1/2018_08_04/201808040806-221733-27730.mp3', '/project/graziul/data/Zone1/2018_08_04/201808041833-883631-27730.mp3', '/project/graziul/data/Zone1/2018_08_04/201808041603-996961-27730.mp3', '/project/graziul/data/Zone1/2018_08_04/201808040636-306923-27730.mp3', '/project/graziul/data/Zone1/2018_08_04/201808040706-364235-27730.mp3', '/project/graziul/data/Zone1/2018_08_04/201808041803-756078-27730.mp3', '/project/graziul/data/Zone1/2018_08_04/201808041304-335136-27730.mp3', '/project/graziul/data/Zone1/2018_08_04/201808041005-554826-27730.mp3', '/project/graziul/data/Zone1/2018_08_04/201808041035-643194-27730.mp3', '/project/graziul/data/Zone1/2018_08_04/201808042132-793642-27730.mp3', '/project/graziul/data/Zone1/2018_08_04/201808040736-102899-27730.mp3', '/project/graziul/data/Zone1/2018_08_04/201808040607-817542-27730.mp3', '/project/graziul/data/Zone1/2018_08_04/201808041534-428855-27730.mp3', '/project/graziul/data/Zone1/2018_08_04/201808042002-691422-27730.mp3', '/project/graziul/data/Zone1/2018_08_04/201808041205-792209-27730.mp3', '/project/graziul/data/Zone1/2018_08_04/201808040906-891903-27730.mp3', '/project/graziul/data/Zone1/2018_08_04/201808041932-405936-27730.mp3']\n"
     ]
    }
   ],
   "source": [
    "data_dir = '/project/graziul/data/Zone1/2018_08_04'\n",
    "audio_list = glob(data_dir + '/*.mp3')\n",
    "print(audio_list)\n",
    "\n",
    "clean_df = pd.read_csv('/project/graziul/transcripts/df_va2021_09_17.csv')\n",
    "df_groups = clean_df.groupby(['zone','date','filename'])"
   ]
  },
  {
   "cell_type": "code",
   "execution_count": null,
   "metadata": {},
   "outputs": [
    {
     "name": "stdout",
     "output_type": "stream",
     "text": [
      "/project/graziul/data/Zone1/2018_08_04/201808042331-339616-27730.mp3\n",
      "/project/graziul/data/Zone1/2018_08_05/201808050001-100238-27730.mp3\n"
     ]
    },
    {
     "name": "stderr",
     "output_type": "stream",
     "text": [
      "formats: can't open input file `/project/graziul/data/Zone1/2018_08_04/201808042331-339616-27730.mp3': No such file or directory\n"
     ]
    },
    {
     "name": "stdout",
     "output_type": "stream",
     "text": [
      "/project/graziul/data/Zone1/2018_08_05/201808050031-739899-27730.mp3\n",
      "/project/graziul/data/Zone1/2018_08_05/201808050100-298054-27730.mp3\n",
      "/project/graziul/data/Zone1/2018_08_05/201808050130-950381-27730.mp3\n",
      "/project/graziul/data/Zone1/2018_08_05/201808050330-822967-27730.mp3\n",
      "/project/graziul/data/Zone1/2018_08_05/201808050359-300564-27730.mp3\n",
      "/project/graziul/data/Zone1/2018_08_05/201808050429-961171-27730.mp3\n",
      "/project/graziul/data/Zone1/2018_08_05/201808050459-276291-27730.mp3\n",
      "/project/graziul/data/Zone1/2018_08_05/201808050529-298280-27730.mp3\n",
      "/project/graziul/data/Zone1/2018_08_05/201808050559-512509-27730.mp3\n",
      "/project/graziul/data/Zone1/2018_08_05/201808050758-615610-27730.mp3\n",
      "/project/graziul/data/Zone1/2018_08_05/201808050828-792675-27730.mp3\n",
      "/project/graziul/data/Zone1/2018_08_09/201808092351-896112-27730.mp3\n",
      "/project/graziul/data/Zone1/2018_08_10/201808100021-669974-27730.mp3\n"
     ]
    },
    {
     "name": "stderr",
     "output_type": "stream",
     "text": [
      "formats: can't open input file `/project/graziul/data/Zone1/2018_08_09/201808092351-896112-27730.mp3': No such file or directory\n"
     ]
    },
    {
     "name": "stdout",
     "output_type": "stream",
     "text": [
      "/project/graziul/data/Zone1/2018_08_10/201808100051-862340-27730.mp3\n",
      "/project/graziul/data/Zone1/2018_08_10/201808100121-608175-27730.mp3\n",
      "/project/graziul/data/Zone1/2018_08_10/201808100151-536595-27730.mp3\n",
      "/project/graziul/data/Zone1/2018_08_11/201808111508-661302-27730.mp3\n",
      "/project/graziul/data/Zone1/2018_08_11/201808111538-917671-27730.mp3\n",
      "/project/graziul/data/Zone1/2018_08_11/201808111608-178189-27730.mp3\n",
      "/project/graziul/data/Zone1/2018_08_11/201808111638-648911-27730.mp3\n",
      "/project/graziul/data/Zone1/2018_08_11/201808111708-685990-27730.mp3\n",
      "/project/graziul/data/Zone1/2018_08_11/201808111737-609665-27730.mp3\n",
      "/project/graziul/data/Zone1/2018_08_11/201808111807-883152-27730.mp3\n",
      "/project/graziul/data/Zone1/2018_08_11/201808111837-315775-27730.mp3\n",
      "/project/graziul/data/Zone1/2018_08_11/201808111907-423587-27730.mp3\n",
      "/project/graziul/data/Zone1/2018_08_11/201808111937-459173-27730.mp3\n",
      "/project/graziul/data/Zone1/2018_08_11/201808112007-612624-27730.mp3\n",
      "/project/graziul/data/Zone1/2018_08_11/201808112036-478354-27730.mp3\n",
      "/project/graziul/data/Zone1/2018_08_11/201808112106-478027-27730.mp3\n",
      "/project/graziul/data/Zone1/2018_08_11/201808112136-791648-27730.mp3\n",
      "/project/graziul/data/Zone1/2018_08_11/201808112206-325535-27730.mp3\n",
      "/project/graziul/data/Zone1/2018_08_11/201808112236-743532-27730.mp3\n",
      "/project/graziul/data/Zone1/2018_08_11/201808112306-56206-27730.mp3\n",
      "/project/graziul/data/Zone1/2018_08_11/201808112335-560782-27730.mp3\n",
      "/project/graziul/data/Zone1/2018_08_12/201808120005-475816-27730.mp3\n"
     ]
    },
    {
     "name": "stderr",
     "output_type": "stream",
     "text": [
      "formats: can't open input file `/project/graziul/data/Zone1/2018_08_11/201808112335-560782-27730.mp3': No such file or directory\n"
     ]
    },
    {
     "name": "stdout",
     "output_type": "stream",
     "text": [
      "/project/graziul/data/Zone1/2018_08_12/201808120035-587214-27730.mp3\n",
      "/project/graziul/data/Zone1/2018_08_12/201808120105-889671-27730.mp3\n",
      "/project/graziul/data/Zone1/2018_08_12/201808120135-851247-27730.mp3\n",
      "/project/graziul/data/Zone1/2018_08_12/201808120205-953882-27730.mp3\n",
      "/project/graziul/data/Zone1/2018_08_12/201808120234-654163-27730.mp3\n",
      "/project/graziul/data/Zone1/2018_08_12/201808120304-366043-27730.mp3\n",
      "/project/graziul/data/Zone1/2018_08_12/201808120404-252508-27730.mp3\n",
      "/project/graziul/data/Zone1/2018_08_12/201808120504-981165-27730.mp3\n",
      "/project/graziul/data/Zone1/2018_08_12/201808120533-329786-27730.mp3\n",
      "/project/graziul/data/Zone1/2018_08_12/201808120603-647711-27730.mp3\n",
      "/project/graziul/data/Zone1/2018_08_12/201808120633-901759-27730.mp3\n",
      "/project/graziul/data/Zone1/2018_08_12/201808120703-852547-27730.mp3\n",
      "/project/graziul/data/Zone1/2018_08_12/201808120733-369191-27730.mp3\n",
      "/project/graziul/data/Zone1/2018_08_12/201808120803-891554-27730.mp3\n",
      "/project/graziul/data/Zone1/2018_08_12/201808120832-732332-27730.mp3\n",
      "/project/graziul/data/Zone1/2018_08_12/201808120902-41159-27730.mp3\n",
      "/project/graziul/data/Zone1/2018_08_12/201808120932-28710-27730.mp3\n",
      "/project/graziul/data/Zone1/2018_08_12/201808121032-648578-27730.mp3\n",
      "/project/graziul/data/Zone1/2018_08_12/201808121102-659166-27730.mp3\n",
      "/project/graziul/data/Zone1/2018_08_12/201808121630-876020-27730.mp3\n"
     ]
    }
   ],
   "source": [
    "max_zcr_t = -100\n",
    "min_zcr_t = 100\n",
    "max_rms_t = -100\n",
    "min_rms_t = 100\n",
    "for state,frame in df_groups: #iterate over each .mp3 and compute zcr,rmse and find frame error rate(not done yet)\n",
    "    '''if(idx > 1): #restricting to one sample for now, can be deleted once the code is working\n",
    "        print('done') \n",
    "        break'''\n",
    "    info_list = list(state)\n",
    "    idx = idx+1\n",
    "    audio_file = '/project/graziul/data/' + info_list[0] + '/' + info_list[1] + '/' + info_list[2]\n",
    "    print(audio_file)\n",
    "    try:\n",
    "        x,sr = torchaudio.load(audio_file)\n",
    "        x = np.squeeze(x.numpy())\n",
    "        zcr = np.array(np.squeeze(librosa.get_zcr(x,sr, frame_length=sr*frame_size,hop_length=sr*frame_hop)))\n",
    "        rms = np.array(np.squeeze(librosa.feature.rms(x,frame_length=sr*frame_size,hop_length=sr*frame_hop)))\n",
    "        min_zcr_t = np.min(min_zcr_t, np.min(zcr))\n",
    "        min_rms_t = np.min(min_rms_t, np.min(rms))\n",
    "        max_zcr_t = np.max(max_zcr_t, np.max(zcr))\n",
    "        max_rms_t = np.max(max_rms_t, np.max(zcr))\n",
    "    except:\n",
    "        pass"
   ]
  },
  {
   "cell_type": "code",
   "execution_count": 12,
   "metadata": {},
   "outputs": [
    {
     "name": "stdout",
     "output_type": "stream",
     "text": [
      "/project/graziul/data/Zone1/2018_08_04/201808042331-339616-27730.mp3\n",
      "Error loading audio file: failed to open file /project/graziul/data/Zone1/2018_08_04/201808042331-339616-27730.mp3\n",
      "/project/graziul/data/Zone1/2018_08_05/201808050001-100238-27730.mp3\n"
     ]
    },
    {
     "name": "stderr",
     "output_type": "stream",
     "text": [
      "formats: can't open input file `/project/graziul/data/Zone1/2018_08_04/201808042331-339616-27730.mp3': No such file or directory\n"
     ]
    },
    {
     "ename": "KeyboardInterrupt",
     "evalue": "",
     "output_type": "error",
     "traceback": [
      "\u001b[0;31m---------------------------------------------------------------------------\u001b[0m",
      "\u001b[0;31mKeyboardInterrupt\u001b[0m                         Traceback (most recent call last)",
      "\u001b[0;32m~/ipykernel_1305769/4059334066.py\u001b[0m in \u001b[0;36m<module>\u001b[0;34m\u001b[0m\n\u001b[1;32m     30\u001b[0m         \u001b[0mlabels_list\u001b[0m\u001b[0;34m.\u001b[0m\u001b[0mappend\u001b[0m\u001b[0;34m(\u001b[0m\u001b[0mlabel\u001b[0m\u001b[0;34m)\u001b[0m\u001b[0;34m\u001b[0m\u001b[0;34m\u001b[0m\u001b[0m\n\u001b[1;32m     31\u001b[0m         \u001b[0maudio_file_arr\u001b[0m\u001b[0;34m.\u001b[0m\u001b[0mappend\u001b[0m\u001b[0;34m(\u001b[0m\u001b[0mx\u001b[0m\u001b[0;34m)\u001b[0m\u001b[0;34m\u001b[0m\u001b[0;34m\u001b[0m\u001b[0m\n\u001b[0;32m---> 32\u001b[0;31m         \u001b[0mzcr\u001b[0m \u001b[0;34m=\u001b[0m \u001b[0mnp\u001b[0m\u001b[0;34m.\u001b[0m\u001b[0marray\u001b[0m\u001b[0;34m(\u001b[0m\u001b[0mnp\u001b[0m\u001b[0;34m.\u001b[0m\u001b[0msqueeze\u001b[0m\u001b[0;34m(\u001b[0m\u001b[0mlibrosa\u001b[0m\u001b[0;34m.\u001b[0m\u001b[0mfeature\u001b[0m\u001b[0;34m.\u001b[0m\u001b[0mzero_crossing_rate\u001b[0m\u001b[0;34m(\u001b[0m\u001b[0mx\u001b[0m\u001b[0;34m,\u001b[0m \u001b[0mframe_length\u001b[0m\u001b[0;34m=\u001b[0m\u001b[0mframe_size\u001b[0m\u001b[0;34m,\u001b[0m\u001b[0mhop_length\u001b[0m\u001b[0;34m=\u001b[0m\u001b[0mframe_hop\u001b[0m\u001b[0;34m)\u001b[0m\u001b[0;34m)\u001b[0m\u001b[0;34m)\u001b[0m\u001b[0;34m\u001b[0m\u001b[0;34m\u001b[0m\u001b[0m\n\u001b[0m\u001b[1;32m     33\u001b[0m         \u001b[0mzcr_list\u001b[0m\u001b[0;34m.\u001b[0m\u001b[0mappend\u001b[0m\u001b[0;34m(\u001b[0m\u001b[0mzcr\u001b[0m\u001b[0;34m)\u001b[0m\u001b[0;34m\u001b[0m\u001b[0;34m\u001b[0m\u001b[0m\n\u001b[1;32m     34\u001b[0m         \u001b[0mrms\u001b[0m \u001b[0;34m=\u001b[0m \u001b[0mnp\u001b[0m\u001b[0;34m.\u001b[0m\u001b[0marray\u001b[0m\u001b[0;34m(\u001b[0m\u001b[0mnp\u001b[0m\u001b[0;34m.\u001b[0m\u001b[0msqueeze\u001b[0m\u001b[0;34m(\u001b[0m\u001b[0mlibrosa\u001b[0m\u001b[0;34m.\u001b[0m\u001b[0mfeature\u001b[0m\u001b[0;34m.\u001b[0m\u001b[0mrms\u001b[0m\u001b[0;34m(\u001b[0m\u001b[0mx\u001b[0m\u001b[0;34m,\u001b[0m\u001b[0mframe_length\u001b[0m\u001b[0;34m=\u001b[0m\u001b[0mframe_size\u001b[0m\u001b[0;34m,\u001b[0m\u001b[0mhop_length\u001b[0m\u001b[0;34m=\u001b[0m\u001b[0mframe_hop\u001b[0m\u001b[0;34m)\u001b[0m\u001b[0;34m)\u001b[0m\u001b[0;34m)\u001b[0m\u001b[0;34m\u001b[0m\u001b[0;34m\u001b[0m\u001b[0m\n",
      "\u001b[0;32m~/.conda/envs/ajay_env/lib/python3.9/site-packages/librosa/feature/spectral.py\u001b[0m in \u001b[0;36mzero_crossing_rate\u001b[0;34m(y, frame_length, hop_length, center, **kwargs)\u001b[0m\n\u001b[1;32m   1158\u001b[0m     \u001b[0mcrossings\u001b[0m \u001b[0;34m=\u001b[0m \u001b[0mzero_crossings\u001b[0m\u001b[0;34m(\u001b[0m\u001b[0my_framed\u001b[0m\u001b[0;34m,\u001b[0m \u001b[0;34m**\u001b[0m\u001b[0mkwargs\u001b[0m\u001b[0;34m)\u001b[0m\u001b[0;34m\u001b[0m\u001b[0;34m\u001b[0m\u001b[0m\n\u001b[1;32m   1159\u001b[0m \u001b[0;34m\u001b[0m\u001b[0m\n\u001b[0;32m-> 1160\u001b[0;31m     \u001b[0;32mreturn\u001b[0m \u001b[0mnp\u001b[0m\u001b[0;34m.\u001b[0m\u001b[0mmean\u001b[0m\u001b[0;34m(\u001b[0m\u001b[0mcrossings\u001b[0m\u001b[0;34m,\u001b[0m \u001b[0maxis\u001b[0m\u001b[0;34m=\u001b[0m\u001b[0;36m0\u001b[0m\u001b[0;34m,\u001b[0m \u001b[0mkeepdims\u001b[0m\u001b[0;34m=\u001b[0m\u001b[0;32mTrue\u001b[0m\u001b[0;34m)\u001b[0m\u001b[0;34m\u001b[0m\u001b[0;34m\u001b[0m\u001b[0m\n\u001b[0m\u001b[1;32m   1161\u001b[0m \u001b[0;34m\u001b[0m\u001b[0m\n\u001b[1;32m   1162\u001b[0m \u001b[0;34m\u001b[0m\u001b[0m\n",
      "\u001b[0;32m<__array_function__ internals>\u001b[0m in \u001b[0;36mmean\u001b[0;34m(*args, **kwargs)\u001b[0m\n",
      "\u001b[0;32m~/.conda/envs/ajay_env/lib/python3.9/site-packages/numpy/core/fromnumeric.py\u001b[0m in \u001b[0;36mmean\u001b[0;34m(a, axis, dtype, out, keepdims, where)\u001b[0m\n\u001b[1;32m   3417\u001b[0m             \u001b[0;32mreturn\u001b[0m \u001b[0mmean\u001b[0m\u001b[0;34m(\u001b[0m\u001b[0maxis\u001b[0m\u001b[0;34m=\u001b[0m\u001b[0maxis\u001b[0m\u001b[0;34m,\u001b[0m \u001b[0mdtype\u001b[0m\u001b[0;34m=\u001b[0m\u001b[0mdtype\u001b[0m\u001b[0;34m,\u001b[0m \u001b[0mout\u001b[0m\u001b[0;34m=\u001b[0m\u001b[0mout\u001b[0m\u001b[0;34m,\u001b[0m \u001b[0;34m**\u001b[0m\u001b[0mkwargs\u001b[0m\u001b[0;34m)\u001b[0m\u001b[0;34m\u001b[0m\u001b[0;34m\u001b[0m\u001b[0m\n\u001b[1;32m   3418\u001b[0m \u001b[0;34m\u001b[0m\u001b[0m\n\u001b[0;32m-> 3419\u001b[0;31m     return _methods._mean(a, axis=axis, dtype=dtype,\n\u001b[0m\u001b[1;32m   3420\u001b[0m                           out=out, **kwargs)\n\u001b[1;32m   3421\u001b[0m \u001b[0;34m\u001b[0m\u001b[0m\n",
      "\u001b[0;32m~/.conda/envs/ajay_env/lib/python3.9/site-packages/numpy/core/_methods.py\u001b[0m in \u001b[0;36m_mean\u001b[0;34m(a, axis, dtype, out, keepdims, where)\u001b[0m\n\u001b[1;32m    176\u001b[0m             \u001b[0mis_float16_result\u001b[0m \u001b[0;34m=\u001b[0m \u001b[0;32mTrue\u001b[0m\u001b[0;34m\u001b[0m\u001b[0;34m\u001b[0m\u001b[0m\n\u001b[1;32m    177\u001b[0m \u001b[0;34m\u001b[0m\u001b[0m\n\u001b[0;32m--> 178\u001b[0;31m     \u001b[0mret\u001b[0m \u001b[0;34m=\u001b[0m \u001b[0mumr_sum\u001b[0m\u001b[0;34m(\u001b[0m\u001b[0marr\u001b[0m\u001b[0;34m,\u001b[0m \u001b[0maxis\u001b[0m\u001b[0;34m,\u001b[0m \u001b[0mdtype\u001b[0m\u001b[0;34m,\u001b[0m \u001b[0mout\u001b[0m\u001b[0;34m,\u001b[0m \u001b[0mkeepdims\u001b[0m\u001b[0;34m,\u001b[0m \u001b[0mwhere\u001b[0m\u001b[0;34m=\u001b[0m\u001b[0mwhere\u001b[0m\u001b[0;34m)\u001b[0m\u001b[0;34m\u001b[0m\u001b[0;34m\u001b[0m\u001b[0m\n\u001b[0m\u001b[1;32m    179\u001b[0m     \u001b[0;32mif\u001b[0m \u001b[0misinstance\u001b[0m\u001b[0;34m(\u001b[0m\u001b[0mret\u001b[0m\u001b[0;34m,\u001b[0m \u001b[0mmu\u001b[0m\u001b[0;34m.\u001b[0m\u001b[0mndarray\u001b[0m\u001b[0;34m)\u001b[0m\u001b[0;34m:\u001b[0m\u001b[0;34m\u001b[0m\u001b[0;34m\u001b[0m\u001b[0m\n\u001b[1;32m    180\u001b[0m         ret = um.true_divide(\n",
      "\u001b[0;31mKeyboardInterrupt\u001b[0m: "
     ]
    }
   ],
   "source": [
    "zcr_list = []\n",
    "rms_list = []\n",
    "autocorrelation_list = []\n",
    "labels_list = []\n",
    "audio_file_arr = []\n",
    "frame_size = 25\n",
    "frame_hop = 10\n",
    "idx = 0\n",
    "transcript_list_arr = []\n",
    "zcr_t_arr = np.linspace(min_zcr_t,max_zcr_t,20)\n",
    "#zcr_threshold = 1\n",
    "rms_t_arr = np.linspace(min_rms,max_rms_t,100)\n",
    "\n",
    "txtfile = open('/project/graziul/ra/ajays/stats.txt','w')\n",
    "txtfile.truncate(0)\n",
    "for state,frame in df_groups: #iterate over each .mp3 and compute zcr,rmse and find frame error rate(not done yet)\n",
    "    '''if(idx > 1): #restricting to one sample for now, can be deleted once the code is working\n",
    "        print('done') \n",
    "        break'''\n",
    "    info_list = list(state)\n",
    "    idx = idx+1\n",
    "    audio_file = '/project/graziul/data/' + info_list[0] + '/' + info_list[1] + '/' + info_list[2]\n",
    "    print(audio_file)\n",
    "    start_voice_list = list(frame['start_voice'])\n",
    "    end_voice_list = list(frame['end_voice'])\n",
    "    try:\n",
    "        x,sr = torchaudio.load(audio_file)\n",
    "        x = np.squeeze(x.numpy())\n",
    "        label = list(zip(start_voice_list,end_voice_list))\n",
    "        labels_list.append(label)\n",
    "        audio_file_arr.append(x)\n",
    "        zcr = np.array(np.squeeze(librosa.get_zcr(x,sr, frame_length=sr*frame_size,hop_length=sr*frame_hop)))\n",
    "        zcr_list.append(zcr)\n",
    "        rms = np.array(np.squeeze(librosa.feature.rms(x,frame_length=sr*frame_size,hop_length=sr*frame_hop)))\n",
    "        rms_list.append(rms)\n",
    "        get_plots(x,zcr,rms)\n",
    "        frame_error_rate_list = []\n",
    "        for zcr_threshold in zcr_t_arr:\n",
    "            for rms_threshold in rms_t_arr:\n",
    "                frame_error_rate = process_single_file(x,label,sr,zcr_threshold,rms_threshold)\n",
    "                frame_error_rate_list.append(frame_error_rate)\n",
    "                writeline = audio_file + ' ' + str(zcr_threshold) + ' ' + str(rms_threshold) + ' ' + str(frame_error_rate) + '\\n'\n",
    "                txtfile.write(writeline)\n",
    "        frame_error_rate_list = np.array(frame_error_rate_list)\n",
    "        get3dplots(frame_error_rate_list, zcr_t_arr, rms_t_arr,idx)       \n",
    "        #plt.plot(rms_t_arr,frame_error_rate_list)\n",
    "        #plt.xlabel('RMS Threshold')\n",
    "        #plt.ylabel('Frame Error Rate')\n",
    "        #plt.savefig('/project/graziul/ra/ajays/rms_plots/frame_error_rate_' + str(idx) + '.png')\n",
    "    except Exception as e:\n",
    "        print(e)\n",
    "        pass\n",
    "txtfile.close()"
   ]
  },
  {
   "cell_type": "code",
   "execution_count": 32,
   "metadata": {},
   "outputs": [
    {
     "name": "stdout",
     "output_type": "stream",
     "text": [
      "New Sample\n"
     ]
    },
    {
     "data": {
      "text/plain": [
       "<Figure size 1008x360 with 0 Axes>"
      ]
     },
     "metadata": {},
     "output_type": "display_data"
    },
    {
     "data": {
      "image/png": "[encoded data removed]",
      "text/plain": [
       "<Figure size 432x288 with 3 Axes>"
      ]
     },
     "metadata": {
      "needs_background": "light"
     },
     "output_type": "display_data"
    },
    {
     "name": "stdout",
     "output_type": "stream",
     "text": [
      "Stats for ZCR:\n",
      "                0\n",
      "count  181.000000\n",
      "mean     0.057698\n",
      "std      0.031753\n",
      "min      0.011220\n",
      "25%      0.028236\n",
      "50%      0.063400\n",
      "75%      0.080506\n",
      "max      0.128479\n",
      "Stats for RMS:\n",
      "                0\n",
      "count  184.000000\n",
      "mean     0.205048\n",
      "std      0.114536\n",
      "min      0.000936\n",
      "25%      0.136342\n",
      "50%      0.242823\n",
      "75%      0.290557\n",
      "max      0.376626\n",
      "Histogram for RMS:\n"
     ]
    },
    {
     "data": {
      "text/plain": [
       "<Figure size 1008x360 with 0 Axes>"
      ]
     },
     "metadata": {},
     "output_type": "display_data"
    },
    {
     "data": {
      "image/png": "[encoded data removed]",
      "text/plain": [
       "<Figure size 432x288 with 2 Axes>"
      ]
     },
     "metadata": {
      "needs_background": "light"
     },
     "output_type": "display_data"
    }
   ],
   "source": [
    "test_dir = '/project/graziul/data/Zone1/2018_08_05/201808050001-100238-27730.mp3'\n",
    "x,sr = torchaudio.load(test_dir)\n",
    "x = np.squeeze(x.numpy())\n",
    "zcr = np.array(np.squeeze(get_zcr(x,sr, frame_length=sr*frame_size,hop_length=sr*frame_hop)))\n",
    "rms = np.array(np.squeeze(librosa.feature.rms(x,frame_length=sr*frame_size,hop_length=sr*frame_hop)))\n",
    "get_stats(x,zcr,rms)"
   ]
  },
  {
   "cell_type": "code",
   "execution_count": 28,
   "metadata": {},
   "outputs": [],
   "source": [
    "my_zcr = get_zcr(x,sr,frame_size,frame_hop)"
   ]
  },
  {
   "cell_type": "code",
   "execution_count": 29,
   "metadata": {},
   "outputs": [
    {
     "data": {
      "text/plain": [
       "{0.04, 0.08, 0.12, 0.16, 0.2, 0.24, 0.28, 0.32, 0.36, 0.4, 0.44, 0.48, 0.52}"
      ]
     },
     "execution_count": 29,
     "metadata": {},
     "output_type": "execute_result"
    }
   ],
   "source": [
    "set(my_zcr)"
   ]
  },
  {
   "cell_type": "code",
   "execution_count": null,
   "metadata": {},
   "outputs": [],
   "source": [
    "plt.hist(x, bins = 50)\n",
    "arr = plt.hist(zcr, bins = 50)\n",
    "zcr_t_list = arr[1][np.nonzero(arr[0])]\n",
    "plt.hist(rms[rms>0.1], bins = 50)"
   ]
  },
  {
   "cell_type": "code",
   "execution_count": 10,
   "metadata": {},
   "outputs": [
    {
     "data": {
      "text/plain": [
       "<matplotlib.image.AxesImage at 0x7fd5dda0ae50>"
      ]
     },
     "execution_count": 10,
     "metadata": {},
     "output_type": "execute_result"
    },
    {
     "data": {
      "image/png": "[encoded data removed]",
      "text/plain": [
       "<Figure size 432x288 with 1 Axes>"
      ]
     },
     "metadata": {
      "needs_background": "light"
     },
     "output_type": "display_data"
    }
   ],
   "source": [
    "from PIL import Image\n",
    "from scipy import misc\n",
    "import numpy as np\n",
    "img_num = 2\n",
    "img_path = '/project/graziul/ra/ajays/ajay_plots/frame_error_rate_' + str(img_num) +'.png'\n",
    "img = Image.open(img_path)\n",
    "img = np.array(img)\n",
    "plt.imshow(img)"
   ]
  },
  {
   "cell_type": "code",
   "execution_count": null,
   "metadata": {},
   "outputs": [],
   "source": [
    "def f(x,y):\n",
    "    return np.sin(np.sqrt(x**2 + y**2))\n",
    "\n",
    "x = np.linspace(-6,6,30)\n",
    "y = np.linspace(-5,5,20)\n",
    "print(x.shape,y.shape)\n",
    "x,y = np.meshgrid(x,y)\n",
    "z = f(x,y)\n",
    "print(z.shape)\n",
    "fig = plt.figure(figsize=(14,5))\n",
    "ax = fig.add_subplot(111, projection = '3d')\n",
    "ax.contour3D(x,y,z,50)"
   ]
  }
 ],
 "metadata": {
  "kernelspec": {
   "display_name": "ajay_env",
   "language": "python",
   "name": "ajay_env"
  },
  "language_info": {
   "codemirror_mode": {
    "name": "ipython",
    "version": 3
   },
   "file_extension": ".py",
   "mimetype": "text/x-python",
   "name": "python",
   "nbconvert_exporter": "python",
   "pygments_lexer": "ipython3",
   "version": "3.9.7"
  }
 },
 "nbformat": 4,
 "nbformat_minor": 4
}
